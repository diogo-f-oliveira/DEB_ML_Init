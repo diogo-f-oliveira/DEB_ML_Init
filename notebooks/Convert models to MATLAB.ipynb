{
 "cells": [
  {
   "cell_type": "code",
   "execution_count": 34,
   "id": "4bb50df0",
   "metadata": {},
   "outputs": [],
   "source": [
    "import pandas as pd\n",
    "import numpy as np\n",
    "import matplotlib.pyplot as plt\n",
    "import seaborn as sns\n",
    "import ipywidgets as widgets\n",
    "import pickle\n",
    "import torch\n",
    "from scipy.io import savemat"
   ]
  },
  {
   "cell_type": "code",
   "execution_count": 2,
   "id": "9a9174f8",
   "metadata": {},
   "outputs": [],
   "source": [
    "import sys\n",
    "import os\n",
    "\n",
    "# Add the 'project' directory to the path\n",
    "sys.path.append(os.path.abspath('..'))\n",
    "\n",
    "from project_code.data.load_data import load_dataframes\n",
    "from project_code.data.prepare_data_sklearn import get_features_targets\n",
    "from project_code.data.prepare_data_pytorch import prepare_data_tensors\n",
    "from project_code.utils.results import get_best_model_file\n",
    "from project_code.inference.parameters import get_core_parameter_predictions, convert_output_to_parameter_predictions, PARAMETER_COLS\n",
    "from project_code.evaluate.prediction_error import evaluate_parameter_predictions_on_data, compute_metrics, METRIC_LABEL_TO_NAME\n",
    "from project_code.evaluate.metrics import log_accuracy_ratio, symmetric_mean_absolute_percentage_error, mean_deb_loss\n",
    "from project_code.plotters.infeasibility import method_labels, par_to_latex"
   ]
  },
  {
   "cell_type": "markdown",
   "id": "40ba0d79",
   "metadata": {},
   "source": [
    "# Loading data and models"
   ]
  },
  {
   "cell_type": "code",
   "execution_count": 35,
   "id": "e9c43fad",
   "metadata": {},
   "outputs": [],
   "source": [
    "datasets_folder = f'../data/processed/'\n",
    "\n",
    "dataset_of_model = {\n",
    "    'SRTaxo1NN': 'biologist_no_pub_age',  \n",
    "    'Taxo1NN': 'biologist_no_pub_age',  \n",
    "    'RandomForestRegressor': 'final_taxonomy_ecocodes',\n",
    "    'MultiTaskElasticNet': 'final_taxonomy_ecocodes',\n",
    "    'MLP': 'final_taxonomy_ecocodes',\n",
    "    'MLPSC': 'final_taxonomy_ecocodes',\n",
    "    'DEBNetHC': 'final_taxonomy_ecocodes',\n",
    "    'DEBNetSC': 'final_taxonomy_ecocodes',\n",
    "}\n",
    "\n",
    "save_figures_folder = '../paper/figures'\n",
    "save_models_folder = '../models'"
   ]
  },
  {
   "cell_type": "markdown",
   "id": "551a31ae",
   "metadata": {},
   "source": [
    "## Loading best models"
   ]
  },
  {
   "cell_type": "code",
   "execution_count": 4,
   "id": "b7d8b848",
   "metadata": {},
   "outputs": [],
   "source": [
    "def load_model(model_file, results_folder):\n",
    "    if model_file[-4:] == '.pkl':\n",
    "        with open(f\"{results_folder}/models/{model_file}\", 'rb') as f:\n",
    "            model = pickle.load(f)\n",
    "    elif model_file[-4:] == '.pth':\n",
    "        model = torch.load(f\"{results_folder}/models/{model_file}\", weights_only=False)\n",
    "        model.eval()\n",
    "    return model"
   ]
  },
  {
   "cell_type": "code",
   "execution_count": 5,
   "id": "290174c8",
   "metadata": {},
   "outputs": [
    {
     "name": "stdout",
     "output_type": "stream",
     "text": [
      "dict_keys(['SRTaxo1NN', 'Taxo1NN', 'MLP', 'MLPSC'])\n"
     ]
    }
   ],
   "source": [
    "best_models = {}\n",
    "best_models_test_performance_files = {}\n",
    "for mt in dataset_of_model.keys():  \n",
    "    results_folder = f'../results/{dataset_of_model[mt]}'\n",
    "    metric = 'logQ'\n",
    "    model_file = get_best_model_file(results_folder=results_folder, model_type=mt, metric=metric)\n",
    "    #print(mt, model_file)\n",
    "    if model_file is not None:\n",
    "        best_models[mt] = load_model(model_file, results_folder)\n",
    "        test_performance_filename =  model_file[:-4] + '.csv'\n",
    "        best_models_test_performance_files[mt] = os.path.join(results_folder, 'test_performance', test_performance_filename)\n",
    "\n",
    "print(best_models.keys())"
   ]
  },
  {
   "cell_type": "markdown",
   "id": "0c8befca",
   "metadata": {},
   "source": [
    "# Save taxonomic models"
   ]
  },
  {
   "cell_type": "markdown",
   "id": "f1a6bed0",
   "metadata": {},
   "source": [
    "## Training data"
   ]
  },
  {
   "cell_type": "code",
   "execution_count": 54,
   "id": "a2bbabe0",
   "metadata": {
    "jupyter": {
     "is_executing": true
    }
   },
   "outputs": [
    {
     "data": {
      "text/plain": [
       "{'all': ('Wwi',\n",
       "  'd_V',\n",
       "  'genus',\n",
       "  'family',\n",
       "  'order',\n",
       "  'class',\n",
       "  'phylum',\n",
       "  'p_M',\n",
       "  'kap',\n",
       "  'v',\n",
       "  's_p_M',\n",
       "  'E_Hb',\n",
       "  'E_Hj',\n",
       "  'E_Hp',\n",
       "  'k_J',\n",
       "  's_M',\n",
       "  'metamorphosis',\n",
       "  'estim_p_M',\n",
       "  'estim_v',\n",
       "  'estim_kap',\n",
       "  'estim_k_J',\n",
       "  'estim_E_Hb',\n",
       "  'estim_E_Hj',\n",
       "  'estim_E_Hp',\n",
       "  'estim_s_M',\n",
       "  'estim_s_p_M'),\n",
       " 'boolean': ('metamorphosis',\n",
       "  'estim_p_M',\n",
       "  'estim_v',\n",
       "  'estim_kap',\n",
       "  'estim_k_J',\n",
       "  'estim_E_Hb',\n",
       "  'estim_E_Hj',\n",
       "  'estim_E_Hp',\n",
       "  'estim_s_M',\n",
       "  'estim_s_p_M'),\n",
       " 'scale': (),\n",
       " 'log': ('Wwi',),\n",
       " 'bounded01': (),\n",
       " 'quantile': (),\n",
       " 'category': ('genus', 'family', 'order', 'class', 'phylum')}"
      ]
     },
     "execution_count": 54,
     "metadata": {},
     "output_type": "execute_result"
    }
   ],
   "source": [
    "taxo1nn.col_types['input']"
   ]
  },
  {
   "cell_type": "code",
   "execution_count": 67,
   "id": "c285d64f",
   "metadata": {},
   "outputs": [
    {
     "data": {
      "text/plain": [
       "0"
      ]
     },
     "execution_count": 67,
     "metadata": {},
     "output_type": "execute_result"
    }
   ],
   "source": [
    "taxo1nn.wi_col"
   ]
  },
  {
   "cell_type": "code",
   "execution_count": 76,
   "id": "eaca512f",
   "metadata": {},
   "outputs": [],
   "source": [
    "taxo1nn = best_models['Taxo1NN'].regressor_\n",
    "d_V_col = taxo1nn.col_types['input']['all'].index('d_V')\n",
    "abj_col = taxo1nn.abj_col\n",
    "par_order = ['s_p_M', 'p_M', 'kap', 'v', 'k_J', 'E_Hb', 'E_Hp', 'E_Hj', 's_M']\n",
    "data_to_concat = []\n",
    "data_to_concat.append(taxo1nn.train_data[:, taxo1nn.wi_col].reshape(-1, 1))\n",
    "data_to_concat.append(taxo1nn.train_data[:, taxo1nn.taxonomy_cols])\n",
    "for p in par_order:\n",
    "    data_to_concat.append(taxo1nn.train_data[:, taxo1nn.col_types['input']['all'].index(p)].reshape(-1, 1))\n",
    "for p in par_order:\n",
    "    data_to_concat.append(taxo1nn.train_data[:, taxo1nn.col_types['input']['all'].index(f'estim_{p}')].reshape(-1, 1))\n",
    "    \n",
    "taxo1nn_train_data = np.concat(data_to_concat, axis=1)"
   ]
  },
  {
   "cell_type": "code",
   "execution_count": 77,
   "id": "37a9915d",
   "metadata": {},
   "outputs": [],
   "source": [
    "model_name = 'Taxo1NN'\n",
    "savemat(f\"{save_models_folder}/{model_name}/train_data.mat\", {'trainData': taxo1nn_train_data})"
   ]
  },
  {
   "cell_type": "markdown",
   "id": "d055e691",
   "metadata": {},
   "source": [
    "## Taxonomy Encoder"
   ]
  },
  {
   "cell_type": "code",
   "execution_count": null,
   "id": "6627423d",
   "metadata": {},
   "outputs": [],
   "source": [
    "taxo1nn.taxonomy_encoder.label_encoders"
   ]
  },
  {
   "cell_type": "code",
   "execution_count": 65,
   "id": "9c0d684ffb564ed5",
   "metadata": {},
   "outputs": [
    {
     "name": "stdout",
     "output_type": "stream",
     "text": [
      "{'genus': array(['Abbottina', 'Abramis', 'Abroscopus', ..., 'Zosterisessor',\n",
      "       'Zosterops', 'other'], shape=(1267,), dtype=object), 'family': array(['Acanthisittidae', 'Acanthizidae', 'Accipitridae', 'Acipenseridae',\n",
      "       'Acrocephalidae', 'Adrianichthyidae', 'Aegothelidae', 'Agamidae',\n",
      "       'Agonidae', 'Alaudidae', 'Alcedinidae', 'Alcidae', 'Alestidae',\n",
      "       'Alligatoridae', 'Alopiidae', 'Alosidae', 'Amblyopsidae',\n",
      "       'Ambystomatidae', 'Ameronothridae', 'Amiidae', 'Ammodytidae',\n",
      "       'Amphiumidae', 'Amphiuridae', 'Ampullariidae', 'Anabantidae',\n",
      "       'Anarhichadidae', 'Anatidae', 'Anoplopomatidae', 'Aplodontiidae',\n",
      "       'Apodidae', 'Apogonidae', 'Apterygidae', 'Arapaimidae', 'Ardeidae',\n",
      "       'Argulidae', 'Arhynchobatidae', 'Ariommatidae', 'Arripidae',\n",
      "       'Artedidraconidae', 'Ascidiidae', 'Asellidae', 'Astacidae',\n",
      "       'Atherinidae', 'Atherinopsidae', 'Bagridae', 'Balaenicipitidae',\n",
      "       'Balaenidae', 'Balaenopteridae', 'Bathydraconidae', 'Belonidae',\n",
      "       'Boidae', 'Bombinatoridae', 'Bombycillidae', 'Bosminidae',\n",
      "       'Bovidae', 'Brachionidae', 'Branchipodidae', 'Bryconidae',\n",
      "       'Bucconidae', 'Bucerotidae', 'Bucorvidae', 'Bufonidae',\n",
      "       'Burhinidae', 'Cacatuidae', 'Calcariidae', 'Callichthyidae',\n",
      "       'Callorhinchidae', 'Cambaridae', 'Cancridae', 'Caprimulgidae',\n",
      "       'Carangidae', 'Carcharhinidae', 'Cardiidae', 'Cardinalidae',\n",
      "       'Cariamidae', 'Casuariidae', 'Cathartidae', 'Catostomidae',\n",
      "       'Centrarchidae', 'Centriscidae', 'Centrolophidae',\n",
      "       'Centrophoridae', 'Centropomidae', 'Ceratophryidae',\n",
      "       'Cercopithecidae', 'Cervidae', 'Cettiidae', 'Chamaeleonidae',\n",
      "       'Channichthyidae', 'Channidae', 'Characidae', 'Charadriidae',\n",
      "       'Chelidae', 'Cheloniidae', 'Chionidae', 'Chirocentridae',\n",
      "       'Chirodropidae', 'Chlamydoselachidae', 'Chydoridae', 'Cichlidae',\n",
      "       'Ciconiidae', 'Cinclidae', 'Cirolanidae', 'Cisticolidae',\n",
      "       'Citharinidae', 'Clariidae', 'Claroteidae', 'Clinidae',\n",
      "       'Clupeidae', 'Clypeasteridae', 'Coenobitidae', 'Coliidae',\n",
      "       'Colubridae', 'Columbidae', 'Coraciidae', 'Corbulidae',\n",
      "       'Cordylidae', 'Corophiidae', 'Corvidae', 'Coryphaenidae',\n",
      "       'Corytophanidae', 'Cracidae', 'Crocodilidae', 'Crocodylidae',\n",
      "       'Cryptobranchidae', 'Cuculidae', 'Curimatidae', 'Cyclopsettidae',\n",
      "       'Cyclopteridae', 'Cynocephaldae', 'Cynoglossidae', 'Cyprinidae',\n",
      "       'Cyprinodontidae', 'Cytherideidae', 'Dactyloidae', 'Dalatiidae',\n",
      "       'Daphniidae', 'Dasyatidae', 'Delphinidae', 'Dermochelyidae',\n",
      "       'Dicamptodontidae', 'Dicroglossidae', 'Diomedeidae',\n",
      "       'Diplodactylidae', 'Donacidae', 'Donacobiidae', 'Doradidae',\n",
      "       'Dorosomatidae', 'Dreissenidae', 'Dromadidae', 'Dromaiidae',\n",
      "       'Dugesiidae', 'Dugongidae', 'Dussumieriidae', 'Elapidae',\n",
      "       'Elassomatidae', 'Elephantidae', 'Eleutherodactylidae',\n",
      "       'Emberizidae', 'Emmelichthyidae', 'Emydidae', 'Engraulidae',\n",
      "       'Ephippidae', 'Erythrinidae', 'Esocidae', 'Estrildidae',\n",
      "       'Etmopteridae', 'Eublepharidae', 'Euphausiidae', 'Exocoetidae',\n",
      "       'Falconidae', 'Fregatidae', 'Fringillidae', 'Fundulidae',\n",
      "       'Furnariidae', 'Gadidae', 'Gammaridae', 'Gasterosteidae',\n",
      "       'Gastromyzontidae', 'Gavialidae', 'Gaviidae', 'Gekkonidae',\n",
      "       'Geoemydidae', 'Gerreidae', 'Gerrhosauridae', 'Glaucostegidae',\n",
      "       'Gobiesocidae', 'Gobiidae', 'Goodeidae', 'Grallariidae', 'Gruidae',\n",
      "       'Gymnarchidae', 'Gymnotidae', 'Haematopodidae', 'Haemulidae',\n",
      "       'Halosauridae', 'Helicidae', 'Helodermatidae', 'Hemiramphidae',\n",
      "       'Hepsetidae', 'Heteromyidae', 'Heteropneustidae', 'Hexabothriidae',\n",
      "       'Hexanchidae', 'Hiatellidae', 'Hirundinidae', 'Holocentridae',\n",
      "       'Holothuriidae', 'Hominidae', 'Hyalellidae', 'Hydrobatidae',\n",
      "       'Hylidae', 'Hynobiidae', 'Hyperiidae', 'Hyperoliidae',\n",
      "       'Hypoptychidae', 'Hypsibiidae', 'Ichthyophiidae', 'Ictaluridae',\n",
      "       'Icteridae', 'Icteriidae', 'Iguanidae', 'Ilyocryptidae',\n",
      "       'Inachidae', 'Indicatoridae', 'Ischyroceridae', 'Istiophoridae',\n",
      "       'Jacanidae', 'Kinosternidae', 'Kogiidae', 'Labridae', 'Lacertidae',\n",
      "       'Lamnidae', 'Lamprophiidae', 'Laniidae', 'Laridae', 'Latidae',\n",
      "       'Latimeriidae', 'Latridae', 'Leiognathidae', 'Leiothrichidae',\n",
      "       'Lepismatidae', 'Leptodoridae', 'Leptosomidae', 'Leuciscidae',\n",
      "       'Limnadiidae', 'Liparidae', 'Lobotidae', 'Loricariidae', 'Lotidae',\n",
      "       'Lumbricidae', 'Lutjanidae', 'Lybiidae', 'Lycosidae', 'Lymnaeidae',\n",
      "       'Macrobiotidae', 'Macropodidae', 'Macrothricidae', 'Mactridae',\n",
      "       'Maluridae', 'Manidae', 'Margaritiferidae', 'Megapodiidae',\n",
      "       'Melampittidae', 'Melanotaeniidae', 'Meliphagidae', 'Menidae',\n",
      "       'Menuridae', 'Merlucciidae', 'Meropidae', 'Mesitornithidae',\n",
      "       'Milnesiidae', 'Mimidae', 'Mitsukurinidae', 'Mochokidae',\n",
      "       'Mohouidae', 'Moinidae', 'Mormyridae', 'Moronidae', 'Motacillidae',\n",
      "       'Mugilidae', 'Muraenesocidae', 'Muridae', 'Muscicapidae',\n",
      "       'Musophagidae', 'Myidae', 'Myliobatidae', 'Myobatrachidae',\n",
      "       'Mysidae', 'Mytilidae', 'Mytilidae', 'Naididae', 'Nandiniidae',\n",
      "       'Narkidae', 'Nassariidae', 'Nautilidae', 'Nectariniidae',\n",
      "       'Neobalaenidae', 'Nephropidae', 'Nestoridae', 'Nototheniidae',\n",
      "       'Numididae', 'Oceanitidae', 'Octopodidae', 'Odontaspididae',\n",
      "       'Odontophoridae', 'Ophiuridae', 'Opisthocomidae', 'Orectolobidae',\n",
      "       'Oreosomatidae', 'Oriolidae', 'Osphronemidae', 'Ostreidae',\n",
      "       'Otariidae', 'Otididae', 'Oxudercidae', 'Paguridae',\n",
      "       'Palaemonidae', 'Pandionidae', 'Pangasiidae', 'Paradisaeidae',\n",
      "       'Paradoxornithidae', 'Paridae', 'Parulidae', 'Passerellidae',\n",
      "       'Passeridae', 'Pectinidae', 'Pedetidae', 'Pedionomidae',\n",
      "       'Pelecanidae', 'Pelobatidae', 'Penaeidae', 'Percichthyidae',\n",
      "       'Percidae', 'Perciliidae', 'Peristediidae', 'Petroicidae',\n",
      "       'Petromyzontidae', 'Phaethontidae', 'Phalacrocoracidae',\n",
      "       'Phasianidae', 'Phocidae', 'Phocoenidae', 'Phoenicopteridae',\n",
      "       'Phrynosomatidae', 'Phycidae', 'Phylloscopidae', 'Physidae',\n",
      "       'Picathartidae', 'Picidae', 'Pimelodidae', 'Pipridae', 'Pittidae',\n",
      "       'Planorbidae', 'Platanistidae', 'Platycephalidae', 'Platyrhinidae',\n",
      "       'Plesiopidae', 'Plethodontidae', 'Pleurobrachiidae',\n",
      "       'Pleuronectidae', 'Ploceidae', 'Podargidae', 'Podicipedidae',\n",
      "       'Podocnemididae', 'Poeciliidae', 'Polioptilidae', 'Polypteridae',\n",
      "       'Pomacentridae', 'Pomatostomidae', 'Porcellionidae', 'Pristidae',\n",
      "       'Pristigasteridae', 'Procaviidae', 'Procellariidae',\n",
      "       'Prochilodontidae', 'Proteidae', 'Pseudochromidae', 'Psittacidae',\n",
      "       'Psittaculidae', 'Psittrichasiidae', 'Psophiidae', 'Pteroclidae',\n",
      "       'Ptilonorhynchidae', 'Pycnogonidae', 'Pythonidae', 'Pyuridae',\n",
      "       'Rachycentridae', 'Rajidae', 'Rallidae', 'Ramphastidae', 'Ranidae',\n",
      "       'Recurvirostridae', 'Regulidae', 'Remizidae', 'Rhabditidae',\n",
      "       'Rhacophoridae', 'Rheidae', 'Rhinobatidae', 'Rhinocryptidae',\n",
      "       'Rhyacotritonidae', 'Sagittiferidae', 'Salamandridae', 'Salifidae',\n",
      "       'Salmonidae', 'Salpidae', 'Schilbeidae', 'Sciaenidae', 'Scincidae',\n",
      "       'Scolopacidae', 'Scomberesocidae', 'Scombridae', 'Scophthalmidae',\n",
      "       'Scopidae', 'Scorpaenidae', 'Scyliorhinidae', 'Sepiidae',\n",
      "       'Sepiolidae', 'Serranidae', 'Serrasalmidae', 'Sididae',\n",
      "       'Siganidae', 'Sillaginidae', 'Siluridae', 'Sirenidae', 'Soleidae',\n",
      "       'Somniosidae', 'Soricidae', 'Sparidae', 'Sphaerodactylidae',\n",
      "       'Spheniscidae', 'Squalidae', 'Steatornithidae', 'Stercorariidae',\n",
      "       'Stichaeidae', 'Streptocephalidae', 'Strigidae', 'Strigopidae',\n",
      "       'Strombidae', 'Struthionidae', 'Sturnidae', 'Styelidae', 'Sulidae',\n",
      "       'Syngnathidae', 'Talitridae', 'Teiidae', 'Tergipedidae',\n",
      "       'Testudinidae', 'Thamnocephalidae', 'Thamnophilidae', 'Thraupidae',\n",
      "       'Threskiornithidae', 'Tichodromadidae', 'Tinamidae', 'Tityridae',\n",
      "       'Torpedinidae', 'Triakidae', 'Trichiuridae', 'Trichomycteridae',\n",
      "       'Triglidae', 'Trionychidae', 'Triopsidae', 'Triportheidae',\n",
      "       'Trochidae', 'Trochilidae', 'Troglodytidae', 'Trogonidae',\n",
      "       'Turdidae', 'Turnicidae', 'Tyrannidae', 'Tytonidae', 'Umbridae',\n",
      "       'Unionidae', 'Upupidae', 'Urolophidae', 'Urotrygonidae', 'Ursidae',\n",
      "       'Vaejovidae', 'Vangidae', 'Varanidae', 'Veneridae', 'Viperidae',\n",
      "       'Vireonidae', 'Xantusiidae', 'Xenosauridae', 'Xiphiidae',\n",
      "       'Xylophagaidae', 'Zaproridae', 'Ziphiidae', 'Zoarcidae',\n",
      "       'Zosteropidae', 'other'], dtype=object), 'order': array(['Acanthuriformes', 'Acanthuriformes', 'Accipitriformes',\n",
      "       'Acipenseriformes', 'Acoela', 'Adapedonta', 'Aegotheliformes',\n",
      "       'Amiiformes', 'Amphipoda', 'Anabantiformes', 'Anguilliformes',\n",
      "       'Anomopoda', 'Anostraca', 'Anseriformes', 'Anura', 'Apodiformes',\n",
      "       'Apterygiformes', 'Araneae', 'Arguloida', 'Aspidochirotida',\n",
      "       'Atheriniformes', 'Beloniformes', 'Blenniiformes',\n",
      "       'Bucerotiformes', 'Caprimulgiformes', 'Carangiformes',\n",
      "       'Carcharhiniformes', 'Cardiida', 'Cariamiformes', 'Carnivora',\n",
      "       'Casuariiformes', 'Cathartiformes', 'Caudata', 'Centrarchiformes',\n",
      "       'Centropomiformes', 'Cetartiodactyla', 'Characiformes',\n",
      "       'Charadriiformes', 'Chimaeriformes', 'Chirodropida',\n",
      "       'Cichliformes', 'Ciconiiformes', 'Clupeiformes', 'Clypeasteroida',\n",
      "       'Coelacanthiformes', 'Coliiformes', 'Columbiformes',\n",
      "       'Coraciiformes', 'Crocodilia', 'Ctenopoda', 'Cuculiformes',\n",
      "       'Cydippida', 'Cypriniformes', 'Cyprinodontiformes', 'Decapoda',\n",
      "       'Dermoptera', 'Diclybothriidea', 'Diprotodontia', 'Ephippiformes',\n",
      "       'Esociformes', 'Euhirudinea', 'Eulipotyphla', 'Euphausiacea',\n",
      "       'Falconiformes', 'Gadiformes', 'Galliformes', 'Gaviiformes',\n",
      "       'Gerreiformes', 'Gobiesociformes', 'Gobiiformes', 'Gruiformes',\n",
      "       'Gymnophiona', 'Gymnotiformes', 'Haplopoda', 'Haplotaxida',\n",
      "       'Hexanchiformes', 'Holocentriformes', 'Hyracoidea', 'Isopoda',\n",
      "       'Istiophoriformes', 'Kurtiformes', 'Labriformes', 'Lamniformes',\n",
      "       'Leptosomiformes', 'Littorinimorpha', 'Lobotiformes',\n",
      "       'Lutjaniformes', 'Mesitornithiformes', 'Moroniformes',\n",
      "       'Mugiliformes', 'Musophagiformes', 'Myida', 'Myliobatiformes',\n",
      "       'Mysida', 'Mytiloida', 'Nautilida', 'Neogastropoda',\n",
      "       'Notacanthiformes', 'Notostraca', 'Nudibranchia', 'Octopoda',\n",
      "       'Ophiurida', 'Opisthocomiformes', 'Orectolobiformes',\n",
      "       'Osteoglossiformes', 'Ostreida', 'Ostreoida', 'Otidiformes',\n",
      "       'OvalentariaIncSed', 'Pantapoda', 'Parachela', 'Passeriformes',\n",
      "       'Pectinida', 'Pelecaniformes', 'Perciformes', 'Percopsiformes',\n",
      "       'Petromyzontiformes', 'Phaethontiformes', 'Phlebobranchia',\n",
      "       'Phoenicopteriformes', 'Pholidota', 'Piciformes',\n",
      "       'Pleuronectiformes', 'Ploimida', 'Podargiformes',\n",
      "       'Podicipediformes', 'Podocopida', 'Polypteriformes', 'Primates',\n",
      "       'Proboscidea', 'Procellariiformes', 'Psittaciformes',\n",
      "       'Pterocliformes', 'Pulmonata', 'Rajiformes', 'Rhabditida',\n",
      "       'Rheiformes', 'Rhinopristiformes', 'Rodentia', 'Salmoniformes',\n",
      "       'Salpida', 'Sarcoptiformes', 'Sciaeniformes', 'Scombriformes',\n",
      "       'Scorpiones', 'Sepiida', 'Sepiolida', 'Siganiformes',\n",
      "       'Siluriformes', 'Sirenia', 'Spariformes', 'Sphenisciformes',\n",
      "       'Spinicaudata', 'Squaliformes', 'Squamata', 'Steatornithiformes',\n",
      "       'Stolidobranchia', 'Strigiformes', 'Struthioniformes',\n",
      "       'Suliformes', 'Syngnathiformes', 'Testudines', 'Thysanura',\n",
      "       'Tinamiformes', 'Torpediniformes', 'Tricladida', 'Trogoniformes',\n",
      "       'Unionoida', 'Uranoscopiformes', 'Venerida', 'Veneroida',\n",
      "       'Vetigastropoda', 'Zeiformes', 'other'], dtype=object), 'class': array(['Acoelomorpha', 'Actinopterygii', 'Amphibia', 'Arachnida',\n",
      "       'Ascidiacea', 'Aves', 'Bivalvia', 'Branchiopoda',\n",
      "       'Cephalaspidomorphi', 'Cephalopoda', 'Chondrichthyes',\n",
      "       'Clitellata', 'Cubozoa', 'Echinoidea', 'Eutardigrada',\n",
      "       'Gastropoda', 'Holothuroidea', 'Ichthyostraca', 'Insecta',\n",
      "       'Malacostraca', 'Mammalia', 'Monogenea', 'Monogononta',\n",
      "       'Ophiuroidea', 'Ostracoda', 'Pycnogonida', 'Reptilia',\n",
      "       'Sarcopterygii', 'Secernentea', 'Tentaculata', 'Thaliacea',\n",
      "       'Turbellaria', 'other'], dtype=object), 'phylum': array(['Annelida', 'Arthropoda', 'Chordata', 'Cnidaria', 'Ctenophora',\n",
      "       'Echinodermata', 'Mollusca', 'Nematoda', 'Platyhelminthes',\n",
      "       'Rotifera', 'Tardigrada', 'Xenacoelomorpha', 'other'], dtype=object)}\n"
     ]
    }
   ],
   "source": [
    "taxa = taxo1nn.col_types['input']['category']\n",
    "encoding_matlab_dict = {}\n",
    "for taxon, encoder in zip(taxa, taxo1nn.taxonomy_encoder.label_encoders):\n",
    "    encoding_matlab_dict[taxon] = np.array([c.strip() for c in encoder.classes_], dtype=object)  # cell array in MATLAB\n",
    "\n",
    "savemat(f\"{save_models_folder}/{model_name}/taxonomy_encoding.mat\", encoding_matlab_dict)\n",
    "print(encoding_matlab_dict)"
   ]
  },
  {
   "cell_type": "markdown",
   "id": "4826eede",
   "metadata": {},
   "source": [
    "## Hyperparameters"
   ]
  },
  {
   "cell_type": "code",
   "execution_count": 38,
   "id": "e5e0d494",
   "metadata": {},
   "outputs": [
    {
     "data": {
      "text/plain": [
       "0.551"
      ]
     },
     "execution_count": 38,
     "metadata": {},
     "output_type": "execute_result"
    }
   ],
   "source": [
    "taxo1nn.ultimate_weight_factor"
   ]
  }
 ],
 "metadata": {
  "kernelspec": {
   "display_name": "ml_bijection",
   "language": "python",
   "name": "python3"
  },
  "language_info": {
   "codemirror_mode": {
    "name": "ipython",
    "version": 3
   },
   "file_extension": ".py",
   "mimetype": "text/x-python",
   "name": "python",
   "nbconvert_exporter": "python",
   "pygments_lexer": "ipython3",
   "version": "3.10.14"
  }
 },
 "nbformat": 4,
 "nbformat_minor": 5
}
