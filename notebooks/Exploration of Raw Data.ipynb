{
 "cells": [
  {
   "cell_type": "code",
   "execution_count": 1,
   "id": "f82541ee-d283-46e7-8e96-e90e668b4052",
   "metadata": {
    "ExecuteTime": {
     "end_time": "2024-08-05T10:45:40.816288Z",
     "start_time": "2024-08-05T10:45:40.120538Z"
    }
   },
   "outputs": [],
   "source": [
    "import pandas as pd\n",
    "import numpy as np\n",
    "import matplotlib.pyplot as plt\n",
    "import seaborn as sns\n",
    "import ipywidgets as widgets\n",
    "from IPython.display import display\n"
   ]
  },
  {
   "cell_type": "code",
   "execution_count": 2,
   "id": "1edda9fb-ccbd-4b2d-9ead-edcf256f0214",
   "metadata": {},
   "outputs": [],
   "source": [
    "deb_models = ['std', 'stf', 'stx', 'abj']\n",
    "parameter_cols = ['p_Am', 'kap', 'v', 'p_M', 'E_G', 'h_a', 'E_Hb', 'E_Hj', 'E_Hx', 'E_Hp']\n",
    "taxonomy_cols = ['family', 'order', 'class', 'phylum']\n",
    "ecocode_cols = ['climate', 'ecozone', 'habitat', 'embryo', 'migrate', 'food', 'gender', 'reprod']\n",
    "age_data_cols = ['ab', 'ah', 'aj', 'ax', 'ap', 'am']\n",
    "time_since_birth_data_cols = ['tg', 'tb', 'tj', 'tx', 'tp']\n",
    "weight_data_cols = ['Wwb', 'Wwj', 'Wwx', 'Wwp', 'Wwi']\n",
    "length_data_cols = ['Lb', 'Lj', 'Lx', 'Lp', 'Li']\n",
    "other_cols = ['d_V', 'Ri', 'T_typical', 't_0', 'model']"
   ]
  },
  {
   "cell_type": "code",
   "execution_count": 3,
   "id": "0f94d276-f4f1-4754-893a-8c8598f75aa5",
   "metadata": {},
   "outputs": [],
   "source": [
    "ERROR_VARS = ['MRE', 'SMSE']\n",
    "BIJECTION_DATA_VARS = ['ab', 'ap', 'am', 'd_V', 'Wwb', 'Wwzj', 'Wwp', 'Wwi', 'R_i']"
   ]
  },
  {
   "cell_type": "code",
   "execution_count": 4,
   "id": "0bbaefd2-60c7-4bea-8feb-5df9eb305b65",
   "metadata": {},
   "outputs": [],
   "source": [
    "datasets_folder = '../data/'"
   ]
  },
  {
   "cell_type": "markdown",
   "id": "e5754cdf-0311-4e39-b859-3804e28d9c04",
   "metadata": {},
   "source": [
    "# Helper functions"
   ]
  },
  {
   "cell_type": "code",
   "execution_count": 5,
   "id": "82c7e928-8a6c-41db-ba5b-1f6e52db31ce",
   "metadata": {},
   "outputs": [],
   "source": [
    "def print_missing_values_per_column(df, columns=None, percentage=True):\n",
    "    if columns is None:\n",
    "        columns = df.columns\n",
    "    for c in columns:\n",
    "        n_missing = pd.isna(df[c]).sum()\n",
    "        if n_missing:\n",
    "            if percentage:\n",
    "                print(f\"{n_missing/len(df)*100:.1f} % missing values in column {c}\")\n",
    "            else:\n",
    "                print(f\"{n_missing} missing values in column {c}\")"
   ]
  },
  {
   "cell_type": "code",
   "execution_count": 45,
   "id": "b2651e80-5e1a-4cda-b67e-877427488762",
   "metadata": {},
   "outputs": [],
   "source": [
    "def plot_missing_values_per_column(df):\n",
    "    if 'stx' not in df['model'].unique():\n",
    "        df = df.drop(columns=['ax', 'tx', 'Wwx', 'Lx', 'E_Hx'])\n",
    "    if 'abj' not in df['model'].unique():\n",
    "        df = df.drop(columns=['aj', 'tj', 'Wwj', 'Lj', 'E_Hj'])\n",
    "    df = df.drop(columns=ecocode_cols)\n",
    "    missing_df = pd.Series(index=df.columns, name='n_missing')\n",
    "    for col in df.columns:\n",
    "        missing_df.loc[col] = pd.isna(df[col]).sum() / len(df) * 100\n",
    "    missing_df = missing_df[missing_df > 0]\n",
    "    missing_df\n",
    "    fig, ax = plt.subplots(1,1, figsize=(10, 6))\n",
    "    sns.barplot(missing_df, ax=ax)\n",
    "    ax.bar_label(ax.containers[0], fmt=lambda v: f\"{v:.1f}\", fontsize=8)\n",
    "    ax.set_ylabel('Percentage of species with a missing value')\n",
    "    ax.set_ylim([0, 100])\n",
    "\n",
    "def plot_missing_values_per_mat_level(df, ax=None):\n",
    "    missing_df = pd.DataFrame(index=['birth', 'puberty', 'adult'], columns=['weight or length', 'age or time since birth', 'both'])\n",
    "    if 'stx' in df['model'].unique():\n",
    "        missing_df.loc['weaning', 'weight or length'] = ( pd.isna(df[['Wwx', 'Lx']]).all(axis=1).sum() ) \n",
    "        missing_df.loc['weaning', 'age or time since birth'] = ( pd.isna(df[['ax', 'tx']]).all(axis=1).sum() ) \n",
    "        missing_df.loc['weaning', 'both'] = ( pd.isna(df[['ax', 'tx', 'Wwx', 'Lx']]).all(axis=1).sum() ) \n",
    "\n",
    "    if 'abj' in df['model'].unique():\n",
    "        missing_df.loc['metamorphosis', 'age or time since birth'] = ( pd.isna(df[['aj', 'tj']]).all(axis=1).sum() ) \n",
    "        missing_df.loc['metamorphosis', 'weight or length'] = ( pd.isna(df[['Wwj', 'Lj']]).all(axis=1).sum() ) \n",
    "        missing_df.loc['metamorphosis', 'both'] = ( pd.isna(df[['Wwj', 'Lj', 'aj', 'tj']]).all(axis=1).sum() ) \n",
    "        \n",
    "    missing_df.loc['birth', 'weight or length'] = ( pd.isna(df[['Wwb', 'Lb']]).all(axis=1).sum() ) \n",
    "    missing_df.loc['puberty', 'weight or length'] = ( pd.isna(df[['Wwp', 'Lp']]).all(axis=1).sum() ) \n",
    "    missing_df.loc['adult', 'weight or length'] = ( pd.isna(df[['Wwi', 'Li']]).all(axis=1).sum() ) \n",
    "\n",
    "    missing_df.loc['birth', 'age or time since birth'] = ( pd.isna(df[['ab', 'tb', 'tg']]).all(axis=1).sum() ) \n",
    "    missing_df.loc['puberty', 'age or time since birth'] = ( pd.isna(df[['ap', 'tp']]).all(axis=1).sum() ) \n",
    "    missing_df.loc['adult', 'age or time since birth'] = ( pd.isna(df[['am']]).all(axis=1).sum() ) \n",
    "\n",
    "    missing_df.loc['birth', 'both'] = ( pd.isna(df[['Wwb', 'Lb', 'ab', 'tb', 'tg']]).all(axis=1).sum() ) \n",
    "    missing_df.loc['puberty', 'both'] = ( pd.isna(df[['Wwp', 'Lp', 'ap', 'tp']]).all(axis=1).sum() ) \n",
    "    missing_df.loc['adult', 'both'] = ( pd.isna(df[['Wwi', 'Li', 'am']]).all(axis=1).sum() ) \n",
    "    \n",
    "    mis_df = (missing_df / len(df) * 100).stack().reset_index() \n",
    "    mis_df.columns = ['mat_level', 'data_type', 'percent_missing']\n",
    "    \n",
    "    if ax is None:\n",
    "        fig, ax = plt.subplots(1,1, figsize=(10, 6))\n",
    "    sns.barplot(data=mis_df, x='mat_level', y='percent_missing', hue='data_type', ax=ax)\n",
    "    ax.bar_label(ax.containers[0], fmt=lambda v: f\"{v:.1f}\", fontsize=10)\n",
    "    ax.bar_label(ax.containers[1], fmt=lambda v: f\"{v:.1f}\", fontsize=10)\n",
    "    ax.bar_label(ax.containers[2], fmt=lambda v: f\"{v:.1f}\", fontsize=10)\n",
    "    ax.set_xlabel('Maturity level')\n",
    "    ax.set_ylabel('Percentage of species with no data')\n",
    "    ax.set_ylim([0, 100])"
   ]
  },
  {
   "cell_type": "markdown",
   "id": "015ab54b-f5da-4b3f-a424-5314d02c8d66",
   "metadata": {},
   "source": [
    "# Missing values in raw data"
   ]
  },
  {
   "cell_type": "code",
   "execution_count": 7,
   "id": "7ce06904-7718-4850-a5e2-7526cd2dbbbf",
   "metadata": {},
   "outputs": [
    {
     "data": {
      "text/html": [
       "<div>\n",
       "<style scoped>\n",
       "    .dataframe tbody tr th:only-of-type {\n",
       "        vertical-align: middle;\n",
       "    }\n",
       "\n",
       "    .dataframe tbody tr th {\n",
       "        vertical-align: top;\n",
       "    }\n",
       "\n",
       "    .dataframe thead th {\n",
       "        text-align: right;\n",
       "    }\n",
       "</style>\n",
       "<table border=\"1\" class=\"dataframe\">\n",
       "  <thead>\n",
       "    <tr style=\"text-align: right;\">\n",
       "      <th></th>\n",
       "      <th>p_Am</th>\n",
       "      <th>kap</th>\n",
       "      <th>v</th>\n",
       "      <th>p_M</th>\n",
       "      <th>E_G</th>\n",
       "      <th>h_a</th>\n",
       "      <th>E_Hb</th>\n",
       "      <th>E_Hj</th>\n",
       "      <th>E_Hx</th>\n",
       "      <th>E_Hp</th>\n",
       "      <th>...</th>\n",
       "      <th>Lb</th>\n",
       "      <th>Lj</th>\n",
       "      <th>Lx</th>\n",
       "      <th>Lp</th>\n",
       "      <th>Li</th>\n",
       "      <th>d_V</th>\n",
       "      <th>Ri</th>\n",
       "      <th>T_typical</th>\n",
       "      <th>t_0</th>\n",
       "      <th>model</th>\n",
       "    </tr>\n",
       "    <tr>\n",
       "      <th>species</th>\n",
       "      <th></th>\n",
       "      <th></th>\n",
       "      <th></th>\n",
       "      <th></th>\n",
       "      <th></th>\n",
       "      <th></th>\n",
       "      <th></th>\n",
       "      <th></th>\n",
       "      <th></th>\n",
       "      <th></th>\n",
       "      <th></th>\n",
       "      <th></th>\n",
       "      <th></th>\n",
       "      <th></th>\n",
       "      <th></th>\n",
       "      <th></th>\n",
       "      <th></th>\n",
       "      <th></th>\n",
       "      <th></th>\n",
       "      <th></th>\n",
       "      <th></th>\n",
       "    </tr>\n",
       "  </thead>\n",
       "  <tbody>\n",
       "    <tr>\n",
       "      <th>Abatus_cordatus</th>\n",
       "      <td>41.918449</td>\n",
       "      <td>0.77712</td>\n",
       "      <td>0.027220</td>\n",
       "      <td>13.8449</td>\n",
       "      <td>2393.8237</td>\n",
       "      <td>5.047000e-06</td>\n",
       "      <td>0.487600</td>\n",
       "      <td>6.941000</td>\n",
       "      <td>NaN</td>\n",
       "      <td>1403.000</td>\n",
       "      <td>...</td>\n",
       "      <td>NaN</td>\n",
       "      <td>0.276</td>\n",
       "      <td>NaN</td>\n",
       "      <td>1.90</td>\n",
       "      <td>8.0</td>\n",
       "      <td>0.09</td>\n",
       "      <td>NaN</td>\n",
       "      <td>278.15</td>\n",
       "      <td>NaN</td>\n",
       "      <td>abj</td>\n",
       "    </tr>\n",
       "    <tr>\n",
       "      <th>Abbottina_rivularis</th>\n",
       "      <td>75.309251</td>\n",
       "      <td>0.97055</td>\n",
       "      <td>0.020221</td>\n",
       "      <td>23.8370</td>\n",
       "      <td>5215.8135</td>\n",
       "      <td>3.547000e-07</td>\n",
       "      <td>0.045900</td>\n",
       "      <td>0.069550</td>\n",
       "      <td>NaN</td>\n",
       "      <td>89.340</td>\n",
       "      <td>...</td>\n",
       "      <td>NaN</td>\n",
       "      <td>NaN</td>\n",
       "      <td>NaN</td>\n",
       "      <td>4.50</td>\n",
       "      <td>18.9</td>\n",
       "      <td>0.20</td>\n",
       "      <td>7.772727</td>\n",
       "      <td>291.15</td>\n",
       "      <td>149.8737</td>\n",
       "      <td>abj</td>\n",
       "    </tr>\n",
       "    <tr>\n",
       "      <th>Ablennes_hians</th>\n",
       "      <td>201.398502</td>\n",
       "      <td>0.99640</td>\n",
       "      <td>0.022797</td>\n",
       "      <td>17.9765</td>\n",
       "      <td>5237.1062</td>\n",
       "      <td>1.614000e-09</td>\n",
       "      <td>0.003540</td>\n",
       "      <td>0.029360</td>\n",
       "      <td>NaN</td>\n",
       "      <td>1083.000</td>\n",
       "      <td>...</td>\n",
       "      <td>NaN</td>\n",
       "      <td>NaN</td>\n",
       "      <td>NaN</td>\n",
       "      <td>47.40</td>\n",
       "      <td>140.0</td>\n",
       "      <td>0.20</td>\n",
       "      <td>73.373736</td>\n",
       "      <td>301.05</td>\n",
       "      <td>NaN</td>\n",
       "      <td>abj</td>\n",
       "    </tr>\n",
       "    <tr>\n",
       "      <th>Abra_segmentum</th>\n",
       "      <td>8.266674</td>\n",
       "      <td>0.93000</td>\n",
       "      <td>0.020926</td>\n",
       "      <td>25.2041</td>\n",
       "      <td>2349.9631</td>\n",
       "      <td>7.505000e-07</td>\n",
       "      <td>0.000601</td>\n",
       "      <td>0.011460</td>\n",
       "      <td>NaN</td>\n",
       "      <td>10.940</td>\n",
       "      <td>...</td>\n",
       "      <td>NaN</td>\n",
       "      <td>NaN</td>\n",
       "      <td>NaN</td>\n",
       "      <td>0.90</td>\n",
       "      <td>1.9</td>\n",
       "      <td>0.09</td>\n",
       "      <td>48.959720</td>\n",
       "      <td>288.15</td>\n",
       "      <td>NaN</td>\n",
       "      <td>abj</td>\n",
       "    </tr>\n",
       "    <tr>\n",
       "      <th>Abralia_trigonura</th>\n",
       "      <td>109.484284</td>\n",
       "      <td>0.98081</td>\n",
       "      <td>0.009515</td>\n",
       "      <td>1009.8108</td>\n",
       "      <td>5492.3580</td>\n",
       "      <td>1.526000e-10</td>\n",
       "      <td>0.001511</td>\n",
       "      <td>2.628000</td>\n",
       "      <td>NaN</td>\n",
       "      <td>14.090</td>\n",
       "      <td>...</td>\n",
       "      <td>0.08</td>\n",
       "      <td>NaN</td>\n",
       "      <td>NaN</td>\n",
       "      <td>1.40</td>\n",
       "      <td>4.0</td>\n",
       "      <td>0.21</td>\n",
       "      <td>NaN</td>\n",
       "      <td>291.15</td>\n",
       "      <td>NaN</td>\n",
       "      <td>abj</td>\n",
       "    </tr>\n",
       "    <tr>\n",
       "      <th>...</th>\n",
       "      <td>...</td>\n",
       "      <td>...</td>\n",
       "      <td>...</td>\n",
       "      <td>...</td>\n",
       "      <td>...</td>\n",
       "      <td>...</td>\n",
       "      <td>...</td>\n",
       "      <td>...</td>\n",
       "      <td>...</td>\n",
       "      <td>...</td>\n",
       "      <td>...</td>\n",
       "      <td>...</td>\n",
       "      <td>...</td>\n",
       "      <td>...</td>\n",
       "      <td>...</td>\n",
       "      <td>...</td>\n",
       "      <td>...</td>\n",
       "      <td>...</td>\n",
       "      <td>...</td>\n",
       "      <td>...</td>\n",
       "      <td>...</td>\n",
       "    </tr>\n",
       "    <tr>\n",
       "      <th>Zosterisessor_ophiocephalus</th>\n",
       "      <td>90.838193</td>\n",
       "      <td>0.97755</td>\n",
       "      <td>0.020245</td>\n",
       "      <td>17.1271</td>\n",
       "      <td>5231.3551</td>\n",
       "      <td>1.513000e-07</td>\n",
       "      <td>0.003958</td>\n",
       "      <td>NaN</td>\n",
       "      <td>NaN</td>\n",
       "      <td>1577.000</td>\n",
       "      <td>...</td>\n",
       "      <td>NaN</td>\n",
       "      <td>NaN</td>\n",
       "      <td>NaN</td>\n",
       "      <td>12.65</td>\n",
       "      <td>29.9</td>\n",
       "      <td>0.20</td>\n",
       "      <td>100.486494</td>\n",
       "      <td>290.25</td>\n",
       "      <td>NaN</td>\n",
       "      <td>std</td>\n",
       "    </tr>\n",
       "    <tr>\n",
       "      <th>Zosterops_lateralis</th>\n",
       "      <td>872.827510</td>\n",
       "      <td>0.97558</td>\n",
       "      <td>0.035919</td>\n",
       "      <td>617.3516</td>\n",
       "      <td>7324.4923</td>\n",
       "      <td>2.674000e-12</td>\n",
       "      <td>76.790000</td>\n",
       "      <td>NaN</td>\n",
       "      <td>456.8</td>\n",
       "      <td>1199.000</td>\n",
       "      <td>...</td>\n",
       "      <td>NaN</td>\n",
       "      <td>NaN</td>\n",
       "      <td>NaN</td>\n",
       "      <td>NaN</td>\n",
       "      <td>NaN</td>\n",
       "      <td>0.28</td>\n",
       "      <td>0.067583</td>\n",
       "      <td>314.75</td>\n",
       "      <td>NaN</td>\n",
       "      <td>std</td>\n",
       "    </tr>\n",
       "    <tr>\n",
       "      <th>Zosterops_virens</th>\n",
       "      <td>940.612495</td>\n",
       "      <td>0.99060</td>\n",
       "      <td>0.031028</td>\n",
       "      <td>734.2559</td>\n",
       "      <td>7319.8077</td>\n",
       "      <td>3.005000e-12</td>\n",
       "      <td>21.060000</td>\n",
       "      <td>NaN</td>\n",
       "      <td>101.4</td>\n",
       "      <td>294.800</td>\n",
       "      <td>...</td>\n",
       "      <td>NaN</td>\n",
       "      <td>NaN</td>\n",
       "      <td>NaN</td>\n",
       "      <td>NaN</td>\n",
       "      <td>NaN</td>\n",
       "      <td>0.28</td>\n",
       "      <td>0.045055</td>\n",
       "      <td>314.75</td>\n",
       "      <td>NaN</td>\n",
       "      <td>std</td>\n",
       "    </tr>\n",
       "    <tr>\n",
       "      <th>Zygochlamys_patagonica</th>\n",
       "      <td>64.787878</td>\n",
       "      <td>0.94310</td>\n",
       "      <td>0.020238</td>\n",
       "      <td>41.2541</td>\n",
       "      <td>2342.3878</td>\n",
       "      <td>4.982000e-08</td>\n",
       "      <td>0.000251</td>\n",
       "      <td>0.000722</td>\n",
       "      <td>NaN</td>\n",
       "      <td>423.675</td>\n",
       "      <td>...</td>\n",
       "      <td>NaN</td>\n",
       "      <td>0.060</td>\n",
       "      <td>NaN</td>\n",
       "      <td>NaN</td>\n",
       "      <td>7.0</td>\n",
       "      <td>0.09</td>\n",
       "      <td>NaN</td>\n",
       "      <td>280.15</td>\n",
       "      <td>NaN</td>\n",
       "      <td>abj</td>\n",
       "    </tr>\n",
       "    <tr>\n",
       "      <th>Zygodontomys_brevicauda</th>\n",
       "      <td>2642.527750</td>\n",
       "      <td>0.98355</td>\n",
       "      <td>0.039703</td>\n",
       "      <td>1555.7633</td>\n",
       "      <td>7842.2550</td>\n",
       "      <td>2.255000e-10</td>\n",
       "      <td>158.300000</td>\n",
       "      <td>NaN</td>\n",
       "      <td>820.6</td>\n",
       "      <td>2946.000</td>\n",
       "      <td>...</td>\n",
       "      <td>NaN</td>\n",
       "      <td>NaN</td>\n",
       "      <td>NaN</td>\n",
       "      <td>NaN</td>\n",
       "      <td>NaN</td>\n",
       "      <td>0.30</td>\n",
       "      <td>0.057191</td>\n",
       "      <td>309.35</td>\n",
       "      <td>12.3550</td>\n",
       "      <td>stx</td>\n",
       "    </tr>\n",
       "  </tbody>\n",
       "</table>\n",
       "<p>4642 rows × 48 columns</p>\n",
       "</div>"
      ],
      "text/plain": [
       "                                    p_Am      kap         v        p_M  \\\n",
       "species                                                                  \n",
       "Abatus_cordatus                41.918449  0.77712  0.027220    13.8449   \n",
       "Abbottina_rivularis            75.309251  0.97055  0.020221    23.8370   \n",
       "Ablennes_hians                201.398502  0.99640  0.022797    17.9765   \n",
       "Abra_segmentum                  8.266674  0.93000  0.020926    25.2041   \n",
       "Abralia_trigonura             109.484284  0.98081  0.009515  1009.8108   \n",
       "...                                  ...      ...       ...        ...   \n",
       "Zosterisessor_ophiocephalus    90.838193  0.97755  0.020245    17.1271   \n",
       "Zosterops_lateralis           872.827510  0.97558  0.035919   617.3516   \n",
       "Zosterops_virens              940.612495  0.99060  0.031028   734.2559   \n",
       "Zygochlamys_patagonica         64.787878  0.94310  0.020238    41.2541   \n",
       "Zygodontomys_brevicauda      2642.527750  0.98355  0.039703  1555.7633   \n",
       "\n",
       "                                   E_G           h_a        E_Hb      E_Hj  \\\n",
       "species                                                                      \n",
       "Abatus_cordatus              2393.8237  5.047000e-06    0.487600  6.941000   \n",
       "Abbottina_rivularis          5215.8135  3.547000e-07    0.045900  0.069550   \n",
       "Ablennes_hians               5237.1062  1.614000e-09    0.003540  0.029360   \n",
       "Abra_segmentum               2349.9631  7.505000e-07    0.000601  0.011460   \n",
       "Abralia_trigonura            5492.3580  1.526000e-10    0.001511  2.628000   \n",
       "...                                ...           ...         ...       ...   \n",
       "Zosterisessor_ophiocephalus  5231.3551  1.513000e-07    0.003958       NaN   \n",
       "Zosterops_lateralis          7324.4923  2.674000e-12   76.790000       NaN   \n",
       "Zosterops_virens             7319.8077  3.005000e-12   21.060000       NaN   \n",
       "Zygochlamys_patagonica       2342.3878  4.982000e-08    0.000251  0.000722   \n",
       "Zygodontomys_brevicauda      7842.2550  2.255000e-10  158.300000       NaN   \n",
       "\n",
       "                              E_Hx      E_Hp  ...    Lb     Lj  Lx     Lp  \\\n",
       "species                                       ...                           \n",
       "Abatus_cordatus                NaN  1403.000  ...   NaN  0.276 NaN   1.90   \n",
       "Abbottina_rivularis            NaN    89.340  ...   NaN    NaN NaN   4.50   \n",
       "Ablennes_hians                 NaN  1083.000  ...   NaN    NaN NaN  47.40   \n",
       "Abra_segmentum                 NaN    10.940  ...   NaN    NaN NaN   0.90   \n",
       "Abralia_trigonura              NaN    14.090  ...  0.08    NaN NaN   1.40   \n",
       "...                            ...       ...  ...   ...    ...  ..    ...   \n",
       "Zosterisessor_ophiocephalus    NaN  1577.000  ...   NaN    NaN NaN  12.65   \n",
       "Zosterops_lateralis          456.8  1199.000  ...   NaN    NaN NaN    NaN   \n",
       "Zosterops_virens             101.4   294.800  ...   NaN    NaN NaN    NaN   \n",
       "Zygochlamys_patagonica         NaN   423.675  ...   NaN  0.060 NaN    NaN   \n",
       "Zygodontomys_brevicauda      820.6  2946.000  ...   NaN    NaN NaN    NaN   \n",
       "\n",
       "                                Li   d_V          Ri T_typical       t_0 model  \n",
       "species                                                                         \n",
       "Abatus_cordatus                8.0  0.09         NaN    278.15       NaN   abj  \n",
       "Abbottina_rivularis           18.9  0.20    7.772727    291.15  149.8737   abj  \n",
       "Ablennes_hians               140.0  0.20   73.373736    301.05       NaN   abj  \n",
       "Abra_segmentum                 1.9  0.09   48.959720    288.15       NaN   abj  \n",
       "Abralia_trigonura              4.0  0.21         NaN    291.15       NaN   abj  \n",
       "...                            ...   ...         ...       ...       ...   ...  \n",
       "Zosterisessor_ophiocephalus   29.9  0.20  100.486494    290.25       NaN   std  \n",
       "Zosterops_lateralis            NaN  0.28    0.067583    314.75       NaN   std  \n",
       "Zosterops_virens               NaN  0.28    0.045055    314.75       NaN   std  \n",
       "Zygochlamys_patagonica         7.0  0.09         NaN    280.15       NaN   abj  \n",
       "Zygodontomys_brevicauda        NaN  0.30    0.057191    309.35   12.3550   stx  \n",
       "\n",
       "[4642 rows x 48 columns]"
      ]
     },
     "execution_count": 7,
     "metadata": {},
     "output_type": "execute_result"
    }
   ],
   "source": [
    "raw_data = pd.read_csv(f\"{datasets_folder}/raw/dataset_matlab.csv\", index_col=0)\n",
    "raw_data.dropna(how='all', inplace=True)\n",
    "raw_data.index.name = 'species'\n",
    "raw_data"
   ]
  },
  {
   "cell_type": "code",
   "execution_count": 8,
   "id": "2ec1fae1-c992-489f-8b74-c3a3b0813a67",
   "metadata": {},
   "outputs": [
    {
     "data": {
      "text/plain": [
       "p_Am         float64\n",
       "kap          float64\n",
       "v            float64\n",
       "p_M          float64\n",
       "E_G          float64\n",
       "h_a          float64\n",
       "E_Hb         float64\n",
       "E_Hj         float64\n",
       "E_Hx         float64\n",
       "E_Hp         float64\n",
       "family        object\n",
       "order         object\n",
       "class         object\n",
       "phylum        object\n",
       "climate       object\n",
       "ecozone       object\n",
       "habitat       object\n",
       "embryo        object\n",
       "migrate       object\n",
       "food          object\n",
       "gender        object\n",
       "reprod        object\n",
       "ab           float64\n",
       "ah           float64\n",
       "aj           float64\n",
       "ax           float64\n",
       "ap           float64\n",
       "am           float64\n",
       "tg           float64\n",
       "tb           float64\n",
       "tj           float64\n",
       "tx           float64\n",
       "tp           float64\n",
       "Wwb          float64\n",
       "Wwj          float64\n",
       "Wwx          float64\n",
       "Wwp          float64\n",
       "Wwi          float64\n",
       "Lb           float64\n",
       "Lj           float64\n",
       "Lx           float64\n",
       "Lp           float64\n",
       "Li           float64\n",
       "d_V          float64\n",
       "Ri           float64\n",
       "T_typical    float64\n",
       "t_0          float64\n",
       "model         object\n",
       "dtype: object"
      ]
     },
     "execution_count": 8,
     "metadata": {},
     "output_type": "execute_result"
    }
   ],
   "source": [
    "raw_data.dtypes"
   ]
  },
  {
   "cell_type": "code",
   "execution_count": 9,
   "id": "8be872d2-fa33-434d-9d03-de8328c2c236",
   "metadata": {},
   "outputs": [
    {
     "data": {
      "text/plain": [
       "Text(0.5, 1.0, 'Distribution of DEB models')"
      ]
     },
     "execution_count": 9,
     "metadata": {},
     "output_type": "execute_result"
    },
    {
     "data": {
      "image/png": "[encoded data removed]",
      "text/plain": [
       "<Figure size 600x600 with 1 Axes>"
      ]
     },
     "metadata": {},
     "output_type": "display_data"
    }
   ],
   "source": [
    "fig, ax = plt.subplots(1, 1, figsize=(6,6))\n",
    "ax.pie(raw_data['model'].value_counts().values, labels=raw_data['model'].value_counts().index.values, autopct='%1.1f%%')\n",
    "ax.set_title('Distribution of DEB models')"
   ]
  },
  {
   "cell_type": "markdown",
   "id": "3e246a4d-19e6-482b-8c84-56cb76e5708a",
   "metadata": {},
   "source": [
    "## Missing values for std species"
   ]
  },
  {
   "cell_type": "code",
   "execution_count": 51,
   "id": "5290ecc9-6e3a-4fb5-9b06-ec18eeda6197",
   "metadata": {},
   "outputs": [
    {
     "data": {
      "text/html": [
       "<div>\n",
       "<style scoped>\n",
       "    .dataframe tbody tr th:only-of-type {\n",
       "        vertical-align: middle;\n",
       "    }\n",
       "\n",
       "    .dataframe tbody tr th {\n",
       "        vertical-align: top;\n",
       "    }\n",
       "\n",
       "    .dataframe thead th {\n",
       "        text-align: right;\n",
       "    }\n",
       "</style>\n",
       "<table border=\"1\" class=\"dataframe\">\n",
       "  <thead>\n",
       "    <tr style=\"text-align: right;\">\n",
       "      <th></th>\n",
       "      <th>p_Am</th>\n",
       "      <th>kap</th>\n",
       "      <th>v</th>\n",
       "      <th>p_M</th>\n",
       "      <th>E_G</th>\n",
       "      <th>h_a</th>\n",
       "      <th>E_Hb</th>\n",
       "      <th>E_Hj</th>\n",
       "      <th>E_Hx</th>\n",
       "      <th>E_Hp</th>\n",
       "      <th>...</th>\n",
       "      <th>Lb</th>\n",
       "      <th>Lj</th>\n",
       "      <th>Lx</th>\n",
       "      <th>Lp</th>\n",
       "      <th>Li</th>\n",
       "      <th>d_V</th>\n",
       "      <th>Ri</th>\n",
       "      <th>T_typical</th>\n",
       "      <th>t_0</th>\n",
       "      <th>model</th>\n",
       "    </tr>\n",
       "    <tr>\n",
       "      <th>species</th>\n",
       "      <th></th>\n",
       "      <th></th>\n",
       "      <th></th>\n",
       "      <th></th>\n",
       "      <th></th>\n",
       "      <th></th>\n",
       "      <th></th>\n",
       "      <th></th>\n",
       "      <th></th>\n",
       "      <th></th>\n",
       "      <th></th>\n",
       "      <th></th>\n",
       "      <th></th>\n",
       "      <th></th>\n",
       "      <th></th>\n",
       "      <th></th>\n",
       "      <th></th>\n",
       "      <th></th>\n",
       "      <th></th>\n",
       "      <th></th>\n",
       "      <th></th>\n",
       "    </tr>\n",
       "  </thead>\n",
       "  <tbody>\n",
       "    <tr>\n",
       "      <th>Abroscopus_superciliaris</th>\n",
       "      <td>663.006069</td>\n",
       "      <td>0.95822</td>\n",
       "      <td>0.034790</td>\n",
       "      <td>533.0640</td>\n",
       "      <td>7316.5423</td>\n",
       "      <td>4.147000e-12</td>\n",
       "      <td>96.030000</td>\n",
       "      <td>NaN</td>\n",
       "      <td>631.4</td>\n",
       "      <td>1472.0</td>\n",
       "      <td>...</td>\n",
       "      <td>NaN</td>\n",
       "      <td>NaN</td>\n",
       "      <td>NaN</td>\n",
       "      <td>NaN</td>\n",
       "      <td>NaN</td>\n",
       "      <td>0.28</td>\n",
       "      <td>0.072088</td>\n",
       "      <td>314.75</td>\n",
       "      <td>NaN</td>\n",
       "      <td>std</td>\n",
       "    </tr>\n",
       "    <tr>\n",
       "      <th>Acanthis_flammea</th>\n",
       "      <td>1294.709603</td>\n",
       "      <td>0.92908</td>\n",
       "      <td>0.037653</td>\n",
       "      <td>907.6351</td>\n",
       "      <td>7320.7246</td>\n",
       "      <td>2.215000e-12</td>\n",
       "      <td>211.900000</td>\n",
       "      <td>NaN</td>\n",
       "      <td>1348.0</td>\n",
       "      <td>3305.0</td>\n",
       "      <td>...</td>\n",
       "      <td>NaN</td>\n",
       "      <td>NaN</td>\n",
       "      <td>NaN</td>\n",
       "      <td>NaN</td>\n",
       "      <td>NaN</td>\n",
       "      <td>0.28</td>\n",
       "      <td>0.225276</td>\n",
       "      <td>314.75</td>\n",
       "      <td>NaN</td>\n",
       "      <td>std</td>\n",
       "    </tr>\n",
       "    <tr>\n",
       "      <th>Acanthis_hornemanni</th>\n",
       "      <td>709.593021</td>\n",
       "      <td>0.95793</td>\n",
       "      <td>0.047468</td>\n",
       "      <td>432.1025</td>\n",
       "      <td>7335.3504</td>\n",
       "      <td>8.946000e-13</td>\n",
       "      <td>197.800000</td>\n",
       "      <td>NaN</td>\n",
       "      <td>1236.0</td>\n",
       "      <td>3203.0</td>\n",
       "      <td>...</td>\n",
       "      <td>NaN</td>\n",
       "      <td>NaN</td>\n",
       "      <td>NaN</td>\n",
       "      <td>NaN</td>\n",
       "      <td>NaN</td>\n",
       "      <td>0.28</td>\n",
       "      <td>0.101374</td>\n",
       "      <td>314.75</td>\n",
       "      <td>NaN</td>\n",
       "      <td>std</td>\n",
       "    </tr>\n",
       "    <tr>\n",
       "      <th>Acanthisitta_chloris</th>\n",
       "      <td>3037.650231</td>\n",
       "      <td>0.98132</td>\n",
       "      <td>0.026069</td>\n",
       "      <td>4238.5777</td>\n",
       "      <td>7324.1141</td>\n",
       "      <td>1.013000e-14</td>\n",
       "      <td>69.760000</td>\n",
       "      <td>NaN</td>\n",
       "      <td>NaN</td>\n",
       "      <td>2759.0</td>\n",
       "      <td>...</td>\n",
       "      <td>NaN</td>\n",
       "      <td>NaN</td>\n",
       "      <td>NaN</td>\n",
       "      <td>NaN</td>\n",
       "      <td>NaN</td>\n",
       "      <td>0.28</td>\n",
       "      <td>0.127982</td>\n",
       "      <td>314.15</td>\n",
       "      <td>0.005925</td>\n",
       "      <td>std</td>\n",
       "    </tr>\n",
       "    <tr>\n",
       "      <th>Acanthiza_chrysorrhoa</th>\n",
       "      <td>1535.986331</td>\n",
       "      <td>0.87780</td>\n",
       "      <td>0.024775</td>\n",
       "      <td>935.9217</td>\n",
       "      <td>7323.4764</td>\n",
       "      <td>1.093000e-11</td>\n",
       "      <td>644.900000</td>\n",
       "      <td>NaN</td>\n",
       "      <td>3886.0</td>\n",
       "      <td>8467.0</td>\n",
       "      <td>...</td>\n",
       "      <td>NaN</td>\n",
       "      <td>NaN</td>\n",
       "      <td>NaN</td>\n",
       "      <td>NaN</td>\n",
       "      <td>NaN</td>\n",
       "      <td>0.28</td>\n",
       "      <td>0.157693</td>\n",
       "      <td>314.75</td>\n",
       "      <td>NaN</td>\n",
       "      <td>std</td>\n",
       "    </tr>\n",
       "    <tr>\n",
       "      <th>...</th>\n",
       "      <td>...</td>\n",
       "      <td>...</td>\n",
       "      <td>...</td>\n",
       "      <td>...</td>\n",
       "      <td>...</td>\n",
       "      <td>...</td>\n",
       "      <td>...</td>\n",
       "      <td>...</td>\n",
       "      <td>...</td>\n",
       "      <td>...</td>\n",
       "      <td>...</td>\n",
       "      <td>...</td>\n",
       "      <td>...</td>\n",
       "      <td>...</td>\n",
       "      <td>...</td>\n",
       "      <td>...</td>\n",
       "      <td>...</td>\n",
       "      <td>...</td>\n",
       "      <td>...</td>\n",
       "      <td>...</td>\n",
       "      <td>...</td>\n",
       "    </tr>\n",
       "    <tr>\n",
       "      <th>Zonotrichia_querula</th>\n",
       "      <td>1476.816557</td>\n",
       "      <td>0.97417</td>\n",
       "      <td>0.041453</td>\n",
       "      <td>834.8830</td>\n",
       "      <td>7333.1130</td>\n",
       "      <td>3.237000e-12</td>\n",
       "      <td>188.800000</td>\n",
       "      <td>NaN</td>\n",
       "      <td>817.4</td>\n",
       "      <td>2151.0</td>\n",
       "      <td>...</td>\n",
       "      <td>NaN</td>\n",
       "      <td>NaN</td>\n",
       "      <td>NaN</td>\n",
       "      <td>NaN</td>\n",
       "      <td>NaN</td>\n",
       "      <td>0.28</td>\n",
       "      <td>0.090110</td>\n",
       "      <td>314.75</td>\n",
       "      <td>NaN</td>\n",
       "      <td>std</td>\n",
       "    </tr>\n",
       "    <tr>\n",
       "      <th>Zootoca_vivipara</th>\n",
       "      <td>516.242968</td>\n",
       "      <td>0.72515</td>\n",
       "      <td>0.023765</td>\n",
       "      <td>344.4866</td>\n",
       "      <td>7837.0592</td>\n",
       "      <td>1.533000e-07</td>\n",
       "      <td>226.400000</td>\n",
       "      <td>NaN</td>\n",
       "      <td>NaN</td>\n",
       "      <td>6375.0</td>\n",
       "      <td>...</td>\n",
       "      <td>2.1</td>\n",
       "      <td>NaN</td>\n",
       "      <td>NaN</td>\n",
       "      <td>5.00</td>\n",
       "      <td>7.0</td>\n",
       "      <td>0.30</td>\n",
       "      <td>0.018635</td>\n",
       "      <td>286.85</td>\n",
       "      <td>NaN</td>\n",
       "      <td>std</td>\n",
       "    </tr>\n",
       "    <tr>\n",
       "      <th>Zosterisessor_ophiocephalus</th>\n",
       "      <td>90.838193</td>\n",
       "      <td>0.97755</td>\n",
       "      <td>0.020245</td>\n",
       "      <td>17.1271</td>\n",
       "      <td>5231.3551</td>\n",
       "      <td>1.513000e-07</td>\n",
       "      <td>0.003958</td>\n",
       "      <td>NaN</td>\n",
       "      <td>NaN</td>\n",
       "      <td>1577.0</td>\n",
       "      <td>...</td>\n",
       "      <td>NaN</td>\n",
       "      <td>NaN</td>\n",
       "      <td>NaN</td>\n",
       "      <td>12.65</td>\n",
       "      <td>29.9</td>\n",
       "      <td>0.20</td>\n",
       "      <td>100.486494</td>\n",
       "      <td>290.25</td>\n",
       "      <td>NaN</td>\n",
       "      <td>std</td>\n",
       "    </tr>\n",
       "    <tr>\n",
       "      <th>Zosterops_lateralis</th>\n",
       "      <td>872.827510</td>\n",
       "      <td>0.97558</td>\n",
       "      <td>0.035919</td>\n",
       "      <td>617.3516</td>\n",
       "      <td>7324.4923</td>\n",
       "      <td>2.674000e-12</td>\n",
       "      <td>76.790000</td>\n",
       "      <td>NaN</td>\n",
       "      <td>456.8</td>\n",
       "      <td>1199.0</td>\n",
       "      <td>...</td>\n",
       "      <td>NaN</td>\n",
       "      <td>NaN</td>\n",
       "      <td>NaN</td>\n",
       "      <td>NaN</td>\n",
       "      <td>NaN</td>\n",
       "      <td>0.28</td>\n",
       "      <td>0.067583</td>\n",
       "      <td>314.75</td>\n",
       "      <td>NaN</td>\n",
       "      <td>std</td>\n",
       "    </tr>\n",
       "    <tr>\n",
       "      <th>Zosterops_virens</th>\n",
       "      <td>940.612495</td>\n",
       "      <td>0.99060</td>\n",
       "      <td>0.031028</td>\n",
       "      <td>734.2559</td>\n",
       "      <td>7319.8077</td>\n",
       "      <td>3.005000e-12</td>\n",
       "      <td>21.060000</td>\n",
       "      <td>NaN</td>\n",
       "      <td>101.4</td>\n",
       "      <td>294.8</td>\n",
       "      <td>...</td>\n",
       "      <td>NaN</td>\n",
       "      <td>NaN</td>\n",
       "      <td>NaN</td>\n",
       "      <td>NaN</td>\n",
       "      <td>NaN</td>\n",
       "      <td>0.28</td>\n",
       "      <td>0.045055</td>\n",
       "      <td>314.75</td>\n",
       "      <td>NaN</td>\n",
       "      <td>std</td>\n",
       "    </tr>\n",
       "  </tbody>\n",
       "</table>\n",
       "<p>2103 rows × 48 columns</p>\n",
       "</div>"
      ],
      "text/plain": [
       "                                    p_Am      kap         v        p_M  \\\n",
       "species                                                                  \n",
       "Abroscopus_superciliaris      663.006069  0.95822  0.034790   533.0640   \n",
       "Acanthis_flammea             1294.709603  0.92908  0.037653   907.6351   \n",
       "Acanthis_hornemanni           709.593021  0.95793  0.047468   432.1025   \n",
       "Acanthisitta_chloris         3037.650231  0.98132  0.026069  4238.5777   \n",
       "Acanthiza_chrysorrhoa        1535.986331  0.87780  0.024775   935.9217   \n",
       "...                                  ...      ...       ...        ...   \n",
       "Zonotrichia_querula          1476.816557  0.97417  0.041453   834.8830   \n",
       "Zootoca_vivipara              516.242968  0.72515  0.023765   344.4866   \n",
       "Zosterisessor_ophiocephalus    90.838193  0.97755  0.020245    17.1271   \n",
       "Zosterops_lateralis           872.827510  0.97558  0.035919   617.3516   \n",
       "Zosterops_virens              940.612495  0.99060  0.031028   734.2559   \n",
       "\n",
       "                                   E_G           h_a        E_Hb  E_Hj  \\\n",
       "species                                                                  \n",
       "Abroscopus_superciliaris     7316.5423  4.147000e-12   96.030000   NaN   \n",
       "Acanthis_flammea             7320.7246  2.215000e-12  211.900000   NaN   \n",
       "Acanthis_hornemanni          7335.3504  8.946000e-13  197.800000   NaN   \n",
       "Acanthisitta_chloris         7324.1141  1.013000e-14   69.760000   NaN   \n",
       "Acanthiza_chrysorrhoa        7323.4764  1.093000e-11  644.900000   NaN   \n",
       "...                                ...           ...         ...   ...   \n",
       "Zonotrichia_querula          7333.1130  3.237000e-12  188.800000   NaN   \n",
       "Zootoca_vivipara             7837.0592  1.533000e-07  226.400000   NaN   \n",
       "Zosterisessor_ophiocephalus  5231.3551  1.513000e-07    0.003958   NaN   \n",
       "Zosterops_lateralis          7324.4923  2.674000e-12   76.790000   NaN   \n",
       "Zosterops_virens             7319.8077  3.005000e-12   21.060000   NaN   \n",
       "\n",
       "                               E_Hx    E_Hp  ...   Lb  Lj  Lx     Lp    Li  \\\n",
       "species                                      ...                             \n",
       "Abroscopus_superciliaris      631.4  1472.0  ...  NaN NaN NaN    NaN   NaN   \n",
       "Acanthis_flammea             1348.0  3305.0  ...  NaN NaN NaN    NaN   NaN   \n",
       "Acanthis_hornemanni          1236.0  3203.0  ...  NaN NaN NaN    NaN   NaN   \n",
       "Acanthisitta_chloris            NaN  2759.0  ...  NaN NaN NaN    NaN   NaN   \n",
       "Acanthiza_chrysorrhoa        3886.0  8467.0  ...  NaN NaN NaN    NaN   NaN   \n",
       "...                             ...     ...  ...  ...  ..  ..    ...   ...   \n",
       "Zonotrichia_querula           817.4  2151.0  ...  NaN NaN NaN    NaN   NaN   \n",
       "Zootoca_vivipara                NaN  6375.0  ...  2.1 NaN NaN   5.00   7.0   \n",
       "Zosterisessor_ophiocephalus     NaN  1577.0  ...  NaN NaN NaN  12.65  29.9   \n",
       "Zosterops_lateralis           456.8  1199.0  ...  NaN NaN NaN    NaN   NaN   \n",
       "Zosterops_virens              101.4   294.8  ...  NaN NaN NaN    NaN   NaN   \n",
       "\n",
       "                              d_V          Ri T_typical       t_0 model  \n",
       "species                                                                  \n",
       "Abroscopus_superciliaris     0.28    0.072088    314.75       NaN   std  \n",
       "Acanthis_flammea             0.28    0.225276    314.75       NaN   std  \n",
       "Acanthis_hornemanni          0.28    0.101374    314.75       NaN   std  \n",
       "Acanthisitta_chloris         0.28    0.127982    314.15  0.005925   std  \n",
       "Acanthiza_chrysorrhoa        0.28    0.157693    314.75       NaN   std  \n",
       "...                           ...         ...       ...       ...   ...  \n",
       "Zonotrichia_querula          0.28    0.090110    314.75       NaN   std  \n",
       "Zootoca_vivipara             0.30    0.018635    286.85       NaN   std  \n",
       "Zosterisessor_ophiocephalus  0.20  100.486494    290.25       NaN   std  \n",
       "Zosterops_lateralis          0.28    0.067583    314.75       NaN   std  \n",
       "Zosterops_virens             0.28    0.045055    314.75       NaN   std  \n",
       "\n",
       "[2103 rows x 48 columns]"
      ]
     },
     "execution_count": 51,
     "metadata": {},
     "output_type": "execute_result"
    }
   ],
   "source": [
    "raw_std_data = raw_data[raw_data['model'] == 'std'].copy()\n",
    "#raw_std_data.drop(columns=['ax', 'aj', 'tx', 'tj', 'Wwx', 'Wwj', 'Lx', 'Lj', 'E_Hx', 'E_Hj'], inplace=True)\n",
    "raw_std_data"
   ]
  },
  {
   "cell_type": "code",
   "execution_count": 52,
   "id": "74dd370b-d9bf-4dc0-912e-67f00518367a",
   "metadata": {},
   "outputs": [
    {
     "data": {
      "image/png": "[encoded data removed]",
      "text/plain": [
       "<Figure size 1000x600 with 1 Axes>"
      ]
     },
     "metadata": {},
     "output_type": "display_data"
    }
   ],
   "source": [
    "plot_missing_values_per_column(raw_std_data)"
   ]
  },
  {
   "cell_type": "code",
   "execution_count": 53,
   "id": "04b1bf9b-c808-4a4a-8a15-37aa4ce0e840",
   "metadata": {},
   "outputs": [
    {
     "data": {
      "image/png": "[encoded data removed]",
      "text/plain": [
       "<Figure size 1000x600 with 1 Axes>"
      ]
     },
     "metadata": {},
     "output_type": "display_data"
    }
   ],
   "source": [
    "plot_missing_values_per_mat_level(raw_std_data)"
   ]
  },
  {
   "cell_type": "markdown",
   "id": "690f8ae4-16b1-4d6b-8348-b6dab7845f03",
   "metadata": {},
   "source": [
    "## Missing values for abj species"
   ]
  },
  {
   "cell_type": "code",
   "execution_count": 54,
   "id": "b1324d7f-0fb7-4f1f-b56e-5b3020ab2de4",
   "metadata": {},
   "outputs": [
    {
     "data": {
      "text/html": [
       "<div>\n",
       "<style scoped>\n",
       "    .dataframe tbody tr th:only-of-type {\n",
       "        vertical-align: middle;\n",
       "    }\n",
       "\n",
       "    .dataframe tbody tr th {\n",
       "        vertical-align: top;\n",
       "    }\n",
       "\n",
       "    .dataframe thead th {\n",
       "        text-align: right;\n",
       "    }\n",
       "</style>\n",
       "<table border=\"1\" class=\"dataframe\">\n",
       "  <thead>\n",
       "    <tr style=\"text-align: right;\">\n",
       "      <th></th>\n",
       "      <th>p_Am</th>\n",
       "      <th>kap</th>\n",
       "      <th>v</th>\n",
       "      <th>p_M</th>\n",
       "      <th>E_G</th>\n",
       "      <th>h_a</th>\n",
       "      <th>E_Hb</th>\n",
       "      <th>E_Hj</th>\n",
       "      <th>E_Hx</th>\n",
       "      <th>E_Hp</th>\n",
       "      <th>...</th>\n",
       "      <th>Lb</th>\n",
       "      <th>Lj</th>\n",
       "      <th>Lx</th>\n",
       "      <th>Lp</th>\n",
       "      <th>Li</th>\n",
       "      <th>d_V</th>\n",
       "      <th>Ri</th>\n",
       "      <th>T_typical</th>\n",
       "      <th>t_0</th>\n",
       "      <th>model</th>\n",
       "    </tr>\n",
       "    <tr>\n",
       "      <th>species</th>\n",
       "      <th></th>\n",
       "      <th></th>\n",
       "      <th></th>\n",
       "      <th></th>\n",
       "      <th></th>\n",
       "      <th></th>\n",
       "      <th></th>\n",
       "      <th></th>\n",
       "      <th></th>\n",
       "      <th></th>\n",
       "      <th></th>\n",
       "      <th></th>\n",
       "      <th></th>\n",
       "      <th></th>\n",
       "      <th></th>\n",
       "      <th></th>\n",
       "      <th></th>\n",
       "      <th></th>\n",
       "      <th></th>\n",
       "      <th></th>\n",
       "      <th></th>\n",
       "    </tr>\n",
       "  </thead>\n",
       "  <tbody>\n",
       "    <tr>\n",
       "      <th>Abatus_cordatus</th>\n",
       "      <td>41.918449</td>\n",
       "      <td>0.77712</td>\n",
       "      <td>0.027220</td>\n",
       "      <td>13.8449</td>\n",
       "      <td>2393.8237</td>\n",
       "      <td>5.047000e-06</td>\n",
       "      <td>0.487600</td>\n",
       "      <td>6.941000</td>\n",
       "      <td>NaN</td>\n",
       "      <td>1403.000</td>\n",
       "      <td>...</td>\n",
       "      <td>NaN</td>\n",
       "      <td>0.276</td>\n",
       "      <td>NaN</td>\n",
       "      <td>1.90</td>\n",
       "      <td>8.0</td>\n",
       "      <td>0.09</td>\n",
       "      <td>NaN</td>\n",
       "      <td>278.15</td>\n",
       "      <td>NaN</td>\n",
       "      <td>abj</td>\n",
       "    </tr>\n",
       "    <tr>\n",
       "      <th>Abbottina_rivularis</th>\n",
       "      <td>75.309251</td>\n",
       "      <td>0.97055</td>\n",
       "      <td>0.020221</td>\n",
       "      <td>23.8370</td>\n",
       "      <td>5215.8135</td>\n",
       "      <td>3.547000e-07</td>\n",
       "      <td>0.045900</td>\n",
       "      <td>0.069550</td>\n",
       "      <td>NaN</td>\n",
       "      <td>89.340</td>\n",
       "      <td>...</td>\n",
       "      <td>NaN</td>\n",
       "      <td>NaN</td>\n",
       "      <td>NaN</td>\n",
       "      <td>4.50</td>\n",
       "      <td>18.9</td>\n",
       "      <td>0.20</td>\n",
       "      <td>7.772727</td>\n",
       "      <td>291.15</td>\n",
       "      <td>149.8737</td>\n",
       "      <td>abj</td>\n",
       "    </tr>\n",
       "    <tr>\n",
       "      <th>Ablennes_hians</th>\n",
       "      <td>201.398502</td>\n",
       "      <td>0.99640</td>\n",
       "      <td>0.022797</td>\n",
       "      <td>17.9765</td>\n",
       "      <td>5237.1062</td>\n",
       "      <td>1.614000e-09</td>\n",
       "      <td>0.003540</td>\n",
       "      <td>0.029360</td>\n",
       "      <td>NaN</td>\n",
       "      <td>1083.000</td>\n",
       "      <td>...</td>\n",
       "      <td>NaN</td>\n",
       "      <td>NaN</td>\n",
       "      <td>NaN</td>\n",
       "      <td>47.40</td>\n",
       "      <td>140.0</td>\n",
       "      <td>0.20</td>\n",
       "      <td>73.373736</td>\n",
       "      <td>301.05</td>\n",
       "      <td>NaN</td>\n",
       "      <td>abj</td>\n",
       "    </tr>\n",
       "    <tr>\n",
       "      <th>Abra_segmentum</th>\n",
       "      <td>8.266674</td>\n",
       "      <td>0.93000</td>\n",
       "      <td>0.020926</td>\n",
       "      <td>25.2041</td>\n",
       "      <td>2349.9631</td>\n",
       "      <td>7.505000e-07</td>\n",
       "      <td>0.000601</td>\n",
       "      <td>0.011460</td>\n",
       "      <td>NaN</td>\n",
       "      <td>10.940</td>\n",
       "      <td>...</td>\n",
       "      <td>NaN</td>\n",
       "      <td>NaN</td>\n",
       "      <td>NaN</td>\n",
       "      <td>0.90</td>\n",
       "      <td>1.9</td>\n",
       "      <td>0.09</td>\n",
       "      <td>48.959720</td>\n",
       "      <td>288.15</td>\n",
       "      <td>NaN</td>\n",
       "      <td>abj</td>\n",
       "    </tr>\n",
       "    <tr>\n",
       "      <th>Abralia_trigonura</th>\n",
       "      <td>109.484284</td>\n",
       "      <td>0.98081</td>\n",
       "      <td>0.009515</td>\n",
       "      <td>1009.8108</td>\n",
       "      <td>5492.3580</td>\n",
       "      <td>1.526000e-10</td>\n",
       "      <td>0.001511</td>\n",
       "      <td>2.628000</td>\n",
       "      <td>NaN</td>\n",
       "      <td>14.090</td>\n",
       "      <td>...</td>\n",
       "      <td>0.08</td>\n",
       "      <td>NaN</td>\n",
       "      <td>NaN</td>\n",
       "      <td>1.40</td>\n",
       "      <td>4.0</td>\n",
       "      <td>0.21</td>\n",
       "      <td>NaN</td>\n",
       "      <td>291.15</td>\n",
       "      <td>NaN</td>\n",
       "      <td>abj</td>\n",
       "    </tr>\n",
       "    <tr>\n",
       "      <th>...</th>\n",
       "      <td>...</td>\n",
       "      <td>...</td>\n",
       "      <td>...</td>\n",
       "      <td>...</td>\n",
       "      <td>...</td>\n",
       "      <td>...</td>\n",
       "      <td>...</td>\n",
       "      <td>...</td>\n",
       "      <td>...</td>\n",
       "      <td>...</td>\n",
       "      <td>...</td>\n",
       "      <td>...</td>\n",
       "      <td>...</td>\n",
       "      <td>...</td>\n",
       "      <td>...</td>\n",
       "      <td>...</td>\n",
       "      <td>...</td>\n",
       "      <td>...</td>\n",
       "      <td>...</td>\n",
       "      <td>...</td>\n",
       "      <td>...</td>\n",
       "    </tr>\n",
       "    <tr>\n",
       "      <th>Zingel_asper</th>\n",
       "      <td>29.887197</td>\n",
       "      <td>0.73146</td>\n",
       "      <td>0.022384</td>\n",
       "      <td>93.5923</td>\n",
       "      <td>5234.1312</td>\n",
       "      <td>8.275000e-09</td>\n",
       "      <td>0.797400</td>\n",
       "      <td>6671.000000</td>\n",
       "      <td>NaN</td>\n",
       "      <td>6672.000</td>\n",
       "      <td>...</td>\n",
       "      <td>NaN</td>\n",
       "      <td>NaN</td>\n",
       "      <td>NaN</td>\n",
       "      <td>7.00</td>\n",
       "      <td>22.0</td>\n",
       "      <td>0.20</td>\n",
       "      <td>375.650042</td>\n",
       "      <td>289.15</td>\n",
       "      <td>NaN</td>\n",
       "      <td>abj</td>\n",
       "    </tr>\n",
       "    <tr>\n",
       "      <th>Zoarces_americanus</th>\n",
       "      <td>792.253004</td>\n",
       "      <td>0.68378</td>\n",
       "      <td>0.025261</td>\n",
       "      <td>57.8286</td>\n",
       "      <td>5216.6873</td>\n",
       "      <td>2.070000e-07</td>\n",
       "      <td>19.250000</td>\n",
       "      <td>19.380000</td>\n",
       "      <td>NaN</td>\n",
       "      <td>50750.000</td>\n",
       "      <td>...</td>\n",
       "      <td>NaN</td>\n",
       "      <td>NaN</td>\n",
       "      <td>NaN</td>\n",
       "      <td>28.80</td>\n",
       "      <td>110.0</td>\n",
       "      <td>0.20</td>\n",
       "      <td>1.402749</td>\n",
       "      <td>276.15</td>\n",
       "      <td>NaN</td>\n",
       "      <td>abj</td>\n",
       "    </tr>\n",
       "    <tr>\n",
       "      <th>Zoarces_elongatus</th>\n",
       "      <td>20.783776</td>\n",
       "      <td>0.99909</td>\n",
       "      <td>0.023702</td>\n",
       "      <td>19.8422</td>\n",
       "      <td>5216.6846</td>\n",
       "      <td>3.140000e-08</td>\n",
       "      <td>0.004859</td>\n",
       "      <td>3.046000</td>\n",
       "      <td>NaN</td>\n",
       "      <td>117.000</td>\n",
       "      <td>...</td>\n",
       "      <td>NaN</td>\n",
       "      <td>NaN</td>\n",
       "      <td>NaN</td>\n",
       "      <td>19.06</td>\n",
       "      <td>56.0</td>\n",
       "      <td>0.20</td>\n",
       "      <td>0.211586</td>\n",
       "      <td>281.15</td>\n",
       "      <td>NaN</td>\n",
       "      <td>abj</td>\n",
       "    </tr>\n",
       "    <tr>\n",
       "      <th>Zoarces_viviparus</th>\n",
       "      <td>988.233583</td>\n",
       "      <td>0.66700</td>\n",
       "      <td>0.030590</td>\n",
       "      <td>169.1000</td>\n",
       "      <td>5197.0000</td>\n",
       "      <td>9.038000e-07</td>\n",
       "      <td>209.500000</td>\n",
       "      <td>242.600000</td>\n",
       "      <td>NaN</td>\n",
       "      <td>22130.000</td>\n",
       "      <td>...</td>\n",
       "      <td>5.10</td>\n",
       "      <td>NaN</td>\n",
       "      <td>NaN</td>\n",
       "      <td>21.50</td>\n",
       "      <td>50.0</td>\n",
       "      <td>0.20</td>\n",
       "      <td>NaN</td>\n",
       "      <td>283.15</td>\n",
       "      <td>NaN</td>\n",
       "      <td>abj</td>\n",
       "    </tr>\n",
       "    <tr>\n",
       "      <th>Zygochlamys_patagonica</th>\n",
       "      <td>64.787878</td>\n",
       "      <td>0.94310</td>\n",
       "      <td>0.020238</td>\n",
       "      <td>41.2541</td>\n",
       "      <td>2342.3878</td>\n",
       "      <td>4.982000e-08</td>\n",
       "      <td>0.000251</td>\n",
       "      <td>0.000722</td>\n",
       "      <td>NaN</td>\n",
       "      <td>423.675</td>\n",
       "      <td>...</td>\n",
       "      <td>NaN</td>\n",
       "      <td>0.060</td>\n",
       "      <td>NaN</td>\n",
       "      <td>NaN</td>\n",
       "      <td>7.0</td>\n",
       "      <td>0.09</td>\n",
       "      <td>NaN</td>\n",
       "      <td>280.15</td>\n",
       "      <td>NaN</td>\n",
       "      <td>abj</td>\n",
       "    </tr>\n",
       "  </tbody>\n",
       "</table>\n",
       "<p>1756 rows × 48 columns</p>\n",
       "</div>"
      ],
      "text/plain": [
       "                              p_Am      kap         v        p_M        E_G  \\\n",
       "species                                                                       \n",
       "Abatus_cordatus          41.918449  0.77712  0.027220    13.8449  2393.8237   \n",
       "Abbottina_rivularis      75.309251  0.97055  0.020221    23.8370  5215.8135   \n",
       "Ablennes_hians          201.398502  0.99640  0.022797    17.9765  5237.1062   \n",
       "Abra_segmentum            8.266674  0.93000  0.020926    25.2041  2349.9631   \n",
       "Abralia_trigonura       109.484284  0.98081  0.009515  1009.8108  5492.3580   \n",
       "...                            ...      ...       ...        ...        ...   \n",
       "Zingel_asper             29.887197  0.73146  0.022384    93.5923  5234.1312   \n",
       "Zoarces_americanus      792.253004  0.68378  0.025261    57.8286  5216.6873   \n",
       "Zoarces_elongatus        20.783776  0.99909  0.023702    19.8422  5216.6846   \n",
       "Zoarces_viviparus       988.233583  0.66700  0.030590   169.1000  5197.0000   \n",
       "Zygochlamys_patagonica   64.787878  0.94310  0.020238    41.2541  2342.3878   \n",
       "\n",
       "                                 h_a        E_Hb         E_Hj  E_Hx  \\\n",
       "species                                                               \n",
       "Abatus_cordatus         5.047000e-06    0.487600     6.941000   NaN   \n",
       "Abbottina_rivularis     3.547000e-07    0.045900     0.069550   NaN   \n",
       "Ablennes_hians          1.614000e-09    0.003540     0.029360   NaN   \n",
       "Abra_segmentum          7.505000e-07    0.000601     0.011460   NaN   \n",
       "Abralia_trigonura       1.526000e-10    0.001511     2.628000   NaN   \n",
       "...                              ...         ...          ...   ...   \n",
       "Zingel_asper            8.275000e-09    0.797400  6671.000000   NaN   \n",
       "Zoarces_americanus      2.070000e-07   19.250000    19.380000   NaN   \n",
       "Zoarces_elongatus       3.140000e-08    0.004859     3.046000   NaN   \n",
       "Zoarces_viviparus       9.038000e-07  209.500000   242.600000   NaN   \n",
       "Zygochlamys_patagonica  4.982000e-08    0.000251     0.000722   NaN   \n",
       "\n",
       "                             E_Hp  ...    Lb     Lj  Lx     Lp     Li   d_V  \\\n",
       "species                            ...                                        \n",
       "Abatus_cordatus          1403.000  ...   NaN  0.276 NaN   1.90    8.0  0.09   \n",
       "Abbottina_rivularis        89.340  ...   NaN    NaN NaN   4.50   18.9  0.20   \n",
       "Ablennes_hians           1083.000  ...   NaN    NaN NaN  47.40  140.0  0.20   \n",
       "Abra_segmentum             10.940  ...   NaN    NaN NaN   0.90    1.9  0.09   \n",
       "Abralia_trigonura          14.090  ...  0.08    NaN NaN   1.40    4.0  0.21   \n",
       "...                           ...  ...   ...    ...  ..    ...    ...   ...   \n",
       "Zingel_asper             6672.000  ...   NaN    NaN NaN   7.00   22.0  0.20   \n",
       "Zoarces_americanus      50750.000  ...   NaN    NaN NaN  28.80  110.0  0.20   \n",
       "Zoarces_elongatus         117.000  ...   NaN    NaN NaN  19.06   56.0  0.20   \n",
       "Zoarces_viviparus       22130.000  ...  5.10    NaN NaN  21.50   50.0  0.20   \n",
       "Zygochlamys_patagonica    423.675  ...   NaN  0.060 NaN    NaN    7.0  0.09   \n",
       "\n",
       "                                Ri T_typical       t_0 model  \n",
       "species                                                       \n",
       "Abatus_cordatus                NaN    278.15       NaN   abj  \n",
       "Abbottina_rivularis       7.772727    291.15  149.8737   abj  \n",
       "Ablennes_hians           73.373736    301.05       NaN   abj  \n",
       "Abra_segmentum           48.959720    288.15       NaN   abj  \n",
       "Abralia_trigonura              NaN    291.15       NaN   abj  \n",
       "...                            ...       ...       ...   ...  \n",
       "Zingel_asper            375.650042    289.15       NaN   abj  \n",
       "Zoarces_americanus        1.402749    276.15       NaN   abj  \n",
       "Zoarces_elongatus         0.211586    281.15       NaN   abj  \n",
       "Zoarces_viviparus              NaN    283.15       NaN   abj  \n",
       "Zygochlamys_patagonica         NaN    280.15       NaN   abj  \n",
       "\n",
       "[1756 rows x 48 columns]"
      ]
     },
     "execution_count": 54,
     "metadata": {},
     "output_type": "execute_result"
    }
   ],
   "source": [
    "raw_abj_data = raw_data[raw_data['model'] == 'abj'].copy()\n",
    "raw_abj_data"
   ]
  },
  {
   "cell_type": "code",
   "execution_count": 55,
   "id": "e5804973-e481-4101-8687-8a8d4941b356",
   "metadata": {},
   "outputs": [
    {
     "data": {
      "image/png": "[encoded data removed]",
      "text/plain": [
       "<Figure size 1000x600 with 1 Axes>"
      ]
     },
     "metadata": {},
     "output_type": "display_data"
    }
   ],
   "source": [
    "plot_missing_values_per_column(raw_abj_data)"
   ]
  },
  {
   "cell_type": "code",
   "execution_count": 56,
   "id": "6658caf1-1c1e-420c-b8f4-2dd52abd1054",
   "metadata": {},
   "outputs": [
    {
     "data": {
      "image/png": "[encoded data removed]",
      "text/plain": [
       "<Figure size 1000x600 with 1 Axes>"
      ]
     },
     "metadata": {},
     "output_type": "display_data"
    }
   ],
   "source": [
    "plot_missing_values_per_mat_level(raw_abj_data)"
   ]
  },
  {
   "cell_type": "markdown",
   "id": "c1202444-d9d8-43cf-a898-e819744f8934",
   "metadata": {},
   "source": [
    "## Missing values in stx species"
   ]
  },
  {
   "cell_type": "code",
   "execution_count": 57,
   "id": "9569ff85-2fe1-4343-bd51-490082ea774b",
   "metadata": {},
   "outputs": [
    {
     "data": {
      "text/html": [
       "<div>\n",
       "<style scoped>\n",
       "    .dataframe tbody tr th:only-of-type {\n",
       "        vertical-align: middle;\n",
       "    }\n",
       "\n",
       "    .dataframe tbody tr th {\n",
       "        vertical-align: top;\n",
       "    }\n",
       "\n",
       "    .dataframe thead th {\n",
       "        text-align: right;\n",
       "    }\n",
       "</style>\n",
       "<table border=\"1\" class=\"dataframe\">\n",
       "  <thead>\n",
       "    <tr style=\"text-align: right;\">\n",
       "      <th></th>\n",
       "      <th>p_Am</th>\n",
       "      <th>kap</th>\n",
       "      <th>v</th>\n",
       "      <th>p_M</th>\n",
       "      <th>E_G</th>\n",
       "      <th>h_a</th>\n",
       "      <th>E_Hb</th>\n",
       "      <th>E_Hj</th>\n",
       "      <th>E_Hx</th>\n",
       "      <th>E_Hp</th>\n",
       "      <th>...</th>\n",
       "      <th>Lb</th>\n",
       "      <th>Lj</th>\n",
       "      <th>Lx</th>\n",
       "      <th>Lp</th>\n",
       "      <th>Li</th>\n",
       "      <th>d_V</th>\n",
       "      <th>Ri</th>\n",
       "      <th>T_typical</th>\n",
       "      <th>t_0</th>\n",
       "      <th>model</th>\n",
       "    </tr>\n",
       "    <tr>\n",
       "      <th>species</th>\n",
       "      <th></th>\n",
       "      <th></th>\n",
       "      <th></th>\n",
       "      <th></th>\n",
       "      <th></th>\n",
       "      <th></th>\n",
       "      <th></th>\n",
       "      <th></th>\n",
       "      <th></th>\n",
       "      <th></th>\n",
       "      <th></th>\n",
       "      <th></th>\n",
       "      <th></th>\n",
       "      <th></th>\n",
       "      <th></th>\n",
       "      <th></th>\n",
       "      <th></th>\n",
       "      <th></th>\n",
       "      <th></th>\n",
       "      <th></th>\n",
       "      <th></th>\n",
       "    </tr>\n",
       "  </thead>\n",
       "  <tbody>\n",
       "    <tr>\n",
       "      <th>Acinonyx_jubatus</th>\n",
       "      <td>1738.396940</td>\n",
       "      <td>0.98748</td>\n",
       "      <td>0.077145</td>\n",
       "      <td>73.9628</td>\n",
       "      <td>7837.3620</td>\n",
       "      <td>1.394000e-11</td>\n",
       "      <td>1.485000e+04</td>\n",
       "      <td>NaN</td>\n",
       "      <td>3.650000e+05</td>\n",
       "      <td>3.556000e+06</td>\n",
       "      <td>...</td>\n",
       "      <td>NaN</td>\n",
       "      <td>NaN</td>\n",
       "      <td>NaN</td>\n",
       "      <td>NaN</td>\n",
       "      <td>NaN</td>\n",
       "      <td>0.3</td>\n",
       "      <td>0.030292</td>\n",
       "      <td>312.15</td>\n",
       "      <td>5.226190e+01</td>\n",
       "      <td>stx</td>\n",
       "    </tr>\n",
       "    <tr>\n",
       "      <th>Acomys_cahirinus</th>\n",
       "      <td>2400.992637</td>\n",
       "      <td>0.93589</td>\n",
       "      <td>0.045779</td>\n",
       "      <td>1328.0526</td>\n",
       "      <td>7829.6773</td>\n",
       "      <td>7.070000e-22</td>\n",
       "      <td>1.102000e+03</td>\n",
       "      <td>NaN</td>\n",
       "      <td>7.985000e+03</td>\n",
       "      <td>5.263000e+04</td>\n",
       "      <td>...</td>\n",
       "      <td>NaN</td>\n",
       "      <td>NaN</td>\n",
       "      <td>NaN</td>\n",
       "      <td>NaN</td>\n",
       "      <td>NaN</td>\n",
       "      <td>0.3</td>\n",
       "      <td>0.133829</td>\n",
       "      <td>310.65</td>\n",
       "      <td>2.090250e+01</td>\n",
       "      <td>stx</td>\n",
       "    </tr>\n",
       "    <tr>\n",
       "      <th>Acrobates_pygmaeus</th>\n",
       "      <td>412.338561</td>\n",
       "      <td>0.99859</td>\n",
       "      <td>0.023186</td>\n",
       "      <td>267.2880</td>\n",
       "      <td>7844.3693</td>\n",
       "      <td>2.347000e-15</td>\n",
       "      <td>6.466000e-02</td>\n",
       "      <td>NaN</td>\n",
       "      <td>8.507000e+01</td>\n",
       "      <td>3.653000e+02</td>\n",
       "      <td>...</td>\n",
       "      <td>NaN</td>\n",
       "      <td>NaN</td>\n",
       "      <td>NaN</td>\n",
       "      <td>NaN</td>\n",
       "      <td>NaN</td>\n",
       "      <td>0.3</td>\n",
       "      <td>0.060505</td>\n",
       "      <td>307.85</td>\n",
       "      <td>5.891820e+01</td>\n",
       "      <td>stx</td>\n",
       "    </tr>\n",
       "    <tr>\n",
       "      <th>Acrocodia_indica</th>\n",
       "      <td>12083.060435</td>\n",
       "      <td>0.96038</td>\n",
       "      <td>0.076562</td>\n",
       "      <td>442.1893</td>\n",
       "      <td>7838.4719</td>\n",
       "      <td>1.798000e-16</td>\n",
       "      <td>4.241000e+05</td>\n",
       "      <td>NaN</td>\n",
       "      <td>2.198000e+07</td>\n",
       "      <td>1.550000e+08</td>\n",
       "      <td>...</td>\n",
       "      <td>NaN</td>\n",
       "      <td>NaN</td>\n",
       "      <td>NaN</td>\n",
       "      <td>NaN</td>\n",
       "      <td>NaN</td>\n",
       "      <td>0.3</td>\n",
       "      <td>0.006013</td>\n",
       "      <td>309.95</td>\n",
       "      <td>3.311668e+02</td>\n",
       "      <td>stx</td>\n",
       "    </tr>\n",
       "    <tr>\n",
       "      <th>Addax_nasomaculatus</th>\n",
       "      <td>1947.746927</td>\n",
       "      <td>0.72417</td>\n",
       "      <td>0.181750</td>\n",
       "      <td>42.5828</td>\n",
       "      <td>7829.2536</td>\n",
       "      <td>3.892000e-20</td>\n",
       "      <td>8.431000e+06</td>\n",
       "      <td>NaN</td>\n",
       "      <td>9.192000e+07</td>\n",
       "      <td>2.755000e+08</td>\n",
       "      <td>...</td>\n",
       "      <td>NaN</td>\n",
       "      <td>NaN</td>\n",
       "      <td>NaN</td>\n",
       "      <td>NaN</td>\n",
       "      <td>NaN</td>\n",
       "      <td>0.3</td>\n",
       "      <td>0.013284</td>\n",
       "      <td>311.15</td>\n",
       "      <td>2.339221e+02</td>\n",
       "      <td>stx</td>\n",
       "    </tr>\n",
       "    <tr>\n",
       "      <th>...</th>\n",
       "      <td>...</td>\n",
       "      <td>...</td>\n",
       "      <td>...</td>\n",
       "      <td>...</td>\n",
       "      <td>...</td>\n",
       "      <td>...</td>\n",
       "      <td>...</td>\n",
       "      <td>...</td>\n",
       "      <td>...</td>\n",
       "      <td>...</td>\n",
       "      <td>...</td>\n",
       "      <td>...</td>\n",
       "      <td>...</td>\n",
       "      <td>...</td>\n",
       "      <td>...</td>\n",
       "      <td>...</td>\n",
       "      <td>...</td>\n",
       "      <td>...</td>\n",
       "      <td>...</td>\n",
       "      <td>...</td>\n",
       "      <td>...</td>\n",
       "    </tr>\n",
       "    <tr>\n",
       "      <th>Zalophus_wollebaeki</th>\n",
       "      <td>2089.716672</td>\n",
       "      <td>0.86534</td>\n",
       "      <td>0.065480</td>\n",
       "      <td>49.3738</td>\n",
       "      <td>7387.1473</td>\n",
       "      <td>1.447000e-12</td>\n",
       "      <td>1.859000e+06</td>\n",
       "      <td>NaN</td>\n",
       "      <td>3.379000e+07</td>\n",
       "      <td>1.278000e+08</td>\n",
       "      <td>...</td>\n",
       "      <td>NaN</td>\n",
       "      <td>NaN</td>\n",
       "      <td>NaN</td>\n",
       "      <td>NaN</td>\n",
       "      <td>NaN</td>\n",
       "      <td>0.3</td>\n",
       "      <td>0.012227</td>\n",
       "      <td>310.15</td>\n",
       "      <td>2.272490e+02</td>\n",
       "      <td>stx</td>\n",
       "    </tr>\n",
       "    <tr>\n",
       "      <th>Zapus_hudsonius</th>\n",
       "      <td>1165.088401</td>\n",
       "      <td>0.97901</td>\n",
       "      <td>0.029403</td>\n",
       "      <td>662.0426</td>\n",
       "      <td>7853.5372</td>\n",
       "      <td>5.076000e-10</td>\n",
       "      <td>4.259000e+01</td>\n",
       "      <td>NaN</td>\n",
       "      <td>9.317000e+02</td>\n",
       "      <td>2.908000e+03</td>\n",
       "      <td>...</td>\n",
       "      <td>NaN</td>\n",
       "      <td>NaN</td>\n",
       "      <td>NaN</td>\n",
       "      <td>NaN</td>\n",
       "      <td>NaN</td>\n",
       "      <td>0.3</td>\n",
       "      <td>0.109774</td>\n",
       "      <td>307.15</td>\n",
       "      <td>4.595000e+00</td>\n",
       "      <td>stx</td>\n",
       "    </tr>\n",
       "    <tr>\n",
       "      <th>Zelotomys_woosnami</th>\n",
       "      <td>4586.733148</td>\n",
       "      <td>0.96474</td>\n",
       "      <td>0.070670</td>\n",
       "      <td>2508.5062</td>\n",
       "      <td>7842.4142</td>\n",
       "      <td>2.717000e-10</td>\n",
       "      <td>3.631000e+02</td>\n",
       "      <td>NaN</td>\n",
       "      <td>2.994000e+04</td>\n",
       "      <td>1.471000e+05</td>\n",
       "      <td>...</td>\n",
       "      <td>NaN</td>\n",
       "      <td>NaN</td>\n",
       "      <td>NaN</td>\n",
       "      <td>NaN</td>\n",
       "      <td>NaN</td>\n",
       "      <td>0.3</td>\n",
       "      <td>0.104075</td>\n",
       "      <td>309.75</td>\n",
       "      <td>2.393420e+01</td>\n",
       "      <td>stx</td>\n",
       "    </tr>\n",
       "    <tr>\n",
       "      <th>Ziphius_cavirostris</th>\n",
       "      <td>1979.081195</td>\n",
       "      <td>0.74362</td>\n",
       "      <td>0.043752</td>\n",
       "      <td>19.3523</td>\n",
       "      <td>7847.6619</td>\n",
       "      <td>1.307000e-12</td>\n",
       "      <td>3.022000e+07</td>\n",
       "      <td>NaN</td>\n",
       "      <td>1.091000e+08</td>\n",
       "      <td>1.342000e+09</td>\n",
       "      <td>...</td>\n",
       "      <td>210.0</td>\n",
       "      <td>NaN</td>\n",
       "      <td>NaN</td>\n",
       "      <td>650.0</td>\n",
       "      <td>740.0</td>\n",
       "      <td>0.3</td>\n",
       "      <td>0.005393</td>\n",
       "      <td>308.65</td>\n",
       "      <td>5.407900e-32</td>\n",
       "      <td>stx</td>\n",
       "    </tr>\n",
       "    <tr>\n",
       "      <th>Zygodontomys_brevicauda</th>\n",
       "      <td>2642.527750</td>\n",
       "      <td>0.98355</td>\n",
       "      <td>0.039703</td>\n",
       "      <td>1555.7633</td>\n",
       "      <td>7842.2550</td>\n",
       "      <td>2.255000e-10</td>\n",
       "      <td>1.583000e+02</td>\n",
       "      <td>NaN</td>\n",
       "      <td>8.206000e+02</td>\n",
       "      <td>2.946000e+03</td>\n",
       "      <td>...</td>\n",
       "      <td>NaN</td>\n",
       "      <td>NaN</td>\n",
       "      <td>NaN</td>\n",
       "      <td>NaN</td>\n",
       "      <td>NaN</td>\n",
       "      <td>0.3</td>\n",
       "      <td>0.057191</td>\n",
       "      <td>309.35</td>\n",
       "      <td>1.235500e+01</td>\n",
       "      <td>stx</td>\n",
       "    </tr>\n",
       "  </tbody>\n",
       "</table>\n",
       "<p>732 rows × 48 columns</p>\n",
       "</div>"
      ],
      "text/plain": [
       "                                 p_Am      kap         v        p_M  \\\n",
       "species                                                               \n",
       "Acinonyx_jubatus          1738.396940  0.98748  0.077145    73.9628   \n",
       "Acomys_cahirinus          2400.992637  0.93589  0.045779  1328.0526   \n",
       "Acrobates_pygmaeus         412.338561  0.99859  0.023186   267.2880   \n",
       "Acrocodia_indica         12083.060435  0.96038  0.076562   442.1893   \n",
       "Addax_nasomaculatus       1947.746927  0.72417  0.181750    42.5828   \n",
       "...                               ...      ...       ...        ...   \n",
       "Zalophus_wollebaeki       2089.716672  0.86534  0.065480    49.3738   \n",
       "Zapus_hudsonius           1165.088401  0.97901  0.029403   662.0426   \n",
       "Zelotomys_woosnami        4586.733148  0.96474  0.070670  2508.5062   \n",
       "Ziphius_cavirostris       1979.081195  0.74362  0.043752    19.3523   \n",
       "Zygodontomys_brevicauda   2642.527750  0.98355  0.039703  1555.7633   \n",
       "\n",
       "                               E_G           h_a          E_Hb  E_Hj  \\\n",
       "species                                                                \n",
       "Acinonyx_jubatus         7837.3620  1.394000e-11  1.485000e+04   NaN   \n",
       "Acomys_cahirinus         7829.6773  7.070000e-22  1.102000e+03   NaN   \n",
       "Acrobates_pygmaeus       7844.3693  2.347000e-15  6.466000e-02   NaN   \n",
       "Acrocodia_indica         7838.4719  1.798000e-16  4.241000e+05   NaN   \n",
       "Addax_nasomaculatus      7829.2536  3.892000e-20  8.431000e+06   NaN   \n",
       "...                            ...           ...           ...   ...   \n",
       "Zalophus_wollebaeki      7387.1473  1.447000e-12  1.859000e+06   NaN   \n",
       "Zapus_hudsonius          7853.5372  5.076000e-10  4.259000e+01   NaN   \n",
       "Zelotomys_woosnami       7842.4142  2.717000e-10  3.631000e+02   NaN   \n",
       "Ziphius_cavirostris      7847.6619  1.307000e-12  3.022000e+07   NaN   \n",
       "Zygodontomys_brevicauda  7842.2550  2.255000e-10  1.583000e+02   NaN   \n",
       "\n",
       "                                 E_Hx          E_Hp  ...     Lb  Lj  Lx  \\\n",
       "species                                              ...                  \n",
       "Acinonyx_jubatus         3.650000e+05  3.556000e+06  ...    NaN NaN NaN   \n",
       "Acomys_cahirinus         7.985000e+03  5.263000e+04  ...    NaN NaN NaN   \n",
       "Acrobates_pygmaeus       8.507000e+01  3.653000e+02  ...    NaN NaN NaN   \n",
       "Acrocodia_indica         2.198000e+07  1.550000e+08  ...    NaN NaN NaN   \n",
       "Addax_nasomaculatus      9.192000e+07  2.755000e+08  ...    NaN NaN NaN   \n",
       "...                               ...           ...  ...    ...  ..  ..   \n",
       "Zalophus_wollebaeki      3.379000e+07  1.278000e+08  ...    NaN NaN NaN   \n",
       "Zapus_hudsonius          9.317000e+02  2.908000e+03  ...    NaN NaN NaN   \n",
       "Zelotomys_woosnami       2.994000e+04  1.471000e+05  ...    NaN NaN NaN   \n",
       "Ziphius_cavirostris      1.091000e+08  1.342000e+09  ...  210.0 NaN NaN   \n",
       "Zygodontomys_brevicauda  8.206000e+02  2.946000e+03  ...    NaN NaN NaN   \n",
       "\n",
       "                            Lp     Li  d_V        Ri T_typical           t_0  \\\n",
       "species                                                                        \n",
       "Acinonyx_jubatus           NaN    NaN  0.3  0.030292    312.15  5.226190e+01   \n",
       "Acomys_cahirinus           NaN    NaN  0.3  0.133829    310.65  2.090250e+01   \n",
       "Acrobates_pygmaeus         NaN    NaN  0.3  0.060505    307.85  5.891820e+01   \n",
       "Acrocodia_indica           NaN    NaN  0.3  0.006013    309.95  3.311668e+02   \n",
       "Addax_nasomaculatus        NaN    NaN  0.3  0.013284    311.15  2.339221e+02   \n",
       "...                        ...    ...  ...       ...       ...           ...   \n",
       "Zalophus_wollebaeki        NaN    NaN  0.3  0.012227    310.15  2.272490e+02   \n",
       "Zapus_hudsonius            NaN    NaN  0.3  0.109774    307.15  4.595000e+00   \n",
       "Zelotomys_woosnami         NaN    NaN  0.3  0.104075    309.75  2.393420e+01   \n",
       "Ziphius_cavirostris      650.0  740.0  0.3  0.005393    308.65  5.407900e-32   \n",
       "Zygodontomys_brevicauda    NaN    NaN  0.3  0.057191    309.35  1.235500e+01   \n",
       "\n",
       "                        model  \n",
       "species                        \n",
       "Acinonyx_jubatus          stx  \n",
       "Acomys_cahirinus          stx  \n",
       "Acrobates_pygmaeus        stx  \n",
       "Acrocodia_indica          stx  \n",
       "Addax_nasomaculatus       stx  \n",
       "...                       ...  \n",
       "Zalophus_wollebaeki       stx  \n",
       "Zapus_hudsonius           stx  \n",
       "Zelotomys_woosnami        stx  \n",
       "Ziphius_cavirostris       stx  \n",
       "Zygodontomys_brevicauda   stx  \n",
       "\n",
       "[732 rows x 48 columns]"
      ]
     },
     "execution_count": 57,
     "metadata": {},
     "output_type": "execute_result"
    }
   ],
   "source": [
    "raw_stx_data = raw_data[raw_data['model'] == 'stx'].copy()\n",
    "raw_stx_data"
   ]
  },
  {
   "cell_type": "code",
   "execution_count": 58,
   "id": "edb8beae-3d51-445f-9d66-028269dcf46f",
   "metadata": {},
   "outputs": [
    {
     "data": {
      "image/png": "[encoded data removed]",
      "text/plain": [
       "<Figure size 1000x600 with 1 Axes>"
      ]
     },
     "metadata": {},
     "output_type": "display_data"
    }
   ],
   "source": [
    "plot_missing_values_per_column(raw_stx_data)"
   ]
  },
  {
   "cell_type": "code",
   "execution_count": 59,
   "id": "7512e3d3-1ce9-45da-84ed-2a469dcab17b",
   "metadata": {},
   "outputs": [
    {
     "data": {
      "image/png": "[encoded data removed]",
      "text/plain": [
       "<Figure size 1000x600 with 1 Axes>"
      ]
     },
     "metadata": {},
     "output_type": "display_data"
    }
   ],
   "source": [
    "plot_missing_values_per_mat_level(raw_stx_data)"
   ]
  },
  {
   "cell_type": "markdown",
   "id": "10c4a5fb-b8b1-488e-aefd-56ae166f40b9",
   "metadata": {},
   "source": [
    "# Missing values in filled data "
   ]
  },
  {
   "cell_type": "code",
   "execution_count": 19,
   "id": "e93975c4904bdb7",
   "metadata": {
    "ExecuteTime": {
     "end_time": "2024-08-05T10:45:40.908253Z",
     "start_time": "2024-08-05T10:45:40.833572Z"
    }
   },
   "outputs": [
    {
     "data": {
      "text/html": [
       "<div>\n",
       "<style scoped>\n",
       "    .dataframe tbody tr th:only-of-type {\n",
       "        vertical-align: middle;\n",
       "    }\n",
       "\n",
       "    .dataframe tbody tr th {\n",
       "        vertical-align: top;\n",
       "    }\n",
       "\n",
       "    .dataframe thead th {\n",
       "        text-align: right;\n",
       "    }\n",
       "</style>\n",
       "<table border=\"1\" class=\"dataframe\">\n",
       "  <thead>\n",
       "    <tr style=\"text-align: right;\">\n",
       "      <th></th>\n",
       "      <th>p_Am</th>\n",
       "      <th>kap</th>\n",
       "      <th>v</th>\n",
       "      <th>p_M</th>\n",
       "      <th>E_G</th>\n",
       "      <th>h_a</th>\n",
       "      <th>E_Hb</th>\n",
       "      <th>E_Hj</th>\n",
       "      <th>E_Hx</th>\n",
       "      <th>E_Hp</th>\n",
       "      <th>...</th>\n",
       "      <th>Lp</th>\n",
       "      <th>Li</th>\n",
       "      <th>d_V</th>\n",
       "      <th>Ri</th>\n",
       "      <th>T_typical</th>\n",
       "      <th>t_0</th>\n",
       "      <th>model</th>\n",
       "      <th>metamorphosis</th>\n",
       "      <th>weaning</th>\n",
       "      <th>foetus</th>\n",
       "    </tr>\n",
       "    <tr>\n",
       "      <th>species</th>\n",
       "      <th></th>\n",
       "      <th></th>\n",
       "      <th></th>\n",
       "      <th></th>\n",
       "      <th></th>\n",
       "      <th></th>\n",
       "      <th></th>\n",
       "      <th></th>\n",
       "      <th></th>\n",
       "      <th></th>\n",
       "      <th></th>\n",
       "      <th></th>\n",
       "      <th></th>\n",
       "      <th></th>\n",
       "      <th></th>\n",
       "      <th></th>\n",
       "      <th></th>\n",
       "      <th></th>\n",
       "      <th></th>\n",
       "      <th></th>\n",
       "      <th></th>\n",
       "    </tr>\n",
       "  </thead>\n",
       "  <tbody>\n",
       "    <tr>\n",
       "      <th>Abatus_cordatus</th>\n",
       "      <td>41.918449</td>\n",
       "      <td>0.77712</td>\n",
       "      <td>0.027220</td>\n",
       "      <td>13.8449</td>\n",
       "      <td>2393.8237</td>\n",
       "      <td>5.047000e-06</td>\n",
       "      <td>0.487600</td>\n",
       "      <td>6.941000</td>\n",
       "      <td>NaN</td>\n",
       "      <td>1403.000</td>\n",
       "      <td>...</td>\n",
       "      <td>1.90</td>\n",
       "      <td>8.0</td>\n",
       "      <td>0.09</td>\n",
       "      <td>NaN</td>\n",
       "      <td>278.15</td>\n",
       "      <td>NaN</td>\n",
       "      <td>abj</td>\n",
       "      <td>True</td>\n",
       "      <td>False</td>\n",
       "      <td>False</td>\n",
       "    </tr>\n",
       "    <tr>\n",
       "      <th>Abbottina_rivularis</th>\n",
       "      <td>75.309251</td>\n",
       "      <td>0.97055</td>\n",
       "      <td>0.020221</td>\n",
       "      <td>23.8370</td>\n",
       "      <td>5215.8135</td>\n",
       "      <td>3.547000e-07</td>\n",
       "      <td>0.045900</td>\n",
       "      <td>0.069550</td>\n",
       "      <td>NaN</td>\n",
       "      <td>89.340</td>\n",
       "      <td>...</td>\n",
       "      <td>4.50</td>\n",
       "      <td>18.9</td>\n",
       "      <td>0.20</td>\n",
       "      <td>7.772727</td>\n",
       "      <td>291.15</td>\n",
       "      <td>149.8737</td>\n",
       "      <td>abj</td>\n",
       "      <td>True</td>\n",
       "      <td>False</td>\n",
       "      <td>False</td>\n",
       "    </tr>\n",
       "    <tr>\n",
       "      <th>Ablennes_hians</th>\n",
       "      <td>201.398502</td>\n",
       "      <td>0.99640</td>\n",
       "      <td>0.022797</td>\n",
       "      <td>17.9765</td>\n",
       "      <td>5237.1062</td>\n",
       "      <td>1.614000e-09</td>\n",
       "      <td>0.003540</td>\n",
       "      <td>0.029360</td>\n",
       "      <td>NaN</td>\n",
       "      <td>1083.000</td>\n",
       "      <td>...</td>\n",
       "      <td>47.40</td>\n",
       "      <td>140.0</td>\n",
       "      <td>0.20</td>\n",
       "      <td>73.373736</td>\n",
       "      <td>301.05</td>\n",
       "      <td>NaN</td>\n",
       "      <td>abj</td>\n",
       "      <td>True</td>\n",
       "      <td>False</td>\n",
       "      <td>False</td>\n",
       "    </tr>\n",
       "    <tr>\n",
       "      <th>Abra_segmentum</th>\n",
       "      <td>8.266674</td>\n",
       "      <td>0.93000</td>\n",
       "      <td>0.020926</td>\n",
       "      <td>25.2041</td>\n",
       "      <td>2349.9631</td>\n",
       "      <td>7.505000e-07</td>\n",
       "      <td>0.000601</td>\n",
       "      <td>0.011460</td>\n",
       "      <td>NaN</td>\n",
       "      <td>10.940</td>\n",
       "      <td>...</td>\n",
       "      <td>0.90</td>\n",
       "      <td>1.9</td>\n",
       "      <td>0.09</td>\n",
       "      <td>48.959720</td>\n",
       "      <td>288.15</td>\n",
       "      <td>NaN</td>\n",
       "      <td>abj</td>\n",
       "      <td>True</td>\n",
       "      <td>False</td>\n",
       "      <td>False</td>\n",
       "    </tr>\n",
       "    <tr>\n",
       "      <th>Abralia_trigonura</th>\n",
       "      <td>109.484284</td>\n",
       "      <td>0.98081</td>\n",
       "      <td>0.009515</td>\n",
       "      <td>1009.8108</td>\n",
       "      <td>5492.3580</td>\n",
       "      <td>1.526000e-10</td>\n",
       "      <td>0.001511</td>\n",
       "      <td>2.628000</td>\n",
       "      <td>NaN</td>\n",
       "      <td>14.090</td>\n",
       "      <td>...</td>\n",
       "      <td>1.40</td>\n",
       "      <td>4.0</td>\n",
       "      <td>0.21</td>\n",
       "      <td>NaN</td>\n",
       "      <td>291.15</td>\n",
       "      <td>NaN</td>\n",
       "      <td>abj</td>\n",
       "      <td>True</td>\n",
       "      <td>False</td>\n",
       "      <td>False</td>\n",
       "    </tr>\n",
       "    <tr>\n",
       "      <th>...</th>\n",
       "      <td>...</td>\n",
       "      <td>...</td>\n",
       "      <td>...</td>\n",
       "      <td>...</td>\n",
       "      <td>...</td>\n",
       "      <td>...</td>\n",
       "      <td>...</td>\n",
       "      <td>...</td>\n",
       "      <td>...</td>\n",
       "      <td>...</td>\n",
       "      <td>...</td>\n",
       "      <td>...</td>\n",
       "      <td>...</td>\n",
       "      <td>...</td>\n",
       "      <td>...</td>\n",
       "      <td>...</td>\n",
       "      <td>...</td>\n",
       "      <td>...</td>\n",
       "      <td>...</td>\n",
       "      <td>...</td>\n",
       "      <td>...</td>\n",
       "    </tr>\n",
       "    <tr>\n",
       "      <th>Zosterisessor_ophiocephalus</th>\n",
       "      <td>90.838193</td>\n",
       "      <td>0.97755</td>\n",
       "      <td>0.020245</td>\n",
       "      <td>17.1271</td>\n",
       "      <td>5231.3551</td>\n",
       "      <td>1.513000e-07</td>\n",
       "      <td>0.003958</td>\n",
       "      <td>NaN</td>\n",
       "      <td>NaN</td>\n",
       "      <td>1577.000</td>\n",
       "      <td>...</td>\n",
       "      <td>12.65</td>\n",
       "      <td>29.9</td>\n",
       "      <td>0.20</td>\n",
       "      <td>100.486494</td>\n",
       "      <td>290.25</td>\n",
       "      <td>NaN</td>\n",
       "      <td>std</td>\n",
       "      <td>False</td>\n",
       "      <td>False</td>\n",
       "      <td>False</td>\n",
       "    </tr>\n",
       "    <tr>\n",
       "      <th>Zosterops_lateralis</th>\n",
       "      <td>872.827510</td>\n",
       "      <td>0.97558</td>\n",
       "      <td>0.035919</td>\n",
       "      <td>617.3516</td>\n",
       "      <td>7324.4923</td>\n",
       "      <td>2.674000e-12</td>\n",
       "      <td>76.790000</td>\n",
       "      <td>NaN</td>\n",
       "      <td>456.8</td>\n",
       "      <td>1199.000</td>\n",
       "      <td>...</td>\n",
       "      <td>NaN</td>\n",
       "      <td>NaN</td>\n",
       "      <td>0.28</td>\n",
       "      <td>0.067583</td>\n",
       "      <td>314.75</td>\n",
       "      <td>NaN</td>\n",
       "      <td>std</td>\n",
       "      <td>False</td>\n",
       "      <td>False</td>\n",
       "      <td>False</td>\n",
       "    </tr>\n",
       "    <tr>\n",
       "      <th>Zosterops_virens</th>\n",
       "      <td>940.612495</td>\n",
       "      <td>0.99060</td>\n",
       "      <td>0.031028</td>\n",
       "      <td>734.2559</td>\n",
       "      <td>7319.8077</td>\n",
       "      <td>3.005000e-12</td>\n",
       "      <td>21.060000</td>\n",
       "      <td>NaN</td>\n",
       "      <td>101.4</td>\n",
       "      <td>294.800</td>\n",
       "      <td>...</td>\n",
       "      <td>NaN</td>\n",
       "      <td>NaN</td>\n",
       "      <td>0.28</td>\n",
       "      <td>0.045055</td>\n",
       "      <td>314.75</td>\n",
       "      <td>NaN</td>\n",
       "      <td>std</td>\n",
       "      <td>False</td>\n",
       "      <td>False</td>\n",
       "      <td>False</td>\n",
       "    </tr>\n",
       "    <tr>\n",
       "      <th>Zygochlamys_patagonica</th>\n",
       "      <td>64.787878</td>\n",
       "      <td>0.94310</td>\n",
       "      <td>0.020238</td>\n",
       "      <td>41.2541</td>\n",
       "      <td>2342.3878</td>\n",
       "      <td>4.982000e-08</td>\n",
       "      <td>0.000251</td>\n",
       "      <td>0.000722</td>\n",
       "      <td>NaN</td>\n",
       "      <td>423.675</td>\n",
       "      <td>...</td>\n",
       "      <td>NaN</td>\n",
       "      <td>7.0</td>\n",
       "      <td>0.09</td>\n",
       "      <td>NaN</td>\n",
       "      <td>280.15</td>\n",
       "      <td>NaN</td>\n",
       "      <td>abj</td>\n",
       "      <td>True</td>\n",
       "      <td>False</td>\n",
       "      <td>False</td>\n",
       "    </tr>\n",
       "    <tr>\n",
       "      <th>Zygodontomys_brevicauda</th>\n",
       "      <td>2642.527750</td>\n",
       "      <td>0.98355</td>\n",
       "      <td>0.039703</td>\n",
       "      <td>1555.7633</td>\n",
       "      <td>7842.2550</td>\n",
       "      <td>2.255000e-10</td>\n",
       "      <td>158.300000</td>\n",
       "      <td>NaN</td>\n",
       "      <td>820.6</td>\n",
       "      <td>2946.000</td>\n",
       "      <td>...</td>\n",
       "      <td>NaN</td>\n",
       "      <td>NaN</td>\n",
       "      <td>0.30</td>\n",
       "      <td>0.057191</td>\n",
       "      <td>309.35</td>\n",
       "      <td>12.3550</td>\n",
       "      <td>stx</td>\n",
       "      <td>False</td>\n",
       "      <td>True</td>\n",
       "      <td>True</td>\n",
       "    </tr>\n",
       "  </tbody>\n",
       "</table>\n",
       "<p>4593 rows × 51 columns</p>\n",
       "</div>"
      ],
      "text/plain": [
       "                                    p_Am      kap         v        p_M  \\\n",
       "species                                                                  \n",
       "Abatus_cordatus                41.918449  0.77712  0.027220    13.8449   \n",
       "Abbottina_rivularis            75.309251  0.97055  0.020221    23.8370   \n",
       "Ablennes_hians                201.398502  0.99640  0.022797    17.9765   \n",
       "Abra_segmentum                  8.266674  0.93000  0.020926    25.2041   \n",
       "Abralia_trigonura             109.484284  0.98081  0.009515  1009.8108   \n",
       "...                                  ...      ...       ...        ...   \n",
       "Zosterisessor_ophiocephalus    90.838193  0.97755  0.020245    17.1271   \n",
       "Zosterops_lateralis           872.827510  0.97558  0.035919   617.3516   \n",
       "Zosterops_virens              940.612495  0.99060  0.031028   734.2559   \n",
       "Zygochlamys_patagonica         64.787878  0.94310  0.020238    41.2541   \n",
       "Zygodontomys_brevicauda      2642.527750  0.98355  0.039703  1555.7633   \n",
       "\n",
       "                                   E_G           h_a        E_Hb      E_Hj  \\\n",
       "species                                                                      \n",
       "Abatus_cordatus              2393.8237  5.047000e-06    0.487600  6.941000   \n",
       "Abbottina_rivularis          5215.8135  3.547000e-07    0.045900  0.069550   \n",
       "Ablennes_hians               5237.1062  1.614000e-09    0.003540  0.029360   \n",
       "Abra_segmentum               2349.9631  7.505000e-07    0.000601  0.011460   \n",
       "Abralia_trigonura            5492.3580  1.526000e-10    0.001511  2.628000   \n",
       "...                                ...           ...         ...       ...   \n",
       "Zosterisessor_ophiocephalus  5231.3551  1.513000e-07    0.003958       NaN   \n",
       "Zosterops_lateralis          7324.4923  2.674000e-12   76.790000       NaN   \n",
       "Zosterops_virens             7319.8077  3.005000e-12   21.060000       NaN   \n",
       "Zygochlamys_patagonica       2342.3878  4.982000e-08    0.000251  0.000722   \n",
       "Zygodontomys_brevicauda      7842.2550  2.255000e-10  158.300000       NaN   \n",
       "\n",
       "                              E_Hx      E_Hp  ...     Lp     Li   d_V  \\\n",
       "species                                       ...                       \n",
       "Abatus_cordatus                NaN  1403.000  ...   1.90    8.0  0.09   \n",
       "Abbottina_rivularis            NaN    89.340  ...   4.50   18.9  0.20   \n",
       "Ablennes_hians                 NaN  1083.000  ...  47.40  140.0  0.20   \n",
       "Abra_segmentum                 NaN    10.940  ...   0.90    1.9  0.09   \n",
       "Abralia_trigonura              NaN    14.090  ...   1.40    4.0  0.21   \n",
       "...                            ...       ...  ...    ...    ...   ...   \n",
       "Zosterisessor_ophiocephalus    NaN  1577.000  ...  12.65   29.9  0.20   \n",
       "Zosterops_lateralis          456.8  1199.000  ...    NaN    NaN  0.28   \n",
       "Zosterops_virens             101.4   294.800  ...    NaN    NaN  0.28   \n",
       "Zygochlamys_patagonica         NaN   423.675  ...    NaN    7.0  0.09   \n",
       "Zygodontomys_brevicauda      820.6  2946.000  ...    NaN    NaN  0.30   \n",
       "\n",
       "                                     Ri T_typical       t_0 model  \\\n",
       "species                                                             \n",
       "Abatus_cordatus                     NaN    278.15       NaN   abj   \n",
       "Abbottina_rivularis            7.772727    291.15  149.8737   abj   \n",
       "Ablennes_hians                73.373736    301.05       NaN   abj   \n",
       "Abra_segmentum                48.959720    288.15       NaN   abj   \n",
       "Abralia_trigonura                   NaN    291.15       NaN   abj   \n",
       "...                                 ...       ...       ...   ...   \n",
       "Zosterisessor_ophiocephalus  100.486494    290.25       NaN   std   \n",
       "Zosterops_lateralis            0.067583    314.75       NaN   std   \n",
       "Zosterops_virens               0.045055    314.75       NaN   std   \n",
       "Zygochlamys_patagonica              NaN    280.15       NaN   abj   \n",
       "Zygodontomys_brevicauda        0.057191    309.35   12.3550   stx   \n",
       "\n",
       "                            metamorphosis weaning foetus  \n",
       "species                                                   \n",
       "Abatus_cordatus                      True   False  False  \n",
       "Abbottina_rivularis                  True   False  False  \n",
       "Ablennes_hians                       True   False  False  \n",
       "Abra_segmentum                       True   False  False  \n",
       "Abralia_trigonura                    True   False  False  \n",
       "...                                   ...     ...    ...  \n",
       "Zosterisessor_ophiocephalus         False   False  False  \n",
       "Zosterops_lateralis                 False   False  False  \n",
       "Zosterops_virens                    False   False  False  \n",
       "Zygochlamys_patagonica               True   False  False  \n",
       "Zygodontomys_brevicauda             False    True   True  \n",
       "\n",
       "[4593 rows x 51 columns]"
      ]
     },
     "execution_count": 19,
     "metadata": {},
     "output_type": "execute_result"
    }
   ],
   "source": [
    "filled_data = pd.read_csv('../data/interim/filled_data.csv', index_col=0)\n",
    "filled_data"
   ]
  },
  {
   "cell_type": "code",
   "execution_count": 20,
   "id": "65758dc8-6a5c-4ea5-861d-3eb6538dd850",
   "metadata": {},
   "outputs": [
    {
     "name": "stdout",
     "output_type": "stream",
     "text": [
      "58.8 % missing values in column E_Hj\n",
      "75.7 % missing values in column E_Hx\n",
      "0.0 % missing values in column climate\n",
      "0.0 % missing values in column ecozone\n",
      "0.0 % missing values in column habitat\n",
      "0.0 % missing values in column embryo\n",
      "66.3 % missing values in column migrate\n",
      "0.0 % missing values in column food\n",
      "0.0 % missing values in column gender\n",
      "0.0 % missing values in column reprod\n",
      "28.4 % missing values in column ab\n",
      "98.4 % missing values in column ah\n",
      "96.2 % missing values in column aj\n",
      "91.3 % missing values in column ax\n",
      "60.9 % missing values in column ap\n",
      "1.1 % missing values in column am\n",
      "84.1 % missing values in column tg\n",
      "99.8 % missing values in column tb\n",
      "95.9 % missing values in column tj\n",
      "75.5 % missing values in column tx\n",
      "43.5 % missing values in column tp\n",
      "4.3 % missing values in column Wwb\n",
      "93.5 % missing values in column Wwj\n",
      "92.5 % missing values in column Wwx\n",
      "47.1 % missing values in column Wwp\n",
      "7.2 % missing values in column Wwi\n",
      "73.5 % missing values in column Lb\n",
      "93.5 % missing values in column Lj\n",
      "99.6 % missing values in column Lx\n",
      "44.2 % missing values in column Lp\n",
      "35.2 % missing values in column Li\n",
      "15.9 % missing values in column Ri\n",
      "65.2 % missing values in column t_0\n"
     ]
    }
   ],
   "source": [
    "print_missing_values_per_column(filled_data)"
   ]
  },
  {
   "cell_type": "code",
   "execution_count": 50,
   "id": "a42f3d40-c5f8-46a6-80a6-469649d4f1b1",
   "metadata": {},
   "outputs": [
    {
     "name": "stderr",
     "output_type": "stream",
     "text": [
      "C:\\Users\\diogo\\AppData\\Local\\Temp\\ipykernel_6272\\2358594085.py:1: UserWarning: Boolean Series key will be reindexed to match DataFrame index.\n",
      "  filled_std_data = filled_data[raw_data['model'] == 'std'].copy()\n",
      "C:\\Users\\diogo\\AppData\\Local\\Temp\\ipykernel_6272\\2358594085.py:2: UserWarning: Boolean Series key will be reindexed to match DataFrame index.\n",
      "  filled_stx_data = filled_data[raw_data['model'] == 'stx'].copy()\n",
      "C:\\Users\\diogo\\AppData\\Local\\Temp\\ipykernel_6272\\2358594085.py:3: UserWarning: Boolean Series key will be reindexed to match DataFrame index.\n",
      "  filled_abj_data = filled_data[raw_data['model'] == 'abj'].copy()\n"
     ]
    },
    {
     "data": {
      "text/plain": [
       "Text(0.5, 1.0, 'abj')"
      ]
     },
     "execution_count": 50,
     "metadata": {},
     "output_type": "execute_result"
    },
    {
     "data": {
      "image/png": "[encoded data removed]",
      "text/plain": [
       "<Figure size 2000x600 with 3 Axes>"
      ]
     },
     "metadata": {},
     "output_type": "display_data"
    }
   ],
   "source": [
    "filled_std_data = filled_data[raw_data['model'] == 'std'].copy()\n",
    "filled_stx_data = filled_data[raw_data['model'] == 'stx'].copy()\n",
    "filled_abj_data = filled_data[raw_data['model'] == 'abj'].copy()\n",
    "fig, axes = plt.subplots(1, 3, figsize=(20, 6))\n",
    "plot_missing_values_per_mat_level(filled_std_data, ax=axes[0])\n",
    "axes[0].set_title('std')\n",
    "plot_missing_values_per_mat_level(filled_stx_data, ax=axes[1])\n",
    "axes[1].set_title('stx')\n",
    "plot_missing_values_per_mat_level(filled_abj_data, ax=axes[2])\n",
    "axes[2].set_title('abj')"
   ]
  },
  {
   "cell_type": "markdown",
   "id": "32b4bb00-fe34-4d14-8b0d-d0657f4482b6",
   "metadata": {},
   "source": [
    "## Number of samples depending on datasets used"
   ]
  },
  {
   "cell_type": "code",
   "execution_count": 30,
   "id": "cffddee1-97e9-4ca5-99ac-0bf2539aa394",
   "metadata": {},
   "outputs": [
    {
     "name": "stdout",
     "output_type": "stream",
     "text": [
      "28.4 % missing values in column ab\n",
      "91.3 % missing values in column ax\n",
      "96.2 % missing values in column aj\n",
      "60.9 % missing values in column ap\n",
      "1.1 % missing values in column am\n",
      "4.3 % missing values in column Wwb\n",
      "92.5 % missing values in column Wwx\n",
      "93.5 % missing values in column Wwj\n",
      "47.1 % missing values in column Wwp\n",
      "7.2 % missing values in column Wwi\n",
      "15.9 % missing values in column Ri\n"
     ]
    }
   ],
   "source": [
    "bijection_datasets = ['ab', 'ax', 'aj', 'ap', 'am', 'd_V', 'Wwb', 'Wwx', 'Wwj', 'Wwp', 'Wwi', 'Ri']\n",
    "print_missing_values_per_column(filled_data, columns=bijection_datasets)"
   ]
  },
  {
   "cell_type": "code",
   "execution_count": 63,
   "id": "589a0df1-4b87-4912-976c-56e7da001d1e",
   "metadata": {},
   "outputs": [],
   "source": [
    "abj_columns = ['E_Hj', 'Wwj', 'aj']\n",
    "stx_columns = ['E_Hx', 'Wwx', 'ax']\n",
    "def drop_species_with_missing_values(df):\n",
    "\n",
    "    # abj models\n",
    "    subset = [col for col in df.columns if col not in stx_columns]\n",
    "    print(len(subset), subset)\n",
    "    abj_df = df[df['metamorphosis']].dropna(subset=subset)\n",
    "\n",
    "    # stx models\n",
    "    subset = [col for col in df.columns if col not in abj_columns]\n",
    "    print(len(subset), subset)\n",
    "    stx_df = df[df['weaning']].dropna(subset=subset)\n",
    "    \n",
    "    # std models\n",
    "    subset = [col for col in df.columns if col not in abj_columns and col not in stx_columns]\n",
    "    print(len(subset), subset)\n",
    "    std_df = df[~df['weaning'] & ~df['metamorphosis']].dropna(subset=subset)\n",
    "    \n",
    "    filtered_df = pd.concat([abj_df, std_df, stx_df], axis=0)\n",
    "    \n",
    "    print('std', len(std_df), len(std_df)/len(filtered_df))\n",
    "    print('stx', len(stx_df), len(stx_df)/len(filtered_df))\n",
    "    print('abj', len(abj_df), len(abj_df)/len(filtered_df))\n",
    "    \n",
    "    return filtered_df"
   ]
  },
  {
   "cell_type": "code",
   "execution_count": 64,
   "id": "e73dc56f-412a-4e0e-b00d-58da5a0fceaf",
   "metadata": {},
   "outputs": [
    {
     "data": {
      "application/vnd.jupyter.widget-view+json": {
       "model_id": "a20079ab65784b9785ac3ae50a7ba0f0",
       "version_major": 2,
       "version_minor": 0
      },
      "text/plain": [
       "HBox(children=(Checkbox(value=True, description='ab'), Checkbox(value=True, description='ax'), Checkbox(value=…"
      ]
     },
     "metadata": {},
     "output_type": "display_data"
    },
    {
     "data": {
      "application/vnd.jupyter.widget-view+json": {
       "model_id": "5b42e010c9e74358b15a4861bb38dd96",
       "version_major": 2,
       "version_minor": 0
      },
      "text/plain": [
       "Output()"
      ]
     },
     "metadata": {},
     "output_type": "display_data"
    }
   ],
   "source": [
    "# Create a checkbox widget for each string in the list\n",
    "checkboxes = [widgets.Checkbox(value=True, description=col) for col in bijection_datasets]\n",
    "\n",
    "# Function to print the selected columns\n",
    "def print_selected_columns(**kwargs):\n",
    "    \n",
    "    selected_columns = [col for col, selected in kwargs.items() if selected] + ['metamorphosis', 'weaning', 'foetus']\n",
    "    sel_df = filled_data[selected_columns]\n",
    "    sel_df = drop_species_with_missing_values(sel_df)\n",
    "    print(len(sel_df))\n",
    "\n",
    "# Create an interactive widget to monitor the checkbox selections\n",
    "interactive_widget = widgets.interactive(print_selected_columns, **{col: checkbox for col, checkbox in zip(bijection_datasets, checkboxes)})\n",
    "\n",
    "# Display the widgets\n",
    "display(widgets.HBox(checkboxes), interactive_widget.children[-1])\n"
   ]
  },
  {
   "cell_type": "markdown",
   "id": "49dfc8bd-38d3-4308-9051-76870b7db1f8",
   "metadata": {},
   "source": [
    "## Number of samples depending on the datasets chosen for each maturity level"
   ]
  },
  {
   "cell_type": "code",
   "execution_count": 27,
   "id": "fee841f6-be91-41ad-8889-b53a68a0ae56",
   "metadata": {},
   "outputs": [
    {
     "data": {
      "text/html": [
       "<div>\n",
       "<style scoped>\n",
       "    .dataframe tbody tr th:only-of-type {\n",
       "        vertical-align: middle;\n",
       "    }\n",
       "\n",
       "    .dataframe tbody tr th {\n",
       "        vertical-align: top;\n",
       "    }\n",
       "\n",
       "    .dataframe thead th {\n",
       "        text-align: right;\n",
       "    }\n",
       "</style>\n",
       "<table border=\"1\" class=\"dataframe\">\n",
       "  <thead>\n",
       "    <tr style=\"text-align: right;\">\n",
       "      <th></th>\n",
       "      <th>b</th>\n",
       "      <th>bjx</th>\n",
       "      <th>p</th>\n",
       "      <th>n_samples</th>\n",
       "    </tr>\n",
       "  </thead>\n",
       "  <tbody>\n",
       "    <tr>\n",
       "      <th>4</th>\n",
       "      <td>weight</td>\n",
       "      <td>age</td>\n",
       "      <td>weight</td>\n",
       "      <td>1813</td>\n",
       "    </tr>\n",
       "    <tr>\n",
       "      <th>0</th>\n",
       "      <td>age</td>\n",
       "      <td>age</td>\n",
       "      <td>age</td>\n",
       "      <td>1605</td>\n",
       "    </tr>\n",
       "    <tr>\n",
       "      <th>3</th>\n",
       "      <td>weight</td>\n",
       "      <td>age</td>\n",
       "      <td>age</td>\n",
       "      <td>1592</td>\n",
       "    </tr>\n",
       "    <tr>\n",
       "      <th>6</th>\n",
       "      <td>both</td>\n",
       "      <td>age</td>\n",
       "      <td>age</td>\n",
       "      <td>1559</td>\n",
       "    </tr>\n",
       "    <tr>\n",
       "      <th>1</th>\n",
       "      <td>age</td>\n",
       "      <td>age</td>\n",
       "      <td>weight</td>\n",
       "      <td>1106</td>\n",
       "    </tr>\n",
       "    <tr>\n",
       "      <th>7</th>\n",
       "      <td>both</td>\n",
       "      <td>age</td>\n",
       "      <td>weight</td>\n",
       "      <td>1098</td>\n",
       "    </tr>\n",
       "    <tr>\n",
       "      <th>5</th>\n",
       "      <td>weight</td>\n",
       "      <td>age</td>\n",
       "      <td>both</td>\n",
       "      <td>485</td>\n",
       "    </tr>\n",
       "    <tr>\n",
       "      <th>2</th>\n",
       "      <td>age</td>\n",
       "      <td>age</td>\n",
       "      <td>both</td>\n",
       "      <td>478</td>\n",
       "    </tr>\n",
       "    <tr>\n",
       "      <th>8</th>\n",
       "      <td>both</td>\n",
       "      <td>age</td>\n",
       "      <td>both</td>\n",
       "      <td>470</td>\n",
       "    </tr>\n",
       "    <tr>\n",
       "      <th>9</th>\n",
       "      <td>NaN</td>\n",
       "      <td>NaN</td>\n",
       "      <td>NaN</td>\n",
       "      <td>NaN</td>\n",
       "    </tr>\n",
       "    <tr>\n",
       "      <th>10</th>\n",
       "      <td>NaN</td>\n",
       "      <td>NaN</td>\n",
       "      <td>NaN</td>\n",
       "      <td>NaN</td>\n",
       "    </tr>\n",
       "    <tr>\n",
       "      <th>11</th>\n",
       "      <td>NaN</td>\n",
       "      <td>NaN</td>\n",
       "      <td>NaN</td>\n",
       "      <td>NaN</td>\n",
       "    </tr>\n",
       "    <tr>\n",
       "      <th>12</th>\n",
       "      <td>NaN</td>\n",
       "      <td>NaN</td>\n",
       "      <td>NaN</td>\n",
       "      <td>NaN</td>\n",
       "    </tr>\n",
       "    <tr>\n",
       "      <th>13</th>\n",
       "      <td>NaN</td>\n",
       "      <td>NaN</td>\n",
       "      <td>NaN</td>\n",
       "      <td>NaN</td>\n",
       "    </tr>\n",
       "    <tr>\n",
       "      <th>14</th>\n",
       "      <td>NaN</td>\n",
       "      <td>NaN</td>\n",
       "      <td>NaN</td>\n",
       "      <td>NaN</td>\n",
       "    </tr>\n",
       "    <tr>\n",
       "      <th>15</th>\n",
       "      <td>NaN</td>\n",
       "      <td>NaN</td>\n",
       "      <td>NaN</td>\n",
       "      <td>NaN</td>\n",
       "    </tr>\n",
       "    <tr>\n",
       "      <th>16</th>\n",
       "      <td>NaN</td>\n",
       "      <td>NaN</td>\n",
       "      <td>NaN</td>\n",
       "      <td>NaN</td>\n",
       "    </tr>\n",
       "    <tr>\n",
       "      <th>17</th>\n",
       "      <td>NaN</td>\n",
       "      <td>NaN</td>\n",
       "      <td>NaN</td>\n",
       "      <td>NaN</td>\n",
       "    </tr>\n",
       "    <tr>\n",
       "      <th>18</th>\n",
       "      <td>NaN</td>\n",
       "      <td>NaN</td>\n",
       "      <td>NaN</td>\n",
       "      <td>NaN</td>\n",
       "    </tr>\n",
       "    <tr>\n",
       "      <th>19</th>\n",
       "      <td>NaN</td>\n",
       "      <td>NaN</td>\n",
       "      <td>NaN</td>\n",
       "      <td>NaN</td>\n",
       "    </tr>\n",
       "    <tr>\n",
       "      <th>20</th>\n",
       "      <td>NaN</td>\n",
       "      <td>NaN</td>\n",
       "      <td>NaN</td>\n",
       "      <td>NaN</td>\n",
       "    </tr>\n",
       "    <tr>\n",
       "      <th>21</th>\n",
       "      <td>NaN</td>\n",
       "      <td>NaN</td>\n",
       "      <td>NaN</td>\n",
       "      <td>NaN</td>\n",
       "    </tr>\n",
       "    <tr>\n",
       "      <th>22</th>\n",
       "      <td>NaN</td>\n",
       "      <td>NaN</td>\n",
       "      <td>NaN</td>\n",
       "      <td>NaN</td>\n",
       "    </tr>\n",
       "    <tr>\n",
       "      <th>23</th>\n",
       "      <td>NaN</td>\n",
       "      <td>NaN</td>\n",
       "      <td>NaN</td>\n",
       "      <td>NaN</td>\n",
       "    </tr>\n",
       "    <tr>\n",
       "      <th>24</th>\n",
       "      <td>NaN</td>\n",
       "      <td>NaN</td>\n",
       "      <td>NaN</td>\n",
       "      <td>NaN</td>\n",
       "    </tr>\n",
       "    <tr>\n",
       "      <th>25</th>\n",
       "      <td>NaN</td>\n",
       "      <td>NaN</td>\n",
       "      <td>NaN</td>\n",
       "      <td>NaN</td>\n",
       "    </tr>\n",
       "    <tr>\n",
       "      <th>26</th>\n",
       "      <td>NaN</td>\n",
       "      <td>NaN</td>\n",
       "      <td>NaN</td>\n",
       "      <td>NaN</td>\n",
       "    </tr>\n",
       "  </tbody>\n",
       "</table>\n",
       "</div>"
      ],
      "text/plain": [
       "         b  bjx       p n_samples\n",
       "4   weight  age  weight      1813\n",
       "0      age  age     age      1605\n",
       "3   weight  age     age      1592\n",
       "6     both  age     age      1559\n",
       "1      age  age  weight      1106\n",
       "7     both  age  weight      1098\n",
       "5   weight  age    both       485\n",
       "2      age  age    both       478\n",
       "8     both  age    both       470\n",
       "9      NaN  NaN     NaN       NaN\n",
       "10     NaN  NaN     NaN       NaN\n",
       "11     NaN  NaN     NaN       NaN\n",
       "12     NaN  NaN     NaN       NaN\n",
       "13     NaN  NaN     NaN       NaN\n",
       "14     NaN  NaN     NaN       NaN\n",
       "15     NaN  NaN     NaN       NaN\n",
       "16     NaN  NaN     NaN       NaN\n",
       "17     NaN  NaN     NaN       NaN\n",
       "18     NaN  NaN     NaN       NaN\n",
       "19     NaN  NaN     NaN       NaN\n",
       "20     NaN  NaN     NaN       NaN\n",
       "21     NaN  NaN     NaN       NaN\n",
       "22     NaN  NaN     NaN       NaN\n",
       "23     NaN  NaN     NaN       NaN\n",
       "24     NaN  NaN     NaN       NaN\n",
       "25     NaN  NaN     NaN       NaN\n",
       "26     NaN  NaN     NaN       NaN"
      ]
     },
     "execution_count": 27,
     "metadata": {},
     "output_type": "execute_result"
    }
   ],
   "source": [
    "n_samples_df = pd.DataFrame(columns=['b', 'bjx', 'p', 'n_samples'], index=range(3*3*3))\n",
    "base_cols = ['am', 'd_V', 'Wwi', 'Ri']\n",
    "i = 0\n",
    "\n",
    "def get_data_types(data_types):\n",
    "    if len(data_types) == 2:\n",
    "        return 'both'\n",
    "    elif data_types[0][0] == 'a':\n",
    "        return 'age'\n",
    "    else:\n",
    "        return 'weight'\n",
    "    \n",
    "\"\"\"for b_data in [['ab'], ['Wwb'], ['ab', 'Wwb']]:\n",
    "    for bjx_data in [['abjx'], ['Wwbjx'], ['abjx', 'Wwbjx']]:\n",
    "        for p_data in [['ap'], ['Wwp'], ['ap', 'Wwp']]:\n",
    "            n_samples_df.loc[i, 'b'] = get_data_types(b_data)\n",
    "            n_samples_df.loc[i, 'bjx'] = get_data_types(bjx_data)\n",
    "            n_samples_df.loc[i, 'p'] = get_data_types(p_data)\n",
    "            cols = base_cols + b_data + bjx_data + p_data\n",
    "            n_samples_df.loc[i, 'n_samples'] = len(filled_data[cols].dropna(how='any', axis=0))\n",
    "            i += 1\"\"\"\n",
    "for b_data in [['ab'], ['Wwb'], ['ab', 'Wwb']]:\n",
    "    for p_data in [['ap'], ['Wwp'], ['ap', 'Wwp']]:\n",
    "        n_samples_df.loc[i, 'b'] = get_data_types(b_data)\n",
    "        n_samples_df.loc[i, 'bjx'] = get_data_types(bjx_data)\n",
    "        n_samples_df.loc[i, 'p'] = get_data_types(p_data)\n",
    "        cols = base_cols + b_data + p_data\n",
    "        n_samples_df.loc[i, 'n_samples'] = len(filled_data[cols].dropna(how='any', axis=0))\n",
    "        i += 1\n",
    "\n",
    "n_samples_df.sort_values(by='n_samples', ascending=False)           "
   ]
  },
  {
   "cell_type": "markdown",
   "id": "321a2cc1-7a85-438c-9d9a-915f3c3cca66",
   "metadata": {},
   "source": [
    "## Taxonomy distribution"
   ]
  },
  {
   "cell_type": "code",
   "execution_count": null,
   "id": "5de95671-c3d0-460d-a64f-5aaa3ee1b184",
   "metadata": {},
   "outputs": [],
   "source": [
    "sns.df['class'].value_counts()"
   ]
  }
 ],
 "metadata": {
  "kernelspec": {
   "display_name": "Python 3 (ipykernel)",
   "language": "python",
   "name": "python3"
  },
  "language_info": {
   "codemirror_mode": {
    "name": "ipython",
    "version": 3
   },
   "file_extension": ".py",
   "mimetype": "text/x-python",
   "name": "python",
   "nbconvert_exporter": "python",
   "pygments_lexer": "ipython3",
   "version": "3.10.14"
  },
  "widgets": {
   "application/vnd.jupyter.widget-state+json": {
    "state": {
     "00196944c45447da9848ba29aad24c41": {
      "model_module": "@jupyter-widgets/output",
      "model_module_version": "1.0.0",
      "model_name": "OutputModel",
      "state": {
       "layout": "IPY_MODEL_c3a68418895846aabeefd53577528aea",
       "outputs": [
        {
         "name": "stdout",
         "output_type": "stream",
         "text": "470\n"
        }
       ]
      }
     },
     "016c9438d0054b73a1ff056f33948270": {
      "model_module": "@jupyter-widgets/base",
      "model_module_version": "2.0.0",
      "model_name": "LayoutModel",
      "state": {}
     },
     "018012b8a8a746cbad015effebd30d4c": {
      "model_module": "@jupyter-widgets/base",
      "model_module_version": "2.0.0",
      "model_name": "LayoutModel",
      "state": {}
     },
     "01ea84341a444f438a86a5bc1ca53630": {
      "model_module": "@jupyter-widgets/controls",
      "model_module_version": "2.0.0",
      "model_name": "HBoxModel",
      "state": {
       "children": [
        "IPY_MODEL_e08123b3d4e04f51a57b80d48370fe20",
        "IPY_MODEL_26d4b1d2d6d3461987abf893b0d69953",
        "IPY_MODEL_cdf48056800e44208d38b7fd7880a06e",
        "IPY_MODEL_2c33cfbfdf504c1b95d94ac308a3859c",
        "IPY_MODEL_74efe73414d44c85a90fbd0a08183f52",
        "IPY_MODEL_69e9933773c34369b0543926a2a1ba9d",
        "IPY_MODEL_88aad848168543ee96ec9884fcc2fb38",
        "IPY_MODEL_c878144ea2e94e4aaa253dd84b03bb79",
        "IPY_MODEL_e30faaeba0d84816885b446757d5f74a",
        "IPY_MODEL_c78d295d6cf84ee8a56d10de360ccb77",
        "IPY_MODEL_ebf5125509fc47298d91d2952836712d",
        "IPY_MODEL_f70ccced08094811961915ba95464f87"
       ],
       "layout": "IPY_MODEL_dbd4ef060bca418ea911566c5f8b747f"
      }
     },
     "0203695f4c224f1aa183ff4a2a467687": {
      "model_module": "@jupyter-widgets/output",
      "model_module_version": "1.0.0",
      "model_name": "OutputModel",
      "state": {
       "layout": "IPY_MODEL_6f3b219463d24e2ebafbaea6dfbc34a2",
       "outputs": [
        {
         "name": "stdout",
         "output_type": "stream",
         "text": "11 ['ab', 'aj', 'am', 'd_V', 'Wwb', 'Wwp', 'Wwi', 'Ri', 'metamorphosis', 'weaning', 'foetus']\n11 ['ab', 'ax', 'am', 'd_V', 'Wwb', 'Wwp', 'Wwi', 'Ri', 'metamorphosis', 'weaning', 'foetus']\n10 ['ab', 'am', 'd_V', 'Wwb', 'Wwp', 'Wwi', 'Ri', 'metamorphosis', 'weaning', 'foetus']\nstd 508\nstx 0\nabj 55\n563\n"
        }
       ]
      }
     },
     "02954637c2f641819a3e383911ae0f4f": {
      "model_module": "@jupyter-widgets/controls",
      "model_module_version": "2.0.0",
      "model_name": "CheckboxStyleModel",
      "state": {
       "description_width": ""
      }
     },
     "02bdec8dca464f8398b8a6b9bada476c": {
      "model_module": "@jupyter-widgets/controls",
      "model_module_version": "2.0.0",
      "model_name": "CheckboxStyleModel",
      "state": {
       "description_width": ""
      }
     },
     "03992d1072d34e8fac95001a73610096": {
      "model_module": "@jupyter-widgets/controls",
      "model_module_version": "2.0.0",
      "model_name": "CheckboxStyleModel",
      "state": {
       "description_width": ""
      }
     },
     "03fb5bc7b78e440bb60aa0abeb0ffda5": {
      "model_module": "@jupyter-widgets/controls",
      "model_module_version": "2.0.0",
      "model_name": "CheckboxStyleModel",
      "state": {
       "description_width": ""
      }
     },
     "04c6913b045b4aefb7694fbfbde203b1": {
      "model_module": "@jupyter-widgets/base",
      "model_module_version": "2.0.0",
      "model_name": "LayoutModel",
      "state": {}
     },
     "0570aaa041fd47c2a66cfdc952e0b14d": {
      "model_module": "@jupyter-widgets/controls",
      "model_module_version": "2.0.0",
      "model_name": "CheckboxModel",
      "state": {
       "description": "Wwi",
       "disabled": false,
       "layout": "IPY_MODEL_bf176ba8263043e784b817b621ec798c",
       "style": "IPY_MODEL_cd2d940bb45f48b18c8a730d1364bd55",
       "value": true
      }
     },
     "0680f7f0ba734848a988dc6709671b92": {
      "model_module": "@jupyter-widgets/controls",
      "model_module_version": "2.0.0",
      "model_name": "CheckboxStyleModel",
      "state": {
       "description_width": ""
      }
     },
     "083d12ebb2fe4fc082ff1dbf02b46626": {
      "model_module": "@jupyter-widgets/base",
      "model_module_version": "2.0.0",
      "model_name": "LayoutModel",
      "state": {}
     },
     "0847e007bb9d43e7ae48e9dfc66466a8": {
      "model_module": "@jupyter-widgets/base",
      "model_module_version": "2.0.0",
      "model_name": "LayoutModel",
      "state": {}
     },
     "084ded66d04c4460908c9d9e6da0eab1": {
      "model_module": "@jupyter-widgets/base",
      "model_module_version": "2.0.0",
      "model_name": "LayoutModel",
      "state": {}
     },
     "08d209948dcd47ee8c0c0018c55ed3a1": {
      "model_module": "@jupyter-widgets/controls",
      "model_module_version": "2.0.0",
      "model_name": "CheckboxStyleModel",
      "state": {
       "description_width": ""
      }
     },
     "08e95b26a37f41f2ad90a3931fb644fd": {
      "model_module": "@jupyter-widgets/controls",
      "model_module_version": "2.0.0",
      "model_name": "CheckboxModel",
      "state": {
       "description": "Wwx",
       "disabled": false,
       "layout": "IPY_MODEL_246382374de14e37b20d922371e6cc9b",
       "style": "IPY_MODEL_08d209948dcd47ee8c0c0018c55ed3a1",
       "value": false
      }
     },
     "09a00005a55a45ca963ed9ca7dca1bf1": {
      "model_module": "@jupyter-widgets/controls",
      "model_module_version": "2.0.0",
      "model_name": "CheckboxStyleModel",
      "state": {
       "description_width": ""
      }
     },
     "09acb5f8df594a6aa1aed7e89fc214d0": {
      "model_module": "@jupyter-widgets/base",
      "model_module_version": "2.0.0",
      "model_name": "LayoutModel",
      "state": {}
     },
     "0ac77252ac1941b4ba2194698e15034c": {
      "model_module": "@jupyter-widgets/controls",
      "model_module_version": "2.0.0",
      "model_name": "CheckboxModel",
      "state": {
       "description": "ap",
       "disabled": false,
       "layout": "IPY_MODEL_f13c7965ae0d48459547ca7f88509fdd",
       "style": "IPY_MODEL_85a5f7b86526497a89f8b2b8c6508f7b",
       "value": true
      }
     },
     "0bcbf07249fa41d48c0c78ace5513bf2": {
      "model_module": "@jupyter-widgets/controls",
      "model_module_version": "2.0.0",
      "model_name": "VBoxModel",
      "state": {
       "_dom_classes": [
        "widget-interact"
       ],
       "children": [
        "IPY_MODEL_e08123b3d4e04f51a57b80d48370fe20",
        "IPY_MODEL_26d4b1d2d6d3461987abf893b0d69953",
        "IPY_MODEL_cdf48056800e44208d38b7fd7880a06e",
        "IPY_MODEL_2c33cfbfdf504c1b95d94ac308a3859c",
        "IPY_MODEL_74efe73414d44c85a90fbd0a08183f52",
        "IPY_MODEL_69e9933773c34369b0543926a2a1ba9d",
        "IPY_MODEL_88aad848168543ee96ec9884fcc2fb38",
        "IPY_MODEL_c878144ea2e94e4aaa253dd84b03bb79",
        "IPY_MODEL_e30faaeba0d84816885b446757d5f74a",
        "IPY_MODEL_c78d295d6cf84ee8a56d10de360ccb77",
        "IPY_MODEL_ebf5125509fc47298d91d2952836712d",
        "IPY_MODEL_f70ccced08094811961915ba95464f87",
        "IPY_MODEL_9ec9f54f23d74aedb55e31a13efff1c5"
       ],
       "layout": "IPY_MODEL_69661b7f5dae485ba9a68b73ec01cae5"
      }
     },
     "0d2d3db93b434c629e02611bdbdbdfa1": {
      "model_module": "@jupyter-widgets/base",
      "model_module_version": "2.0.0",
      "model_name": "LayoutModel",
      "state": {}
     },
     "0dcac952462d4ab290feeb9f5b98ee0c": {
      "model_module": "@jupyter-widgets/base",
      "model_module_version": "2.0.0",
      "model_name": "LayoutModel",
      "state": {}
     },
     "0dfd95d63f884a6cb50641d742e9dfea": {
      "model_module": "@jupyter-widgets/base",
      "model_module_version": "2.0.0",
      "model_name": "LayoutModel",
      "state": {}
     },
     "0e341a1407e8430b815021ac630d1cf6": {
      "model_module": "@jupyter-widgets/base",
      "model_module_version": "2.0.0",
      "model_name": "LayoutModel",
      "state": {}
     },
     "0f2d69d9830045b7b51646d1ba5e6f18": {
      "model_module": "@jupyter-widgets/controls",
      "model_module_version": "2.0.0",
      "model_name": "CheckboxModel",
      "state": {
       "description": "Wwi",
       "disabled": false,
       "layout": "IPY_MODEL_2c2d5357a5204b45a5e007d27b0b13b0",
       "style": "IPY_MODEL_97fe94aea7a84f979ac07a05c8ec4f67",
       "value": true
      }
     },
     "101e0f89a03847b7b3d4b80fc3d60ffd": {
      "model_module": "@jupyter-widgets/output",
      "model_module_version": "1.0.0",
      "model_name": "OutputModel",
      "state": {
       "layout": "IPY_MODEL_61096bdc9e72408e908b5a6c2836a2c7",
       "outputs": [
        {
         "name": "stdout",
         "output_type": "stream",
         "text": "10 ['ab', 'ap', 'am', 'd_V', 'Wwb', 'Wwi', 'Ri', 'metamorphosis', 'weaning', 'foetus']\n10 ['ab', 'ap', 'am', 'd_V', 'Wwb', 'Wwi', 'Ri', 'metamorphosis', 'weaning', 'foetus']\n10 ['ab', 'ap', 'am', 'd_V', 'Wwb', 'Wwi', 'Ri', 'metamorphosis', 'weaning', 'foetus']\nstd 1365 0.29719137818419333\nstx 0 0.0\nabj 194 0.042238188547790115\n1559\n"
        }
       ]
      }
     },
     "11b46af762f4468da6b0967f04428e65": {
      "model_module": "@jupyter-widgets/controls",
      "model_module_version": "2.0.0",
      "model_name": "CheckboxStyleModel",
      "state": {
       "description_width": ""
      }
     },
     "12222f243aca412085d66504427dfc20": {
      "model_module": "@jupyter-widgets/controls",
      "model_module_version": "2.0.0",
      "model_name": "CheckboxModel",
      "state": {
       "description": "ab",
       "disabled": false,
       "layout": "IPY_MODEL_5374b0989c43437a81cb74781629cec9",
       "style": "IPY_MODEL_84ff9d7b23014f189cf24f8c718843b8",
       "value": true
      }
     },
     "12a0812a50ef41758d2af525f2c5d0c7": {
      "model_module": "@jupyter-widgets/controls",
      "model_module_version": "2.0.0",
      "model_name": "CheckboxStyleModel",
      "state": {
       "description_width": ""
      }
     },
     "12c71ae4764045da9a029f01e199d7ce": {
      "model_module": "@jupyter-widgets/controls",
      "model_module_version": "2.0.0",
      "model_name": "CheckboxStyleModel",
      "state": {
       "description_width": ""
      }
     },
     "133393bdf2a24a349679940b27870fbb": {
      "model_module": "@jupyter-widgets/base",
      "model_module_version": "2.0.0",
      "model_name": "LayoutModel",
      "state": {}
     },
     "1360ec3bb6124628baa4cdc2fe2f1c54": {
      "model_module": "@jupyter-widgets/controls",
      "model_module_version": "2.0.0",
      "model_name": "CheckboxModel",
      "state": {
       "description": "Ri",
       "disabled": false,
       "layout": "IPY_MODEL_43000334017148cca0c85646fe973564",
       "style": "IPY_MODEL_334c00ef35434a56823b951e640cd5a0",
       "value": true
      }
     },
     "143b4bc8c3d5489ab395bc766b32887d": {
      "model_module": "@jupyter-widgets/base",
      "model_module_version": "2.0.0",
      "model_name": "LayoutModel",
      "state": {}
     },
     "149caf38395e4facb0431c861ca7532d": {
      "model_module": "@jupyter-widgets/controls",
      "model_module_version": "2.0.0",
      "model_name": "CheckboxStyleModel",
      "state": {
       "description_width": ""
      }
     },
     "14b170b787c241b093ec59e65568be16": {
      "model_module": "@jupyter-widgets/controls",
      "model_module_version": "2.0.0",
      "model_name": "CheckboxStyleModel",
      "state": {
       "description_width": ""
      }
     },
     "1573f09bbecf4a52bf714a2e6f3495b7": {
      "model_module": "@jupyter-widgets/controls",
      "model_module_version": "2.0.0",
      "model_name": "CheckboxModel",
      "state": {
       "description": "Wwi",
       "disabled": false,
       "layout": "IPY_MODEL_e4ef07209675466b8421c23195e8606c",
       "style": "IPY_MODEL_87b2755e08a3458da0b50b533acb5dee",
       "value": true
      }
     },
     "15819a2dce4149849f0aad90b4bb8d80": {
      "model_module": "@jupyter-widgets/controls",
      "model_module_version": "2.0.0",
      "model_name": "CheckboxStyleModel",
      "state": {
       "description_width": ""
      }
     },
     "15d35b3fc3d34f9abd2099b010ec6087": {
      "model_module": "@jupyter-widgets/controls",
      "model_module_version": "2.0.0",
      "model_name": "CheckboxModel",
      "state": {
       "description": "ax",
       "disabled": false,
       "layout": "IPY_MODEL_c4d9895b1b244862bdb311e453f7e3af",
       "style": "IPY_MODEL_f5aaf22f11b34ca690567a5f8cbf01c0",
       "value": false
      }
     },
     "16055c869e41462292ede7a796fe9ff0": {
      "model_module": "@jupyter-widgets/controls",
      "model_module_version": "2.0.0",
      "model_name": "CheckboxStyleModel",
      "state": {
       "description_width": ""
      }
     },
     "1617d412a3184024b1b4e2e2246439ac": {
      "model_module": "@jupyter-widgets/controls",
      "model_module_version": "2.0.0",
      "model_name": "CheckboxStyleModel",
      "state": {
       "description_width": ""
      }
     },
     "170027d8764745da9b9da8871c23d6b7": {
      "model_module": "@jupyter-widgets/controls",
      "model_module_version": "2.0.0",
      "model_name": "CheckboxStyleModel",
      "state": {
       "description_width": ""
      }
     },
     "17a3a25eddbe4460b5ff934ee58eb781": {
      "model_module": "@jupyter-widgets/controls",
      "model_module_version": "2.0.0",
      "model_name": "CheckboxModel",
      "state": {
       "description": "Wwp",
       "disabled": false,
       "layout": "IPY_MODEL_b4e9c23f865c43dc8dc98e3bc29ac545",
       "style": "IPY_MODEL_9158bf46c0714b0daf0897fe027bd230",
       "value": true
      }
     },
     "17cedf9783d74d9fa60d274005a8bf53": {
      "model_module": "@jupyter-widgets/controls",
      "model_module_version": "2.0.0",
      "model_name": "CheckboxModel",
      "state": {
       "description": "am",
       "disabled": false,
       "layout": "IPY_MODEL_0847e007bb9d43e7ae48e9dfc66466a8",
       "style": "IPY_MODEL_5985b9cc7f4b468895a1a376f9304d9d",
       "value": true
      }
     },
     "1830e8ca64284c14924962096bbcf9ad": {
      "model_module": "@jupyter-widgets/controls",
      "model_module_version": "2.0.0",
      "model_name": "CheckboxStyleModel",
      "state": {
       "description_width": ""
      }
     },
     "184d16052ccf4e82bd1ae0b624ca135f": {
      "model_module": "@jupyter-widgets/controls",
      "model_module_version": "2.0.0",
      "model_name": "CheckboxModel",
      "state": {
       "description": "Ri",
       "disabled": false,
       "layout": "IPY_MODEL_4da2bfc176fa41d485e6f33ac8d7730c",
       "style": "IPY_MODEL_af0241b9c85e41f2870b5858c0018ada",
       "value": true
      }
     },
     "1864bc063a4543f7b8f8e0669bc362e8": {
      "model_module": "@jupyter-widgets/controls",
      "model_module_version": "2.0.0",
      "model_name": "CheckboxModel",
      "state": {
       "description": "ap",
       "disabled": false,
       "layout": "IPY_MODEL_c2e9e7185e3e43509156ac1b2879007d",
       "style": "IPY_MODEL_11b46af762f4468da6b0967f04428e65",
       "value": false
      }
     },
     "191ab0a66b3b4e9ab7158c460c53babe": {
      "model_module": "@jupyter-widgets/controls",
      "model_module_version": "2.0.0",
      "model_name": "CheckboxModel",
      "state": {
       "description": "am",
       "disabled": false,
       "layout": "IPY_MODEL_8cbaeead2b0646f4b17446a5eab59133",
       "style": "IPY_MODEL_a4f5028c8fa64be7892f533077340248",
       "value": true
      }
     },
     "19345bf74df74dbeaec03be3530c1b03": {
      "model_module": "@jupyter-widgets/base",
      "model_module_version": "2.0.0",
      "model_name": "LayoutModel",
      "state": {}
     },
     "1a0192364018414c85e3e8fc5f8597d5": {
      "model_module": "@jupyter-widgets/controls",
      "model_module_version": "2.0.0",
      "model_name": "CheckboxModel",
      "state": {
       "description": "ab",
       "disabled": false,
       "layout": "IPY_MODEL_e9eb163f091a428fb5a741153a579688",
       "style": "IPY_MODEL_e2c24cb8c78c4717946ec7722712b7c7",
       "value": true
      }
     },
     "1a0b5a981c274bae9ee5ace2476bda3a": {
      "model_module": "@jupyter-widgets/base",
      "model_module_version": "2.0.0",
      "model_name": "LayoutModel",
      "state": {}
     },
     "1a9cdd9802644e3da1e9e7dca45ea663": {
      "model_module": "@jupyter-widgets/controls",
      "model_module_version": "2.0.0",
      "model_name": "CheckboxStyleModel",
      "state": {
       "description_width": ""
      }
     },
     "1aaff1e974e941b08abfd8cc06e79d47": {
      "model_module": "@jupyter-widgets/controls",
      "model_module_version": "2.0.0",
      "model_name": "CheckboxModel",
      "state": {
       "description": "Wwj",
       "disabled": false,
       "layout": "IPY_MODEL_985f5a58eb254945a071568108be5310",
       "style": "IPY_MODEL_15819a2dce4149849f0aad90b4bb8d80",
       "value": false
      }
     },
     "1b3b1cbd70504308ab194a6a6a8c8959": {
      "model_module": "@jupyter-widgets/controls",
      "model_module_version": "2.0.0",
      "model_name": "CheckboxModel",
      "state": {
       "description": "Wwp",
       "disabled": false,
       "layout": "IPY_MODEL_45f45ea27c5746039f9863340c75b024",
       "style": "IPY_MODEL_149caf38395e4facb0431c861ca7532d",
       "value": true
      }
     },
     "1c8e086b4ef84a6cada700490e96b473": {
      "model_module": "@jupyter-widgets/controls",
      "model_module_version": "2.0.0",
      "model_name": "HBoxModel",
      "state": {
       "children": [
        "IPY_MODEL_9b86adb9ec07463da4565727d64061c5",
        "IPY_MODEL_531af5cf460646bebde022a08d555726",
        "IPY_MODEL_ba7792be115e48748f8c4c054cf5d792",
        "IPY_MODEL_6e1dea49eb22458396a37b1fc8f61388",
        "IPY_MODEL_191ab0a66b3b4e9ab7158c460c53babe",
        "IPY_MODEL_68f74b725b6e41b0927ef348c0f538a0",
        "IPY_MODEL_79d9a01fdbd24b7790f0c6ae3c5ccb58",
        "IPY_MODEL_5df707d8447b4056935c06367bd82853",
        "IPY_MODEL_1ca676e6a70e4b478aa1587e08d54755",
        "IPY_MODEL_3fa0ccef62634b9fbde3b9c4ac3d45e5",
        "IPY_MODEL_f5263c8f06db49bdb59bc0bc3a4200fc",
        "IPY_MODEL_d2ffc64fbf344f17baf63d169e9c8180"
       ],
       "layout": "IPY_MODEL_bc17372f51fb42d09798e9a6f15c28b0"
      }
     },
     "1ca676e6a70e4b478aa1587e08d54755": {
      "model_module": "@jupyter-widgets/controls",
      "model_module_version": "2.0.0",
      "model_name": "CheckboxModel",
      "state": {
       "description": "Wwj",
       "disabled": false,
       "layout": "IPY_MODEL_94050188a0514e079b5967e798a32f49",
       "style": "IPY_MODEL_db272263778c44f9ac0a1bb3b616eb92",
       "value": true
      }
     },
     "1d081ac8b34847b3b202f05fea0759de": {
      "model_module": "@jupyter-widgets/controls",
      "model_module_version": "2.0.0",
      "model_name": "CheckboxModel",
      "state": {
       "description": "Ri",
       "disabled": false,
       "layout": "IPY_MODEL_20616a5c0f57420ebd9116a3f6dff39d",
       "style": "IPY_MODEL_46b7bd9018a548d9b80e178f667a8fed",
       "value": true
      }
     },
     "1dfc9686054d4568ad44e37697f12124": {
      "model_module": "@jupyter-widgets/output",
      "model_module_version": "1.0.0",
      "model_name": "OutputModel",
      "state": {
       "layout": "IPY_MODEL_2e55d4be611341819ba5ee743227f047",
       "outputs": [
        {
         "ename": "NameError",
         "evalue": "name 'stx_columns' is not defined",
         "output_type": "error",
         "traceback": [
          "\u001b[1;31m---------------------------------------------------------------------------\u001b[0m",
          "\u001b[1;31mNameError\u001b[0m                                 Traceback (most recent call last)",
          "File \u001b[1;32m~\\miniconda3\\envs\\ml_bijection\\lib\\site-packages\\ipywidgets\\widgets\\interaction.py:240\u001b[0m, in \u001b[0;36minteractive.update\u001b[1;34m(self, *args)\u001b[0m\n\u001b[0;32m    238\u001b[0m     value \u001b[38;5;241m=\u001b[39m widget\u001b[38;5;241m.\u001b[39mget_interact_value()\n\u001b[0;32m    239\u001b[0m     \u001b[38;5;28mself\u001b[39m\u001b[38;5;241m.\u001b[39mkwargs[widget\u001b[38;5;241m.\u001b[39m_kwarg] \u001b[38;5;241m=\u001b[39m value\n\u001b[1;32m--> 240\u001b[0m \u001b[38;5;28mself\u001b[39m\u001b[38;5;241m.\u001b[39mresult \u001b[38;5;241m=\u001b[39m \u001b[38;5;28mself\u001b[39m\u001b[38;5;241m.\u001b[39mf(\u001b[38;5;241m*\u001b[39m\u001b[38;5;241m*\u001b[39m\u001b[38;5;28mself\u001b[39m\u001b[38;5;241m.\u001b[39mkwargs)\n\u001b[0;32m    241\u001b[0m show_inline_matplotlib_plots()\n\u001b[0;32m    242\u001b[0m \u001b[38;5;28;01mif\u001b[39;00m \u001b[38;5;28mself\u001b[39m\u001b[38;5;241m.\u001b[39mauto_display \u001b[38;5;129;01mand\u001b[39;00m \u001b[38;5;28mself\u001b[39m\u001b[38;5;241m.\u001b[39mresult \u001b[38;5;129;01mis\u001b[39;00m \u001b[38;5;129;01mnot\u001b[39;00m \u001b[38;5;28;01mNone\u001b[39;00m:\n",
          "Cell \u001b[1;32mIn[29], line 9\u001b[0m, in \u001b[0;36mprint_selected_columns\u001b[1;34m(**kwargs)\u001b[0m\n\u001b[0;32m      7\u001b[0m selected_columns \u001b[38;5;241m=\u001b[39m [col \u001b[38;5;28;01mfor\u001b[39;00m col, selected \u001b[38;5;129;01min\u001b[39;00m kwargs\u001b[38;5;241m.\u001b[39mitems() \u001b[38;5;28;01mif\u001b[39;00m selected]\n\u001b[0;32m      8\u001b[0m sel_df \u001b[38;5;241m=\u001b[39m filled_data[selected_columns]\n\u001b[1;32m----> 9\u001b[0m sel_df \u001b[38;5;241m=\u001b[39m \u001b[43mdrop_species_with_missing_values\u001b[49m\u001b[43m(\u001b[49m\u001b[43msel_df\u001b[49m\u001b[43m)\u001b[49m\n\u001b[0;32m     10\u001b[0m \u001b[38;5;28mprint\u001b[39m(\u001b[38;5;28mlen\u001b[39m(sel_df))\n",
          "Cell \u001b[1;32mIn[28], line 4\u001b[0m, in \u001b[0;36mdrop_species_with_missing_values\u001b[1;34m(df)\u001b[0m\n\u001b[0;32m      1\u001b[0m \u001b[38;5;28;01mdef\u001b[39;00m \u001b[38;5;21mdrop_species_with_missing_values\u001b[39m(df):\n\u001b[0;32m      2\u001b[0m \n\u001b[0;32m      3\u001b[0m     \u001b[38;5;66;03m# abj models\u001b[39;00m\n\u001b[1;32m----> 4\u001b[0m     subset \u001b[38;5;241m=\u001b[39m [col \u001b[38;5;28;01mfor\u001b[39;00m col \u001b[38;5;129;01min\u001b[39;00m df\u001b[38;5;241m.\u001b[39mcolumns \u001b[38;5;28;01mif\u001b[39;00m col \u001b[38;5;129;01mnot\u001b[39;00m \u001b[38;5;129;01min\u001b[39;00m stx_columns]\n\u001b[0;32m      5\u001b[0m     \u001b[38;5;66;03m#print(len(subset), subset)\u001b[39;00m\n\u001b[0;32m      6\u001b[0m     abj_df \u001b[38;5;241m=\u001b[39m df[df[\u001b[38;5;124m'\u001b[39m\u001b[38;5;124mmetamorphosis\u001b[39m\u001b[38;5;124m'\u001b[39m]]\u001b[38;5;241m.\u001b[39mdropna(subset\u001b[38;5;241m=\u001b[39msubset)\n",
          "Cell \u001b[1;32mIn[28], line 4\u001b[0m, in \u001b[0;36m<listcomp>\u001b[1;34m(.0)\u001b[0m\n\u001b[0;32m      1\u001b[0m \u001b[38;5;28;01mdef\u001b[39;00m \u001b[38;5;21mdrop_species_with_missing_values\u001b[39m(df):\n\u001b[0;32m      2\u001b[0m \n\u001b[0;32m      3\u001b[0m     \u001b[38;5;66;03m# abj models\u001b[39;00m\n\u001b[1;32m----> 4\u001b[0m     subset \u001b[38;5;241m=\u001b[39m [col \u001b[38;5;28;01mfor\u001b[39;00m col \u001b[38;5;129;01min\u001b[39;00m df\u001b[38;5;241m.\u001b[39mcolumns \u001b[38;5;28;01mif\u001b[39;00m col \u001b[38;5;129;01mnot\u001b[39;00m \u001b[38;5;129;01min\u001b[39;00m \u001b[43mstx_columns\u001b[49m]\n\u001b[0;32m      5\u001b[0m     \u001b[38;5;66;03m#print(len(subset), subset)\u001b[39;00m\n\u001b[0;32m      6\u001b[0m     abj_df \u001b[38;5;241m=\u001b[39m df[df[\u001b[38;5;124m'\u001b[39m\u001b[38;5;124mmetamorphosis\u001b[39m\u001b[38;5;124m'\u001b[39m]]\u001b[38;5;241m.\u001b[39mdropna(subset\u001b[38;5;241m=\u001b[39msubset)\n",
          "\u001b[1;31mNameError\u001b[0m: name 'stx_columns' is not defined"
         ]
        }
       ]
      }
     },
     "204b409279544a058a3a13ba1e4534e0": {
      "model_module": "@jupyter-widgets/output",
      "model_module_version": "1.0.0",
      "model_name": "OutputModel",
      "state": {
       "layout": "IPY_MODEL_9f9e1d22d08d44eebf23cd33c5bb4a14",
       "outputs": [
        {
         "ename": "NameError",
         "evalue": "name 'stx_columns' is not defined",
         "output_type": "error",
         "traceback": [
          "\u001b[1;31m---------------------------------------------------------------------------\u001b[0m",
          "\u001b[1;31mNameError\u001b[0m                                 Traceback (most recent call last)",
          "File \u001b[1;32m~\\miniconda3\\envs\\ml_bijection\\lib\\site-packages\\ipywidgets\\widgets\\interaction.py:240\u001b[0m, in \u001b[0;36minteractive.update\u001b[1;34m(self, *args)\u001b[0m\n\u001b[0;32m    238\u001b[0m     value \u001b[38;5;241m=\u001b[39m widget\u001b[38;5;241m.\u001b[39mget_interact_value()\n\u001b[0;32m    239\u001b[0m     \u001b[38;5;28mself\u001b[39m\u001b[38;5;241m.\u001b[39mkwargs[widget\u001b[38;5;241m.\u001b[39m_kwarg] \u001b[38;5;241m=\u001b[39m value\n\u001b[1;32m--> 240\u001b[0m \u001b[38;5;28mself\u001b[39m\u001b[38;5;241m.\u001b[39mresult \u001b[38;5;241m=\u001b[39m \u001b[38;5;28mself\u001b[39m\u001b[38;5;241m.\u001b[39mf(\u001b[38;5;241m*\u001b[39m\u001b[38;5;241m*\u001b[39m\u001b[38;5;28mself\u001b[39m\u001b[38;5;241m.\u001b[39mkwargs)\n\u001b[0;32m    241\u001b[0m show_inline_matplotlib_plots()\n\u001b[0;32m    242\u001b[0m \u001b[38;5;28;01mif\u001b[39;00m \u001b[38;5;28mself\u001b[39m\u001b[38;5;241m.\u001b[39mauto_display \u001b[38;5;129;01mand\u001b[39;00m \u001b[38;5;28mself\u001b[39m\u001b[38;5;241m.\u001b[39mresult \u001b[38;5;129;01mis\u001b[39;00m \u001b[38;5;129;01mnot\u001b[39;00m \u001b[38;5;28;01mNone\u001b[39;00m:\n",
          "Cell \u001b[1;32mIn[32], line 9\u001b[0m, in \u001b[0;36mprint_selected_columns\u001b[1;34m(**kwargs)\u001b[0m\n\u001b[0;32m      7\u001b[0m selected_columns \u001b[38;5;241m=\u001b[39m [col \u001b[38;5;28;01mfor\u001b[39;00m col, selected \u001b[38;5;129;01min\u001b[39;00m kwargs\u001b[38;5;241m.\u001b[39mitems() \u001b[38;5;28;01mif\u001b[39;00m selected]\n\u001b[0;32m      8\u001b[0m sel_df \u001b[38;5;241m=\u001b[39m filled_data[selected_columns]\n\u001b[1;32m----> 9\u001b[0m sel_df \u001b[38;5;241m=\u001b[39m \u001b[43mdrop_species_with_missing_values\u001b[49m\u001b[43m(\u001b[49m\u001b[43msel_df\u001b[49m\u001b[43m)\u001b[49m\n\u001b[0;32m     10\u001b[0m \u001b[38;5;28mprint\u001b[39m(\u001b[38;5;28mlen\u001b[39m(sel_df))\n",
          "Cell \u001b[1;32mIn[31], line 4\u001b[0m, in \u001b[0;36mdrop_species_with_missing_values\u001b[1;34m(df)\u001b[0m\n\u001b[0;32m      1\u001b[0m \u001b[38;5;28;01mdef\u001b[39;00m \u001b[38;5;21mdrop_species_with_missing_values\u001b[39m(df):\n\u001b[0;32m      2\u001b[0m \n\u001b[0;32m      3\u001b[0m     \u001b[38;5;66;03m# abj models\u001b[39;00m\n\u001b[1;32m----> 4\u001b[0m     subset \u001b[38;5;241m=\u001b[39m [col \u001b[38;5;28;01mfor\u001b[39;00m col \u001b[38;5;129;01min\u001b[39;00m df\u001b[38;5;241m.\u001b[39mcolumns \u001b[38;5;28;01mif\u001b[39;00m col \u001b[38;5;129;01mnot\u001b[39;00m \u001b[38;5;129;01min\u001b[39;00m stx_columns]\n\u001b[0;32m      5\u001b[0m     \u001b[38;5;66;03m#print(len(subset), subset)\u001b[39;00m\n\u001b[0;32m      6\u001b[0m     abj_df \u001b[38;5;241m=\u001b[39m df[df[\u001b[38;5;124m'\u001b[39m\u001b[38;5;124mmetamorphosis\u001b[39m\u001b[38;5;124m'\u001b[39m]]\u001b[38;5;241m.\u001b[39mdropna(subset\u001b[38;5;241m=\u001b[39msubset)\n",
          "Cell \u001b[1;32mIn[31], line 4\u001b[0m, in \u001b[0;36m<listcomp>\u001b[1;34m(.0)\u001b[0m\n\u001b[0;32m      1\u001b[0m \u001b[38;5;28;01mdef\u001b[39;00m \u001b[38;5;21mdrop_species_with_missing_values\u001b[39m(df):\n\u001b[0;32m      2\u001b[0m \n\u001b[0;32m      3\u001b[0m     \u001b[38;5;66;03m# abj models\u001b[39;00m\n\u001b[1;32m----> 4\u001b[0m     subset \u001b[38;5;241m=\u001b[39m [col \u001b[38;5;28;01mfor\u001b[39;00m col \u001b[38;5;129;01min\u001b[39;00m df\u001b[38;5;241m.\u001b[39mcolumns \u001b[38;5;28;01mif\u001b[39;00m col \u001b[38;5;129;01mnot\u001b[39;00m \u001b[38;5;129;01min\u001b[39;00m \u001b[43mstx_columns\u001b[49m]\n\u001b[0;32m      5\u001b[0m     \u001b[38;5;66;03m#print(len(subset), subset)\u001b[39;00m\n\u001b[0;32m      6\u001b[0m     abj_df \u001b[38;5;241m=\u001b[39m df[df[\u001b[38;5;124m'\u001b[39m\u001b[38;5;124mmetamorphosis\u001b[39m\u001b[38;5;124m'\u001b[39m]]\u001b[38;5;241m.\u001b[39mdropna(subset\u001b[38;5;241m=\u001b[39msubset)\n",
          "\u001b[1;31mNameError\u001b[0m: name 'stx_columns' is not defined"
         ]
        }
       ]
      }
     },
     "20616a5c0f57420ebd9116a3f6dff39d": {
      "model_module": "@jupyter-widgets/base",
      "model_module_version": "2.0.0",
      "model_name": "LayoutModel",
      "state": {}
     },
     "20b7315a21344b8aa574f580d9ea28f4": {
      "model_module": "@jupyter-widgets/controls",
      "model_module_version": "2.0.0",
      "model_name": "CheckboxModel",
      "state": {
       "description": "d_V",
       "disabled": false,
       "layout": "IPY_MODEL_1a0b5a981c274bae9ee5ace2476bda3a",
       "style": "IPY_MODEL_4de6e23f1f0541f79788e1879d64de9a",
       "value": true
      }
     },
     "20b8e511bba14952b742dcc7840594d1": {
      "model_module": "@jupyter-widgets/controls",
      "model_module_version": "2.0.0",
      "model_name": "CheckboxStyleModel",
      "state": {
       "description_width": ""
      }
     },
     "20fffc9a596744ac9715dd1f34411220": {
      "model_module": "@jupyter-widgets/controls",
      "model_module_version": "2.0.0",
      "model_name": "CheckboxStyleModel",
      "state": {
       "description_width": ""
      }
     },
     "21d03a98858c4f1fb1b881d4bb2e161b": {
      "model_module": "@jupyter-widgets/controls",
      "model_module_version": "2.0.0",
      "model_name": "CheckboxModel",
      "state": {
       "description": "d_V",
       "disabled": false,
       "layout": "IPY_MODEL_336bef058f05479597a075548975b1e1",
       "style": "IPY_MODEL_170027d8764745da9b9da8871c23d6b7",
       "value": true
      }
     },
     "231788b69f9a45c5b2f7d06ba2241ce6": {
      "model_module": "@jupyter-widgets/base",
      "model_module_version": "2.0.0",
      "model_name": "LayoutModel",
      "state": {}
     },
     "2365d7e0fa99467b8d5e0ce802674091": {
      "model_module": "@jupyter-widgets/base",
      "model_module_version": "2.0.0",
      "model_name": "LayoutModel",
      "state": {}
     },
     "246382374de14e37b20d922371e6cc9b": {
      "model_module": "@jupyter-widgets/base",
      "model_module_version": "2.0.0",
      "model_name": "LayoutModel",
      "state": {}
     },
     "24a25a66577a4a2db5fecc97b089412f": {
      "model_module": "@jupyter-widgets/controls",
      "model_module_version": "2.0.0",
      "model_name": "CheckboxStyleModel",
      "state": {
       "description_width": ""
      }
     },
     "24c07b4881854753bc2535972d16897a": {
      "model_module": "@jupyter-widgets/base",
      "model_module_version": "2.0.0",
      "model_name": "LayoutModel",
      "state": {}
     },
     "24c14b93bd154ca4bc936699beab66e8": {
      "model_module": "@jupyter-widgets/base",
      "model_module_version": "2.0.0",
      "model_name": "LayoutModel",
      "state": {}
     },
     "254459c6999246ee82464723fb1ec4f2": {
      "model_module": "@jupyter-widgets/controls",
      "model_module_version": "2.0.0",
      "model_name": "CheckboxModel",
      "state": {
       "description": "am",
       "disabled": false,
       "layout": "IPY_MODEL_986d3395cf4a4316afd7809350487652",
       "style": "IPY_MODEL_6ddebb633df34138860b84c3353eaa70",
       "value": true
      }
     },
     "25863a5297494259bc86d1a74a934cd5": {
      "model_module": "@jupyter-widgets/base",
      "model_module_version": "2.0.0",
      "model_name": "LayoutModel",
      "state": {}
     },
     "2625c63445d843de9ee4b92aed163092": {
      "model_module": "@jupyter-widgets/controls",
      "model_module_version": "2.0.0",
      "model_name": "CheckboxStyleModel",
      "state": {
       "description_width": ""
      }
     },
     "265d0f539313482194ec9b35436a25ff": {
      "model_module": "@jupyter-widgets/controls",
      "model_module_version": "2.0.0",
      "model_name": "CheckboxModel",
      "state": {
       "description": "Ri",
       "disabled": false,
       "layout": "IPY_MODEL_a32127692e34480e8aa7c04433fdd270",
       "style": "IPY_MODEL_a9f3131bbe0a4247a896484bdd16cc2e",
       "value": true
      }
     },
     "2678fd7094484ea8b15e30ee5dac5953": {
      "model_module": "@jupyter-widgets/controls",
      "model_module_version": "2.0.0",
      "model_name": "CheckboxModel",
      "state": {
       "description": "d_V",
       "disabled": false,
       "layout": "IPY_MODEL_e27d38bba5114d7ba15fa72731cfe65f",
       "style": "IPY_MODEL_381c3bab0e714c88946e379fbdcff267",
       "value": true
      }
     },
     "26d4b1d2d6d3461987abf893b0d69953": {
      "model_module": "@jupyter-widgets/controls",
      "model_module_version": "2.0.0",
      "model_name": "CheckboxModel",
      "state": {
       "description": "ax",
       "disabled": false,
       "layout": "IPY_MODEL_d7d60a689730434ab074a936fae0ef4c",
       "style": "IPY_MODEL_2be5c79bb4024a0baeb45803e882eb18",
       "value": false
      }
     },
     "295439e263634d5fac55ac0f150dfe4c": {
      "model_module": "@jupyter-widgets/base",
      "model_module_version": "2.0.0",
      "model_name": "LayoutModel",
      "state": {}
     },
     "2a30b32c997243f7ad6f5602af230639": {
      "model_module": "@jupyter-widgets/base",
      "model_module_version": "2.0.0",
      "model_name": "LayoutModel",
      "state": {}
     },
     "2a3cd3500f054892acf5cd1f83c881d8": {
      "model_module": "@jupyter-widgets/controls",
      "model_module_version": "2.0.0",
      "model_name": "CheckboxModel",
      "state": {
       "description": "Wwb",
       "disabled": false,
       "layout": "IPY_MODEL_43cb7997e66d47f9bc94844cdf4f6c86",
       "style": "IPY_MODEL_a819acc113554bdfbe9bfd8dc781c155",
       "value": true
      }
     },
     "2a46719aadfd4702a3f5bd184c97dcfe": {
      "model_module": "@jupyter-widgets/controls",
      "model_module_version": "2.0.0",
      "model_name": "CheckboxStyleModel",
      "state": {
       "description_width": ""
      }
     },
     "2a9eae7be1df4afc91397f5ee8308787": {
      "model_module": "@jupyter-widgets/base",
      "model_module_version": "2.0.0",
      "model_name": "LayoutModel",
      "state": {}
     },
     "2b7c1bf3939646299bb95f0577aaf21c": {
      "model_module": "@jupyter-widgets/output",
      "model_module_version": "1.0.0",
      "model_name": "OutputModel",
      "state": {
       "layout": "IPY_MODEL_24c14b93bd154ca4bc936699beab66e8",
       "outputs": [
        {
         "name": "stdout",
         "output_type": "stream",
         "text": "11 ['ab', 'ap', 'am', 'd_V', 'Wwb', 'Wwp', 'Wwi', 'Ri', 'metamorphosis', 'weaning', 'foetus']\n11 ['ab', 'ap', 'am', 'd_V', 'Wwb', 'Wwp', 'Wwi', 'Ri', 'metamorphosis', 'weaning', 'foetus']\n11 ['ab', 'ap', 'am', 'd_V', 'Wwb', 'Wwp', 'Wwi', 'Ri', 'metamorphosis', 'weaning', 'foetus']\n470\n"
        }
       ]
      }
     },
     "2bab48d504684da7864e2ff8351b849e": {
      "model_module": "@jupyter-widgets/base",
      "model_module_version": "2.0.0",
      "model_name": "LayoutModel",
      "state": {}
     },
     "2bbd279d89014791aa6e4aacdab2ac7c": {
      "model_module": "@jupyter-widgets/controls",
      "model_module_version": "2.0.0",
      "model_name": "CheckboxStyleModel",
      "state": {
       "description_width": ""
      }
     },
     "2be5c79bb4024a0baeb45803e882eb18": {
      "model_module": "@jupyter-widgets/controls",
      "model_module_version": "2.0.0",
      "model_name": "CheckboxStyleModel",
      "state": {
       "description_width": ""
      }
     },
     "2bf75a9da69a4818abe44343f36002c1": {
      "model_module": "@jupyter-widgets/controls",
      "model_module_version": "2.0.0",
      "model_name": "VBoxModel",
      "state": {
       "_dom_classes": [
        "widget-interact"
       ],
       "children": [
        "IPY_MODEL_39893e6891ee4ab9b163d3d7a129ba53",
        "IPY_MODEL_81aaef9cb720436bb5edfcd42799ecbe",
        "IPY_MODEL_254459c6999246ee82464723fb1ec4f2",
        "IPY_MODEL_6fb9fd30740b480cae79ce03ccfa90d8",
        "IPY_MODEL_7cf6c688f17147cc9ad3ef3a74699afd",
        "IPY_MODEL_7dde307a943e4b519130d39accfc12f7",
        "IPY_MODEL_0570aaa041fd47c2a66cfdc952e0b14d",
        "IPY_MODEL_fc3f1f22c4e049d0935748c23723e557",
        "IPY_MODEL_fe073d2eb2a54e8abe7513e7be3885e8"
       ],
       "layout": "IPY_MODEL_b68587c845854f0c86a126a1d3ee14cf"
      }
     },
     "2c2d5357a5204b45a5e007d27b0b13b0": {
      "model_module": "@jupyter-widgets/base",
      "model_module_version": "2.0.0",
      "model_name": "LayoutModel",
      "state": {}
     },
     "2c33cfbfdf504c1b95d94ac308a3859c": {
      "model_module": "@jupyter-widgets/controls",
      "model_module_version": "2.0.0",
      "model_name": "CheckboxModel",
      "state": {
       "description": "ap",
       "disabled": false,
       "layout": "IPY_MODEL_b19672bd81834ed0914e3bf1953bb015",
       "style": "IPY_MODEL_3a6b4afa90b04bfb954158f8b454d45f",
       "value": true
      }
     },
     "2c3c930120eb45cda195e8d7753f7dc2": {
      "model_module": "@jupyter-widgets/base",
      "model_module_version": "2.0.0",
      "model_name": "LayoutModel",
      "state": {}
     },
     "2c52187ec900471dbe9632a160286e46": {
      "model_module": "@jupyter-widgets/controls",
      "model_module_version": "2.0.0",
      "model_name": "CheckboxStyleModel",
      "state": {
       "description_width": ""
      }
     },
     "2cd5c1d62963433894413552490f68d4": {
      "model_module": "@jupyter-widgets/controls",
      "model_module_version": "2.0.0",
      "model_name": "CheckboxStyleModel",
      "state": {
       "description_width": ""
      }
     },
     "2dc4c30d9884432b83ae98df831b04f1": {
      "model_module": "@jupyter-widgets/controls",
      "model_module_version": "2.0.0",
      "model_name": "CheckboxStyleModel",
      "state": {
       "description_width": ""
      }
     },
     "2dfdc3aec8fa485cb37237ca8cb84a2c": {
      "model_module": "@jupyter-widgets/controls",
      "model_module_version": "2.0.0",
      "model_name": "CheckboxStyleModel",
      "state": {
       "description_width": ""
      }
     },
     "2e184a52266e48988a48d3c4e7cae3ed": {
      "model_module": "@jupyter-widgets/base",
      "model_module_version": "2.0.0",
      "model_name": "LayoutModel",
      "state": {}
     },
     "2e55d4be611341819ba5ee743227f047": {
      "model_module": "@jupyter-widgets/base",
      "model_module_version": "2.0.0",
      "model_name": "LayoutModel",
      "state": {}
     },
     "2e600486fabe4beca3f9c6fa80f40a40": {
      "model_module": "@jupyter-widgets/controls",
      "model_module_version": "2.0.0",
      "model_name": "CheckboxStyleModel",
      "state": {
       "description_width": ""
      }
     },
     "2e8cbaf473aa451cbe53bdba18f016fb": {
      "model_module": "@jupyter-widgets/base",
      "model_module_version": "2.0.0",
      "model_name": "LayoutModel",
      "state": {}
     },
     "2f73fbdd9e91461ab59684b1aaf7f963": {
      "model_module": "@jupyter-widgets/base",
      "model_module_version": "2.0.0",
      "model_name": "LayoutModel",
      "state": {}
     },
     "3001477bf17449f884049a2d7d870292": {
      "model_module": "@jupyter-widgets/base",
      "model_module_version": "2.0.0",
      "model_name": "LayoutModel",
      "state": {}
     },
     "30812a43b90c440fbf8961fae7a7753f": {
      "model_module": "@jupyter-widgets/base",
      "model_module_version": "2.0.0",
      "model_name": "LayoutModel",
      "state": {}
     },
     "30a21628bec945238673dd0927c34850": {
      "model_module": "@jupyter-widgets/base",
      "model_module_version": "2.0.0",
      "model_name": "LayoutModel",
      "state": {}
     },
     "31bdf7475ee1458b800a1d609d4b429b": {
      "model_module": "@jupyter-widgets/controls",
      "model_module_version": "2.0.0",
      "model_name": "CheckboxStyleModel",
      "state": {
       "description_width": ""
      }
     },
     "3202496955a645aeb0497b5d42616180": {
      "model_module": "@jupyter-widgets/controls",
      "model_module_version": "2.0.0",
      "model_name": "CheckboxModel",
      "state": {
       "description": "Wwx",
       "disabled": false,
       "layout": "IPY_MODEL_95542c6f8e374e99b8d12732d37303dd",
       "style": "IPY_MODEL_98a176f502df453793edb74c606a7e15",
       "value": false
      }
     },
     "3286324aabe84aec84ba07f0ed636bdf": {
      "model_module": "@jupyter-widgets/base",
      "model_module_version": "2.0.0",
      "model_name": "LayoutModel",
      "state": {}
     },
     "334c00ef35434a56823b951e640cd5a0": {
      "model_module": "@jupyter-widgets/controls",
      "model_module_version": "2.0.0",
      "model_name": "CheckboxStyleModel",
      "state": {
       "description_width": ""
      }
     },
     "336bef058f05479597a075548975b1e1": {
      "model_module": "@jupyter-widgets/base",
      "model_module_version": "2.0.0",
      "model_name": "LayoutModel",
      "state": {}
     },
     "33d6db5793ad4c0dbdc0d894db75c2a6": {
      "model_module": "@jupyter-widgets/controls",
      "model_module_version": "2.0.0",
      "model_name": "CheckboxModel",
      "state": {
       "description": "Ri",
       "disabled": false,
       "layout": "IPY_MODEL_2bab48d504684da7864e2ff8351b849e",
       "style": "IPY_MODEL_a15ad6d8f28a43cc9a80f05b5f60b427",
       "value": true
      }
     },
     "34def0056f1d4a119c93843332ea2acd": {
      "model_module": "@jupyter-widgets/base",
      "model_module_version": "2.0.0",
      "model_name": "LayoutModel",
      "state": {}
     },
     "35898c07019a454aa20f45389ad9bbda": {
      "model_module": "@jupyter-widgets/controls",
      "model_module_version": "2.0.0",
      "model_name": "CheckboxModel",
      "state": {
       "description": "Wwj",
       "disabled": false,
       "layout": "IPY_MODEL_24c07b4881854753bc2535972d16897a",
       "style": "IPY_MODEL_604fc10e691a43fa8c07efdb3a1cdccb",
       "value": false
      }
     },
     "362166a60f4f428b956f4e8e8292a9f6": {
      "model_module": "@jupyter-widgets/controls",
      "model_module_version": "2.0.0",
      "model_name": "CheckboxStyleModel",
      "state": {
       "description_width": ""
      }
     },
     "36c265698e334fbcb2929ad47867cc78": {
      "model_module": "@jupyter-widgets/controls",
      "model_module_version": "2.0.0",
      "model_name": "CheckboxStyleModel",
      "state": {
       "description_width": ""
      }
     },
     "375eaf4c9105469093330f090c5f7886": {
      "model_module": "@jupyter-widgets/base",
      "model_module_version": "2.0.0",
      "model_name": "LayoutModel",
      "state": {}
     },
     "37ef71c3586b44c3b29506d0108fca31": {
      "model_module": "@jupyter-widgets/controls",
      "model_module_version": "2.0.0",
      "model_name": "CheckboxStyleModel",
      "state": {
       "description_width": ""
      }
     },
     "381c3bab0e714c88946e379fbdcff267": {
      "model_module": "@jupyter-widgets/controls",
      "model_module_version": "2.0.0",
      "model_name": "CheckboxStyleModel",
      "state": {
       "description_width": ""
      }
     },
     "382fbe184f424df597754141f33a8ecb": {
      "model_module": "@jupyter-widgets/controls",
      "model_module_version": "2.0.0",
      "model_name": "CheckboxModel",
      "state": {
       "description": "ab",
       "disabled": false,
       "layout": "IPY_MODEL_3001477bf17449f884049a2d7d870292",
       "style": "IPY_MODEL_2a46719aadfd4702a3f5bd184c97dcfe",
       "value": true
      }
     },
     "38468fb34f9b42f79dec21fe55fec0a1": {
      "model_module": "@jupyter-widgets/controls",
      "model_module_version": "2.0.0",
      "model_name": "CheckboxStyleModel",
      "state": {
       "description_width": ""
      }
     },
     "39893e6891ee4ab9b163d3d7a129ba53": {
      "model_module": "@jupyter-widgets/controls",
      "model_module_version": "2.0.0",
      "model_name": "CheckboxModel",
      "state": {
       "description": "ab",
       "disabled": false,
       "layout": "IPY_MODEL_c74ce7eacf5746bea4264a5dba62d830",
       "style": "IPY_MODEL_4521f1e88e9e4f53b32a38443bfaa049",
       "value": true
      }
     },
     "39e698c71a3e40ea891604fed59fa3a3": {
      "model_module": "@jupyter-widgets/controls",
      "model_module_version": "2.0.0",
      "model_name": "CheckboxModel",
      "state": {
       "description": "ab",
       "disabled": false,
       "layout": "IPY_MODEL_ef6f6e290eea4bbd9525e7784531e22b",
       "style": "IPY_MODEL_4558f84e22b64fc6a3aa608ec0a4d299",
       "value": true
      }
     },
     "3a1ed332732e4dc0bbcf78a7adf3b796": {
      "model_module": "@jupyter-widgets/base",
      "model_module_version": "2.0.0",
      "model_name": "LayoutModel",
      "state": {}
     },
     "3a1f57002c81449f9992cb3aa16c6c6e": {
      "model_module": "@jupyter-widgets/controls",
      "model_module_version": "2.0.0",
      "model_name": "CheckboxModel",
      "state": {
       "description": "aj",
       "disabled": false,
       "layout": "IPY_MODEL_a0ed76d8503e41728178645918f065b9",
       "style": "IPY_MODEL_a574e8128c0e4529adc98706894ca64e",
       "value": true
      }
     },
     "3a22de561ed247c3ac3497a658974c37": {
      "model_module": "@jupyter-widgets/controls",
      "model_module_version": "2.0.0",
      "model_name": "CheckboxStyleModel",
      "state": {
       "description_width": ""
      }
     },
     "3a6b4afa90b04bfb954158f8b454d45f": {
      "model_module": "@jupyter-widgets/controls",
      "model_module_version": "2.0.0",
      "model_name": "CheckboxStyleModel",
      "state": {
       "description_width": ""
      }
     },
     "3a89594cafdf4252bb0c72273592f827": {
      "model_module": "@jupyter-widgets/base",
      "model_module_version": "2.0.0",
      "model_name": "LayoutModel",
      "state": {}
     },
     "3abd351ddcb64c269cdc394201b83692": {
      "model_module": "@jupyter-widgets/base",
      "model_module_version": "2.0.0",
      "model_name": "LayoutModel",
      "state": {}
     },
     "3ad9feb310f44322807bea48b79e1faa": {
      "model_module": "@jupyter-widgets/controls",
      "model_module_version": "2.0.0",
      "model_name": "VBoxModel",
      "state": {
       "_dom_classes": [
        "widget-interact"
       ],
       "children": [
        "IPY_MODEL_ec223921f2fd40a08e886ebf8815952c",
        "IPY_MODEL_e5fe82cbf40a4ef88f610a240cb1b22a",
        "IPY_MODEL_3a1f57002c81449f9992cb3aa16c6c6e",
        "IPY_MODEL_52868e09c18a47129568b8e1a4e4e5ec",
        "IPY_MODEL_841cc58c8a0c41dc8228052ecdd35797",
        "IPY_MODEL_21d03a98858c4f1fb1b881d4bb2e161b",
        "IPY_MODEL_5b7921a3d53148f6ac198641f6f7474d",
        "IPY_MODEL_43ddcfeeb7084a39977c762916191e4e",
        "IPY_MODEL_67840c43841b4e65a27d040d4865b9f7",
        "IPY_MODEL_624d6a64b0964e10ac417687e919bd71",
        "IPY_MODEL_414723bd2e3e4be7867a843509a8a6ac",
        "IPY_MODEL_265d0f539313482194ec9b35436a25ff",
        "IPY_MODEL_94041da725ee4b6999eb337bef417049"
       ],
       "layout": "IPY_MODEL_5eef1c540c694b558cbb3b8f983e1f39"
      }
     },
     "3b0175463d5f491697676a6a901122b1": {
      "model_module": "@jupyter-widgets/base",
      "model_module_version": "2.0.0",
      "model_name": "LayoutModel",
      "state": {}
     },
     "3b195028cc164b7abdc764af1062ccbd": {
      "model_module": "@jupyter-widgets/controls",
      "model_module_version": "2.0.0",
      "model_name": "CheckboxModel",
      "state": {
       "description": "am",
       "disabled": false,
       "layout": "IPY_MODEL_441eefd7a2c04ef0aab2cbbf65e26236",
       "style": "IPY_MODEL_2e600486fabe4beca3f9c6fa80f40a40",
       "value": true
      }
     },
     "3d5e89b9a2dc4d2bafa279c2d5db5b08": {
      "model_module": "@jupyter-widgets/base",
      "model_module_version": "2.0.0",
      "model_name": "LayoutModel",
      "state": {}
     },
     "3f9fd5c53d574e3e91e043e0629a304e": {
      "model_module": "@jupyter-widgets/base",
      "model_module_version": "2.0.0",
      "model_name": "LayoutModel",
      "state": {}
     },
     "3fa0ccef62634b9fbde3b9c4ac3d45e5": {
      "model_module": "@jupyter-widgets/controls",
      "model_module_version": "2.0.0",
      "model_name": "CheckboxModel",
      "state": {
       "description": "Wwp",
       "disabled": false,
       "layout": "IPY_MODEL_3abd351ddcb64c269cdc394201b83692",
       "style": "IPY_MODEL_1617d412a3184024b1b4e2e2246439ac",
       "value": true
      }
     },
     "4081b19e3c174c44840ad864e25b53c3": {
      "model_module": "@jupyter-widgets/controls",
      "model_module_version": "2.0.0",
      "model_name": "CheckboxModel",
      "state": {
       "description": "Wwx",
       "disabled": false,
       "layout": "IPY_MODEL_fa33ba3b2a7c436da9a1cfd033e29d2c",
       "style": "IPY_MODEL_be7e826737fc44988128a67657be06f2",
       "value": true
      }
     },
     "40907665521f4b8bb0f2b08e447bb59e": {
      "model_module": "@jupyter-widgets/base",
      "model_module_version": "2.0.0",
      "model_name": "LayoutModel",
      "state": {}
     },
     "40c8355c86c44d5192beac17ca92bfe2": {
      "model_module": "@jupyter-widgets/controls",
      "model_module_version": "2.0.0",
      "model_name": "CheckboxStyleModel",
      "state": {
       "description_width": ""
      }
     },
     "41433a8fe7924e00a7cb40feb7d61b04": {
      "model_module": "@jupyter-widgets/base",
      "model_module_version": "2.0.0",
      "model_name": "LayoutModel",
      "state": {}
     },
     "414723bd2e3e4be7867a843509a8a6ac": {
      "model_module": "@jupyter-widgets/controls",
      "model_module_version": "2.0.0",
      "model_name": "CheckboxModel",
      "state": {
       "description": "Wwi",
       "disabled": false,
       "layout": "IPY_MODEL_ed7d636645514a29a4400f32d5b8d174",
       "style": "IPY_MODEL_14b170b787c241b093ec59e65568be16",
       "value": true
      }
     },
     "42b612447f07427390e6318f4a717ca3": {
      "model_module": "@jupyter-widgets/controls",
      "model_module_version": "2.0.0",
      "model_name": "CheckboxStyleModel",
      "state": {
       "description_width": ""
      }
     },
     "42bd65728d69414b83ee90b36ca2ce2a": {
      "model_module": "@jupyter-widgets/controls",
      "model_module_version": "2.0.0",
      "model_name": "HBoxModel",
      "state": {
       "children": [
        "IPY_MODEL_e2c80e4b7aae4ec592bb29ae5117770a",
        "IPY_MODEL_bfa7b99c826945b5b882841dcf924808",
        "IPY_MODEL_530cf726ce5849a782ace144c6f38816",
        "IPY_MODEL_b55190d8c04443f1a43c37806d3c0b00",
        "IPY_MODEL_5ea652fd3e0d4b5f944f4207552423fb",
        "IPY_MODEL_673d28f05fb646a3b1b2205c7d79ed0b",
        "IPY_MODEL_588149bc20484de5b927c581462334e7",
        "IPY_MODEL_99d905c26d284ba6b68cb01cee769e45",
        "IPY_MODEL_b47f2f0e87b94465befb74b9f1b530b4",
        "IPY_MODEL_bc35f008258d49a1ae3ce9506ef5ac52",
        "IPY_MODEL_7d4fa909b95f4d9a9913a7a10f3bad56",
        "IPY_MODEL_eac3b14ef3f04c85a9152f0bdf1a9c2a"
       ],
       "layout": "IPY_MODEL_0dfd95d63f884a6cb50641d742e9dfea"
      }
     },
     "43000334017148cca0c85646fe973564": {
      "model_module": "@jupyter-widgets/base",
      "model_module_version": "2.0.0",
      "model_name": "LayoutModel",
      "state": {}
     },
     "43cb7997e66d47f9bc94844cdf4f6c86": {
      "model_module": "@jupyter-widgets/base",
      "model_module_version": "2.0.0",
      "model_name": "LayoutModel",
      "state": {}
     },
     "43ddcfeeb7084a39977c762916191e4e": {
      "model_module": "@jupyter-widgets/controls",
      "model_module_version": "2.0.0",
      "model_name": "CheckboxModel",
      "state": {
       "description": "Wwx",
       "disabled": false,
       "layout": "IPY_MODEL_f8224f25a07041fc84c86c8bb94a966a",
       "style": "IPY_MODEL_6dd5f04d630248c2aeddcd39f1f929c3",
       "value": true
      }
     },
     "441eefd7a2c04ef0aab2cbbf65e26236": {
      "model_module": "@jupyter-widgets/base",
      "model_module_version": "2.0.0",
      "model_name": "LayoutModel",
      "state": {}
     },
     "445a0bd4251e411189bc3557d9d5b949": {
      "model_module": "@jupyter-widgets/base",
      "model_module_version": "2.0.0",
      "model_name": "LayoutModel",
      "state": {}
     },
     "44870df8d47d4318bfc1e4f18d105e67": {
      "model_module": "@jupyter-widgets/base",
      "model_module_version": "2.0.0",
      "model_name": "LayoutModel",
      "state": {}
     },
     "44d14add72684c83af049760f6d3ca0e": {
      "model_module": "@jupyter-widgets/controls",
      "model_module_version": "2.0.0",
      "model_name": "CheckboxStyleModel",
      "state": {
       "description_width": ""
      }
     },
     "4513c9da2b814343baa292e16e76e569": {
      "model_module": "@jupyter-widgets/base",
      "model_module_version": "2.0.0",
      "model_name": "LayoutModel",
      "state": {}
     },
     "4521f1e88e9e4f53b32a38443bfaa049": {
      "model_module": "@jupyter-widgets/controls",
      "model_module_version": "2.0.0",
      "model_name": "CheckboxStyleModel",
      "state": {
       "description_width": ""
      }
     },
     "4558f84e22b64fc6a3aa608ec0a4d299": {
      "model_module": "@jupyter-widgets/controls",
      "model_module_version": "2.0.0",
      "model_name": "CheckboxStyleModel",
      "state": {
       "description_width": ""
      }
     },
     "45f45ea27c5746039f9863340c75b024": {
      "model_module": "@jupyter-widgets/base",
      "model_module_version": "2.0.0",
      "model_name": "LayoutModel",
      "state": {}
     },
     "4677b9a01d8749139da7a82b37e190b6": {
      "model_module": "@jupyter-widgets/controls",
      "model_module_version": "2.0.0",
      "model_name": "CheckboxModel",
      "state": {
       "description": "Ri",
       "disabled": false,
       "layout": "IPY_MODEL_9fee7c4ee60b4c19a5c7cf3a67342572",
       "style": "IPY_MODEL_afe7de20533c4b39a76205b02fd57faa",
       "value": true
      }
     },
     "46b7bd9018a548d9b80e178f667a8fed": {
      "model_module": "@jupyter-widgets/controls",
      "model_module_version": "2.0.0",
      "model_name": "CheckboxStyleModel",
      "state": {
       "description_width": ""
      }
     },
     "46b8af4bb2e5419f819cc82cb61fa445": {
      "model_module": "@jupyter-widgets/base",
      "model_module_version": "2.0.0",
      "model_name": "LayoutModel",
      "state": {}
     },
     "478a1e54ad214b09badc3cab4d15d7db": {
      "model_module": "@jupyter-widgets/controls",
      "model_module_version": "2.0.0",
      "model_name": "CheckboxStyleModel",
      "state": {
       "description_width": ""
      }
     },
     "47a3db0338744b519eb06435e6a2d9aa": {
      "model_module": "@jupyter-widgets/controls",
      "model_module_version": "2.0.0",
      "model_name": "CheckboxModel",
      "state": {
       "description": "Wwi",
       "disabled": false,
       "layout": "IPY_MODEL_7413bb1974d747729017bff11d793bd3",
       "style": "IPY_MODEL_6d39026e87074864887fb1d47417cde8",
       "value": true
      }
     },
     "4b14430e56d7459bba7c7b1ae2b1f52a": {
      "model_module": "@jupyter-widgets/base",
      "model_module_version": "2.0.0",
      "model_name": "LayoutModel",
      "state": {}
     },
     "4d04b1ad3f264bff9138646ca37e672b": {
      "model_module": "@jupyter-widgets/base",
      "model_module_version": "2.0.0",
      "model_name": "LayoutModel",
      "state": {}
     },
     "4da2bfc176fa41d485e6f33ac8d7730c": {
      "model_module": "@jupyter-widgets/base",
      "model_module_version": "2.0.0",
      "model_name": "LayoutModel",
      "state": {}
     },
     "4de6e23f1f0541f79788e1879d64de9a": {
      "model_module": "@jupyter-widgets/controls",
      "model_module_version": "2.0.0",
      "model_name": "CheckboxStyleModel",
      "state": {
       "description_width": ""
      }
     },
     "4eecce38574a4cc692dfe36b3f5ac796": {
      "model_module": "@jupyter-widgets/controls",
      "model_module_version": "2.0.0",
      "model_name": "CheckboxModel",
      "state": {
       "description": "am",
       "disabled": false,
       "layout": "IPY_MODEL_d1ad47ee10a1400f8c14dedb61268ca1",
       "style": "IPY_MODEL_5ec8d302e5fc4ac7a6281100f37322f4",
       "value": true
      }
     },
     "4f3edfa5c2714dee8c17b12ec610ee39": {
      "model_module": "@jupyter-widgets/base",
      "model_module_version": "2.0.0",
      "model_name": "LayoutModel",
      "state": {}
     },
     "4f63730f0b33480db97b38be054b5c89": {
      "model_module": "@jupyter-widgets/base",
      "model_module_version": "2.0.0",
      "model_name": "LayoutModel",
      "state": {}
     },
     "4fa2b884d71f4b94826bdebc0027cd05": {
      "model_module": "@jupyter-widgets/controls",
      "model_module_version": "2.0.0",
      "model_name": "CheckboxStyleModel",
      "state": {
       "description_width": ""
      }
     },
     "50d168ea3b8b4a418d360ae5469c4429": {
      "model_module": "@jupyter-widgets/controls",
      "model_module_version": "2.0.0",
      "model_name": "CheckboxStyleModel",
      "state": {
       "description_width": ""
      }
     },
     "51a9501792d2401d8241e8dfaecbee15": {
      "model_module": "@jupyter-widgets/base",
      "model_module_version": "2.0.0",
      "model_name": "LayoutModel",
      "state": {}
     },
     "52868e09c18a47129568b8e1a4e4e5ec": {
      "model_module": "@jupyter-widgets/controls",
      "model_module_version": "2.0.0",
      "model_name": "CheckboxModel",
      "state": {
       "description": "ap",
       "disabled": false,
       "layout": "IPY_MODEL_ff9b0f7d85ef4a56b804734b59c56a48",
       "style": "IPY_MODEL_95b642bda6244515959fb19b43d2c998",
       "value": true
      }
     },
     "530cf726ce5849a782ace144c6f38816": {
      "model_module": "@jupyter-widgets/controls",
      "model_module_version": "2.0.0",
      "model_name": "CheckboxModel",
      "state": {
       "description": "aj",
       "disabled": false,
       "layout": "IPY_MODEL_c1789220d7d847dcac16a50d0ce7c106",
       "style": "IPY_MODEL_df81d7a682da4a329af00c2b542a4804",
       "value": true
      }
     },
     "531af5cf460646bebde022a08d555726": {
      "model_module": "@jupyter-widgets/controls",
      "model_module_version": "2.0.0",
      "model_name": "CheckboxModel",
      "state": {
       "description": "ax",
       "disabled": false,
       "layout": "IPY_MODEL_4513c9da2b814343baa292e16e76e569",
       "style": "IPY_MODEL_ffd481fcbf944df1a97d8f089debd8b1",
       "value": false
      }
     },
     "5374b0989c43437a81cb74781629cec9": {
      "model_module": "@jupyter-widgets/base",
      "model_module_version": "2.0.0",
      "model_name": "LayoutModel",
      "state": {}
     },
     "5591fe531e8245bb9f94fefce27e78f5": {
      "model_module": "@jupyter-widgets/controls",
      "model_module_version": "2.0.0",
      "model_name": "CheckboxStyleModel",
      "state": {
       "description_width": ""
      }
     },
     "55c97cb55a084e0b8a58e0d040291567": {
      "model_module": "@jupyter-widgets/controls",
      "model_module_version": "2.0.0",
      "model_name": "HBoxModel",
      "state": {
       "children": [
        "IPY_MODEL_39893e6891ee4ab9b163d3d7a129ba53",
        "IPY_MODEL_81aaef9cb720436bb5edfcd42799ecbe",
        "IPY_MODEL_254459c6999246ee82464723fb1ec4f2",
        "IPY_MODEL_6fb9fd30740b480cae79ce03ccfa90d8",
        "IPY_MODEL_7cf6c688f17147cc9ad3ef3a74699afd",
        "IPY_MODEL_7dde307a943e4b519130d39accfc12f7",
        "IPY_MODEL_0570aaa041fd47c2a66cfdc952e0b14d",
        "IPY_MODEL_fc3f1f22c4e049d0935748c23723e557"
       ],
       "layout": "IPY_MODEL_40907665521f4b8bb0f2b08e447bb59e"
      }
     },
     "5626df4e9c3241d0a3dee7f41886ae3a": {
      "model_module": "@jupyter-widgets/controls",
      "model_module_version": "2.0.0",
      "model_name": "CheckboxModel",
      "state": {
       "description": "d_V",
       "disabled": false,
       "layout": "IPY_MODEL_f525ac6556a2462382ec53f711aaac2c",
       "style": "IPY_MODEL_7389e9efd371410ca03865b5cd535eb5",
       "value": true
      }
     },
     "5858623b1ea84a52b750d766e4e10a5b": {
      "model_module": "@jupyter-widgets/base",
      "model_module_version": "2.0.0",
      "model_name": "LayoutModel",
      "state": {}
     },
     "588149bc20484de5b927c581462334e7": {
      "model_module": "@jupyter-widgets/controls",
      "model_module_version": "2.0.0",
      "model_name": "CheckboxModel",
      "state": {
       "description": "Wwb",
       "disabled": false,
       "layout": "IPY_MODEL_a526033b1ec94b6fb9638483e0196480",
       "style": "IPY_MODEL_a9d0c1a547a0414e812c22ed8d5bc2c2",
       "value": true
      }
     },
     "5985b9cc7f4b468895a1a376f9304d9d": {
      "model_module": "@jupyter-widgets/controls",
      "model_module_version": "2.0.0",
      "model_name": "CheckboxStyleModel",
      "state": {
       "description_width": ""
      }
     },
     "5b42e010c9e74358b15a4861bb38dd96": {
      "model_module": "@jupyter-widgets/output",
      "model_module_version": "1.0.0",
      "model_name": "OutputModel",
      "state": {
       "layout": "IPY_MODEL_f5eb12f7dd16436a97583804ae3938f5",
       "outputs": [
        {
         "name": "stdout",
         "output_type": "stream",
         "text": "11 ['ab', 'ap', 'am', 'd_V', 'Wwb', 'Wwp', 'Wwi', 'Ri', 'metamorphosis', 'weaning', 'foetus']\n11 ['ab', 'ap', 'am', 'd_V', 'Wwb', 'Wwp', 'Wwi', 'Ri', 'metamorphosis', 'weaning', 'foetus']\n11 ['ab', 'ap', 'am', 'd_V', 'Wwb', 'Wwp', 'Wwi', 'Ri', 'metamorphosis', 'weaning', 'foetus']\nstd 291 0.6191489361702127\nstx 0 0.0\nabj 179 0.38085106382978723\n470\n"
        }
       ]
      }
     },
     "5b7921a3d53148f6ac198641f6f7474d": {
      "model_module": "@jupyter-widgets/controls",
      "model_module_version": "2.0.0",
      "model_name": "CheckboxModel",
      "state": {
       "description": "Wwb",
       "disabled": false,
       "layout": "IPY_MODEL_9df36a0f3354466ebc42c146dd4283f6",
       "style": "IPY_MODEL_df9c55a049ab4179a03cf958b04259fa",
       "value": true
      }
     },
     "5c1518c1014840af9e5215503ac2fe17": {
      "model_module": "@jupyter-widgets/controls",
      "model_module_version": "2.0.0",
      "model_name": "CheckboxStyleModel",
      "state": {
       "description_width": ""
      }
     },
     "5c3ac79f6c464644917241122f30394a": {
      "model_module": "@jupyter-widgets/base",
      "model_module_version": "2.0.0",
      "model_name": "LayoutModel",
      "state": {}
     },
     "5cd08417b246466fabbac1ac22ac0cdb": {
      "model_module": "@jupyter-widgets/base",
      "model_module_version": "2.0.0",
      "model_name": "LayoutModel",
      "state": {}
     },
     "5d0d5791bf7f4f63bbf075a95c74628d": {
      "model_module": "@jupyter-widgets/controls",
      "model_module_version": "2.0.0",
      "model_name": "CheckboxStyleModel",
      "state": {
       "description_width": ""
      }
     },
     "5d5e80c108974f049897d4999a25c4c4": {
      "model_module": "@jupyter-widgets/base",
      "model_module_version": "2.0.0",
      "model_name": "LayoutModel",
      "state": {}
     },
     "5d8bf0640d8a4cf4bb74f4d80a6f26e3": {
      "model_module": "@jupyter-widgets/base",
      "model_module_version": "2.0.0",
      "model_name": "LayoutModel",
      "state": {}
     },
     "5df08c3bf01e415eac3d55c7bec2996a": {
      "model_module": "@jupyter-widgets/base",
      "model_module_version": "2.0.0",
      "model_name": "LayoutModel",
      "state": {}
     },
     "5df707d8447b4056935c06367bd82853": {
      "model_module": "@jupyter-widgets/controls",
      "model_module_version": "2.0.0",
      "model_name": "CheckboxModel",
      "state": {
       "description": "Wwx",
       "disabled": false,
       "layout": "IPY_MODEL_b91d363ed7dc41dc8bdc468b77948ca4",
       "style": "IPY_MODEL_8c4531ca2cd842b99a0f6157826ffb37",
       "value": true
      }
     },
     "5ea652fd3e0d4b5f944f4207552423fb": {
      "model_module": "@jupyter-widgets/controls",
      "model_module_version": "2.0.0",
      "model_name": "CheckboxModel",
      "state": {
       "description": "am",
       "disabled": false,
       "layout": "IPY_MODEL_0d2d3db93b434c629e02611bdbdbdfa1",
       "style": "IPY_MODEL_6d1de4093be948e6bd5e183cf3160258",
       "value": true
      }
     },
     "5ec8d302e5fc4ac7a6281100f37322f4": {
      "model_module": "@jupyter-widgets/controls",
      "model_module_version": "2.0.0",
      "model_name": "CheckboxStyleModel",
      "state": {
       "description_width": ""
      }
     },
     "5ecbb56bca8b4da0aac6f1cb217e1d35": {
      "model_module": "@jupyter-widgets/controls",
      "model_module_version": "2.0.0",
      "model_name": "CheckboxModel",
      "state": {
       "description": "ap",
       "disabled": false,
       "layout": "IPY_MODEL_30812a43b90c440fbf8961fae7a7753f",
       "style": "IPY_MODEL_36c265698e334fbcb2929ad47867cc78",
       "value": true
      }
     },
     "5eef1c540c694b558cbb3b8f983e1f39": {
      "model_module": "@jupyter-widgets/base",
      "model_module_version": "2.0.0",
      "model_name": "LayoutModel",
      "state": {}
     },
     "5f1e90bddef0444e9ec713a7ca6a2575": {
      "model_module": "@jupyter-widgets/controls",
      "model_module_version": "2.0.0",
      "model_name": "CheckboxStyleModel",
      "state": {
       "description_width": ""
      }
     },
     "60007bc85d494966a55828c6566a0ab7": {
      "model_module": "@jupyter-widgets/controls",
      "model_module_version": "2.0.0",
      "model_name": "CheckboxStyleModel",
      "state": {
       "description_width": ""
      }
     },
     "604fc10e691a43fa8c07efdb3a1cdccb": {
      "model_module": "@jupyter-widgets/controls",
      "model_module_version": "2.0.0",
      "model_name": "CheckboxStyleModel",
      "state": {
       "description_width": ""
      }
     },
     "61096bdc9e72408e908b5a6c2836a2c7": {
      "model_module": "@jupyter-widgets/base",
      "model_module_version": "2.0.0",
      "model_name": "LayoutModel",
      "state": {}
     },
     "61a0af46f9e3426bb4b5b4a8e7164fbd": {
      "model_module": "@jupyter-widgets/controls",
      "model_module_version": "2.0.0",
      "model_name": "CheckboxModel",
      "state": {
       "description": "ax",
       "disabled": false,
       "layout": "IPY_MODEL_da7523d942444f75a18a160fc62e18f4",
       "style": "IPY_MODEL_bddf4e30b1c244cd8f38684626f3b966",
       "value": true
      }
     },
     "61a9264a1f344df9839f1b29a4da869d": {
      "model_module": "@jupyter-widgets/controls",
      "model_module_version": "2.0.0",
      "model_name": "CheckboxStyleModel",
      "state": {
       "description_width": ""
      }
     },
     "61dd62469e7c4ef2a944cd1e928c1e91": {
      "model_module": "@jupyter-widgets/controls",
      "model_module_version": "2.0.0",
      "model_name": "CheckboxStyleModel",
      "state": {
       "description_width": ""
      }
     },
     "624d6a64b0964e10ac417687e919bd71": {
      "model_module": "@jupyter-widgets/controls",
      "model_module_version": "2.0.0",
      "model_name": "CheckboxModel",
      "state": {
       "description": "Wwp",
       "disabled": false,
       "layout": "IPY_MODEL_25863a5297494259bc86d1a74a934cd5",
       "style": "IPY_MODEL_37ef71c3586b44c3b29506d0108fca31",
       "value": true
      }
     },
     "630cec5e01c0491a8332225fd58dded2": {
      "model_module": "@jupyter-widgets/controls",
      "model_module_version": "2.0.0",
      "model_name": "CheckboxStyleModel",
      "state": {
       "description_width": ""
      }
     },
     "637525596f3b4382aa641a8fff7a96dc": {
      "model_module": "@jupyter-widgets/base",
      "model_module_version": "2.0.0",
      "model_name": "LayoutModel",
      "state": {}
     },
     "63e1e0a1e8e2408a9dec7d95f30d473e": {
      "model_module": "@jupyter-widgets/controls",
      "model_module_version": "2.0.0",
      "model_name": "HBoxModel",
      "state": {
       "children": [
        "IPY_MODEL_12222f243aca412085d66504427dfc20",
        "IPY_MODEL_61a0af46f9e3426bb4b5b4a8e7164fbd",
        "IPY_MODEL_78bc15a463f54414b5bd021f83c1c17c",
        "IPY_MODEL_cc8fefa4c70144a78a9df9e997c9dcbe",
        "IPY_MODEL_17cedf9783d74d9fa60d274005a8bf53",
        "IPY_MODEL_5626df4e9c3241d0a3dee7f41886ae3a",
        "IPY_MODEL_eedf11ebbd724c6ea085b8714b31eccd",
        "IPY_MODEL_4081b19e3c174c44840ad864e25b53c3",
        "IPY_MODEL_78fd92a01c6b40e883330b171b8bb424",
        "IPY_MODEL_17a3a25eddbe4460b5ff934ee58eb781",
        "IPY_MODEL_1573f09bbecf4a52bf714a2e6f3495b7",
        "IPY_MODEL_33d6db5793ad4c0dbdc0d894db75c2a6"
       ],
       "layout": "IPY_MODEL_3a89594cafdf4252bb0c72273592f827"
      }
     },
     "64df2d0e107a44acba4697aed07c003d": {
      "model_module": "@jupyter-widgets/base",
      "model_module_version": "2.0.0",
      "model_name": "LayoutModel",
      "state": {}
     },
     "664544921c9445409da000ebaeacde01": {
      "model_module": "@jupyter-widgets/controls",
      "model_module_version": "2.0.0",
      "model_name": "CheckboxStyleModel",
      "state": {
       "description_width": ""
      }
     },
     "673d28f05fb646a3b1b2205c7d79ed0b": {
      "model_module": "@jupyter-widgets/controls",
      "model_module_version": "2.0.0",
      "model_name": "CheckboxModel",
      "state": {
       "description": "d_V",
       "disabled": false,
       "layout": "IPY_MODEL_9c6bf677c506468b98f7f17b22d76b5a",
       "style": "IPY_MODEL_8b601c726829432eb8ecd579719d0300",
       "value": true
      }
     },
     "67840c43841b4e65a27d040d4865b9f7": {
      "model_module": "@jupyter-widgets/controls",
      "model_module_version": "2.0.0",
      "model_name": "CheckboxModel",
      "state": {
       "description": "Wwj",
       "disabled": false,
       "layout": "IPY_MODEL_2f73fbdd9e91461ab59684b1aaf7f963",
       "style": "IPY_MODEL_89f5d6760108442a93291b293c277473",
       "value": true
      }
     },
     "68f74b725b6e41b0927ef348c0f538a0": {
      "model_module": "@jupyter-widgets/controls",
      "model_module_version": "2.0.0",
      "model_name": "CheckboxModel",
      "state": {
       "description": "d_V",
       "disabled": false,
       "layout": "IPY_MODEL_c642f3fec2054cfcaceed1f369f160a0",
       "style": "IPY_MODEL_facb63b75db545acb62efd56bd67ccd7",
       "value": true
      }
     },
     "69661b7f5dae485ba9a68b73ec01cae5": {
      "model_module": "@jupyter-widgets/base",
      "model_module_version": "2.0.0",
      "model_name": "LayoutModel",
      "state": {}
     },
     "6995babea3f54ee4b1867bd9d3735a00": {
      "model_module": "@jupyter-widgets/controls",
      "model_module_version": "2.0.0",
      "model_name": "VBoxModel",
      "state": {
       "_dom_classes": [
        "widget-interact"
       ],
       "children": [
        "IPY_MODEL_977d589207be47f5b75d4a7304a47f2b",
        "IPY_MODEL_debb95b67c11460ea2260e82466e52de",
        "IPY_MODEL_e88cd3859f1642439b9b60315dfdfa47",
        "IPY_MODEL_a062540ee467411ca19967a72191d94a",
        "IPY_MODEL_d49f5fa2650e471e905b1229277ee7a8",
        "IPY_MODEL_b5e15fcc92cf4d31ad9c10a200837651",
        "IPY_MODEL_93dffac4da29411eb29cb5910ebc8be2",
        "IPY_MODEL_86a67bf8a7d2422a83aba2dfa2bfd896",
        "IPY_MODEL_910e064d4ea94be0a9abbb2f50284a60",
        "IPY_MODEL_7362ad358cc748ddaca0241e7c74cd79",
        "IPY_MODEL_ec6775e4803a4dad831050b4ff6d903a",
        "IPY_MODEL_fdad6e2b15714a589059c6cca49bc382",
        "IPY_MODEL_00196944c45447da9848ba29aad24c41"
       ],
       "layout": "IPY_MODEL_7e8df4a6014440fea7db6d919b87549f"
      }
     },
     "69e9933773c34369b0543926a2a1ba9d": {
      "model_module": "@jupyter-widgets/controls",
      "model_module_version": "2.0.0",
      "model_name": "CheckboxModel",
      "state": {
       "description": "d_V",
       "disabled": false,
       "layout": "IPY_MODEL_30a21628bec945238673dd0927c34850",
       "style": "IPY_MODEL_362166a60f4f428b956f4e8e8292a9f6",
       "value": true
      }
     },
     "6a468fb5dbf94cc793ca02d1c176f3b5": {
      "model_module": "@jupyter-widgets/base",
      "model_module_version": "2.0.0",
      "model_name": "LayoutModel",
      "state": {}
     },
     "6cd0782a26274ea69829e4af204fcb59": {
      "model_module": "@jupyter-widgets/base",
      "model_module_version": "2.0.0",
      "model_name": "LayoutModel",
      "state": {}
     },
     "6d1de4093be948e6bd5e183cf3160258": {
      "model_module": "@jupyter-widgets/controls",
      "model_module_version": "2.0.0",
      "model_name": "CheckboxStyleModel",
      "state": {
       "description_width": ""
      }
     },
     "6d39026e87074864887fb1d47417cde8": {
      "model_module": "@jupyter-widgets/controls",
      "model_module_version": "2.0.0",
      "model_name": "CheckboxStyleModel",
      "state": {
       "description_width": ""
      }
     },
     "6dd5f04d630248c2aeddcd39f1f929c3": {
      "model_module": "@jupyter-widgets/controls",
      "model_module_version": "2.0.0",
      "model_name": "CheckboxStyleModel",
      "state": {
       "description_width": ""
      }
     },
     "6ddebb633df34138860b84c3353eaa70": {
      "model_module": "@jupyter-widgets/controls",
      "model_module_version": "2.0.0",
      "model_name": "CheckboxStyleModel",
      "state": {
       "description_width": ""
      }
     },
     "6e1dea49eb22458396a37b1fc8f61388": {
      "model_module": "@jupyter-widgets/controls",
      "model_module_version": "2.0.0",
      "model_name": "CheckboxModel",
      "state": {
       "description": "ap",
       "disabled": false,
       "layout": "IPY_MODEL_084ded66d04c4460908c9d9e6da0eab1",
       "style": "IPY_MODEL_6f034ba02db64a0bb72ab73456e65fc9",
       "value": true
      }
     },
     "6e8688f6e6154f5a97b16158ff69df04": {
      "model_module": "@jupyter-widgets/controls",
      "model_module_version": "2.0.0",
      "model_name": "CheckboxStyleModel",
      "state": {
       "description_width": ""
      }
     },
     "6ee00a3796e948e09124efd3ea216b0b": {
      "model_module": "@jupyter-widgets/base",
      "model_module_version": "2.0.0",
      "model_name": "LayoutModel",
      "state": {}
     },
     "6f034ba02db64a0bb72ab73456e65fc9": {
      "model_module": "@jupyter-widgets/controls",
      "model_module_version": "2.0.0",
      "model_name": "CheckboxStyleModel",
      "state": {
       "description_width": ""
      }
     },
     "6f3b219463d24e2ebafbaea6dfbc34a2": {
      "model_module": "@jupyter-widgets/base",
      "model_module_version": "2.0.0",
      "model_name": "LayoutModel",
      "state": {}
     },
     "6f5c871f8a0f4ebfab87d7c77cb8c581": {
      "model_module": "@jupyter-widgets/base",
      "model_module_version": "2.0.0",
      "model_name": "LayoutModel",
      "state": {}
     },
     "6fb9fd30740b480cae79ce03ccfa90d8": {
      "model_module": "@jupyter-widgets/controls",
      "model_module_version": "2.0.0",
      "model_name": "CheckboxModel",
      "state": {
       "description": "d_V",
       "disabled": false,
       "layout": "IPY_MODEL_2e8cbaf473aa451cbe53bdba18f016fb",
       "style": "IPY_MODEL_ae222cfe844041839c48431ca4f53bea",
       "value": true
      }
     },
     "70b886fb0d9c4353b62960c0b86f22a1": {
      "model_module": "@jupyter-widgets/controls",
      "model_module_version": "2.0.0",
      "model_name": "CheckboxModel",
      "state": {
       "description": "Wwx",
       "disabled": false,
       "layout": "IPY_MODEL_4f63730f0b33480db97b38be054b5c89",
       "style": "IPY_MODEL_97fefbda5f6645dda5dd820105081fdb",
       "value": false
      }
     },
     "71548cef5070488d989964a87a0385d5": {
      "model_module": "@jupyter-widgets/controls",
      "model_module_version": "2.0.0",
      "model_name": "CheckboxStyleModel",
      "state": {
       "description_width": ""
      }
     },
     "71bbba0b1bb2467a8c3f27a190b09bf5": {
      "model_module": "@jupyter-widgets/base",
      "model_module_version": "2.0.0",
      "model_name": "LayoutModel",
      "state": {}
     },
     "72bb95f9fd064550b0f9e098c96a4209": {
      "model_module": "@jupyter-widgets/base",
      "model_module_version": "2.0.0",
      "model_name": "LayoutModel",
      "state": {}
     },
     "7362ad358cc748ddaca0241e7c74cd79": {
      "model_module": "@jupyter-widgets/controls",
      "model_module_version": "2.0.0",
      "model_name": "CheckboxModel",
      "state": {
       "description": "Wwp",
       "disabled": false,
       "layout": "IPY_MODEL_9fc76b9e27114372a141a307d473f96e",
       "style": "IPY_MODEL_ef5f7531c03046c38c2f8b47c692d2c8",
       "value": true
      }
     },
     "7369880d0fd34403b71bae6e0307bfb1": {
      "model_module": "@jupyter-widgets/controls",
      "model_module_version": "2.0.0",
      "model_name": "CheckboxModel",
      "state": {
       "description": "ax",
       "disabled": false,
       "layout": "IPY_MODEL_c7609b4ad6eb4a479832a5b9dcdeb432",
       "style": "IPY_MODEL_40c8355c86c44d5192beac17ca92bfe2",
       "value": true
      }
     },
     "7389e9efd371410ca03865b5cd535eb5": {
      "model_module": "@jupyter-widgets/controls",
      "model_module_version": "2.0.0",
      "model_name": "CheckboxStyleModel",
      "state": {
       "description_width": ""
      }
     },
     "7413bb1974d747729017bff11d793bd3": {
      "model_module": "@jupyter-widgets/base",
      "model_module_version": "2.0.0",
      "model_name": "LayoutModel",
      "state": {}
     },
     "74466239874141c98d3d6e55a2c08a08": {
      "model_module": "@jupyter-widgets/controls",
      "model_module_version": "2.0.0",
      "model_name": "CheckboxModel",
      "state": {
       "description": "ax",
       "disabled": false,
       "layout": "IPY_MODEL_5cd08417b246466fabbac1ac22ac0cdb",
       "style": "IPY_MODEL_98d31065fea642488b2b480b042ca677",
       "value": false
      }
     },
     "7472691578b243c38bed0a7e73c7d134": {
      "model_module": "@jupyter-widgets/output",
      "model_module_version": "1.0.0",
      "model_name": "OutputModel",
      "state": {
       "layout": "IPY_MODEL_6ee00a3796e948e09124efd3ea216b0b",
       "outputs": [
        {
         "name": "stdout",
         "output_type": "stream",
         "text": "12 ['ab', 'ap', 'am', 'd_V', 'Wwb', 'Wwj', 'Wwp', 'Wwi', 'Ri', 'metamorphosis', 'weaning', 'foetus'] 50\n12 ['ab', 'ap', 'am', 'd_V', 'Wwb', 'Wwx', 'Wwp', 'Wwi', 'Ri', 'metamorphosis', 'weaning', 'foetus'] 0\n11 ['ab', 'ap', 'am', 'd_V', 'Wwb', 'Wwp', 'Wwi', 'Ri', 'metamorphosis', 'weaning', 'foetus'] 291\n341\n"
        }
       ]
      }
     },
     "747778dd0f624a0299015c6f1a1f45ce": {
      "model_module": "@jupyter-widgets/controls",
      "model_module_version": "2.0.0",
      "model_name": "CheckboxModel",
      "state": {
       "description": "ab",
       "disabled": false,
       "layout": "IPY_MODEL_6a468fb5dbf94cc793ca02d1c176f3b5",
       "style": "IPY_MODEL_a8d0334f96434ee9a7d660d5f26dc901",
       "value": true
      }
     },
     "74d1745b538c4a538b0aec61a5193bca": {
      "model_module": "@jupyter-widgets/controls",
      "model_module_version": "2.0.0",
      "model_name": "CheckboxStyleModel",
      "state": {
       "description_width": ""
      }
     },
     "74efe73414d44c85a90fbd0a08183f52": {
      "model_module": "@jupyter-widgets/controls",
      "model_module_version": "2.0.0",
      "model_name": "CheckboxModel",
      "state": {
       "description": "am",
       "disabled": false,
       "layout": "IPY_MODEL_ac36075342364c69bfea8609be06b83e",
       "style": "IPY_MODEL_f32bc092eae3491d8373547fca838c72",
       "value": true
      }
     },
     "764804826a8146359dcd0934b7d2cc54": {
      "model_module": "@jupyter-widgets/controls",
      "model_module_version": "2.0.0",
      "model_name": "CheckboxModel",
      "state": {
       "description": "Wwb",
       "disabled": false,
       "layout": "IPY_MODEL_2a30b32c997243f7ad6f5602af230639",
       "style": "IPY_MODEL_ae501eddf6f144ebba68574a37c3cc26",
       "value": true
      }
     },
     "7663c7f84a4a4d19b382dc7ed982f0e3": {
      "model_module": "@jupyter-widgets/controls",
      "model_module_version": "2.0.0",
      "model_name": "CheckboxStyleModel",
      "state": {
       "description_width": ""
      }
     },
     "777292d9f0374552b59d796658946a86": {
      "model_module": "@jupyter-widgets/base",
      "model_module_version": "2.0.0",
      "model_name": "LayoutModel",
      "state": {}
     },
     "7807f140f6354821b7eef303372503d8": {
      "model_module": "@jupyter-widgets/base",
      "model_module_version": "2.0.0",
      "model_name": "LayoutModel",
      "state": {}
     },
     "78bc15a463f54414b5bd021f83c1c17c": {
      "model_module": "@jupyter-widgets/controls",
      "model_module_version": "2.0.0",
      "model_name": "CheckboxModel",
      "state": {
       "description": "aj",
       "disabled": false,
       "layout": "IPY_MODEL_f12cfc0e5655428f9680e4f5d448af78",
       "style": "IPY_MODEL_f525882016cb4776af6a09fff4937a07",
       "value": true
      }
     },
     "78fd92a01c6b40e883330b171b8bb424": {
      "model_module": "@jupyter-widgets/controls",
      "model_module_version": "2.0.0",
      "model_name": "CheckboxModel",
      "state": {
       "description": "Wwj",
       "disabled": false,
       "layout": "IPY_MODEL_eb98f09ab5f24a8aab13e3a80aba18f3",
       "style": "IPY_MODEL_98907ecfe24c44aaaeeccf1367040b54",
       "value": true
      }
     },
     "7906070e73b9433599632e64993d6851": {
      "model_module": "@jupyter-widgets/controls",
      "model_module_version": "2.0.0",
      "model_name": "CheckboxModel",
      "state": {
       "description": "d_V",
       "disabled": false,
       "layout": "IPY_MODEL_9251f3c887e547718952bdc9054089f4",
       "style": "IPY_MODEL_03992d1072d34e8fac95001a73610096",
       "value": true
      }
     },
     "799810557d06494390b8673af913a68a": {
      "model_module": "@jupyter-widgets/base",
      "model_module_version": "2.0.0",
      "model_name": "LayoutModel",
      "state": {}
     },
     "79d9a01fdbd24b7790f0c6ae3c5ccb58": {
      "model_module": "@jupyter-widgets/controls",
      "model_module_version": "2.0.0",
      "model_name": "CheckboxModel",
      "state": {
       "description": "Wwb",
       "disabled": false,
       "layout": "IPY_MODEL_083d12ebb2fe4fc082ff1dbf02b46626",
       "style": "IPY_MODEL_5c1518c1014840af9e5215503ac2fe17",
       "value": true
      }
     },
     "7a6998f56f4a4cb98d17145f033597c1": {
      "model_module": "@jupyter-widgets/base",
      "model_module_version": "2.0.0",
      "model_name": "LayoutModel",
      "state": {}
     },
     "7c722590906249cea08b81322aa1a268": {
      "model_module": "@jupyter-widgets/base",
      "model_module_version": "2.0.0",
      "model_name": "LayoutModel",
      "state": {}
     },
     "7cf6c688f17147cc9ad3ef3a74699afd": {
      "model_module": "@jupyter-widgets/controls",
      "model_module_version": "2.0.0",
      "model_name": "CheckboxModel",
      "state": {
       "description": "Wwb",
       "disabled": false,
       "layout": "IPY_MODEL_09acb5f8df594a6aa1aed7e89fc214d0",
       "style": "IPY_MODEL_894d72f2064541d79de7294f9ddc3081",
       "value": true
      }
     },
     "7d21edd5e67f43409b134984faa8b5fc": {
      "model_module": "@jupyter-widgets/controls",
      "model_module_version": "2.0.0",
      "model_name": "CheckboxModel",
      "state": {
       "description": "Wwp",
       "disabled": false,
       "layout": "IPY_MODEL_b320436f2be24cf985a1cd04f6f29fdc",
       "style": "IPY_MODEL_8cda48a662c64188ba4da7ea33c9bb4e",
       "value": true
      }
     },
     "7d4fa909b95f4d9a9913a7a10f3bad56": {
      "model_module": "@jupyter-widgets/controls",
      "model_module_version": "2.0.0",
      "model_name": "CheckboxModel",
      "state": {
       "description": "Wwi",
       "disabled": false,
       "layout": "IPY_MODEL_92138678365f4b9bb0f373f51fac2a4f",
       "style": "IPY_MODEL_2dfdc3aec8fa485cb37237ca8cb84a2c",
       "value": true
      }
     },
     "7d7a76f4bc2742b9b1086c34ced6052b": {
      "model_module": "@jupyter-widgets/controls",
      "model_module_version": "2.0.0",
      "model_name": "CheckboxModel",
      "state": {
       "description": "ap",
       "disabled": false,
       "layout": "IPY_MODEL_ed26a9629e0543659ab50b0f1e9f64ea",
       "style": "IPY_MODEL_edcafb704dc74162a14435559104f7ae",
       "value": true
      }
     },
     "7dde307a943e4b519130d39accfc12f7": {
      "model_module": "@jupyter-widgets/controls",
      "model_module_version": "2.0.0",
      "model_name": "CheckboxModel",
      "state": {
       "description": "Wwp",
       "disabled": false,
       "layout": "IPY_MODEL_7807f140f6354821b7eef303372503d8",
       "style": "IPY_MODEL_db335cc5ca664333a8393c2259e35741",
       "value": true
      }
     },
     "7e8df4a6014440fea7db6d919b87549f": {
      "model_module": "@jupyter-widgets/base",
      "model_module_version": "2.0.0",
      "model_name": "LayoutModel",
      "state": {}
     },
     "7ed8e944bf2f49ccabbfca700122b7cd": {
      "model_module": "@jupyter-widgets/base",
      "model_module_version": "2.0.0",
      "model_name": "LayoutModel",
      "state": {}
     },
     "7f8c01cca39441b7a79d01d599498607": {
      "model_module": "@jupyter-widgets/controls",
      "model_module_version": "2.0.0",
      "model_name": "CheckboxStyleModel",
      "state": {
       "description_width": ""
      }
     },
     "81aaef9cb720436bb5edfcd42799ecbe": {
      "model_module": "@jupyter-widgets/controls",
      "model_module_version": "2.0.0",
      "model_name": "CheckboxModel",
      "state": {
       "description": "ap",
       "disabled": false,
       "layout": "IPY_MODEL_e544c34560264caeba9c3a670786783d",
       "style": "IPY_MODEL_0680f7f0ba734848a988dc6709671b92",
       "value": true
      }
     },
     "81b2867eb0964a8ea06c7cff4b6fe499": {
      "model_module": "@jupyter-widgets/base",
      "model_module_version": "2.0.0",
      "model_name": "LayoutModel",
      "state": {}
     },
     "841cc58c8a0c41dc8228052ecdd35797": {
      "model_module": "@jupyter-widgets/controls",
      "model_module_version": "2.0.0",
      "model_name": "CheckboxModel",
      "state": {
       "description": "am",
       "disabled": false,
       "layout": "IPY_MODEL_4f3edfa5c2714dee8c17b12ec610ee39",
       "style": "IPY_MODEL_b334887bcd6e4dfdbc1257b3eef73642",
       "value": true
      }
     },
     "84304806b3f84be693ca852613a46ebb": {
      "model_module": "@jupyter-widgets/controls",
      "model_module_version": "2.0.0",
      "model_name": "CheckboxModel",
      "state": {
       "description": "am",
       "disabled": false,
       "layout": "IPY_MODEL_799810557d06494390b8673af913a68a",
       "style": "IPY_MODEL_630cec5e01c0491a8332225fd58dded2",
       "value": true
      }
     },
     "84ff9d7b23014f189cf24f8c718843b8": {
      "model_module": "@jupyter-widgets/controls",
      "model_module_version": "2.0.0",
      "model_name": "CheckboxStyleModel",
      "state": {
       "description_width": ""
      }
     },
     "85a5f7b86526497a89f8b2b8c6508f7b": {
      "model_module": "@jupyter-widgets/controls",
      "model_module_version": "2.0.0",
      "model_name": "CheckboxStyleModel",
      "state": {
       "description_width": ""
      }
     },
     "85e2d26312834044ba5115763bf30fed": {
      "model_module": "@jupyter-widgets/base",
      "model_module_version": "2.0.0",
      "model_name": "LayoutModel",
      "state": {}
     },
     "861995e19bbc47b28503152d081f0116": {
      "model_module": "@jupyter-widgets/controls",
      "model_module_version": "2.0.0",
      "model_name": "CheckboxStyleModel",
      "state": {
       "description_width": ""
      }
     },
     "86a67bf8a7d2422a83aba2dfa2bfd896": {
      "model_module": "@jupyter-widgets/controls",
      "model_module_version": "2.0.0",
      "model_name": "CheckboxModel",
      "state": {
       "description": "Wwx",
       "disabled": false,
       "layout": "IPY_MODEL_19345bf74df74dbeaec03be3530c1b03",
       "style": "IPY_MODEL_2dc4c30d9884432b83ae98df831b04f1",
       "value": false
      }
     },
     "87b2755e08a3458da0b50b533acb5dee": {
      "model_module": "@jupyter-widgets/controls",
      "model_module_version": "2.0.0",
      "model_name": "CheckboxStyleModel",
      "state": {
       "description_width": ""
      }
     },
     "87cf10605c2b4327b186864d7a862187": {
      "model_module": "@jupyter-widgets/controls",
      "model_module_version": "2.0.0",
      "model_name": "VBoxModel",
      "state": {
       "_dom_classes": [
        "widget-interact"
       ],
       "children": [
        "IPY_MODEL_93821818781c46d0bae9ee0be7a40408",
        "IPY_MODEL_15d35b3fc3d34f9abd2099b010ec6087",
        "IPY_MODEL_d2a2d0761fb84c0e923edfe088c64795",
        "IPY_MODEL_a0cd70e5b3be4e1a929558c94ecfda36",
        "IPY_MODEL_4eecce38574a4cc692dfe36b3f5ac796",
        "IPY_MODEL_2678fd7094484ea8b15e30ee5dac5953",
        "IPY_MODEL_2a3cd3500f054892acf5cd1f83c881d8",
        "IPY_MODEL_3202496955a645aeb0497b5d42616180",
        "IPY_MODEL_1aaff1e974e941b08abfd8cc06e79d47",
        "IPY_MODEL_1b3b1cbd70504308ab194a6a6a8c8959",
        "IPY_MODEL_e5b20369e2654c01b9a31220c4384cba",
        "IPY_MODEL_1360ec3bb6124628baa4cdc2fe2f1c54",
        "IPY_MODEL_5b42e010c9e74358b15a4861bb38dd96"
       ],
       "layout": "IPY_MODEL_4b14430e56d7459bba7c7b1ae2b1f52a"
      }
     },
     "8830c89af315434d86a207bcb9bd886a": {
      "model_module": "@jupyter-widgets/controls",
      "model_module_version": "2.0.0",
      "model_name": "HBoxModel",
      "state": {
       "children": [
        "IPY_MODEL_382fbe184f424df597754141f33a8ecb",
        "IPY_MODEL_7d7a76f4bc2742b9b1086c34ced6052b",
        "IPY_MODEL_8ef70d9f974e40ff8513403f8b8268ec",
        "IPY_MODEL_f2527e8fbd084c98adb831835b8a83c9",
        "IPY_MODEL_f532be848cb7498b995c275e0a9f3a2a",
        "IPY_MODEL_7d21edd5e67f43409b134984faa8b5fc",
        "IPY_MODEL_d64155a2979e4e319b4a3b72c30075c8",
        "IPY_MODEL_a412c85b76fc46feab761676e0652322"
       ],
       "layout": "IPY_MODEL_a159c6f2d76c452798754aa709b29f8a"
      }
     },
     "88aad848168543ee96ec9884fcc2fb38": {
      "model_module": "@jupyter-widgets/controls",
      "model_module_version": "2.0.0",
      "model_name": "CheckboxModel",
      "state": {
       "description": "Wwb",
       "disabled": false,
       "layout": "IPY_MODEL_dc067fe5f3bc41328fb82768e7acb2d9",
       "style": "IPY_MODEL_71548cef5070488d989964a87a0385d5",
       "value": true
      }
     },
     "88e4aadfc0d647c5a5a312687a8fb4cd": {
      "model_module": "@jupyter-widgets/base",
      "model_module_version": "2.0.0",
      "model_name": "LayoutModel",
      "state": {}
     },
     "894d72f2064541d79de7294f9ddc3081": {
      "model_module": "@jupyter-widgets/controls",
      "model_module_version": "2.0.0",
      "model_name": "CheckboxStyleModel",
      "state": {
       "description_width": ""
      }
     },
     "89f5d6760108442a93291b293c277473": {
      "model_module": "@jupyter-widgets/controls",
      "model_module_version": "2.0.0",
      "model_name": "CheckboxStyleModel",
      "state": {
       "description_width": ""
      }
     },
     "8b5e72c1a3d54fd18840b967dc3f2e32": {
      "model_module": "@jupyter-widgets/controls",
      "model_module_version": "2.0.0",
      "model_name": "CheckboxModel",
      "state": {
       "description": "Wwb",
       "disabled": false,
       "layout": "IPY_MODEL_71bbba0b1bb2467a8c3f27a190b09bf5",
       "style": "IPY_MODEL_8b6ef3bbc9094e39b13718f0183ca2f4",
       "value": true
      }
     },
     "8b601c726829432eb8ecd579719d0300": {
      "model_module": "@jupyter-widgets/controls",
      "model_module_version": "2.0.0",
      "model_name": "CheckboxStyleModel",
      "state": {
       "description_width": ""
      }
     },
     "8b6ef3bbc9094e39b13718f0183ca2f4": {
      "model_module": "@jupyter-widgets/controls",
      "model_module_version": "2.0.0",
      "model_name": "CheckboxStyleModel",
      "state": {
       "description_width": ""
      }
     },
     "8c4531ca2cd842b99a0f6157826ffb37": {
      "model_module": "@jupyter-widgets/controls",
      "model_module_version": "2.0.0",
      "model_name": "CheckboxStyleModel",
      "state": {
       "description_width": ""
      }
     },
     "8cb9ff95e0a947a7b90e6d7214bab5f0": {
      "model_module": "@jupyter-widgets/controls",
      "model_module_version": "2.0.0",
      "model_name": "CheckboxModel",
      "state": {
       "description": "am",
       "disabled": false,
       "layout": "IPY_MODEL_445a0bd4251e411189bc3557d9d5b949",
       "style": "IPY_MODEL_6e8688f6e6154f5a97b16158ff69df04",
       "value": true
      }
     },
     "8cbaeead2b0646f4b17446a5eab59133": {
      "model_module": "@jupyter-widgets/base",
      "model_module_version": "2.0.0",
      "model_name": "LayoutModel",
      "state": {}
     },
     "8cda48a662c64188ba4da7ea33c9bb4e": {
      "model_module": "@jupyter-widgets/controls",
      "model_module_version": "2.0.0",
      "model_name": "CheckboxStyleModel",
      "state": {
       "description_width": ""
      }
     },
     "8ce55a4186374aff9127f793973dcaeb": {
      "model_module": "@jupyter-widgets/base",
      "model_module_version": "2.0.0",
      "model_name": "LayoutModel",
      "state": {}
     },
     "8dcc8da8606a40b89276e4bf89d7a052": {
      "model_module": "@jupyter-widgets/base",
      "model_module_version": "2.0.0",
      "model_name": "LayoutModel",
      "state": {}
     },
     "8e8c394a96ed4330af8fb29fba300eee": {
      "model_module": "@jupyter-widgets/base",
      "model_module_version": "2.0.0",
      "model_name": "LayoutModel",
      "state": {}
     },
     "8ef70d9f974e40ff8513403f8b8268ec": {
      "model_module": "@jupyter-widgets/controls",
      "model_module_version": "2.0.0",
      "model_name": "CheckboxModel",
      "state": {
       "description": "am",
       "disabled": false,
       "layout": "IPY_MODEL_7a6998f56f4a4cb98d17145f033597c1",
       "style": "IPY_MODEL_ee344dedaf2645b2b382761f7a6e0d0b",
       "value": true
      }
     },
     "910e064d4ea94be0a9abbb2f50284a60": {
      "model_module": "@jupyter-widgets/controls",
      "model_module_version": "2.0.0",
      "model_name": "CheckboxModel",
      "state": {
       "description": "Wwj",
       "disabled": false,
       "layout": "IPY_MODEL_d41100db84ad4a6989ad79fb6145fa46",
       "style": "IPY_MODEL_975c7c62ee5046fbb10715f38d339d75",
       "value": false
      }
     },
     "9158bf46c0714b0daf0897fe027bd230": {
      "model_module": "@jupyter-widgets/controls",
      "model_module_version": "2.0.0",
      "model_name": "CheckboxStyleModel",
      "state": {
       "description_width": ""
      }
     },
     "92138678365f4b9bb0f373f51fac2a4f": {
      "model_module": "@jupyter-widgets/base",
      "model_module_version": "2.0.0",
      "model_name": "LayoutModel",
      "state": {}
     },
     "9251f3c887e547718952bdc9054089f4": {
      "model_module": "@jupyter-widgets/base",
      "model_module_version": "2.0.0",
      "model_name": "LayoutModel",
      "state": {}
     },
     "93821818781c46d0bae9ee0be7a40408": {
      "model_module": "@jupyter-widgets/controls",
      "model_module_version": "2.0.0",
      "model_name": "CheckboxModel",
      "state": {
       "description": "ab",
       "disabled": false,
       "layout": "IPY_MODEL_016c9438d0054b73a1ff056f33948270",
       "style": "IPY_MODEL_7f8c01cca39441b7a79d01d599498607",
       "value": true
      }
     },
     "9394ab1201474e00b01d6dd319674bb9": {
      "model_module": "@jupyter-widgets/base",
      "model_module_version": "2.0.0",
      "model_name": "LayoutModel",
      "state": {}
     },
     "93c8119a0ba24092a21422dede0f6666": {
      "model_module": "@jupyter-widgets/base",
      "model_module_version": "2.0.0",
      "model_name": "LayoutModel",
      "state": {}
     },
     "93dffac4da29411eb29cb5910ebc8be2": {
      "model_module": "@jupyter-widgets/controls",
      "model_module_version": "2.0.0",
      "model_name": "CheckboxModel",
      "state": {
       "description": "Wwb",
       "disabled": false,
       "layout": "IPY_MODEL_d625bdc9a3724102b7b1c837acde7af4",
       "style": "IPY_MODEL_1a9cdd9802644e3da1e9e7dca45ea663",
       "value": true
      }
     },
     "94041da725ee4b6999eb337bef417049": {
      "model_module": "@jupyter-widgets/output",
      "model_module_version": "1.0.0",
      "model_name": "OutputModel",
      "state": {
       "layout": "IPY_MODEL_88e4aadfc0d647c5a5a312687a8fb4cd",
       "outputs": [
        {
         "name": "stdout",
         "output_type": "stream",
         "text": "13 ['ab', 'aj', 'ap', 'am', 'd_V', 'Wwb', 'Wwj', 'Wwp', 'Wwi', 'Ri', 'metamorphosis', 'weaning', 'foetus']\n13 ['ab', 'ax', 'ap', 'am', 'd_V', 'Wwb', 'Wwx', 'Wwp', 'Wwi', 'Ri', 'metamorphosis', 'weaning', 'foetus']\n11 ['ab', 'ap', 'am', 'd_V', 'Wwb', 'Wwp', 'Wwi', 'Ri', 'metamorphosis', 'weaning', 'foetus']\nstd 291 stx 0 abj 41\n332\n"
        }
       ]
      }
     },
     "94050188a0514e079b5967e798a32f49": {
      "model_module": "@jupyter-widgets/base",
      "model_module_version": "2.0.0",
      "model_name": "LayoutModel",
      "state": {}
     },
     "95542c6f8e374e99b8d12732d37303dd": {
      "model_module": "@jupyter-widgets/base",
      "model_module_version": "2.0.0",
      "model_name": "LayoutModel",
      "state": {}
     },
     "95b642bda6244515959fb19b43d2c998": {
      "model_module": "@jupyter-widgets/controls",
      "model_module_version": "2.0.0",
      "model_name": "CheckboxStyleModel",
      "state": {
       "description_width": ""
      }
     },
     "95c33eff136f4160b1a5e871024835fd": {
      "model_module": "@jupyter-widgets/controls",
      "model_module_version": "2.0.0",
      "model_name": "CheckboxStyleModel",
      "state": {
       "description_width": ""
      }
     },
     "975c7c62ee5046fbb10715f38d339d75": {
      "model_module": "@jupyter-widgets/controls",
      "model_module_version": "2.0.0",
      "model_name": "CheckboxStyleModel",
      "state": {
       "description_width": ""
      }
     },
     "975f32388c584ca2831429091ad4d414": {
      "model_module": "@jupyter-widgets/controls",
      "model_module_version": "2.0.0",
      "model_name": "CheckboxModel",
      "state": {
       "description": "Wwj",
       "disabled": false,
       "layout": "IPY_MODEL_7ed8e944bf2f49ccabbfca700122b7cd",
       "style": "IPY_MODEL_5d0d5791bf7f4f63bbf075a95c74628d",
       "value": false
      }
     },
     "977d589207be47f5b75d4a7304a47f2b": {
      "model_module": "@jupyter-widgets/controls",
      "model_module_version": "2.0.0",
      "model_name": "CheckboxModel",
      "state": {
       "description": "ab",
       "disabled": false,
       "layout": "IPY_MODEL_41433a8fe7924e00a7cb40feb7d61b04",
       "style": "IPY_MODEL_03fb5bc7b78e440bb60aa0abeb0ffda5",
       "value": true
      }
     },
     "97fe94aea7a84f979ac07a05c8ec4f67": {
      "model_module": "@jupyter-widgets/controls",
      "model_module_version": "2.0.0",
      "model_name": "CheckboxStyleModel",
      "state": {
       "description_width": ""
      }
     },
     "97fefbda5f6645dda5dd820105081fdb": {
      "model_module": "@jupyter-widgets/controls",
      "model_module_version": "2.0.0",
      "model_name": "CheckboxStyleModel",
      "state": {
       "description_width": ""
      }
     },
     "985f5a58eb254945a071568108be5310": {
      "model_module": "@jupyter-widgets/base",
      "model_module_version": "2.0.0",
      "model_name": "LayoutModel",
      "state": {}
     },
     "986d3395cf4a4316afd7809350487652": {
      "model_module": "@jupyter-widgets/base",
      "model_module_version": "2.0.0",
      "model_name": "LayoutModel",
      "state": {}
     },
     "98907ecfe24c44aaaeeccf1367040b54": {
      "model_module": "@jupyter-widgets/controls",
      "model_module_version": "2.0.0",
      "model_name": "CheckboxStyleModel",
      "state": {
       "description_width": ""
      }
     },
     "98a176f502df453793edb74c606a7e15": {
      "model_module": "@jupyter-widgets/controls",
      "model_module_version": "2.0.0",
      "model_name": "CheckboxStyleModel",
      "state": {
       "description_width": ""
      }
     },
     "98d31065fea642488b2b480b042ca677": {
      "model_module": "@jupyter-widgets/controls",
      "model_module_version": "2.0.0",
      "model_name": "CheckboxStyleModel",
      "state": {
       "description_width": ""
      }
     },
     "99d905c26d284ba6b68cb01cee769e45": {
      "model_module": "@jupyter-widgets/controls",
      "model_module_version": "2.0.0",
      "model_name": "CheckboxModel",
      "state": {
       "description": "Wwx",
       "disabled": false,
       "layout": "IPY_MODEL_93c8119a0ba24092a21422dede0f6666",
       "style": "IPY_MODEL_2bbd279d89014791aa6e4aacdab2ac7c",
       "value": true
      }
     },
     "9b86adb9ec07463da4565727d64061c5": {
      "model_module": "@jupyter-widgets/controls",
      "model_module_version": "2.0.0",
      "model_name": "CheckboxModel",
      "state": {
       "description": "ab",
       "disabled": false,
       "layout": "IPY_MODEL_b146b5f0021a49b9a813d889797be0e8",
       "style": "IPY_MODEL_38468fb34f9b42f79dec21fe55fec0a1",
       "value": true
      }
     },
     "9c33de2d9cd14ab8a061c1cfff29900e": {
      "model_module": "@jupyter-widgets/base",
      "model_module_version": "2.0.0",
      "model_name": "LayoutModel",
      "state": {}
     },
     "9c6bf677c506468b98f7f17b22d76b5a": {
      "model_module": "@jupyter-widgets/base",
      "model_module_version": "2.0.0",
      "model_name": "LayoutModel",
      "state": {}
     },
     "9c96ec648aaf4724a6c2a836891926fe": {
      "model_module": "@jupyter-widgets/controls",
      "model_module_version": "2.0.0",
      "model_name": "HBoxModel",
      "state": {
       "children": [
        "IPY_MODEL_ec223921f2fd40a08e886ebf8815952c",
        "IPY_MODEL_e5fe82cbf40a4ef88f610a240cb1b22a",
        "IPY_MODEL_3a1f57002c81449f9992cb3aa16c6c6e",
        "IPY_MODEL_52868e09c18a47129568b8e1a4e4e5ec",
        "IPY_MODEL_841cc58c8a0c41dc8228052ecdd35797",
        "IPY_MODEL_21d03a98858c4f1fb1b881d4bb2e161b",
        "IPY_MODEL_5b7921a3d53148f6ac198641f6f7474d",
        "IPY_MODEL_43ddcfeeb7084a39977c762916191e4e",
        "IPY_MODEL_67840c43841b4e65a27d040d4865b9f7",
        "IPY_MODEL_624d6a64b0964e10ac417687e919bd71",
        "IPY_MODEL_414723bd2e3e4be7867a843509a8a6ac",
        "IPY_MODEL_265d0f539313482194ec9b35436a25ff"
       ],
       "layout": "IPY_MODEL_acec29dfd0f14f66aa2101660b32ab64"
      }
     },
     "9df36a0f3354466ebc42c146dd4283f6": {
      "model_module": "@jupyter-widgets/base",
      "model_module_version": "2.0.0",
      "model_name": "LayoutModel",
      "state": {}
     },
     "9e84e31030d447049a403209e76f2b21": {
      "model_module": "@jupyter-widgets/base",
      "model_module_version": "2.0.0",
      "model_name": "LayoutModel",
      "state": {}
     },
     "9ec9f54f23d74aedb55e31a13efff1c5": {
      "model_module": "@jupyter-widgets/output",
      "model_module_version": "1.0.0",
      "model_name": "OutputModel",
      "state": {
       "layout": "IPY_MODEL_85e2d26312834044ba5115763bf30fed",
       "outputs": [
        {
         "name": "stdout",
         "output_type": "stream",
         "text": "11 ['ab', 'ap', 'am', 'd_V', 'Wwb', 'Wwp', 'Wwi', 'Ri', 'metamorphosis', 'weaning', 'foetus']\n11 ['ab', 'ap', 'am', 'd_V', 'Wwb', 'Wwp', 'Wwi', 'Ri', 'metamorphosis', 'weaning', 'foetus']\n11 ['ab', 'ap', 'am', 'd_V', 'Wwb', 'Wwp', 'Wwi', 'Ri', 'metamorphosis', 'weaning', 'foetus']\nstd 291\nstx 0\nabj 179\n470\n"
        }
       ]
      }
     },
     "9f8a68ae1dd54ef3b2695001e5ec17a8": {
      "model_module": "@jupyter-widgets/base",
      "model_module_version": "2.0.0",
      "model_name": "LayoutModel",
      "state": {}
     },
     "9f9e1d22d08d44eebf23cd33c5bb4a14": {
      "model_module": "@jupyter-widgets/base",
      "model_module_version": "2.0.0",
      "model_name": "LayoutModel",
      "state": {}
     },
     "9fc76b9e27114372a141a307d473f96e": {
      "model_module": "@jupyter-widgets/base",
      "model_module_version": "2.0.0",
      "model_name": "LayoutModel",
      "state": {}
     },
     "9fee7c4ee60b4c19a5c7cf3a67342572": {
      "model_module": "@jupyter-widgets/base",
      "model_module_version": "2.0.0",
      "model_name": "LayoutModel",
      "state": {}
     },
     "a062540ee467411ca19967a72191d94a": {
      "model_module": "@jupyter-widgets/controls",
      "model_module_version": "2.0.0",
      "model_name": "CheckboxModel",
      "state": {
       "description": "ap",
       "disabled": false,
       "layout": "IPY_MODEL_51a9501792d2401d8241e8dfaecbee15",
       "style": "IPY_MODEL_b286b4c810f742b0a430399e22926099",
       "value": true
      }
     },
     "a0cd70e5b3be4e1a929558c94ecfda36": {
      "model_module": "@jupyter-widgets/controls",
      "model_module_version": "2.0.0",
      "model_name": "CheckboxModel",
      "state": {
       "description": "ap",
       "disabled": false,
       "layout": "IPY_MODEL_9f8a68ae1dd54ef3b2695001e5ec17a8",
       "style": "IPY_MODEL_664544921c9445409da000ebaeacde01",
       "value": true
      }
     },
     "a0ed76d8503e41728178645918f065b9": {
      "model_module": "@jupyter-widgets/base",
      "model_module_version": "2.0.0",
      "model_name": "LayoutModel",
      "state": {}
     },
     "a159c6f2d76c452798754aa709b29f8a": {
      "model_module": "@jupyter-widgets/base",
      "model_module_version": "2.0.0",
      "model_name": "LayoutModel",
      "state": {}
     },
     "a15ad6d8f28a43cc9a80f05b5f60b427": {
      "model_module": "@jupyter-widgets/controls",
      "model_module_version": "2.0.0",
      "model_name": "CheckboxStyleModel",
      "state": {
       "description_width": ""
      }
     },
     "a20079ab65784b9785ac3ae50a7ba0f0": {
      "model_module": "@jupyter-widgets/controls",
      "model_module_version": "2.0.0",
      "model_name": "HBoxModel",
      "state": {
       "children": [
        "IPY_MODEL_93821818781c46d0bae9ee0be7a40408",
        "IPY_MODEL_15d35b3fc3d34f9abd2099b010ec6087",
        "IPY_MODEL_d2a2d0761fb84c0e923edfe088c64795",
        "IPY_MODEL_a0cd70e5b3be4e1a929558c94ecfda36",
        "IPY_MODEL_4eecce38574a4cc692dfe36b3f5ac796",
        "IPY_MODEL_2678fd7094484ea8b15e30ee5dac5953",
        "IPY_MODEL_2a3cd3500f054892acf5cd1f83c881d8",
        "IPY_MODEL_3202496955a645aeb0497b5d42616180",
        "IPY_MODEL_1aaff1e974e941b08abfd8cc06e79d47",
        "IPY_MODEL_1b3b1cbd70504308ab194a6a6a8c8959",
        "IPY_MODEL_e5b20369e2654c01b9a31220c4384cba",
        "IPY_MODEL_1360ec3bb6124628baa4cdc2fe2f1c54"
       ],
       "layout": "IPY_MODEL_a6cb1fdc725b499398ea67892690e354"
      }
     },
     "a2515703dd04447db72f4ff7b2420090": {
      "model_module": "@jupyter-widgets/output",
      "model_module_version": "1.0.0",
      "model_name": "OutputModel",
      "state": {
       "layout": "IPY_MODEL_fe7e38bfb54a41f787374b038b854276",
       "outputs": [
        {
         "ename": "KeyError",
         "evalue": "'metamorphosis'",
         "output_type": "error",
         "traceback": [
          "\u001b[1;31m---------------------------------------------------------------------------\u001b[0m",
          "\u001b[1;31mKeyError\u001b[0m                                  Traceback (most recent call last)",
          "File \u001b[1;32m~\\miniconda3\\envs\\ml_bijection\\lib\\site-packages\\pandas\\core\\indexes\\base.py:3805\u001b[0m, in \u001b[0;36mIndex.get_loc\u001b[1;34m(self, key)\u001b[0m\n\u001b[0;32m   3804\u001b[0m \u001b[38;5;28;01mtry\u001b[39;00m:\n\u001b[1;32m-> 3805\u001b[0m     \u001b[38;5;28;01mreturn\u001b[39;00m \u001b[38;5;28;43mself\u001b[39;49m\u001b[38;5;241;43m.\u001b[39;49m\u001b[43m_engine\u001b[49m\u001b[38;5;241;43m.\u001b[39;49m\u001b[43mget_loc\u001b[49m\u001b[43m(\u001b[49m\u001b[43mcasted_key\u001b[49m\u001b[43m)\u001b[49m\n\u001b[0;32m   3806\u001b[0m \u001b[38;5;28;01mexcept\u001b[39;00m \u001b[38;5;167;01mKeyError\u001b[39;00m \u001b[38;5;28;01mas\u001b[39;00m err:\n",
          "File \u001b[1;32mindex.pyx:167\u001b[0m, in \u001b[0;36mpandas._libs.index.IndexEngine.get_loc\u001b[1;34m()\u001b[0m\n",
          "File \u001b[1;32mindex.pyx:196\u001b[0m, in \u001b[0;36mpandas._libs.index.IndexEngine.get_loc\u001b[1;34m()\u001b[0m\n",
          "File \u001b[1;32mpandas\\\\_libs\\\\hashtable_class_helper.pxi:7081\u001b[0m, in \u001b[0;36mpandas._libs.hashtable.PyObjectHashTable.get_item\u001b[1;34m()\u001b[0m\n",
          "File \u001b[1;32mpandas\\\\_libs\\\\hashtable_class_helper.pxi:7089\u001b[0m, in \u001b[0;36mpandas._libs.hashtable.PyObjectHashTable.get_item\u001b[1;34m()\u001b[0m\n",
          "\u001b[1;31mKeyError\u001b[0m: 'metamorphosis'",
          "\nThe above exception was the direct cause of the following exception:\n",
          "\u001b[1;31mKeyError\u001b[0m                                  Traceback (most recent call last)",
          "File \u001b[1;32m~\\miniconda3\\envs\\ml_bijection\\lib\\site-packages\\ipywidgets\\widgets\\interaction.py:240\u001b[0m, in \u001b[0;36minteractive.update\u001b[1;34m(self, *args)\u001b[0m\n\u001b[0;32m    238\u001b[0m     value \u001b[38;5;241m=\u001b[39m widget\u001b[38;5;241m.\u001b[39mget_interact_value()\n\u001b[0;32m    239\u001b[0m     \u001b[38;5;28mself\u001b[39m\u001b[38;5;241m.\u001b[39mkwargs[widget\u001b[38;5;241m.\u001b[39m_kwarg] \u001b[38;5;241m=\u001b[39m value\n\u001b[1;32m--> 240\u001b[0m \u001b[38;5;28mself\u001b[39m\u001b[38;5;241m.\u001b[39mresult \u001b[38;5;241m=\u001b[39m \u001b[38;5;28mself\u001b[39m\u001b[38;5;241m.\u001b[39mf(\u001b[38;5;241m*\u001b[39m\u001b[38;5;241m*\u001b[39m\u001b[38;5;28mself\u001b[39m\u001b[38;5;241m.\u001b[39mkwargs)\n\u001b[0;32m    241\u001b[0m show_inline_matplotlib_plots()\n\u001b[0;32m    242\u001b[0m \u001b[38;5;28;01mif\u001b[39;00m \u001b[38;5;28mself\u001b[39m\u001b[38;5;241m.\u001b[39mauto_display \u001b[38;5;129;01mand\u001b[39;00m \u001b[38;5;28mself\u001b[39m\u001b[38;5;241m.\u001b[39mresult \u001b[38;5;129;01mis\u001b[39;00m \u001b[38;5;129;01mnot\u001b[39;00m \u001b[38;5;28;01mNone\u001b[39;00m:\n",
          "Cell \u001b[1;32mIn[34], line 9\u001b[0m, in \u001b[0;36mprint_selected_columns\u001b[1;34m(**kwargs)\u001b[0m\n\u001b[0;32m      7\u001b[0m selected_columns \u001b[38;5;241m=\u001b[39m [col \u001b[38;5;28;01mfor\u001b[39;00m col, selected \u001b[38;5;129;01min\u001b[39;00m kwargs\u001b[38;5;241m.\u001b[39mitems() \u001b[38;5;28;01mif\u001b[39;00m selected]\n\u001b[0;32m      8\u001b[0m sel_df \u001b[38;5;241m=\u001b[39m filled_data[selected_columns]\n\u001b[1;32m----> 9\u001b[0m sel_df \u001b[38;5;241m=\u001b[39m \u001b[43mdrop_species_with_missing_values\u001b[49m\u001b[43m(\u001b[49m\u001b[43msel_df\u001b[49m\u001b[43m)\u001b[49m\n\u001b[0;32m     10\u001b[0m \u001b[38;5;28mprint\u001b[39m(\u001b[38;5;28mlen\u001b[39m(sel_df))\n",
          "Cell \u001b[1;32mIn[33], line 8\u001b[0m, in \u001b[0;36mdrop_species_with_missing_values\u001b[1;34m(df)\u001b[0m\n\u001b[0;32m      6\u001b[0m subset \u001b[38;5;241m=\u001b[39m [col \u001b[38;5;28;01mfor\u001b[39;00m col \u001b[38;5;129;01min\u001b[39;00m df\u001b[38;5;241m.\u001b[39mcolumns \u001b[38;5;28;01mif\u001b[39;00m col \u001b[38;5;129;01mnot\u001b[39;00m \u001b[38;5;129;01min\u001b[39;00m stx_columns]\n\u001b[0;32m      7\u001b[0m \u001b[38;5;66;03m#print(len(subset), subset)\u001b[39;00m\n\u001b[1;32m----> 8\u001b[0m abj_df \u001b[38;5;241m=\u001b[39m df[\u001b[43mdf\u001b[49m\u001b[43m[\u001b[49m\u001b[38;5;124;43m'\u001b[39;49m\u001b[38;5;124;43mmetamorphosis\u001b[39;49m\u001b[38;5;124;43m'\u001b[39;49m\u001b[43m]\u001b[49m]\u001b[38;5;241m.\u001b[39mdropna(subset\u001b[38;5;241m=\u001b[39msubset)\n\u001b[0;32m     10\u001b[0m \u001b[38;5;66;03m# stx models\u001b[39;00m\n\u001b[0;32m     11\u001b[0m subset \u001b[38;5;241m=\u001b[39m [col \u001b[38;5;28;01mfor\u001b[39;00m col \u001b[38;5;129;01min\u001b[39;00m df\u001b[38;5;241m.\u001b[39mcolumns \u001b[38;5;28;01mif\u001b[39;00m col \u001b[38;5;129;01mnot\u001b[39;00m \u001b[38;5;129;01min\u001b[39;00m abj_columns]\n",
          "File \u001b[1;32m~\\miniconda3\\envs\\ml_bijection\\lib\\site-packages\\pandas\\core\\frame.py:4102\u001b[0m, in \u001b[0;36mDataFrame.__getitem__\u001b[1;34m(self, key)\u001b[0m\n\u001b[0;32m   4100\u001b[0m \u001b[38;5;28;01mif\u001b[39;00m \u001b[38;5;28mself\u001b[39m\u001b[38;5;241m.\u001b[39mcolumns\u001b[38;5;241m.\u001b[39mnlevels \u001b[38;5;241m>\u001b[39m \u001b[38;5;241m1\u001b[39m:\n\u001b[0;32m   4101\u001b[0m     \u001b[38;5;28;01mreturn\u001b[39;00m \u001b[38;5;28mself\u001b[39m\u001b[38;5;241m.\u001b[39m_getitem_multilevel(key)\n\u001b[1;32m-> 4102\u001b[0m indexer \u001b[38;5;241m=\u001b[39m \u001b[38;5;28;43mself\u001b[39;49m\u001b[38;5;241;43m.\u001b[39;49m\u001b[43mcolumns\u001b[49m\u001b[38;5;241;43m.\u001b[39;49m\u001b[43mget_loc\u001b[49m\u001b[43m(\u001b[49m\u001b[43mkey\u001b[49m\u001b[43m)\u001b[49m\n\u001b[0;32m   4103\u001b[0m \u001b[38;5;28;01mif\u001b[39;00m is_integer(indexer):\n\u001b[0;32m   4104\u001b[0m     indexer \u001b[38;5;241m=\u001b[39m [indexer]\n",
          "File \u001b[1;32m~\\miniconda3\\envs\\ml_bijection\\lib\\site-packages\\pandas\\core\\indexes\\base.py:3812\u001b[0m, in \u001b[0;36mIndex.get_loc\u001b[1;34m(self, key)\u001b[0m\n\u001b[0;32m   3807\u001b[0m     \u001b[38;5;28;01mif\u001b[39;00m \u001b[38;5;28misinstance\u001b[39m(casted_key, \u001b[38;5;28mslice\u001b[39m) \u001b[38;5;129;01mor\u001b[39;00m (\n\u001b[0;32m   3808\u001b[0m         \u001b[38;5;28misinstance\u001b[39m(casted_key, abc\u001b[38;5;241m.\u001b[39mIterable)\n\u001b[0;32m   3809\u001b[0m         \u001b[38;5;129;01mand\u001b[39;00m \u001b[38;5;28many\u001b[39m(\u001b[38;5;28misinstance\u001b[39m(x, \u001b[38;5;28mslice\u001b[39m) \u001b[38;5;28;01mfor\u001b[39;00m x \u001b[38;5;129;01min\u001b[39;00m casted_key)\n\u001b[0;32m   3810\u001b[0m     ):\n\u001b[0;32m   3811\u001b[0m         \u001b[38;5;28;01mraise\u001b[39;00m InvalidIndexError(key)\n\u001b[1;32m-> 3812\u001b[0m     \u001b[38;5;28;01mraise\u001b[39;00m \u001b[38;5;167;01mKeyError\u001b[39;00m(key) \u001b[38;5;28;01mfrom\u001b[39;00m \u001b[38;5;21;01merr\u001b[39;00m\n\u001b[0;32m   3813\u001b[0m \u001b[38;5;28;01mexcept\u001b[39;00m \u001b[38;5;167;01mTypeError\u001b[39;00m:\n\u001b[0;32m   3814\u001b[0m     \u001b[38;5;66;03m# If we have a listlike key, _check_indexing_error will raise\u001b[39;00m\n\u001b[0;32m   3815\u001b[0m     \u001b[38;5;66;03m#  InvalidIndexError. Otherwise we fall through and re-raise\u001b[39;00m\n\u001b[0;32m   3816\u001b[0m     \u001b[38;5;66;03m#  the TypeError.\u001b[39;00m\n\u001b[0;32m   3817\u001b[0m     \u001b[38;5;28mself\u001b[39m\u001b[38;5;241m.\u001b[39m_check_indexing_error(key)\n",
          "\u001b[1;31mKeyError\u001b[0m: 'metamorphosis'"
         ]
        }
       ]
      }
     },
     "a32127692e34480e8aa7c04433fdd270": {
      "model_module": "@jupyter-widgets/base",
      "model_module_version": "2.0.0",
      "model_name": "LayoutModel",
      "state": {}
     },
     "a412c85b76fc46feab761676e0652322": {
      "model_module": "@jupyter-widgets/controls",
      "model_module_version": "2.0.0",
      "model_name": "CheckboxModel",
      "state": {
       "description": "Ri",
       "disabled": false,
       "layout": "IPY_MODEL_04c6913b045b4aefb7694fbfbde203b1",
       "style": "IPY_MODEL_31bdf7475ee1458b800a1d609d4b429b",
       "value": true
      }
     },
     "a4350f13b02b4056abcf5a64238209bf": {
      "model_module": "@jupyter-widgets/controls",
      "model_module_version": "2.0.0",
      "model_name": "CheckboxStyleModel",
      "state": {
       "description_width": ""
      }
     },
     "a4f5028c8fa64be7892f533077340248": {
      "model_module": "@jupyter-widgets/controls",
      "model_module_version": "2.0.0",
      "model_name": "CheckboxStyleModel",
      "state": {
       "description_width": ""
      }
     },
     "a503f2937ab541e1bad4804e75a13748": {
      "model_module": "@jupyter-widgets/controls",
      "model_module_version": "2.0.0",
      "model_name": "CheckboxStyleModel",
      "state": {
       "description_width": ""
      }
     },
     "a526033b1ec94b6fb9638483e0196480": {
      "model_module": "@jupyter-widgets/base",
      "model_module_version": "2.0.0",
      "model_name": "LayoutModel",
      "state": {}
     },
     "a574e8128c0e4529adc98706894ca64e": {
      "model_module": "@jupyter-widgets/controls",
      "model_module_version": "2.0.0",
      "model_name": "CheckboxStyleModel",
      "state": {
       "description_width": ""
      }
     },
     "a66d89a80a8e48908fb720cee6b8a76b": {
      "model_module": "@jupyter-widgets/base",
      "model_module_version": "2.0.0",
      "model_name": "LayoutModel",
      "state": {}
     },
     "a6cb1fdc725b499398ea67892690e354": {
      "model_module": "@jupyter-widgets/base",
      "model_module_version": "2.0.0",
      "model_name": "LayoutModel",
      "state": {}
     },
     "a7fc569e7dab4837aae1cafb87ab71f0": {
      "model_module": "@jupyter-widgets/base",
      "model_module_version": "2.0.0",
      "model_name": "LayoutModel",
      "state": {}
     },
     "a819acc113554bdfbe9bfd8dc781c155": {
      "model_module": "@jupyter-widgets/controls",
      "model_module_version": "2.0.0",
      "model_name": "CheckboxStyleModel",
      "state": {
       "description_width": ""
      }
     },
     "a8d0334f96434ee9a7d660d5f26dc901": {
      "model_module": "@jupyter-widgets/controls",
      "model_module_version": "2.0.0",
      "model_name": "CheckboxStyleModel",
      "state": {
       "description_width": ""
      }
     },
     "a9ab82e1fafc458f8def0d1c0becc067": {
      "model_module": "@jupyter-widgets/controls",
      "model_module_version": "2.0.0",
      "model_name": "CheckboxModel",
      "state": {
       "description": "Wwj",
       "disabled": false,
       "layout": "IPY_MODEL_637525596f3b4382aa641a8fff7a96dc",
       "style": "IPY_MODEL_09a00005a55a45ca963ed9ca7dca1bf1",
       "value": false
      }
     },
     "a9d0c1a547a0414e812c22ed8d5bc2c2": {
      "model_module": "@jupyter-widgets/controls",
      "model_module_version": "2.0.0",
      "model_name": "CheckboxStyleModel",
      "state": {
       "description_width": ""
      }
     },
     "a9f3131bbe0a4247a896484bdd16cc2e": {
      "model_module": "@jupyter-widgets/controls",
      "model_module_version": "2.0.0",
      "model_name": "CheckboxStyleModel",
      "state": {
       "description_width": ""
      }
     },
     "ac36075342364c69bfea8609be06b83e": {
      "model_module": "@jupyter-widgets/base",
      "model_module_version": "2.0.0",
      "model_name": "LayoutModel",
      "state": {}
     },
     "acec29dfd0f14f66aa2101660b32ab64": {
      "model_module": "@jupyter-widgets/base",
      "model_module_version": "2.0.0",
      "model_name": "LayoutModel",
      "state": {}
     },
     "adc9ee0171ce4200a79c51d08a7bad39": {
      "model_module": "@jupyter-widgets/base",
      "model_module_version": "2.0.0",
      "model_name": "LayoutModel",
      "state": {}
     },
     "ae222cfe844041839c48431ca4f53bea": {
      "model_module": "@jupyter-widgets/controls",
      "model_module_version": "2.0.0",
      "model_name": "CheckboxStyleModel",
      "state": {
       "description_width": ""
      }
     },
     "ae421c0320524a4d90bf2074271598ce": {
      "model_module": "@jupyter-widgets/controls",
      "model_module_version": "2.0.0",
      "model_name": "VBoxModel",
      "state": {
       "_dom_classes": [
        "widget-interact"
       ],
       "children": [
        "IPY_MODEL_39e698c71a3e40ea891604fed59fa3a3",
        "IPY_MODEL_7369880d0fd34403b71bae6e0307bfb1",
        "IPY_MODEL_c6600b1240c74df28664c29449b06e7d",
        "IPY_MODEL_1864bc063a4543f7b8f8e0669bc362e8",
        "IPY_MODEL_84304806b3f84be693ca852613a46ebb",
        "IPY_MODEL_7906070e73b9433599632e64993d6851",
        "IPY_MODEL_c92bcbf072f54b99889be787c334dfe9",
        "IPY_MODEL_08e95b26a37f41f2ad90a3931fb644fd",
        "IPY_MODEL_a9ab82e1fafc458f8def0d1c0becc067",
        "IPY_MODEL_dc3c41723fe9448485889e9a4e520817",
        "IPY_MODEL_47a3db0338744b519eb06435e6a2d9aa",
        "IPY_MODEL_184d16052ccf4e82bd1ae0b624ca135f",
        "IPY_MODEL_0203695f4c224f1aa183ff4a2a467687"
       ],
       "layout": "IPY_MODEL_3f9fd5c53d574e3e91e043e0629a304e"
      }
     },
     "ae501eddf6f144ebba68574a37c3cc26": {
      "model_module": "@jupyter-widgets/controls",
      "model_module_version": "2.0.0",
      "model_name": "CheckboxStyleModel",
      "state": {
       "description_width": ""
      }
     },
     "aebcdf334fc04edf81b4db9d31ce90b9": {
      "model_module": "@jupyter-widgets/base",
      "model_module_version": "2.0.0",
      "model_name": "LayoutModel",
      "state": {}
     },
     "af0241b9c85e41f2870b5858c0018ada": {
      "model_module": "@jupyter-widgets/controls",
      "model_module_version": "2.0.0",
      "model_name": "CheckboxStyleModel",
      "state": {
       "description_width": ""
      }
     },
     "af938bca4db340e6be8daa641f246568": {
      "model_module": "@jupyter-widgets/controls",
      "model_module_version": "2.0.0",
      "model_name": "CheckboxStyleModel",
      "state": {
       "description_width": ""
      }
     },
     "afdc9872271f449cab31e5c5b1cb4b4b": {
      "model_module": "@jupyter-widgets/controls",
      "model_module_version": "2.0.0",
      "model_name": "CheckboxStyleModel",
      "state": {
       "description_width": ""
      }
     },
     "afe7de20533c4b39a76205b02fd57faa": {
      "model_module": "@jupyter-widgets/controls",
      "model_module_version": "2.0.0",
      "model_name": "CheckboxStyleModel",
      "state": {
       "description_width": ""
      }
     },
     "affeb2f8656941b9915e8b241bbb3974": {
      "model_module": "@jupyter-widgets/base",
      "model_module_version": "2.0.0",
      "model_name": "LayoutModel",
      "state": {}
     },
     "b146b5f0021a49b9a813d889797be0e8": {
      "model_module": "@jupyter-widgets/base",
      "model_module_version": "2.0.0",
      "model_name": "LayoutModel",
      "state": {}
     },
     "b19672bd81834ed0914e3bf1953bb015": {
      "model_module": "@jupyter-widgets/base",
      "model_module_version": "2.0.0",
      "model_name": "LayoutModel",
      "state": {}
     },
     "b286b4c810f742b0a430399e22926099": {
      "model_module": "@jupyter-widgets/controls",
      "model_module_version": "2.0.0",
      "model_name": "CheckboxStyleModel",
      "state": {
       "description_width": ""
      }
     },
     "b320436f2be24cf985a1cd04f6f29fdc": {
      "model_module": "@jupyter-widgets/base",
      "model_module_version": "2.0.0",
      "model_name": "LayoutModel",
      "state": {}
     },
     "b334887bcd6e4dfdbc1257b3eef73642": {
      "model_module": "@jupyter-widgets/controls",
      "model_module_version": "2.0.0",
      "model_name": "CheckboxStyleModel",
      "state": {
       "description_width": ""
      }
     },
     "b36c59ab42294465b660502ecadeb934": {
      "model_module": "@jupyter-widgets/controls",
      "model_module_version": "2.0.0",
      "model_name": "VBoxModel",
      "state": {
       "_dom_classes": [
        "widget-interact"
       ],
       "children": [
        "IPY_MODEL_12222f243aca412085d66504427dfc20",
        "IPY_MODEL_61a0af46f9e3426bb4b5b4a8e7164fbd",
        "IPY_MODEL_78bc15a463f54414b5bd021f83c1c17c",
        "IPY_MODEL_cc8fefa4c70144a78a9df9e997c9dcbe",
        "IPY_MODEL_17cedf9783d74d9fa60d274005a8bf53",
        "IPY_MODEL_5626df4e9c3241d0a3dee7f41886ae3a",
        "IPY_MODEL_eedf11ebbd724c6ea085b8714b31eccd",
        "IPY_MODEL_4081b19e3c174c44840ad864e25b53c3",
        "IPY_MODEL_78fd92a01c6b40e883330b171b8bb424",
        "IPY_MODEL_17a3a25eddbe4460b5ff934ee58eb781",
        "IPY_MODEL_1573f09bbecf4a52bf714a2e6f3495b7",
        "IPY_MODEL_33d6db5793ad4c0dbdc0d894db75c2a6",
        "IPY_MODEL_204b409279544a058a3a13ba1e4534e0"
       ],
       "layout": "IPY_MODEL_f7f540bc1eeb4d8b9b00209850cdb316"
      }
     },
     "b47f2f0e87b94465befb74b9f1b530b4": {
      "model_module": "@jupyter-widgets/controls",
      "model_module_version": "2.0.0",
      "model_name": "CheckboxModel",
      "state": {
       "description": "Wwj",
       "disabled": false,
       "layout": "IPY_MODEL_34def0056f1d4a119c93843332ea2acd",
       "style": "IPY_MODEL_d2fa2153e7474a1eb937d3554819667f",
       "value": true
      }
     },
     "b4e9c23f865c43dc8dc98e3bc29ac545": {
      "model_module": "@jupyter-widgets/base",
      "model_module_version": "2.0.0",
      "model_name": "LayoutModel",
      "state": {}
     },
     "b55190d8c04443f1a43c37806d3c0b00": {
      "model_module": "@jupyter-widgets/controls",
      "model_module_version": "2.0.0",
      "model_name": "CheckboxModel",
      "state": {
       "description": "ap",
       "disabled": false,
       "layout": "IPY_MODEL_133393bdf2a24a349679940b27870fbb",
       "style": "IPY_MODEL_50d168ea3b8b4a418d360ae5469c4429",
       "value": true
      }
     },
     "b5d46394d6a54e6c8f3c73f1efbcdfc1": {
      "model_module": "@jupyter-widgets/controls",
      "model_module_version": "2.0.0",
      "model_name": "CheckboxStyleModel",
      "state": {
       "description_width": ""
      }
     },
     "b5e15fcc92cf4d31ad9c10a200837651": {
      "model_module": "@jupyter-widgets/controls",
      "model_module_version": "2.0.0",
      "model_name": "CheckboxModel",
      "state": {
       "description": "d_V",
       "disabled": false,
       "layout": "IPY_MODEL_6cd0782a26274ea69829e4af204fcb59",
       "style": "IPY_MODEL_20b8e511bba14952b742dcc7840594d1",
       "value": true
      }
     },
     "b6267f7c30da4c77b2be79e1331ba0f6": {
      "model_module": "@jupyter-widgets/controls",
      "model_module_version": "2.0.0",
      "model_name": "CheckboxStyleModel",
      "state": {
       "description_width": ""
      }
     },
     "b68587c845854f0c86a126a1d3ee14cf": {
      "model_module": "@jupyter-widgets/base",
      "model_module_version": "2.0.0",
      "model_name": "LayoutModel",
      "state": {}
     },
     "b7cefa6967b548a3ad7a0a59eaa410c0": {
      "model_module": "@jupyter-widgets/controls",
      "model_module_version": "2.0.0",
      "model_name": "CheckboxModel",
      "state": {
       "description": "aj",
       "disabled": false,
       "layout": "IPY_MODEL_5d8bf0640d8a4cf4bb74f4d80a6f26e3",
       "style": "IPY_MODEL_afdc9872271f449cab31e5c5b1cb4b4b",
       "value": false
      }
     },
     "b91d363ed7dc41dc8bdc468b77948ca4": {
      "model_module": "@jupyter-widgets/base",
      "model_module_version": "2.0.0",
      "model_name": "LayoutModel",
      "state": {}
     },
     "ba255d5620bd4956824a42feb75fee4b": {
      "model_module": "@jupyter-widgets/controls",
      "model_module_version": "2.0.0",
      "model_name": "CheckboxStyleModel",
      "state": {
       "description_width": ""
      }
     },
     "ba3e86bdd9c44ed391f2d81c3fd13ef0": {
      "model_module": "@jupyter-widgets/controls",
      "model_module_version": "2.0.0",
      "model_name": "CheckboxModel",
      "state": {
       "description": "Wwp",
       "disabled": false,
       "layout": "IPY_MODEL_72bb95f9fd064550b0f9e098c96a4209",
       "style": "IPY_MODEL_ba255d5620bd4956824a42feb75fee4b",
       "value": false
      }
     },
     "ba7792be115e48748f8c4c054cf5d792": {
      "model_module": "@jupyter-widgets/controls",
      "model_module_version": "2.0.0",
      "model_name": "CheckboxModel",
      "state": {
       "description": "aj",
       "disabled": false,
       "layout": "IPY_MODEL_5df08c3bf01e415eac3d55c7bec2996a",
       "style": "IPY_MODEL_2cd5c1d62963433894413552490f68d4",
       "value": false
      }
     },
     "bc17372f51fb42d09798e9a6f15c28b0": {
      "model_module": "@jupyter-widgets/base",
      "model_module_version": "2.0.0",
      "model_name": "LayoutModel",
      "state": {}
     },
     "bc18a84ea5044da0b905e401ece1385a": {
      "model_module": "@jupyter-widgets/base",
      "model_module_version": "2.0.0",
      "model_name": "LayoutModel",
      "state": {}
     },
     "bc35f008258d49a1ae3ce9506ef5ac52": {
      "model_module": "@jupyter-widgets/controls",
      "model_module_version": "2.0.0",
      "model_name": "CheckboxModel",
      "state": {
       "description": "Wwp",
       "disabled": false,
       "layout": "IPY_MODEL_9e84e31030d447049a403209e76f2b21",
       "style": "IPY_MODEL_12c71ae4764045da9a029f01e199d7ce",
       "value": true
      }
     },
     "bda6ab1750d24b8180d081ae10999c8a": {
      "model_module": "@jupyter-widgets/controls",
      "model_module_version": "2.0.0",
      "model_name": "VBoxModel",
      "state": {
       "_dom_classes": [
        "widget-interact"
       ],
       "children": [
        "IPY_MODEL_747778dd0f624a0299015c6f1a1f45ce",
        "IPY_MODEL_74466239874141c98d3d6e55a2c08a08",
        "IPY_MODEL_b7cefa6967b548a3ad7a0a59eaa410c0",
        "IPY_MODEL_5ecbb56bca8b4da0aac6f1cb217e1d35",
        "IPY_MODEL_8cb9ff95e0a947a7b90e6d7214bab5f0",
        "IPY_MODEL_20b7315a21344b8aa574f580d9ea28f4",
        "IPY_MODEL_764804826a8146359dcd0934b7d2cc54",
        "IPY_MODEL_fc05874ad9c1454fba64afcdb932e34b",
        "IPY_MODEL_35898c07019a454aa20f45389ad9bbda",
        "IPY_MODEL_ba3e86bdd9c44ed391f2d81c3fd13ef0",
        "IPY_MODEL_0f2d69d9830045b7b51646d1ba5e6f18",
        "IPY_MODEL_1d081ac8b34847b3b202f05fea0759de",
        "IPY_MODEL_101e0f89a03847b7b3d4b80fc3d60ffd"
       ],
       "layout": "IPY_MODEL_fdbdb3c36999405d87b8c503895893bc"
      }
     },
     "bddf4e30b1c244cd8f38684626f3b966": {
      "model_module": "@jupyter-widgets/controls",
      "model_module_version": "2.0.0",
      "model_name": "CheckboxStyleModel",
      "state": {
       "description_width": ""
      }
     },
     "be001e3d2072499f88afa29e5994d9ca": {
      "model_module": "@jupyter-widgets/base",
      "model_module_version": "2.0.0",
      "model_name": "LayoutModel",
      "state": {}
     },
     "be7e826737fc44988128a67657be06f2": {
      "model_module": "@jupyter-widgets/controls",
      "model_module_version": "2.0.0",
      "model_name": "CheckboxStyleModel",
      "state": {
       "description_width": ""
      }
     },
     "bf176ba8263043e784b817b621ec798c": {
      "model_module": "@jupyter-widgets/base",
      "model_module_version": "2.0.0",
      "model_name": "LayoutModel",
      "state": {}
     },
     "bfa7b99c826945b5b882841dcf924808": {
      "model_module": "@jupyter-widgets/controls",
      "model_module_version": "2.0.0",
      "model_name": "CheckboxModel",
      "state": {
       "description": "ax",
       "disabled": false,
       "layout": "IPY_MODEL_7c722590906249cea08b81322aa1a268",
       "style": "IPY_MODEL_2625c63445d843de9ee4b92aed163092",
       "value": true
      }
     },
     "c1789220d7d847dcac16a50d0ce7c106": {
      "model_module": "@jupyter-widgets/base",
      "model_module_version": "2.0.0",
      "model_name": "LayoutModel",
      "state": {}
     },
     "c2e9e7185e3e43509156ac1b2879007d": {
      "model_module": "@jupyter-widgets/base",
      "model_module_version": "2.0.0",
      "model_name": "LayoutModel",
      "state": {}
     },
     "c32937ec0c0b48efbc8a8c0b9eec9576": {
      "model_module": "@jupyter-widgets/controls",
      "model_module_version": "2.0.0",
      "model_name": "HBoxModel",
      "state": {
       "children": [
        "IPY_MODEL_1a0192364018414c85e3e8fc5f8597d5",
        "IPY_MODEL_f10dea51b35f457086062c106813c930",
        "IPY_MODEL_c79eb2ef14fb4c3d841dcd6812857d45",
        "IPY_MODEL_0ac77252ac1941b4ba2194698e15034c",
        "IPY_MODEL_3b195028cc164b7abdc764af1062ccbd",
        "IPY_MODEL_fd73680fb73d4fc98d926e5a038d9fcb",
        "IPY_MODEL_8b5e72c1a3d54fd18840b967dc3f2e32",
        "IPY_MODEL_70b886fb0d9c4353b62960c0b86f22a1",
        "IPY_MODEL_975f32388c584ca2831429091ad4d414",
        "IPY_MODEL_e93d8cc582554a5898be9239106309e3",
        "IPY_MODEL_c40805f9abeb42278a82d6fb5760f399",
        "IPY_MODEL_4677b9a01d8749139da7a82b37e190b6"
       ],
       "layout": "IPY_MODEL_3d5e89b9a2dc4d2bafa279c2d5db5b08"
      }
     },
     "c3a68418895846aabeefd53577528aea": {
      "model_module": "@jupyter-widgets/base",
      "model_module_version": "2.0.0",
      "model_name": "LayoutModel",
      "state": {}
     },
     "c3ad150a64f149a9adbc8c25bf8fcf38": {
      "model_module": "@jupyter-widgets/controls",
      "model_module_version": "2.0.0",
      "model_name": "VBoxModel",
      "state": {
       "_dom_classes": [
        "widget-interact"
       ],
       "children": [
        "IPY_MODEL_382fbe184f424df597754141f33a8ecb",
        "IPY_MODEL_7d7a76f4bc2742b9b1086c34ced6052b",
        "IPY_MODEL_8ef70d9f974e40ff8513403f8b8268ec",
        "IPY_MODEL_f2527e8fbd084c98adb831835b8a83c9",
        "IPY_MODEL_f532be848cb7498b995c275e0a9f3a2a",
        "IPY_MODEL_7d21edd5e67f43409b134984faa8b5fc",
        "IPY_MODEL_d64155a2979e4e319b4a3b72c30075c8",
        "IPY_MODEL_a412c85b76fc46feab761676e0652322",
        "IPY_MODEL_1dfc9686054d4568ad44e37697f12124"
       ],
       "layout": "IPY_MODEL_9394ab1201474e00b01d6dd319674bb9"
      }
     },
     "c40805f9abeb42278a82d6fb5760f399": {
      "model_module": "@jupyter-widgets/controls",
      "model_module_version": "2.0.0",
      "model_name": "CheckboxModel",
      "state": {
       "description": "Wwi",
       "disabled": false,
       "layout": "IPY_MODEL_e6a66fb23c3d4fdc9ba5223c5fd464fb",
       "style": "IPY_MODEL_44d14add72684c83af049760f6d3ca0e",
       "value": true
      }
     },
     "c4d9895b1b244862bdb311e453f7e3af": {
      "model_module": "@jupyter-widgets/base",
      "model_module_version": "2.0.0",
      "model_name": "LayoutModel",
      "state": {}
     },
     "c642f3fec2054cfcaceed1f369f160a0": {
      "model_module": "@jupyter-widgets/base",
      "model_module_version": "2.0.0",
      "model_name": "LayoutModel",
      "state": {}
     },
     "c6600b1240c74df28664c29449b06e7d": {
      "model_module": "@jupyter-widgets/controls",
      "model_module_version": "2.0.0",
      "model_name": "CheckboxModel",
      "state": {
       "description": "aj",
       "disabled": false,
       "layout": "IPY_MODEL_231788b69f9a45c5b2f7d06ba2241ce6",
       "style": "IPY_MODEL_e84b663b8b2c4f7bba9d1e56579c1719",
       "value": true
      }
     },
     "c74ce7eacf5746bea4264a5dba62d830": {
      "model_module": "@jupyter-widgets/base",
      "model_module_version": "2.0.0",
      "model_name": "LayoutModel",
      "state": {}
     },
     "c7609b4ad6eb4a479832a5b9dcdeb432": {
      "model_module": "@jupyter-widgets/base",
      "model_module_version": "2.0.0",
      "model_name": "LayoutModel",
      "state": {}
     },
     "c78d295d6cf84ee8a56d10de360ccb77": {
      "model_module": "@jupyter-widgets/controls",
      "model_module_version": "2.0.0",
      "model_name": "CheckboxModel",
      "state": {
       "description": "Wwp",
       "disabled": false,
       "layout": "IPY_MODEL_2c3c930120eb45cda195e8d7753f7dc2",
       "style": "IPY_MODEL_a503f2937ab541e1bad4804e75a13748",
       "value": true
      }
     },
     "c79eb2ef14fb4c3d841dcd6812857d45": {
      "model_module": "@jupyter-widgets/controls",
      "model_module_version": "2.0.0",
      "model_name": "CheckboxModel",
      "state": {
       "description": "aj",
       "disabled": false,
       "layout": "IPY_MODEL_9c33de2d9cd14ab8a061c1cfff29900e",
       "style": "IPY_MODEL_60007bc85d494966a55828c6566a0ab7",
       "value": false
      }
     },
     "c878144ea2e94e4aaa253dd84b03bb79": {
      "model_module": "@jupyter-widgets/controls",
      "model_module_version": "2.0.0",
      "model_name": "CheckboxModel",
      "state": {
       "description": "Wwx",
       "disabled": false,
       "layout": "IPY_MODEL_2365d7e0fa99467b8d5e0ce802674091",
       "style": "IPY_MODEL_2c52187ec900471dbe9632a160286e46",
       "value": false
      }
     },
     "c92bcbf072f54b99889be787c334dfe9": {
      "model_module": "@jupyter-widgets/controls",
      "model_module_version": "2.0.0",
      "model_name": "CheckboxModel",
      "state": {
       "description": "Wwb",
       "disabled": false,
       "layout": "IPY_MODEL_affeb2f8656941b9915e8b241bbb3974",
       "style": "IPY_MODEL_12a0812a50ef41758d2af525f2c5d0c7",
       "value": true
      }
     },
     "cc8fefa4c70144a78a9df9e997c9dcbe": {
      "model_module": "@jupyter-widgets/controls",
      "model_module_version": "2.0.0",
      "model_name": "CheckboxModel",
      "state": {
       "description": "ap",
       "disabled": false,
       "layout": "IPY_MODEL_64df2d0e107a44acba4697aed07c003d",
       "style": "IPY_MODEL_e64cb0e49fb0402e968d47bf7ceb3847",
       "value": true
      }
     },
     "cd2d940bb45f48b18c8a730d1364bd55": {
      "model_module": "@jupyter-widgets/controls",
      "model_module_version": "2.0.0",
      "model_name": "CheckboxStyleModel",
      "state": {
       "description_width": ""
      }
     },
     "cdf48056800e44208d38b7fd7880a06e": {
      "model_module": "@jupyter-widgets/controls",
      "model_module_version": "2.0.0",
      "model_name": "CheckboxModel",
      "state": {
       "description": "aj",
       "disabled": false,
       "layout": "IPY_MODEL_0dcac952462d4ab290feeb9f5b98ee0c",
       "style": "IPY_MODEL_478a1e54ad214b09badc3cab4d15d7db",
       "value": false
      }
     },
     "ceee06c130004e638dbdbfbcff81d80f": {
      "model_module": "@jupyter-widgets/controls",
      "model_module_version": "2.0.0",
      "model_name": "CheckboxStyleModel",
      "state": {
       "description_width": ""
      }
     },
     "d1ad47ee10a1400f8c14dedb61268ca1": {
      "model_module": "@jupyter-widgets/base",
      "model_module_version": "2.0.0",
      "model_name": "LayoutModel",
      "state": {}
     },
     "d2a2d0761fb84c0e923edfe088c64795": {
      "model_module": "@jupyter-widgets/controls",
      "model_module_version": "2.0.0",
      "model_name": "CheckboxModel",
      "state": {
       "description": "aj",
       "disabled": false,
       "layout": "IPY_MODEL_5c3ac79f6c464644917241122f30394a",
       "style": "IPY_MODEL_ceee06c130004e638dbdbfbcff81d80f",
       "value": false
      }
     },
     "d2d4fa4334904f95a70a5c225a49d7bf": {
      "model_module": "@jupyter-widgets/controls",
      "model_module_version": "2.0.0",
      "model_name": "CheckboxStyleModel",
      "state": {
       "description_width": ""
      }
     },
     "d2fa2153e7474a1eb937d3554819667f": {
      "model_module": "@jupyter-widgets/controls",
      "model_module_version": "2.0.0",
      "model_name": "CheckboxStyleModel",
      "state": {
       "description_width": ""
      }
     },
     "d2ffc64fbf344f17baf63d169e9c8180": {
      "model_module": "@jupyter-widgets/controls",
      "model_module_version": "2.0.0",
      "model_name": "CheckboxModel",
      "state": {
       "description": "Ri",
       "disabled": false,
       "layout": "IPY_MODEL_5858623b1ea84a52b750d766e4e10a5b",
       "style": "IPY_MODEL_7663c7f84a4a4d19b382dc7ed982f0e3",
       "value": true
      }
     },
     "d41100db84ad4a6989ad79fb6145fa46": {
      "model_module": "@jupyter-widgets/base",
      "model_module_version": "2.0.0",
      "model_name": "LayoutModel",
      "state": {}
     },
     "d49f5fa2650e471e905b1229277ee7a8": {
      "model_module": "@jupyter-widgets/controls",
      "model_module_version": "2.0.0",
      "model_name": "CheckboxModel",
      "state": {
       "description": "am",
       "disabled": false,
       "layout": "IPY_MODEL_f16d284fec41457095a5a934cc5f8a50",
       "style": "IPY_MODEL_5591fe531e8245bb9f94fefce27e78f5",
       "value": true
      }
     },
     "d4e0e9f28da24ab888ba38ca2e02b36c": {
      "model_module": "@jupyter-widgets/base",
      "model_module_version": "2.0.0",
      "model_name": "LayoutModel",
      "state": {}
     },
     "d625bdc9a3724102b7b1c837acde7af4": {
      "model_module": "@jupyter-widgets/base",
      "model_module_version": "2.0.0",
      "model_name": "LayoutModel",
      "state": {}
     },
     "d64155a2979e4e319b4a3b72c30075c8": {
      "model_module": "@jupyter-widgets/controls",
      "model_module_version": "2.0.0",
      "model_name": "CheckboxModel",
      "state": {
       "description": "Wwi",
       "disabled": false,
       "layout": "IPY_MODEL_8ce55a4186374aff9127f793973dcaeb",
       "style": "IPY_MODEL_b6267f7c30da4c77b2be79e1331ba0f6",
       "value": true
      }
     },
     "d7d60a689730434ab074a936fae0ef4c": {
      "model_module": "@jupyter-widgets/base",
      "model_module_version": "2.0.0",
      "model_name": "LayoutModel",
      "state": {}
     },
     "d7ea02a1b08e4acba9eb7cd7b915896e": {
      "model_module": "@jupyter-widgets/controls",
      "model_module_version": "2.0.0",
      "model_name": "VBoxModel",
      "state": {
       "_dom_classes": [
        "widget-interact"
       ],
       "children": [
        "IPY_MODEL_9b86adb9ec07463da4565727d64061c5",
        "IPY_MODEL_531af5cf460646bebde022a08d555726",
        "IPY_MODEL_ba7792be115e48748f8c4c054cf5d792",
        "IPY_MODEL_6e1dea49eb22458396a37b1fc8f61388",
        "IPY_MODEL_191ab0a66b3b4e9ab7158c460c53babe",
        "IPY_MODEL_68f74b725b6e41b0927ef348c0f538a0",
        "IPY_MODEL_79d9a01fdbd24b7790f0c6ae3c5ccb58",
        "IPY_MODEL_5df707d8447b4056935c06367bd82853",
        "IPY_MODEL_1ca676e6a70e4b478aa1587e08d54755",
        "IPY_MODEL_3fa0ccef62634b9fbde3b9c4ac3d45e5",
        "IPY_MODEL_f5263c8f06db49bdb59bc0bc3a4200fc",
        "IPY_MODEL_d2ffc64fbf344f17baf63d169e9c8180",
        "IPY_MODEL_7472691578b243c38bed0a7e73c7d134"
       ],
       "layout": "IPY_MODEL_d4e0e9f28da24ab888ba38ca2e02b36c"
      }
     },
     "da7523d942444f75a18a160fc62e18f4": {
      "model_module": "@jupyter-widgets/base",
      "model_module_version": "2.0.0",
      "model_name": "LayoutModel",
      "state": {}
     },
     "db272263778c44f9ac0a1bb3b616eb92": {
      "model_module": "@jupyter-widgets/controls",
      "model_module_version": "2.0.0",
      "model_name": "CheckboxStyleModel",
      "state": {
       "description_width": ""
      }
     },
     "db335cc5ca664333a8393c2259e35741": {
      "model_module": "@jupyter-widgets/controls",
      "model_module_version": "2.0.0",
      "model_name": "CheckboxStyleModel",
      "state": {
       "description_width": ""
      }
     },
     "dbd4ef060bca418ea911566c5f8b747f": {
      "model_module": "@jupyter-widgets/base",
      "model_module_version": "2.0.0",
      "model_name": "LayoutModel",
      "state": {}
     },
     "dc067fe5f3bc41328fb82768e7acb2d9": {
      "model_module": "@jupyter-widgets/base",
      "model_module_version": "2.0.0",
      "model_name": "LayoutModel",
      "state": {}
     },
     "dc3c41723fe9448485889e9a4e520817": {
      "model_module": "@jupyter-widgets/controls",
      "model_module_version": "2.0.0",
      "model_name": "CheckboxModel",
      "state": {
       "description": "Wwp",
       "disabled": false,
       "layout": "IPY_MODEL_8dcc8da8606a40b89276e4bf89d7a052",
       "style": "IPY_MODEL_b5d46394d6a54e6c8f3c73f1efbcdfc1",
       "value": true
      }
     },
     "debb95b67c11460ea2260e82466e52de": {
      "model_module": "@jupyter-widgets/controls",
      "model_module_version": "2.0.0",
      "model_name": "CheckboxModel",
      "state": {
       "description": "ax",
       "disabled": false,
       "layout": "IPY_MODEL_2a9eae7be1df4afc91397f5ee8308787",
       "style": "IPY_MODEL_f1ab077d0b1248808cb85f75e9bb5062",
       "value": false
      }
     },
     "df81d7a682da4a329af00c2b542a4804": {
      "model_module": "@jupyter-widgets/controls",
      "model_module_version": "2.0.0",
      "model_name": "CheckboxStyleModel",
      "state": {
       "description_width": ""
      }
     },
     "df9c55a049ab4179a03cf958b04259fa": {
      "model_module": "@jupyter-widgets/controls",
      "model_module_version": "2.0.0",
      "model_name": "CheckboxStyleModel",
      "state": {
       "description_width": ""
      }
     },
     "e08123b3d4e04f51a57b80d48370fe20": {
      "model_module": "@jupyter-widgets/controls",
      "model_module_version": "2.0.0",
      "model_name": "CheckboxModel",
      "state": {
       "description": "ab",
       "disabled": false,
       "layout": "IPY_MODEL_3286324aabe84aec84ba07f0ed636bdf",
       "style": "IPY_MODEL_61a9264a1f344df9839f1b29a4da869d",
       "value": true
      }
     },
     "e27d38bba5114d7ba15fa72731cfe65f": {
      "model_module": "@jupyter-widgets/base",
      "model_module_version": "2.0.0",
      "model_name": "LayoutModel",
      "state": {}
     },
     "e2c24cb8c78c4717946ec7722712b7c7": {
      "model_module": "@jupyter-widgets/controls",
      "model_module_version": "2.0.0",
      "model_name": "CheckboxStyleModel",
      "state": {
       "description_width": ""
      }
     },
     "e2c80e4b7aae4ec592bb29ae5117770a": {
      "model_module": "@jupyter-widgets/controls",
      "model_module_version": "2.0.0",
      "model_name": "CheckboxModel",
      "state": {
       "description": "ab",
       "disabled": false,
       "layout": "IPY_MODEL_fa913b4f2b644d04b13c2f9c8afe52dc",
       "style": "IPY_MODEL_61dd62469e7c4ef2a944cd1e928c1e91",
       "value": true
      }
     },
     "e30faaeba0d84816885b446757d5f74a": {
      "model_module": "@jupyter-widgets/controls",
      "model_module_version": "2.0.0",
      "model_name": "CheckboxModel",
      "state": {
       "description": "Wwj",
       "disabled": false,
       "layout": "IPY_MODEL_46b8af4bb2e5419f819cc82cb61fa445",
       "style": "IPY_MODEL_95c33eff136f4160b1a5e871024835fd",
       "value": false
      }
     },
     "e4b0afd552584061acc86db8612329dd": {
      "model_module": "@jupyter-widgets/controls",
      "model_module_version": "2.0.0",
      "model_name": "HBoxModel",
      "state": {
       "children": [
        "IPY_MODEL_747778dd0f624a0299015c6f1a1f45ce",
        "IPY_MODEL_74466239874141c98d3d6e55a2c08a08",
        "IPY_MODEL_b7cefa6967b548a3ad7a0a59eaa410c0",
        "IPY_MODEL_5ecbb56bca8b4da0aac6f1cb217e1d35",
        "IPY_MODEL_8cb9ff95e0a947a7b90e6d7214bab5f0",
        "IPY_MODEL_20b7315a21344b8aa574f580d9ea28f4",
        "IPY_MODEL_764804826a8146359dcd0934b7d2cc54",
        "IPY_MODEL_fc05874ad9c1454fba64afcdb932e34b",
        "IPY_MODEL_35898c07019a454aa20f45389ad9bbda",
        "IPY_MODEL_ba3e86bdd9c44ed391f2d81c3fd13ef0",
        "IPY_MODEL_0f2d69d9830045b7b51646d1ba5e6f18",
        "IPY_MODEL_1d081ac8b34847b3b202f05fea0759de"
       ],
       "layout": "IPY_MODEL_a7fc569e7dab4837aae1cafb87ab71f0"
      }
     },
     "e4ef07209675466b8421c23195e8606c": {
      "model_module": "@jupyter-widgets/base",
      "model_module_version": "2.0.0",
      "model_name": "LayoutModel",
      "state": {}
     },
     "e544c34560264caeba9c3a670786783d": {
      "model_module": "@jupyter-widgets/base",
      "model_module_version": "2.0.0",
      "model_name": "LayoutModel",
      "state": {}
     },
     "e5b20369e2654c01b9a31220c4384cba": {
      "model_module": "@jupyter-widgets/controls",
      "model_module_version": "2.0.0",
      "model_name": "CheckboxModel",
      "state": {
       "description": "Wwi",
       "disabled": false,
       "layout": "IPY_MODEL_777292d9f0374552b59d796658946a86",
       "style": "IPY_MODEL_16055c869e41462292ede7a796fe9ff0",
       "value": true
      }
     },
     "e5fe82cbf40a4ef88f610a240cb1b22a": {
      "model_module": "@jupyter-widgets/controls",
      "model_module_version": "2.0.0",
      "model_name": "CheckboxModel",
      "state": {
       "description": "ax",
       "disabled": false,
       "layout": "IPY_MODEL_81b2867eb0964a8ea06c7cff4b6fe499",
       "style": "IPY_MODEL_861995e19bbc47b28503152d081f0116",
       "value": true
      }
     },
     "e64cb0e49fb0402e968d47bf7ceb3847": {
      "model_module": "@jupyter-widgets/controls",
      "model_module_version": "2.0.0",
      "model_name": "CheckboxStyleModel",
      "state": {
       "description_width": ""
      }
     },
     "e6a66fb23c3d4fdc9ba5223c5fd464fb": {
      "model_module": "@jupyter-widgets/base",
      "model_module_version": "2.0.0",
      "model_name": "LayoutModel",
      "state": {}
     },
     "e84b663b8b2c4f7bba9d1e56579c1719": {
      "model_module": "@jupyter-widgets/controls",
      "model_module_version": "2.0.0",
      "model_name": "CheckboxStyleModel",
      "state": {
       "description_width": ""
      }
     },
     "e854bc54ee3243b8bae94d95a6955e9d": {
      "model_module": "@jupyter-widgets/controls",
      "model_module_version": "2.0.0",
      "model_name": "CheckboxStyleModel",
      "state": {
       "description_width": ""
      }
     },
     "e88cd3859f1642439b9b60315dfdfa47": {
      "model_module": "@jupyter-widgets/controls",
      "model_module_version": "2.0.0",
      "model_name": "CheckboxModel",
      "state": {
       "description": "aj",
       "disabled": false,
       "layout": "IPY_MODEL_2e184a52266e48988a48d3c4e7cae3ed",
       "style": "IPY_MODEL_02bdec8dca464f8398b8a6b9bada476c",
       "value": false
      }
     },
     "e93d8cc582554a5898be9239106309e3": {
      "model_module": "@jupyter-widgets/controls",
      "model_module_version": "2.0.0",
      "model_name": "CheckboxModel",
      "state": {
       "description": "Wwp",
       "disabled": false,
       "layout": "IPY_MODEL_295439e263634d5fac55ac0f150dfe4c",
       "style": "IPY_MODEL_a4350f13b02b4056abcf5a64238209bf",
       "value": true
      }
     },
     "e9d93965cfc04ade90d6a41defda2d45": {
      "model_module": "@jupyter-widgets/base",
      "model_module_version": "2.0.0",
      "model_name": "LayoutModel",
      "state": {}
     },
     "e9eb163f091a428fb5a741153a579688": {
      "model_module": "@jupyter-widgets/base",
      "model_module_version": "2.0.0",
      "model_name": "LayoutModel",
      "state": {}
     },
     "eac3b14ef3f04c85a9152f0bdf1a9c2a": {
      "model_module": "@jupyter-widgets/controls",
      "model_module_version": "2.0.0",
      "model_name": "CheckboxModel",
      "state": {
       "description": "Ri",
       "disabled": false,
       "layout": "IPY_MODEL_a66d89a80a8e48908fb720cee6b8a76b",
       "style": "IPY_MODEL_42b612447f07427390e6318f4a717ca3",
       "value": true
      }
     },
     "eb98f09ab5f24a8aab13e3a80aba18f3": {
      "model_module": "@jupyter-widgets/base",
      "model_module_version": "2.0.0",
      "model_name": "LayoutModel",
      "state": {}
     },
     "ebe663d494584c07945cd917d1a08411": {
      "model_module": "@jupyter-widgets/controls",
      "model_module_version": "2.0.0",
      "model_name": "VBoxModel",
      "state": {
       "_dom_classes": [
        "widget-interact"
       ],
       "children": [
        "IPY_MODEL_e2c80e4b7aae4ec592bb29ae5117770a",
        "IPY_MODEL_bfa7b99c826945b5b882841dcf924808",
        "IPY_MODEL_530cf726ce5849a782ace144c6f38816",
        "IPY_MODEL_b55190d8c04443f1a43c37806d3c0b00",
        "IPY_MODEL_5ea652fd3e0d4b5f944f4207552423fb",
        "IPY_MODEL_673d28f05fb646a3b1b2205c7d79ed0b",
        "IPY_MODEL_588149bc20484de5b927c581462334e7",
        "IPY_MODEL_99d905c26d284ba6b68cb01cee769e45",
        "IPY_MODEL_b47f2f0e87b94465befb74b9f1b530b4",
        "IPY_MODEL_bc35f008258d49a1ae3ce9506ef5ac52",
        "IPY_MODEL_7d4fa909b95f4d9a9913a7a10f3bad56",
        "IPY_MODEL_eac3b14ef3f04c85a9152f0bdf1a9c2a",
        "IPY_MODEL_a2515703dd04447db72f4ff7b2420090"
       ],
       "layout": "IPY_MODEL_143b4bc8c3d5489ab395bc766b32887d"
      }
     },
     "ebf5125509fc47298d91d2952836712d": {
      "model_module": "@jupyter-widgets/controls",
      "model_module_version": "2.0.0",
      "model_name": "CheckboxModel",
      "state": {
       "description": "Wwi",
       "disabled": false,
       "layout": "IPY_MODEL_f541f7c23ea44d14a3e0443742ac8870",
       "style": "IPY_MODEL_af938bca4db340e6be8daa641f246568",
       "value": true
      }
     },
     "ec223921f2fd40a08e886ebf8815952c": {
      "model_module": "@jupyter-widgets/controls",
      "model_module_version": "2.0.0",
      "model_name": "CheckboxModel",
      "state": {
       "description": "ab",
       "disabled": false,
       "layout": "IPY_MODEL_3b0175463d5f491697676a6a901122b1",
       "style": "IPY_MODEL_ff08ad424d9e455191bffe141b51f0ad",
       "value": true
      }
     },
     "ec29ff6fdc09405db5fdc981c46b4a07": {
      "model_module": "@jupyter-widgets/controls",
      "model_module_version": "2.0.0",
      "model_name": "HBoxModel",
      "state": {
       "children": [
        "IPY_MODEL_977d589207be47f5b75d4a7304a47f2b",
        "IPY_MODEL_debb95b67c11460ea2260e82466e52de",
        "IPY_MODEL_e88cd3859f1642439b9b60315dfdfa47",
        "IPY_MODEL_a062540ee467411ca19967a72191d94a",
        "IPY_MODEL_d49f5fa2650e471e905b1229277ee7a8",
        "IPY_MODEL_b5e15fcc92cf4d31ad9c10a200837651",
        "IPY_MODEL_93dffac4da29411eb29cb5910ebc8be2",
        "IPY_MODEL_86a67bf8a7d2422a83aba2dfa2bfd896",
        "IPY_MODEL_910e064d4ea94be0a9abbb2f50284a60",
        "IPY_MODEL_7362ad358cc748ddaca0241e7c74cd79",
        "IPY_MODEL_ec6775e4803a4dad831050b4ff6d903a",
        "IPY_MODEL_fdad6e2b15714a589059c6cca49bc382"
       ],
       "layout": "IPY_MODEL_0e341a1407e8430b815021ac630d1cf6"
      }
     },
     "ec6775e4803a4dad831050b4ff6d903a": {
      "model_module": "@jupyter-widgets/controls",
      "model_module_version": "2.0.0",
      "model_name": "CheckboxModel",
      "state": {
       "description": "Wwi",
       "disabled": false,
       "layout": "IPY_MODEL_018012b8a8a746cbad015effebd30d4c",
       "style": "IPY_MODEL_fa998074f32d41dfa21a3e1a8cabcc56",
       "value": true
      }
     },
     "ed26a9629e0543659ab50b0f1e9f64ea": {
      "model_module": "@jupyter-widgets/base",
      "model_module_version": "2.0.0",
      "model_name": "LayoutModel",
      "state": {}
     },
     "ed7d636645514a29a4400f32d5b8d174": {
      "model_module": "@jupyter-widgets/base",
      "model_module_version": "2.0.0",
      "model_name": "LayoutModel",
      "state": {}
     },
     "edcafb704dc74162a14435559104f7ae": {
      "model_module": "@jupyter-widgets/controls",
      "model_module_version": "2.0.0",
      "model_name": "CheckboxStyleModel",
      "state": {
       "description_width": ""
      }
     },
     "ee344dedaf2645b2b382761f7a6e0d0b": {
      "model_module": "@jupyter-widgets/controls",
      "model_module_version": "2.0.0",
      "model_name": "CheckboxStyleModel",
      "state": {
       "description_width": ""
      }
     },
     "eedf11ebbd724c6ea085b8714b31eccd": {
      "model_module": "@jupyter-widgets/controls",
      "model_module_version": "2.0.0",
      "model_name": "CheckboxModel",
      "state": {
       "description": "Wwb",
       "disabled": false,
       "layout": "IPY_MODEL_5d5e80c108974f049897d4999a25c4c4",
       "style": "IPY_MODEL_1830e8ca64284c14924962096bbcf9ad",
       "value": true
      }
     },
     "ef5f7531c03046c38c2f8b47c692d2c8": {
      "model_module": "@jupyter-widgets/controls",
      "model_module_version": "2.0.0",
      "model_name": "CheckboxStyleModel",
      "state": {
       "description_width": ""
      }
     },
     "ef6f6e290eea4bbd9525e7784531e22b": {
      "model_module": "@jupyter-widgets/base",
      "model_module_version": "2.0.0",
      "model_name": "LayoutModel",
      "state": {}
     },
     "f10dea51b35f457086062c106813c930": {
      "model_module": "@jupyter-widgets/controls",
      "model_module_version": "2.0.0",
      "model_name": "CheckboxModel",
      "state": {
       "description": "ax",
       "disabled": false,
       "layout": "IPY_MODEL_adc9ee0171ce4200a79c51d08a7bad39",
       "style": "IPY_MODEL_02954637c2f641819a3e383911ae0f4f",
       "value": false
      }
     },
     "f12cfc0e5655428f9680e4f5d448af78": {
      "model_module": "@jupyter-widgets/base",
      "model_module_version": "2.0.0",
      "model_name": "LayoutModel",
      "state": {}
     },
     "f13c7965ae0d48459547ca7f88509fdd": {
      "model_module": "@jupyter-widgets/base",
      "model_module_version": "2.0.0",
      "model_name": "LayoutModel",
      "state": {}
     },
     "f16d284fec41457095a5a934cc5f8a50": {
      "model_module": "@jupyter-widgets/base",
      "model_module_version": "2.0.0",
      "model_name": "LayoutModel",
      "state": {}
     },
     "f1ab077d0b1248808cb85f75e9bb5062": {
      "model_module": "@jupyter-widgets/controls",
      "model_module_version": "2.0.0",
      "model_name": "CheckboxStyleModel",
      "state": {
       "description_width": ""
      }
     },
     "f2527e8fbd084c98adb831835b8a83c9": {
      "model_module": "@jupyter-widgets/controls",
      "model_module_version": "2.0.0",
      "model_name": "CheckboxModel",
      "state": {
       "description": "d_V",
       "disabled": false,
       "layout": "IPY_MODEL_bc18a84ea5044da0b905e401ece1385a",
       "style": "IPY_MODEL_e854bc54ee3243b8bae94d95a6955e9d",
       "value": true
      }
     },
     "f32bc092eae3491d8373547fca838c72": {
      "model_module": "@jupyter-widgets/controls",
      "model_module_version": "2.0.0",
      "model_name": "CheckboxStyleModel",
      "state": {
       "description_width": ""
      }
     },
     "f525882016cb4776af6a09fff4937a07": {
      "model_module": "@jupyter-widgets/controls",
      "model_module_version": "2.0.0",
      "model_name": "CheckboxStyleModel",
      "state": {
       "description_width": ""
      }
     },
     "f525ac6556a2462382ec53f711aaac2c": {
      "model_module": "@jupyter-widgets/base",
      "model_module_version": "2.0.0",
      "model_name": "LayoutModel",
      "state": {}
     },
     "f5263c8f06db49bdb59bc0bc3a4200fc": {
      "model_module": "@jupyter-widgets/controls",
      "model_module_version": "2.0.0",
      "model_name": "CheckboxModel",
      "state": {
       "description": "Wwi",
       "disabled": false,
       "layout": "IPY_MODEL_fac191b2d7af47518208e88961764558",
       "style": "IPY_MODEL_5f1e90bddef0444e9ec713a7ca6a2575",
       "value": true
      }
     },
     "f532be848cb7498b995c275e0a9f3a2a": {
      "model_module": "@jupyter-widgets/controls",
      "model_module_version": "2.0.0",
      "model_name": "CheckboxModel",
      "state": {
       "description": "Wwb",
       "disabled": false,
       "layout": "IPY_MODEL_3a1ed332732e4dc0bbcf78a7adf3b796",
       "style": "IPY_MODEL_24a25a66577a4a2db5fecc97b089412f",
       "value": true
      }
     },
     "f541f7c23ea44d14a3e0443742ac8870": {
      "model_module": "@jupyter-widgets/base",
      "model_module_version": "2.0.0",
      "model_name": "LayoutModel",
      "state": {}
     },
     "f5aaf22f11b34ca690567a5f8cbf01c0": {
      "model_module": "@jupyter-widgets/controls",
      "model_module_version": "2.0.0",
      "model_name": "CheckboxStyleModel",
      "state": {
       "description_width": ""
      }
     },
     "f5eb12f7dd16436a97583804ae3938f5": {
      "model_module": "@jupyter-widgets/base",
      "model_module_version": "2.0.0",
      "model_name": "LayoutModel",
      "state": {}
     },
     "f70ccced08094811961915ba95464f87": {
      "model_module": "@jupyter-widgets/controls",
      "model_module_version": "2.0.0",
      "model_name": "CheckboxModel",
      "state": {
       "description": "Ri",
       "disabled": false,
       "layout": "IPY_MODEL_be001e3d2072499f88afa29e5994d9ca",
       "style": "IPY_MODEL_74d1745b538c4a538b0aec61a5193bca",
       "value": true
      }
     },
     "f7f540bc1eeb4d8b9b00209850cdb316": {
      "model_module": "@jupyter-widgets/base",
      "model_module_version": "2.0.0",
      "model_name": "LayoutModel",
      "state": {}
     },
     "f8224f25a07041fc84c86c8bb94a966a": {
      "model_module": "@jupyter-widgets/base",
      "model_module_version": "2.0.0",
      "model_name": "LayoutModel",
      "state": {}
     },
     "fa33ba3b2a7c436da9a1cfd033e29d2c": {
      "model_module": "@jupyter-widgets/base",
      "model_module_version": "2.0.0",
      "model_name": "LayoutModel",
      "state": {}
     },
     "fa71c60a6dc445ca88f5d5163cbb92ba": {
      "model_module": "@jupyter-widgets/controls",
      "model_module_version": "2.0.0",
      "model_name": "HBoxModel",
      "state": {
       "children": [
        "IPY_MODEL_39e698c71a3e40ea891604fed59fa3a3",
        "IPY_MODEL_7369880d0fd34403b71bae6e0307bfb1",
        "IPY_MODEL_c6600b1240c74df28664c29449b06e7d",
        "IPY_MODEL_1864bc063a4543f7b8f8e0669bc362e8",
        "IPY_MODEL_84304806b3f84be693ca852613a46ebb",
        "IPY_MODEL_7906070e73b9433599632e64993d6851",
        "IPY_MODEL_c92bcbf072f54b99889be787c334dfe9",
        "IPY_MODEL_08e95b26a37f41f2ad90a3931fb644fd",
        "IPY_MODEL_a9ab82e1fafc458f8def0d1c0becc067",
        "IPY_MODEL_dc3c41723fe9448485889e9a4e520817",
        "IPY_MODEL_47a3db0338744b519eb06435e6a2d9aa",
        "IPY_MODEL_184d16052ccf4e82bd1ae0b624ca135f"
       ],
       "layout": "IPY_MODEL_375eaf4c9105469093330f090c5f7886"
      }
     },
     "fa913b4f2b644d04b13c2f9c8afe52dc": {
      "model_module": "@jupyter-widgets/base",
      "model_module_version": "2.0.0",
      "model_name": "LayoutModel",
      "state": {}
     },
     "fa998074f32d41dfa21a3e1a8cabcc56": {
      "model_module": "@jupyter-widgets/controls",
      "model_module_version": "2.0.0",
      "model_name": "CheckboxStyleModel",
      "state": {
       "description_width": ""
      }
     },
     "fac191b2d7af47518208e88961764558": {
      "model_module": "@jupyter-widgets/base",
      "model_module_version": "2.0.0",
      "model_name": "LayoutModel",
      "state": {}
     },
     "facb63b75db545acb62efd56bd67ccd7": {
      "model_module": "@jupyter-widgets/controls",
      "model_module_version": "2.0.0",
      "model_name": "CheckboxStyleModel",
      "state": {
       "description_width": ""
      }
     },
     "fc05874ad9c1454fba64afcdb932e34b": {
      "model_module": "@jupyter-widgets/controls",
      "model_module_version": "2.0.0",
      "model_name": "CheckboxModel",
      "state": {
       "description": "Wwx",
       "disabled": false,
       "layout": "IPY_MODEL_e9d93965cfc04ade90d6a41defda2d45",
       "style": "IPY_MODEL_20fffc9a596744ac9715dd1f34411220",
       "value": false
      }
     },
     "fc3f1f22c4e049d0935748c23723e557": {
      "model_module": "@jupyter-widgets/controls",
      "model_module_version": "2.0.0",
      "model_name": "CheckboxModel",
      "state": {
       "description": "Ri",
       "disabled": false,
       "layout": "IPY_MODEL_6f5c871f8a0f4ebfab87d7c77cb8c581",
       "style": "IPY_MODEL_3a22de561ed247c3ac3497a658974c37",
       "value": true
      }
     },
     "fc78e6b522464962bea555bcd5163ae1": {
      "model_module": "@jupyter-widgets/controls",
      "model_module_version": "2.0.0",
      "model_name": "VBoxModel",
      "state": {
       "_dom_classes": [
        "widget-interact"
       ],
       "children": [
        "IPY_MODEL_1a0192364018414c85e3e8fc5f8597d5",
        "IPY_MODEL_f10dea51b35f457086062c106813c930",
        "IPY_MODEL_c79eb2ef14fb4c3d841dcd6812857d45",
        "IPY_MODEL_0ac77252ac1941b4ba2194698e15034c",
        "IPY_MODEL_3b195028cc164b7abdc764af1062ccbd",
        "IPY_MODEL_fd73680fb73d4fc98d926e5a038d9fcb",
        "IPY_MODEL_8b5e72c1a3d54fd18840b967dc3f2e32",
        "IPY_MODEL_70b886fb0d9c4353b62960c0b86f22a1",
        "IPY_MODEL_975f32388c584ca2831429091ad4d414",
        "IPY_MODEL_e93d8cc582554a5898be9239106309e3",
        "IPY_MODEL_c40805f9abeb42278a82d6fb5760f399",
        "IPY_MODEL_4677b9a01d8749139da7a82b37e190b6",
        "IPY_MODEL_2b7c1bf3939646299bb95f0577aaf21c"
       ],
       "layout": "IPY_MODEL_4d04b1ad3f264bff9138646ca37e672b"
      }
     },
     "fd73680fb73d4fc98d926e5a038d9fcb": {
      "model_module": "@jupyter-widgets/controls",
      "model_module_version": "2.0.0",
      "model_name": "CheckboxModel",
      "state": {
       "description": "d_V",
       "disabled": false,
       "layout": "IPY_MODEL_aebcdf334fc04edf81b4db9d31ce90b9",
       "style": "IPY_MODEL_d2d4fa4334904f95a70a5c225a49d7bf",
       "value": true
      }
     },
     "fdad6e2b15714a589059c6cca49bc382": {
      "model_module": "@jupyter-widgets/controls",
      "model_module_version": "2.0.0",
      "model_name": "CheckboxModel",
      "state": {
       "description": "Ri",
       "disabled": false,
       "layout": "IPY_MODEL_44870df8d47d4318bfc1e4f18d105e67",
       "style": "IPY_MODEL_4fa2b884d71f4b94826bdebc0027cd05",
       "value": true
      }
     },
     "fdbdb3c36999405d87b8c503895893bc": {
      "model_module": "@jupyter-widgets/base",
      "model_module_version": "2.0.0",
      "model_name": "LayoutModel",
      "state": {}
     },
     "fe073d2eb2a54e8abe7513e7be3885e8": {
      "model_module": "@jupyter-widgets/output",
      "model_module_version": "1.0.0",
      "model_name": "OutputModel",
      "state": {
       "layout": "IPY_MODEL_8e8c394a96ed4330af8fb29fba300eee",
       "outputs": [
        {
         "name": "stdout",
         "output_type": "stream",
         "text": "470\n"
        }
       ]
      }
     },
     "fe7e38bfb54a41f787374b038b854276": {
      "model_module": "@jupyter-widgets/base",
      "model_module_version": "2.0.0",
      "model_name": "LayoutModel",
      "state": {}
     },
     "ff08ad424d9e455191bffe141b51f0ad": {
      "model_module": "@jupyter-widgets/controls",
      "model_module_version": "2.0.0",
      "model_name": "CheckboxStyleModel",
      "state": {
       "description_width": ""
      }
     },
     "ff9b0f7d85ef4a56b804734b59c56a48": {
      "model_module": "@jupyter-widgets/base",
      "model_module_version": "2.0.0",
      "model_name": "LayoutModel",
      "state": {}
     },
     "ffd481fcbf944df1a97d8f089debd8b1": {
      "model_module": "@jupyter-widgets/controls",
      "model_module_version": "2.0.0",
      "model_name": "CheckboxStyleModel",
      "state": {
       "description_width": ""
      }
     }
    },
    "version_major": 2,
    "version_minor": 0
   }
  }
 },
 "nbformat": 4,
 "nbformat_minor": 5
}
