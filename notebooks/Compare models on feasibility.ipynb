{
 "cells": [
  {
   "cell_type": "code",
   "execution_count": 1,
   "id": "3ca2b3e5-c73f-4c42-b48d-cb6aff8d1eef",
   "metadata": {
    "editable": true,
    "slideshow": {
     "slide_type": ""
    },
    "tags": []
   },
   "outputs": [],
   "source": [
    "import sys\n",
    "import os\n",
    "# Add the 'project' directory to the path\n",
    "sys.path.append(os.path.abspath('..'))"
   ]
  },
  {
   "cell_type": "code",
   "execution_count": 2,
   "id": "919c4cc6-b0b2-479e-92a1-178ca0a408ab",
   "metadata": {
    "editable": true,
    "slideshow": {
     "slide_type": ""
    },
    "tags": []
   },
   "outputs": [],
   "source": [
    "import pandas as pd\n",
    "import numpy as np\n",
    "import matplotlib.pyplot as plt\n",
    "from matplotlib.ticker import PercentFormatter\n",
    "import seaborn as sns\n",
    "import ipywidgets as widgets\n",
    "from IPython.display import display\n",
    "import pickle\n",
    "import sklearn.metrics as metrics\n",
    "from sklearn.neighbors import KNeighborsRegressor"
   ]
  },
  {
   "cell_type": "code",
   "execution_count": 3,
   "id": "58a2fd74-921a-4d4f-bc83-17d18d1f4cf4",
   "metadata": {
    "editable": true,
    "slideshow": {
     "slide_type": ""
    },
    "tags": []
   },
   "outputs": [],
   "source": [
    "from project_code.data.load_data import load_col_types, load_data\n",
    "from project_code.data.prepare_data_sklearn import get_features_targets\n",
    "from project_code.plotters.infeasibility import infeasibility_flag_to_text"
   ]
  },
  {
   "cell_type": "markdown",
   "id": "806aa4a4-c499-4df8-9606-b477c6a72ce0",
   "metadata": {},
   "source": [
    "# Loading data and results"
   ]
  },
  {
   "cell_type": "markdown",
   "id": "0fac81ed-8af2-4c3a-b005-a88815e6cef8",
   "metadata": {},
   "source": [
    "## Load data"
   ]
  },
  {
   "cell_type": "code",
   "execution_count": 4,
   "id": "3fc89c9c-4380-423f-a2a6-0848be4551ca",
   "metadata": {
    "editable": true,
    "slideshow": {
     "slide_type": ""
    },
    "tags": []
   },
   "outputs": [],
   "source": [
    "dataset_name = 'final'\n",
    "dataset_name += '_taxonomy'\n",
    "dataset_name += '_ecocodes'\n",
    "\n",
    "bio_dataset_name = 'biologist_no_pub_age'\n",
    "\n",
    "# Load the data\n",
    "dataset_folder = f'../data/processed/'\n",
    "dfs = load_data(dataset_name=dataset_name, data_split='train_test', datasets_folder=dataset_folder)\n",
    "col_types = load_col_types(dataset_name=dataset_name, datasets_folder=dataset_folder)\n",
    "data = get_features_targets(dfs, col_types)"
   ]
  },
  {
   "cell_type": "markdown",
   "id": "c3792d85-35b0-4e24-ade7-2e7def07a899",
   "metadata": {},
   "source": [
    "## Load results"
   ]
  },
  {
   "cell_type": "code",
   "execution_count": 22,
   "id": "fb782e86-b36b-4e7e-b69d-f318edcf8f01",
   "metadata": {
    "editable": true,
    "slideshow": {
     "slide_type": ""
    },
    "tags": []
   },
   "outputs": [
    {
     "name": "stdout",
     "output_type": "stream",
     "text": [
      "AmP\n",
      "BijectionMethod\n",
      "MLP\n",
      "MultiTaskElasticNet\n",
      "SRTaxo1NN\n",
      "Taxo1NN\n"
     ]
    }
   ],
   "source": [
    "results_folder = f'../results/'\n",
    "feasibility_results_folder = os.path.join(results_folder, 'feasibility')\n",
    "feas_df_dict = {}\n",
    "for file in os.listdir(feasibility_results_folder):\n",
    "    model_name = file.split('_feasibility.csv')[0]\n",
    "    feas_df_dict[model_name] = pd.read_csv(os.path.join(feasibility_results_folder, file), index_col=0)\n",
    "    feas_df_dict[model_name]['infeasibility_flag'] = feas_df_dict[model_name]['infeasibility_flag'].astype(str)\n",
    "    feas_df_dict[model_name]['feasible'] = feas_df_dict[model_name]['feasible'].astype(bool)\n",
    "\n",
    "\n",
    "print(*feas_df_dict.keys(), sep='\\n')"
   ]
  },
  {
   "cell_type": "markdown",
   "id": "ed9e0df9",
   "metadata": {},
   "source": [
    "### Add species where bijection method failed"
   ]
  },
  {
   "cell_type": "code",
   "execution_count": 29,
   "id": "52ad3a98",
   "metadata": {},
   "outputs": [
    {
     "data": {
      "text/html": [
       "<div>\n",
       "<style scoped>\n",
       "    .dataframe tbody tr th:only-of-type {\n",
       "        vertical-align: middle;\n",
       "    }\n",
       "\n",
       "    .dataframe tbody tr th {\n",
       "        vertical-align: top;\n",
       "    }\n",
       "\n",
       "    .dataframe thead th {\n",
       "        text-align: right;\n",
       "    }\n",
       "</style>\n",
       "<table border=\"1\" class=\"dataframe\">\n",
       "  <thead>\n",
       "    <tr style=\"text-align: right;\">\n",
       "      <th></th>\n",
       "      <th>data_split</th>\n",
       "      <th>feasible</th>\n",
       "      <th>infeasibility_flag</th>\n",
       "      <th>error_message</th>\n",
       "    </tr>\n",
       "  </thead>\n",
       "  <tbody>\n",
       "    <tr>\n",
       "      <th>Abbottina_rivularis</th>\n",
       "      <td>train</td>\n",
       "      <td>True</td>\n",
       "      <td>0</td>\n",
       "      <td>NaN</td>\n",
       "    </tr>\n",
       "    <tr>\n",
       "      <th>Ablennes_hians</th>\n",
       "      <td>test</td>\n",
       "      <td>True</td>\n",
       "      <td>0</td>\n",
       "      <td>NaN</td>\n",
       "    </tr>\n",
       "    <tr>\n",
       "      <th>Acanthochromis_polyacanthus</th>\n",
       "      <td>train</td>\n",
       "      <td>True</td>\n",
       "      <td>0</td>\n",
       "      <td>NaN</td>\n",
       "    </tr>\n",
       "    <tr>\n",
       "      <th>Acanthoclinus_littoreus</th>\n",
       "      <td>train</td>\n",
       "      <td>True</td>\n",
       "      <td>0</td>\n",
       "      <td>NaN</td>\n",
       "    </tr>\n",
       "    <tr>\n",
       "      <th>Acanthocybium_solandri</th>\n",
       "      <td>train</td>\n",
       "      <td>True</td>\n",
       "      <td>0</td>\n",
       "      <td>NaN</td>\n",
       "    </tr>\n",
       "    <tr>\n",
       "      <th>...</th>\n",
       "      <td>...</td>\n",
       "      <td>...</td>\n",
       "      <td>...</td>\n",
       "      <td>...</td>\n",
       "    </tr>\n",
       "    <tr>\n",
       "      <th>Zonotrichia_capensis</th>\n",
       "      <td>train</td>\n",
       "      <td>False</td>\n",
       "      <td>failed</td>\n",
       "      <td>failed</td>\n",
       "    </tr>\n",
       "    <tr>\n",
       "      <th>Zonotrichia_leucophrys</th>\n",
       "      <td>train</td>\n",
       "      <td>False</td>\n",
       "      <td>failed</td>\n",
       "      <td>failed</td>\n",
       "    </tr>\n",
       "    <tr>\n",
       "      <th>Zonotrichia_querula</th>\n",
       "      <td>train</td>\n",
       "      <td>False</td>\n",
       "      <td>failed</td>\n",
       "      <td>failed</td>\n",
       "    </tr>\n",
       "    <tr>\n",
       "      <th>Zosterops_lateralis</th>\n",
       "      <td>train</td>\n",
       "      <td>False</td>\n",
       "      <td>failed</td>\n",
       "      <td>failed</td>\n",
       "    </tr>\n",
       "    <tr>\n",
       "      <th>Zosterops_virens</th>\n",
       "      <td>test</td>\n",
       "      <td>False</td>\n",
       "      <td>failed</td>\n",
       "      <td>failed</td>\n",
       "    </tr>\n",
       "  </tbody>\n",
       "</table>\n",
       "<p>2363 rows × 4 columns</p>\n",
       "</div>"
      ],
      "text/plain": [
       "                            data_split  feasible infeasibility_flag  \\\n",
       "Abbottina_rivularis              train      True                  0   \n",
       "Ablennes_hians                    test      True                  0   \n",
       "Acanthochromis_polyacanthus      train      True                  0   \n",
       "Acanthoclinus_littoreus          train      True                  0   \n",
       "Acanthocybium_solandri           train      True                  0   \n",
       "...                                ...       ...                ...   \n",
       "Zonotrichia_capensis             train     False             failed   \n",
       "Zonotrichia_leucophrys           train     False             failed   \n",
       "Zonotrichia_querula              train     False             failed   \n",
       "Zosterops_lateralis              train     False             failed   \n",
       "Zosterops_virens                  test     False             failed   \n",
       "\n",
       "                            error_message  \n",
       "Abbottina_rivularis                   NaN  \n",
       "Ablennes_hians                        NaN  \n",
       "Acanthochromis_polyacanthus           NaN  \n",
       "Acanthoclinus_littoreus               NaN  \n",
       "Acanthocybium_solandri                NaN  \n",
       "...                                   ...  \n",
       "Zonotrichia_capensis               failed  \n",
       "Zonotrichia_leucophrys             failed  \n",
       "Zonotrichia_querula                failed  \n",
       "Zosterops_lateralis                failed  \n",
       "Zosterops_virens                   failed  \n",
       "\n",
       "[2363 rows x 4 columns]"
      ]
     },
     "execution_count": 29,
     "metadata": {},
     "output_type": "execute_result"
    }
   ],
   "source": [
    "species_bijection_failed = feas_df_dict['AmP'].index.difference(feas_df_dict['BijectionMethod'].index).values\n",
    "bijection_failed_df = pd.DataFrame(index=species_bijection_failed, columns=feas_df_dict['BijectionMethod'].columns)\n",
    "bijection_failed_df['infeasibility_flag'] = 'failed'\n",
    "bijection_failed_df['feasible'] = False\n",
    "bijection_failed_df['data_split'] = feas_df_dict['AmP']['data_split']\n",
    "bijection_failed_df['error_message'] = 'failed'\n",
    "feas_df_dict['BijectionMethod'] = pd.concat([feas_df_dict['BijectionMethod'], bijection_failed_df])\n",
    "feas_df_dict['BijectionMethod']"
   ]
  },
  {
   "cell_type": "code",
   "execution_count": 6,
   "id": "d9bf2a06",
   "metadata": {},
   "outputs": [
    {
     "data": {
      "text/plain": [
       "Series([], Name: infeasibility_flag, dtype: object)"
      ]
     },
     "execution_count": 6,
     "metadata": {},
     "output_type": "execute_result"
    }
   ],
   "source": [
    "feas_df_dict['AmP'].loc[feas_df_dict['AmP']['infeasibility_flag'] != '0', 'infeasibility_flag']"
   ]
  },
  {
   "cell_type": "code",
   "execution_count": 30,
   "id": "00f15930-d0c1-4ec2-ac08-9ed8ff39d981",
   "metadata": {
    "editable": true,
    "slideshow": {
     "slide_type": ""
    },
    "tags": []
   },
   "outputs": [
    {
     "data": {
      "text/html": [
       "<div>\n",
       "<style scoped>\n",
       "    .dataframe tbody tr th:only-of-type {\n",
       "        vertical-align: middle;\n",
       "    }\n",
       "\n",
       "    .dataframe tbody tr th {\n",
       "        vertical-align: top;\n",
       "    }\n",
       "\n",
       "    .dataframe thead th {\n",
       "        text-align: right;\n",
       "    }\n",
       "</style>\n",
       "<table border=\"1\" class=\"dataframe\">\n",
       "  <thead>\n",
       "    <tr style=\"text-align: right;\">\n",
       "      <th></th>\n",
       "      <th>method</th>\n",
       "      <th>data_split</th>\n",
       "      <th>feasible</th>\n",
       "      <th>infeasibility_flag</th>\n",
       "      <th>error_message</th>\n",
       "    </tr>\n",
       "  </thead>\n",
       "  <tbody>\n",
       "    <tr>\n",
       "      <th>Abbottina_rivularis</th>\n",
       "      <td>AmP</td>\n",
       "      <td>train</td>\n",
       "      <td>True</td>\n",
       "      <td>0</td>\n",
       "      <td>NaN</td>\n",
       "    </tr>\n",
       "    <tr>\n",
       "      <th>Ablennes_hians</th>\n",
       "      <td>AmP</td>\n",
       "      <td>test</td>\n",
       "      <td>True</td>\n",
       "      <td>0</td>\n",
       "      <td>NaN</td>\n",
       "    </tr>\n",
       "    <tr>\n",
       "      <th>Abramis_brama</th>\n",
       "      <td>AmP</td>\n",
       "      <td>train</td>\n",
       "      <td>True</td>\n",
       "      <td>0</td>\n",
       "      <td>NaN</td>\n",
       "    </tr>\n",
       "    <tr>\n",
       "      <th>Abroscopus_superciliaris</th>\n",
       "      <td>AmP</td>\n",
       "      <td>train</td>\n",
       "      <td>True</td>\n",
       "      <td>0</td>\n",
       "      <td>NaN</td>\n",
       "    </tr>\n",
       "    <tr>\n",
       "      <th>Acanthis_flammea</th>\n",
       "      <td>AmP</td>\n",
       "      <td>train</td>\n",
       "      <td>True</td>\n",
       "      <td>0</td>\n",
       "      <td>NaN</td>\n",
       "    </tr>\n",
       "    <tr>\n",
       "      <th>...</th>\n",
       "      <td>...</td>\n",
       "      <td>...</td>\n",
       "      <td>...</td>\n",
       "      <td>...</td>\n",
       "      <td>...</td>\n",
       "    </tr>\n",
       "    <tr>\n",
       "      <th>Pelophylax_saharicus</th>\n",
       "      <td>Taxo1NN</td>\n",
       "      <td>test</td>\n",
       "      <td>True</td>\n",
       "      <td>0</td>\n",
       "      <td>NaN</td>\n",
       "    </tr>\n",
       "    <tr>\n",
       "      <th>Rhinobatos_productus</th>\n",
       "      <td>Taxo1NN</td>\n",
       "      <td>test</td>\n",
       "      <td>True</td>\n",
       "      <td>0</td>\n",
       "      <td>NaN</td>\n",
       "    </tr>\n",
       "    <tr>\n",
       "      <th>Zapteryx_brevirostris</th>\n",
       "      <td>Taxo1NN</td>\n",
       "      <td>test</td>\n",
       "      <td>True</td>\n",
       "      <td>0</td>\n",
       "      <td>NaN</td>\n",
       "    </tr>\n",
       "    <tr>\n",
       "      <th>Grus_americana</th>\n",
       "      <td>Taxo1NN</td>\n",
       "      <td>test</td>\n",
       "      <td>True</td>\n",
       "      <td>0</td>\n",
       "      <td>NaN</td>\n",
       "    </tr>\n",
       "    <tr>\n",
       "      <th>Orectolobus_halei</th>\n",
       "      <td>Taxo1NN</td>\n",
       "      <td>test</td>\n",
       "      <td>True</td>\n",
       "      <td>0</td>\n",
       "      <td>NaN</td>\n",
       "    </tr>\n",
       "  </tbody>\n",
       "</table>\n",
       "<p>14178 rows × 5 columns</p>\n",
       "</div>"
      ],
      "text/plain": [
       "                           method data_split  feasible infeasibility_flag  \\\n",
       "Abbottina_rivularis           AmP      train      True                  0   \n",
       "Ablennes_hians                AmP       test      True                  0   \n",
       "Abramis_brama                 AmP      train      True                  0   \n",
       "Abroscopus_superciliaris      AmP      train      True                  0   \n",
       "Acanthis_flammea              AmP      train      True                  0   \n",
       "...                           ...        ...       ...                ...   \n",
       "Pelophylax_saharicus      Taxo1NN       test      True                  0   \n",
       "Rhinobatos_productus      Taxo1NN       test      True                  0   \n",
       "Zapteryx_brevirostris     Taxo1NN       test      True                  0   \n",
       "Grus_americana            Taxo1NN       test      True                  0   \n",
       "Orectolobus_halei         Taxo1NN       test      True                  0   \n",
       "\n",
       "                         error_message  \n",
       "Abbottina_rivularis                NaN  \n",
       "Ablennes_hians                     NaN  \n",
       "Abramis_brama                      NaN  \n",
       "Abroscopus_superciliaris           NaN  \n",
       "Acanthis_flammea                   NaN  \n",
       "...                                ...  \n",
       "Pelophylax_saharicus               NaN  \n",
       "Rhinobatos_productus               NaN  \n",
       "Zapteryx_brevirostris              NaN  \n",
       "Grus_americana                     NaN  \n",
       "Orectolobus_halei                  NaN  \n",
       "\n",
       "[14178 rows x 5 columns]"
      ]
     },
     "execution_count": 30,
     "metadata": {},
     "output_type": "execute_result"
    }
   ],
   "source": [
    "feas_df = pd.concat(feas_df_dict).reset_index(level=0, names='method')\n",
    "feas_df.replace(to_replace='val', value='train', inplace=True)\n",
    "feas_df"
   ]
  },
  {
   "cell_type": "code",
   "execution_count": 42,
   "id": "7dc26aee",
   "metadata": {},
   "outputs": [],
   "source": [
    "infeasibility_flag_to_text['failed'] = 'Method failed'"
   ]
  },
  {
   "cell_type": "code",
   "execution_count": 43,
   "id": "8f33553f-8c29-41d5-bdb7-de2bf682dd81",
   "metadata": {
    "editable": true,
    "slideshow": {
     "slide_type": ""
    },
    "tags": []
   },
   "outputs": [],
   "source": [
    "feasible_counts = {}\n",
    "for i, ds in enumerate(['train', 'test']):\n",
    "    feasible_counts[ds] = feas_df.loc[feas_df['data_split'] == ds, ['method', 'infeasibility_flag']].value_counts().sort_index().reset_index()\n",
    "    feasible_counts[ds]['infeasibility_flag'] = feasible_counts[ds]['infeasibility_flag'].map(infeasibility_flag_to_text)"
   ]
  },
  {
   "cell_type": "code",
   "execution_count": 45,
   "id": "3f372e08",
   "metadata": {},
   "outputs": [
    {
     "data": {
      "text/plain": [
       "infeasibility_flag\n",
       "failed    1357\n",
       "4          183\n",
       "1           43\n",
       "error        4\n",
       "5            3\n",
       "6            1\n",
       "Name: count, dtype: int64"
      ]
     },
     "execution_count": 45,
     "metadata": {},
     "output_type": "execute_result"
    }
   ],
   "source": [
    "feas_df[feas_df['infeasibility_flag'] != '0']['infeasibility_flag'].value_counts()"
   ]
  },
  {
   "cell_type": "code",
   "execution_count": 46,
   "id": "91789f75-1ebb-4be4-9fe4-4f2dcb4b7682",
   "metadata": {},
   "outputs": [
    {
     "data": {
      "text/html": [
       "<div>\n",
       "<style scoped>\n",
       "    .dataframe tbody tr th:only-of-type {\n",
       "        vertical-align: middle;\n",
       "    }\n",
       "\n",
       "    .dataframe tbody tr th {\n",
       "        vertical-align: top;\n",
       "    }\n",
       "\n",
       "    .dataframe thead th {\n",
       "        text-align: right;\n",
       "    }\n",
       "</style>\n",
       "<table border=\"1\" class=\"dataframe\">\n",
       "  <thead>\n",
       "    <tr style=\"text-align: right;\">\n",
       "      <th></th>\n",
       "      <th></th>\n",
       "      <th>count</th>\n",
       "    </tr>\n",
       "    <tr>\n",
       "      <th>method</th>\n",
       "      <th>infeasibility_flag</th>\n",
       "      <th></th>\n",
       "    </tr>\n",
       "  </thead>\n",
       "  <tbody>\n",
       "    <tr>\n",
       "      <th>AmP</th>\n",
       "      <th>Feasible</th>\n",
       "      <td>355</td>\n",
       "    </tr>\n",
       "    <tr>\n",
       "      <th rowspan=\"4\" valign=\"top\">BijectionMethod</th>\n",
       "      <th>Birth cannot \\nbe reached</th>\n",
       "      <td>1</td>\n",
       "    </tr>\n",
       "    <tr>\n",
       "      <th>Feasible</th>\n",
       "      <td>142</td>\n",
       "    </tr>\n",
       "    <tr>\n",
       "      <th>Method failed</th>\n",
       "      <td>206</td>\n",
       "    </tr>\n",
       "    <tr>\n",
       "      <th>Non-positive \\nparameters</th>\n",
       "      <td>6</td>\n",
       "    </tr>\n",
       "    <tr>\n",
       "      <th>MLP</th>\n",
       "      <th>Feasible</th>\n",
       "      <td>355</td>\n",
       "    </tr>\n",
       "    <tr>\n",
       "      <th>MultiTaskElasticNet</th>\n",
       "      <th>Feasible</th>\n",
       "      <td>355</td>\n",
       "    </tr>\n",
       "    <tr>\n",
       "      <th rowspan=\"2\" valign=\"top\">SRTaxo1NN</th>\n",
       "      <th>Feasible</th>\n",
       "      <td>338</td>\n",
       "    </tr>\n",
       "    <tr>\n",
       "      <th>Maturities are not\\n increasing</th>\n",
       "      <td>17</td>\n",
       "    </tr>\n",
       "    <tr>\n",
       "      <th rowspan=\"2\" valign=\"top\">Taxo1NN</th>\n",
       "      <th>Feasible</th>\n",
       "      <td>338</td>\n",
       "    </tr>\n",
       "    <tr>\n",
       "      <th>Maturities are not\\n increasing</th>\n",
       "      <td>17</td>\n",
       "    </tr>\n",
       "  </tbody>\n",
       "</table>\n",
       "</div>"
      ],
      "text/plain": [
       "                                                     count\n",
       "method              infeasibility_flag                    \n",
       "AmP                 Feasible                           355\n",
       "BijectionMethod     Birth cannot \\nbe reached            1\n",
       "                    Feasible                           142\n",
       "                    Method failed                      206\n",
       "                    Non-positive \\nparameters            6\n",
       "MLP                 Feasible                           355\n",
       "MultiTaskElasticNet Feasible                           355\n",
       "SRTaxo1NN           Feasible                           338\n",
       "                    Maturities are not\\n increasing     17\n",
       "Taxo1NN             Feasible                           338\n",
       "                    Maturities are not\\n increasing     17"
      ]
     },
     "execution_count": 46,
     "metadata": {},
     "output_type": "execute_result"
    }
   ],
   "source": [
    "feasible_counts['test'].groupby(['method', 'infeasibility_flag']).sum()"
   ]
  },
  {
   "cell_type": "markdown",
   "id": "b97bc494-832f-496e-be71-f896ab77b097",
   "metadata": {},
   "source": [
    "# Plot results"
   ]
  },
  {
   "cell_type": "code",
   "execution_count": 47,
   "id": "1c8b43e0-3d1f-42cb-8e17-4aae125813f0",
   "metadata": {},
   "outputs": [],
   "source": [
    "method_names = {\n",
    "    'BijectionMethod': 'Bijection Method',\n",
    "    'Taxo1NN': 'Taxonomic 1-NN',\n",
    "    'RandomForestRegressor': 'Random Forest',\n",
    "    'SRTaxo1NN': 'Taxonomic 1-NN',\n",
    "\n",
    "}"
   ]
  },
  {
   "cell_type": "code",
   "execution_count": 56,
   "id": "279375b6-a428-4c2e-9f31-7c8dc605cacc",
   "metadata": {
    "editable": true,
    "slideshow": {
     "slide_type": ""
    },
    "tags": []
   },
   "outputs": [
    {
     "name": "stderr",
     "output_type": "stream",
     "text": [
      "C:\\Users\\diogo\\AppData\\Local\\Temp\\ipykernel_41208\\1273015793.py:9: UserWarning: set_ticklabels() should only be used with a fixed number of ticks, i.e. after set_ticks() or using a FixedLocator.\n",
      "  ax.set_xticklabels(ax.get_xticklabels(), fontsize=8)\n",
      "C:\\Users\\diogo\\AppData\\Local\\Temp\\ipykernel_41208\\1273015793.py:9: UserWarning: set_ticklabels() should only be used with a fixed number of ticks, i.e. after set_ticks() or using a FixedLocator.\n",
      "  ax.set_xticklabels(ax.get_xticklabels(), fontsize=8)\n"
     ]
    },
    {
     "data": {
      "image/png": "[encoded data removed]",
      "text/plain": [
       "<Figure size 2000x600 with 2 Axes>"
      ]
     },
     "metadata": {},
     "output_type": "display_data"
    }
   ],
   "source": [
    "fig, axes = plt.subplots(1, 2, figsize=(20, 6), tight_layout=True)\n",
    "for i, ds in enumerate(['train', 'test']):\n",
    "    ax = axes[i]\n",
    "    \n",
    "    sns.barplot(data=feasible_counts[ds], x='infeasibility_flag', y='count', hue='method', ax=ax,\n",
    "                width=0.9,)\n",
    "    ax.set_title(f'{ds.capitalize()} set')\n",
    "    ax.set_xlabel('Reason for infeasibility')\n",
    "    ax.set_xticklabels(ax.get_xticklabels(), fontsize=8)\n",
    "    ax.set_ylabel('')\n",
    "    for j in range(len(feas_df_dict)):\n",
    "        ax.bar_label(ax.containers[j], fontsize=8)"
   ]
  },
  {
   "cell_type": "code",
   "execution_count": null,
   "id": "84182a6a-989b-4c69-9c9b-32c8acdfbefb",
   "metadata": {
    "editable": true,
    "slideshow": {
     "slide_type": ""
    },
    "tags": []
   },
   "outputs": [],
   "source": []
  },
  {
   "cell_type": "code",
   "execution_count": null,
   "id": "e298617e-187c-4fd0-8f73-87c6ed9815ca",
   "metadata": {},
   "outputs": [],
   "source": []
  }
 ],
 "metadata": {
  "kernelspec": {
   "display_name": "ml_bijection",
   "language": "python",
   "name": "python3"
  },
  "language_info": {
   "codemirror_mode": {
    "name": "ipython",
    "version": 3
   },
   "file_extension": ".py",
   "mimetype": "text/x-python",
   "name": "python",
   "nbconvert_exporter": "python",
   "pygments_lexer": "ipython3",
   "version": "3.10.14"
  },
  "widgets": {
   "application/vnd.jupyter.widget-state+json": {
    "state": {},
    "version_major": 2,
    "version_minor": 0
   }
  }
 },
 "nbformat": 4,
 "nbformat_minor": 5
}
