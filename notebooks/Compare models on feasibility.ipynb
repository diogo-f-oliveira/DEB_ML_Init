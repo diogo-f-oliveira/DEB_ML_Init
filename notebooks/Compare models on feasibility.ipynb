{
 "cells": [
  {
   "cell_type": "code",
   "execution_count": 1,
   "id": "3ca2b3e5-c73f-4c42-b48d-cb6aff8d1eef",
   "metadata": {
    "editable": true,
    "slideshow": {
     "slide_type": ""
    },
    "tags": []
   },
   "outputs": [],
   "source": [
    "import sys\n",
    "import os\n",
    "# Add the 'project' directory to the path\n",
    "sys.path.append(os.path.abspath('..'))"
   ]
  },
  {
   "cell_type": "code",
   "execution_count": 2,
   "id": "919c4cc6-b0b2-479e-92a1-178ca0a408ab",
   "metadata": {
    "editable": true,
    "slideshow": {
     "slide_type": ""
    },
    "tags": []
   },
   "outputs": [],
   "source": [
    "import pandas as pd\n",
    "import numpy as np\n",
    "import matplotlib.pyplot as plt\n",
    "from matplotlib.ticker import PercentFormatter\n",
    "import seaborn as sns\n",
    "import ipywidgets as widgets\n",
    "from IPython.display import display\n",
    "import pickle\n",
    "import sklearn.metrics as metrics\n",
    "from sklearn.neighbors import KNeighborsRegressor"
   ]
  },
  {
   "cell_type": "code",
   "execution_count": 3,
   "id": "58a2fd74-921a-4d4f-bc83-17d18d1f4cf4",
   "metadata": {
    "editable": true,
    "slideshow": {
     "slide_type": ""
    },
    "tags": []
   },
   "outputs": [],
   "source": [
    "from project_code.data.load_data import load_dataframes\n",
    "from project_code.data.prepare_data_sklearn import get_features_targets\n",
    "from project_code.plotters.infeasibility import infeasibility_flag_to_text"
   ]
  },
  {
   "cell_type": "markdown",
   "id": "806aa4a4-c499-4df8-9606-b477c6a72ce0",
   "metadata": {},
   "source": [
    "# Loading data and results"
   ]
  },
  {
   "cell_type": "markdown",
   "id": "0fac81ed-8af2-4c3a-b005-a88815e6cef8",
   "metadata": {},
   "source": [
    "## Load data"
   ]
  },
  {
   "cell_type": "code",
   "execution_count": 4,
   "id": "3fc89c9c-4380-423f-a2a6-0848be4551ca",
   "metadata": {
    "editable": true,
    "slideshow": {
     "slide_type": ""
    },
    "tags": []
   },
   "outputs": [],
   "source": [
    "dataset_name = 'final'\n",
    "dataset_name += '_taxonomy'\n",
    "dataset_name += '_ecocodes'\n",
    "\n",
    "bio_dataset_name = 'biologist_no_pub_age'\n",
    "\n",
    "# Load the data\n",
    "dataset_folder = f'../data/processed/'\n",
    "dfs, col_types = load_dataframes(dataset_name=dataset_name, data_split='train_test', datasets_folder=dataset_folder)\n",
    "data = get_features_targets(dfs, col_types)"
   ]
  },
  {
   "cell_type": "markdown",
   "id": "c3792d85-35b0-4e24-ade7-2e7def07a899",
   "metadata": {},
   "source": [
    "## Load results"
   ]
  },
  {
   "cell_type": "code",
   "execution_count": 5,
   "id": "fb782e86-b36b-4e7e-b69d-f318edcf8f01",
   "metadata": {
    "editable": true,
    "slideshow": {
     "slide_type": ""
    },
    "tags": []
   },
   "outputs": [
    {
     "name": "stdout",
     "output_type": "stream",
     "text": [
      "AmP\n",
      "BijectionMethod\n",
      "MLPSC\n",
      "MLP\n",
      "SRTaxo1NN\n",
      "Taxo1NN\n"
     ]
    }
   ],
   "source": [
    "results_folder = f'../results/'\n",
    "feasibility_results_folder = os.path.join(results_folder, 'feasibility')\n",
    "feas_df_dict = {}\n",
    "for file in os.listdir(feasibility_results_folder):\n",
    "    model_name = file.split('_feasibility.csv')[0]\n",
    "    feas_df_dict[model_name] = pd.read_csv(os.path.join(feasibility_results_folder, file), index_col=0)\n",
    "    feas_df_dict[model_name]['infeasibility_flag'] = feas_df_dict[model_name]['infeasibility_flag'].astype(str)\n",
    "    feas_df_dict[model_name]['feasible'] = feas_df_dict[model_name]['feasible'].astype(bool)\n",
    "\n",
    "\n",
    "print(*feas_df_dict.keys(), sep='\\n')"
   ]
  },
  {
   "cell_type": "markdown",
   "id": "ed9e0df9",
   "metadata": {},
   "source": [
    "### Add species where bijection method failed"
   ]
  },
  {
   "cell_type": "code",
   "execution_count": 6,
   "id": "52ad3a98",
   "metadata": {},
   "outputs": [
    {
     "data": {
      "text/html": [
       "<div>\n",
       "<style scoped>\n",
       "    .dataframe tbody tr th:only-of-type {\n",
       "        vertical-align: middle;\n",
       "    }\n",
       "\n",
       "    .dataframe tbody tr th {\n",
       "        vertical-align: top;\n",
       "    }\n",
       "\n",
       "    .dataframe thead th {\n",
       "        text-align: right;\n",
       "    }\n",
       "</style>\n",
       "<table border=\"1\" class=\"dataframe\">\n",
       "  <thead>\n",
       "    <tr style=\"text-align: right;\">\n",
       "      <th></th>\n",
       "      <th>data_split</th>\n",
       "      <th>feasible</th>\n",
       "      <th>infeasibility_flag</th>\n",
       "      <th>error_message</th>\n",
       "    </tr>\n",
       "  </thead>\n",
       "  <tbody>\n",
       "    <tr>\n",
       "      <th>Abbottina_rivularis</th>\n",
       "      <td>train</td>\n",
       "      <td>True</td>\n",
       "      <td>0</td>\n",
       "      <td>NaN</td>\n",
       "    </tr>\n",
       "    <tr>\n",
       "      <th>Ablennes_hians</th>\n",
       "      <td>test</td>\n",
       "      <td>True</td>\n",
       "      <td>0</td>\n",
       "      <td>NaN</td>\n",
       "    </tr>\n",
       "    <tr>\n",
       "      <th>Acanthochromis_polyacanthus</th>\n",
       "      <td>train</td>\n",
       "      <td>True</td>\n",
       "      <td>0</td>\n",
       "      <td>NaN</td>\n",
       "    </tr>\n",
       "    <tr>\n",
       "      <th>Acanthoclinus_littoreus</th>\n",
       "      <td>train</td>\n",
       "      <td>True</td>\n",
       "      <td>0</td>\n",
       "      <td>NaN</td>\n",
       "    </tr>\n",
       "    <tr>\n",
       "      <th>Acanthocybium_solandri</th>\n",
       "      <td>train</td>\n",
       "      <td>True</td>\n",
       "      <td>0</td>\n",
       "      <td>NaN</td>\n",
       "    </tr>\n",
       "    <tr>\n",
       "      <th>...</th>\n",
       "      <td>...</td>\n",
       "      <td>...</td>\n",
       "      <td>...</td>\n",
       "      <td>...</td>\n",
       "    </tr>\n",
       "    <tr>\n",
       "      <th>Zonotrichia_capensis</th>\n",
       "      <td>train</td>\n",
       "      <td>False</td>\n",
       "      <td>failed</td>\n",
       "      <td>failed</td>\n",
       "    </tr>\n",
       "    <tr>\n",
       "      <th>Zonotrichia_leucophrys</th>\n",
       "      <td>train</td>\n",
       "      <td>False</td>\n",
       "      <td>failed</td>\n",
       "      <td>failed</td>\n",
       "    </tr>\n",
       "    <tr>\n",
       "      <th>Zonotrichia_querula</th>\n",
       "      <td>train</td>\n",
       "      <td>False</td>\n",
       "      <td>failed</td>\n",
       "      <td>failed</td>\n",
       "    </tr>\n",
       "    <tr>\n",
       "      <th>Zosterops_lateralis</th>\n",
       "      <td>train</td>\n",
       "      <td>False</td>\n",
       "      <td>failed</td>\n",
       "      <td>failed</td>\n",
       "    </tr>\n",
       "    <tr>\n",
       "      <th>Zosterops_virens</th>\n",
       "      <td>test</td>\n",
       "      <td>False</td>\n",
       "      <td>failed</td>\n",
       "      <td>failed</td>\n",
       "    </tr>\n",
       "  </tbody>\n",
       "</table>\n",
       "<p>2363 rows × 4 columns</p>\n",
       "</div>"
      ],
      "text/plain": [
       "                            data_split  feasible infeasibility_flag  \\\n",
       "Abbottina_rivularis              train      True                  0   \n",
       "Ablennes_hians                    test      True                  0   \n",
       "Acanthochromis_polyacanthus      train      True                  0   \n",
       "Acanthoclinus_littoreus          train      True                  0   \n",
       "Acanthocybium_solandri           train      True                  0   \n",
       "...                                ...       ...                ...   \n",
       "Zonotrichia_capensis             train     False             failed   \n",
       "Zonotrichia_leucophrys           train     False             failed   \n",
       "Zonotrichia_querula              train     False             failed   \n",
       "Zosterops_lateralis              train     False             failed   \n",
       "Zosterops_virens                  test     False             failed   \n",
       "\n",
       "                            error_message  \n",
       "Abbottina_rivularis                   NaN  \n",
       "Ablennes_hians                        NaN  \n",
       "Acanthochromis_polyacanthus           NaN  \n",
       "Acanthoclinus_littoreus               NaN  \n",
       "Acanthocybium_solandri                NaN  \n",
       "...                                   ...  \n",
       "Zonotrichia_capensis               failed  \n",
       "Zonotrichia_leucophrys             failed  \n",
       "Zonotrichia_querula                failed  \n",
       "Zosterops_lateralis                failed  \n",
       "Zosterops_virens                   failed  \n",
       "\n",
       "[2363 rows x 4 columns]"
      ]
     },
     "execution_count": 6,
     "metadata": {},
     "output_type": "execute_result"
    }
   ],
   "source": [
    "species_bijection_failed = feas_df_dict['AmP'].index.difference(feas_df_dict['BijectionMethod'].index).values\n",
    "bijection_failed_df = pd.DataFrame(index=species_bijection_failed, columns=feas_df_dict['BijectionMethod'].columns)\n",
    "bijection_failed_df['infeasibility_flag'] = 'failed'\n",
    "bijection_failed_df['feasible'] = False\n",
    "bijection_failed_df['data_split'] = feas_df_dict['AmP']['data_split']\n",
    "bijection_failed_df['error_message'] = 'failed'\n",
    "feas_df_dict['BijectionMethod'] = pd.concat([feas_df_dict['BijectionMethod'], bijection_failed_df])\n",
    "feas_df_dict['BijectionMethod']"
   ]
  },
  {
   "cell_type": "code",
   "execution_count": 7,
   "id": "d9bf2a06",
   "metadata": {},
   "outputs": [
    {
     "data": {
      "text/plain": [
       "Series([], Name: infeasibility_flag, dtype: object)"
      ]
     },
     "execution_count": 7,
     "metadata": {},
     "output_type": "execute_result"
    }
   ],
   "source": [
    "feas_df_dict['AmP'].loc[feas_df_dict['AmP']['infeasibility_flag'] != '0', 'infeasibility_flag']"
   ]
  },
  {
   "cell_type": "code",
   "execution_count": 8,
   "id": "00f15930-d0c1-4ec2-ac08-9ed8ff39d981",
   "metadata": {
    "editable": true,
    "slideshow": {
     "slide_type": ""
    },
    "tags": []
   },
   "outputs": [
    {
     "data": {
      "text/html": [
       "<div>\n",
       "<style scoped>\n",
       "    .dataframe tbody tr th:only-of-type {\n",
       "        vertical-align: middle;\n",
       "    }\n",
       "\n",
       "    .dataframe tbody tr th {\n",
       "        vertical-align: top;\n",
       "    }\n",
       "\n",
       "    .dataframe thead th {\n",
       "        text-align: right;\n",
       "    }\n",
       "</style>\n",
       "<table border=\"1\" class=\"dataframe\">\n",
       "  <thead>\n",
       "    <tr style=\"text-align: right;\">\n",
       "      <th></th>\n",
       "      <th>method</th>\n",
       "      <th>data_split</th>\n",
       "      <th>feasible</th>\n",
       "      <th>infeasibility_flag</th>\n",
       "      <th>error_message</th>\n",
       "    </tr>\n",
       "  </thead>\n",
       "  <tbody>\n",
       "    <tr>\n",
       "      <th>Abbottina_rivularis</th>\n",
       "      <td>AmP</td>\n",
       "      <td>train</td>\n",
       "      <td>True</td>\n",
       "      <td>0</td>\n",
       "      <td>NaN</td>\n",
       "    </tr>\n",
       "    <tr>\n",
       "      <th>Ablennes_hians</th>\n",
       "      <td>AmP</td>\n",
       "      <td>test</td>\n",
       "      <td>True</td>\n",
       "      <td>0</td>\n",
       "      <td>NaN</td>\n",
       "    </tr>\n",
       "    <tr>\n",
       "      <th>Abramis_brama</th>\n",
       "      <td>AmP</td>\n",
       "      <td>train</td>\n",
       "      <td>True</td>\n",
       "      <td>0</td>\n",
       "      <td>NaN</td>\n",
       "    </tr>\n",
       "    <tr>\n",
       "      <th>Abroscopus_superciliaris</th>\n",
       "      <td>AmP</td>\n",
       "      <td>train</td>\n",
       "      <td>True</td>\n",
       "      <td>0</td>\n",
       "      <td>NaN</td>\n",
       "    </tr>\n",
       "    <tr>\n",
       "      <th>Acanthis_flammea</th>\n",
       "      <td>AmP</td>\n",
       "      <td>train</td>\n",
       "      <td>True</td>\n",
       "      <td>0</td>\n",
       "      <td>NaN</td>\n",
       "    </tr>\n",
       "    <tr>\n",
       "      <th>...</th>\n",
       "      <td>...</td>\n",
       "      <td>...</td>\n",
       "      <td>...</td>\n",
       "      <td>...</td>\n",
       "      <td>...</td>\n",
       "    </tr>\n",
       "    <tr>\n",
       "      <th>Pelophylax_saharicus</th>\n",
       "      <td>Taxo1NN</td>\n",
       "      <td>test</td>\n",
       "      <td>True</td>\n",
       "      <td>0</td>\n",
       "      <td>NaN</td>\n",
       "    </tr>\n",
       "    <tr>\n",
       "      <th>Rhinobatos_productus</th>\n",
       "      <td>Taxo1NN</td>\n",
       "      <td>test</td>\n",
       "      <td>True</td>\n",
       "      <td>0</td>\n",
       "      <td>NaN</td>\n",
       "    </tr>\n",
       "    <tr>\n",
       "      <th>Zapteryx_brevirostris</th>\n",
       "      <td>Taxo1NN</td>\n",
       "      <td>test</td>\n",
       "      <td>True</td>\n",
       "      <td>0</td>\n",
       "      <td>NaN</td>\n",
       "    </tr>\n",
       "    <tr>\n",
       "      <th>Grus_americana</th>\n",
       "      <td>Taxo1NN</td>\n",
       "      <td>test</td>\n",
       "      <td>True</td>\n",
       "      <td>0</td>\n",
       "      <td>NaN</td>\n",
       "    </tr>\n",
       "    <tr>\n",
       "      <th>Orectolobus_halei</th>\n",
       "      <td>Taxo1NN</td>\n",
       "      <td>test</td>\n",
       "      <td>True</td>\n",
       "      <td>0</td>\n",
       "      <td>NaN</td>\n",
       "    </tr>\n",
       "  </tbody>\n",
       "</table>\n",
       "<p>14178 rows × 5 columns</p>\n",
       "</div>"
      ],
      "text/plain": [
       "                           method data_split  feasible infeasibility_flag  \\\n",
       "Abbottina_rivularis           AmP      train      True                  0   \n",
       "Ablennes_hians                AmP       test      True                  0   \n",
       "Abramis_brama                 AmP      train      True                  0   \n",
       "Abroscopus_superciliaris      AmP      train      True                  0   \n",
       "Acanthis_flammea              AmP      train      True                  0   \n",
       "...                           ...        ...       ...                ...   \n",
       "Pelophylax_saharicus      Taxo1NN       test      True                  0   \n",
       "Rhinobatos_productus      Taxo1NN       test      True                  0   \n",
       "Zapteryx_brevirostris     Taxo1NN       test      True                  0   \n",
       "Grus_americana            Taxo1NN       test      True                  0   \n",
       "Orectolobus_halei         Taxo1NN       test      True                  0   \n",
       "\n",
       "                         error_message  \n",
       "Abbottina_rivularis                NaN  \n",
       "Ablennes_hians                     NaN  \n",
       "Abramis_brama                      NaN  \n",
       "Abroscopus_superciliaris           NaN  \n",
       "Acanthis_flammea                   NaN  \n",
       "...                                ...  \n",
       "Pelophylax_saharicus               NaN  \n",
       "Rhinobatos_productus               NaN  \n",
       "Zapteryx_brevirostris              NaN  \n",
       "Grus_americana                     NaN  \n",
       "Orectolobus_halei                  NaN  \n",
       "\n",
       "[14178 rows x 5 columns]"
      ]
     },
     "execution_count": 8,
     "metadata": {},
     "output_type": "execute_result"
    }
   ],
   "source": [
    "feas_df = pd.concat(feas_df_dict).reset_index(level=0, names='method')\n",
    "feas_df.replace(to_replace='val', value='train', inplace=True)\n",
    "feas_df"
   ]
  },
  {
   "cell_type": "code",
   "execution_count": 9,
   "id": "5457ec35",
   "metadata": {},
   "outputs": [
    {
     "data": {
      "text/plain": [
       "{'0': 'Feasible',\n",
       " '1': 'Non-positive \\nparameters',\n",
       " '2': 'Efficiency not \\n between 0 and 1',\n",
       " '3': 'Growth effieciency\\n larger than 1',\n",
       " '4': 'Maturities are not\\n increasing',\n",
       " '5': 'Puberty cannot \\nbe reached',\n",
       " '6': 'Birth cannot \\nbe reached',\n",
       " 'error': 'Error',\n",
       " 'failed': 'Method failed',\n",
       " 'timeout': 'Time limit reached'}"
      ]
     },
     "execution_count": 9,
     "metadata": {},
     "output_type": "execute_result"
    }
   ],
   "source": [
    "infeasibility_flag_to_text"
   ]
  },
  {
   "cell_type": "code",
   "execution_count": 10,
   "id": "8f33553f-8c29-41d5-bdb7-de2bf682dd81",
   "metadata": {
    "editable": true,
    "slideshow": {
     "slide_type": ""
    },
    "tags": []
   },
   "outputs": [],
   "source": [
    "feasible_counts = {}\n",
    "for i, ds in enumerate(['train', 'test']):\n",
    "    feasible_counts[ds] = feas_df.loc[feas_df['data_split'] == ds, ['method', 'infeasibility_flag']].value_counts().sort_index().reset_index()\n",
    "    feasible_counts[ds]['infeasibility_flag'] = feasible_counts[ds]['infeasibility_flag'].map(infeasibility_flag_to_text)"
   ]
  },
  {
   "cell_type": "code",
   "execution_count": 11,
   "id": "3f372e08",
   "metadata": {},
   "outputs": [
    {
     "data": {
      "text/plain": [
       "infeasibility_flag\n",
       "failed     1357\n",
       "1            43\n",
       "5            33\n",
       "4             7\n",
       "timeout       4\n",
       "6             4\n",
       "Name: count, dtype: int64"
      ]
     },
     "execution_count": 11,
     "metadata": {},
     "output_type": "execute_result"
    }
   ],
   "source": [
    "feas_df[feas_df['infeasibility_flag'] != '0']['infeasibility_flag'].value_counts()"
   ]
  },
  {
   "cell_type": "code",
   "execution_count": 12,
   "id": "91789f75-1ebb-4be4-9fe4-4f2dcb4b7682",
   "metadata": {},
   "outputs": [
    {
     "data": {
      "text/html": [
       "<div>\n",
       "<style scoped>\n",
       "    .dataframe tbody tr th:only-of-type {\n",
       "        vertical-align: middle;\n",
       "    }\n",
       "\n",
       "    .dataframe tbody tr th {\n",
       "        vertical-align: top;\n",
       "    }\n",
       "\n",
       "    .dataframe thead th {\n",
       "        text-align: right;\n",
       "    }\n",
       "</style>\n",
       "<table border=\"1\" class=\"dataframe\">\n",
       "  <thead>\n",
       "    <tr style=\"text-align: right;\">\n",
       "      <th></th>\n",
       "      <th></th>\n",
       "      <th>count</th>\n",
       "    </tr>\n",
       "    <tr>\n",
       "      <th>method</th>\n",
       "      <th>infeasibility_flag</th>\n",
       "      <th></th>\n",
       "    </tr>\n",
       "  </thead>\n",
       "  <tbody>\n",
       "    <tr>\n",
       "      <th>AmP</th>\n",
       "      <th>Feasible</th>\n",
       "      <td>2008</td>\n",
       "    </tr>\n",
       "    <tr>\n",
       "      <th rowspan=\"6\" valign=\"top\">BijectionMethod</th>\n",
       "      <th>Feasible</th>\n",
       "      <td>812</td>\n",
       "    </tr>\n",
       "    <tr>\n",
       "      <th>Maturities are not\\n increasing</th>\n",
       "      <td>1</td>\n",
       "    </tr>\n",
       "    <tr>\n",
       "      <th>Method failed</th>\n",
       "      <td>1151</td>\n",
       "    </tr>\n",
       "    <tr>\n",
       "      <th>Non-positive \\nparameters</th>\n",
       "      <td>37</td>\n",
       "    </tr>\n",
       "    <tr>\n",
       "      <th>Puberty cannot \\nbe reached</th>\n",
       "      <td>3</td>\n",
       "    </tr>\n",
       "    <tr>\n",
       "      <th>Time limit reached</th>\n",
       "      <td>4</td>\n",
       "    </tr>\n",
       "    <tr>\n",
       "      <th rowspan=\"3\" valign=\"top\">MLP</th>\n",
       "      <th>Birth cannot \\nbe reached</th>\n",
       "      <td>1</td>\n",
       "    </tr>\n",
       "    <tr>\n",
       "      <th>Feasible</th>\n",
       "      <td>2000</td>\n",
       "    </tr>\n",
       "    <tr>\n",
       "      <th>Puberty cannot \\nbe reached</th>\n",
       "      <td>7</td>\n",
       "    </tr>\n",
       "    <tr>\n",
       "      <th rowspan=\"4\" valign=\"top\">MLPSC</th>\n",
       "      <th>Birth cannot \\nbe reached</th>\n",
       "      <td>1</td>\n",
       "    </tr>\n",
       "    <tr>\n",
       "      <th>Feasible</th>\n",
       "      <td>1986</td>\n",
       "    </tr>\n",
       "    <tr>\n",
       "      <th>Maturities are not\\n increasing</th>\n",
       "      <td>4</td>\n",
       "    </tr>\n",
       "    <tr>\n",
       "      <th>Puberty cannot \\nbe reached</th>\n",
       "      <td>17</td>\n",
       "    </tr>\n",
       "    <tr>\n",
       "      <th>SRTaxo1NN</th>\n",
       "      <th>Feasible</th>\n",
       "      <td>2008</td>\n",
       "    </tr>\n",
       "    <tr>\n",
       "      <th>Taxo1NN</th>\n",
       "      <th>Feasible</th>\n",
       "      <td>2008</td>\n",
       "    </tr>\n",
       "  </tbody>\n",
       "</table>\n",
       "</div>"
      ],
      "text/plain": [
       "                                                 count\n",
       "method          infeasibility_flag                    \n",
       "AmP             Feasible                          2008\n",
       "BijectionMethod Feasible                           812\n",
       "                Maturities are not\\n increasing      1\n",
       "                Method failed                     1151\n",
       "                Non-positive \\nparameters           37\n",
       "                Puberty cannot \\nbe reached          3\n",
       "                Time limit reached                   4\n",
       "MLP             Birth cannot \\nbe reached            1\n",
       "                Feasible                          2000\n",
       "                Puberty cannot \\nbe reached          7\n",
       "MLPSC           Birth cannot \\nbe reached            1\n",
       "                Feasible                          1986\n",
       "                Maturities are not\\n increasing      4\n",
       "                Puberty cannot \\nbe reached         17\n",
       "SRTaxo1NN       Feasible                          2008\n",
       "Taxo1NN         Feasible                          2008"
      ]
     },
     "execution_count": 12,
     "metadata": {},
     "output_type": "execute_result"
    }
   ],
   "source": [
    "feasible_counts['train'].groupby(['method', 'infeasibility_flag']).sum()"
   ]
  },
  {
   "cell_type": "code",
   "execution_count": 13,
   "id": "99934acf",
   "metadata": {},
   "outputs": [
    {
     "data": {
      "text/plain": [
       "0.9978840457046128"
      ]
     },
     "execution_count": 13,
     "metadata": {},
     "output_type": "execute_result"
    }
   ],
   "source": [
    "2358 / 2363"
   ]
  },
  {
   "cell_type": "code",
   "execution_count": 20,
   "id": "f53a2f0f",
   "metadata": {},
   "outputs": [
    {
     "data": {
      "text/html": [
       "<div>\n",
       "<style scoped>\n",
       "    .dataframe tbody tr th:only-of-type {\n",
       "        vertical-align: middle;\n",
       "    }\n",
       "\n",
       "    .dataframe tbody tr th {\n",
       "        vertical-align: top;\n",
       "    }\n",
       "\n",
       "    .dataframe thead th {\n",
       "        text-align: right;\n",
       "    }\n",
       "</style>\n",
       "<table border=\"1\" class=\"dataframe\">\n",
       "  <thead>\n",
       "    <tr style=\"text-align: right;\">\n",
       "      <th></th>\n",
       "      <th>infeasibility_flag</th>\n",
       "      <th>data_split</th>\n",
       "    </tr>\n",
       "    <tr>\n",
       "      <th>Row</th>\n",
       "      <th></th>\n",
       "      <th></th>\n",
       "    </tr>\n",
       "  </thead>\n",
       "  <tbody>\n",
       "    <tr>\n",
       "      <th>Branchotenthes_octohamatus</th>\n",
       "      <td>4</td>\n",
       "      <td>test</td>\n",
       "    </tr>\n",
       "    <tr>\n",
       "      <th>Ptychocheilus_oregonensis</th>\n",
       "      <td>4</td>\n",
       "      <td>test</td>\n",
       "    </tr>\n",
       "    <tr>\n",
       "      <th>Pimephales_vigilax</th>\n",
       "      <td>4</td>\n",
       "      <td>train</td>\n",
       "    </tr>\n",
       "    <tr>\n",
       "      <th>Cyclonaias_asperata</th>\n",
       "      <td>4</td>\n",
       "      <td>train</td>\n",
       "    </tr>\n",
       "    <tr>\n",
       "      <th>Osphronemus_goramy</th>\n",
       "      <td>4</td>\n",
       "      <td>train</td>\n",
       "    </tr>\n",
       "    <tr>\n",
       "      <th>Chasmistes_brevirostris</th>\n",
       "      <td>4</td>\n",
       "      <td>train</td>\n",
       "    </tr>\n",
       "    <tr>\n",
       "      <th>Sterna_hirundo</th>\n",
       "      <td>5</td>\n",
       "      <td>test</td>\n",
       "    </tr>\n",
       "    <tr>\n",
       "      <th>Homo_sapiens</th>\n",
       "      <td>5</td>\n",
       "      <td>test</td>\n",
       "    </tr>\n",
       "    <tr>\n",
       "      <th>Antigone_vipio</th>\n",
       "      <td>5</td>\n",
       "      <td>train</td>\n",
       "    </tr>\n",
       "    <tr>\n",
       "      <th>Numenius_phaeopus</th>\n",
       "      <td>5</td>\n",
       "      <td>train</td>\n",
       "    </tr>\n",
       "    <tr>\n",
       "      <th>Cacatua_ophthalmica</th>\n",
       "      <td>5</td>\n",
       "      <td>train</td>\n",
       "    </tr>\n",
       "    <tr>\n",
       "      <th>Pristis_clavata</th>\n",
       "      <td>5</td>\n",
       "      <td>train</td>\n",
       "    </tr>\n",
       "    <tr>\n",
       "      <th>Sotalia_fluviatilis</th>\n",
       "      <td>5</td>\n",
       "      <td>train</td>\n",
       "    </tr>\n",
       "    <tr>\n",
       "      <th>Limosa_haemastica</th>\n",
       "      <td>5</td>\n",
       "      <td>train</td>\n",
       "    </tr>\n",
       "    <tr>\n",
       "      <th>Thalasseus_sandvicensis</th>\n",
       "      <td>5</td>\n",
       "      <td>train</td>\n",
       "    </tr>\n",
       "    <tr>\n",
       "      <th>Aquila_rapax</th>\n",
       "      <td>5</td>\n",
       "      <td>train</td>\n",
       "    </tr>\n",
       "    <tr>\n",
       "      <th>Branta_leucopsis</th>\n",
       "      <td>5</td>\n",
       "      <td>train</td>\n",
       "    </tr>\n",
       "    <tr>\n",
       "      <th>Systellura_longirostris</th>\n",
       "      <td>5</td>\n",
       "      <td>train</td>\n",
       "    </tr>\n",
       "    <tr>\n",
       "      <th>Tympanuchus_pallidicinctus</th>\n",
       "      <td>5</td>\n",
       "      <td>train</td>\n",
       "    </tr>\n",
       "    <tr>\n",
       "      <th>Haematopus_ostralegus</th>\n",
       "      <td>5</td>\n",
       "      <td>train</td>\n",
       "    </tr>\n",
       "    <tr>\n",
       "      <th>Pinguinus_impennis</th>\n",
       "      <td>5</td>\n",
       "      <td>train</td>\n",
       "    </tr>\n",
       "    <tr>\n",
       "      <th>Antigone_canadensis</th>\n",
       "      <td>5</td>\n",
       "      <td>train</td>\n",
       "    </tr>\n",
       "    <tr>\n",
       "      <th>Chloephaga_picta</th>\n",
       "      <td>5</td>\n",
       "      <td>train</td>\n",
       "    </tr>\n",
       "    <tr>\n",
       "      <th>Tringa_totanus</th>\n",
       "      <td>5</td>\n",
       "      <td>train</td>\n",
       "    </tr>\n",
       "    <tr>\n",
       "      <th>Numenius_arquata</th>\n",
       "      <td>5</td>\n",
       "      <td>train</td>\n",
       "    </tr>\n",
       "    <tr>\n",
       "      <th>Leucophaeus_atricilla</th>\n",
       "      <td>6</td>\n",
       "      <td>test</td>\n",
       "    </tr>\n",
       "    <tr>\n",
       "      <th>Chiroxiphia_lanceolata</th>\n",
       "      <td>6</td>\n",
       "      <td>train</td>\n",
       "    </tr>\n",
       "  </tbody>\n",
       "</table>\n",
       "</div>"
      ],
      "text/plain": [
       "                           infeasibility_flag data_split\n",
       "Row                                                     \n",
       "Branchotenthes_octohamatus                  4       test\n",
       "Ptychocheilus_oregonensis                   4       test\n",
       "Pimephales_vigilax                          4      train\n",
       "Cyclonaias_asperata                         4      train\n",
       "Osphronemus_goramy                          4      train\n",
       "Chasmistes_brevirostris                     4      train\n",
       "Sterna_hirundo                              5       test\n",
       "Homo_sapiens                                5       test\n",
       "Antigone_vipio                              5      train\n",
       "Numenius_phaeopus                           5      train\n",
       "Cacatua_ophthalmica                         5      train\n",
       "Pristis_clavata                             5      train\n",
       "Sotalia_fluviatilis                         5      train\n",
       "Limosa_haemastica                           5      train\n",
       "Thalasseus_sandvicensis                     5      train\n",
       "Aquila_rapax                                5      train\n",
       "Branta_leucopsis                            5      train\n",
       "Systellura_longirostris                     5      train\n",
       "Tympanuchus_pallidicinctus                  5      train\n",
       "Haematopus_ostralegus                       5      train\n",
       "Pinguinus_impennis                          5      train\n",
       "Antigone_canadensis                         5      train\n",
       "Chloephaga_picta                            5      train\n",
       "Tringa_totanus                              5      train\n",
       "Numenius_arquata                            5      train\n",
       "Leucophaeus_atricilla                       6       test\n",
       "Chiroxiphia_lanceolata                      6      train"
      ]
     },
     "execution_count": 20,
     "metadata": {},
     "output_type": "execute_result"
    }
   ],
   "source": [
    "df = feas_df_dict['MLPSC']\n",
    "df.loc[df['infeasibility_flag'] != '0', ['infeasibility_flag', 'data_split']].sort_values(by=['infeasibility_flag', 'data_split'])"
   ]
  },
  {
   "cell_type": "code",
   "execution_count": 15,
   "id": "6f60bda9",
   "metadata": {},
   "outputs": [
    {
     "data": {
      "text/plain": [
       "np.float64(40.3300888700804)"
      ]
     },
     "execution_count": 15,
     "metadata": {},
     "output_type": "execute_result"
    }
   ],
   "source": [
    "df = feas_df_dict['BijectionMethod']\n",
    "df[df['infeasibility_flag'] != '0']\n",
    "df['feasible'].sum()/df.shape[0] * 100"
   ]
  },
  {
   "cell_type": "markdown",
   "id": "b97bc494-832f-496e-be71-f896ab77b097",
   "metadata": {},
   "source": [
    "# Plot results"
   ]
  },
  {
   "cell_type": "code",
   "execution_count": 16,
   "id": "1c8b43e0-3d1f-42cb-8e17-4aae125813f0",
   "metadata": {},
   "outputs": [],
   "source": [
    "method_names = {\n",
    "    'BijectionMethod': 'Bijection Method',\n",
    "    'Taxo1NN': 'Taxonomic 1-NN',\n",
    "    'RandomForestRegressor': 'Random Forest',\n",
    "    'SRTaxo1NN': 'Taxonomic 1-NN',\n",
    "\n",
    "}"
   ]
  },
  {
   "cell_type": "code",
   "execution_count": 17,
   "id": "279375b6-a428-4c2e-9f31-7c8dc605cacc",
   "metadata": {
    "editable": true,
    "slideshow": {
     "slide_type": ""
    },
    "tags": []
   },
   "outputs": [
    {
     "name": "stderr",
     "output_type": "stream",
     "text": [
      "C:\\Users\\diogo\\AppData\\Local\\Temp\\ipykernel_42196\\1273015793.py:9: UserWarning: set_ticklabels() should only be used with a fixed number of ticks, i.e. after set_ticks() or using a FixedLocator.\n",
      "  ax.set_xticklabels(ax.get_xticklabels(), fontsize=8)\n",
      "C:\\Users\\diogo\\AppData\\Local\\Temp\\ipykernel_42196\\1273015793.py:9: UserWarning: set_ticklabels() should only be used with a fixed number of ticks, i.e. after set_ticks() or using a FixedLocator.\n",
      "  ax.set_xticklabels(ax.get_xticklabels(), fontsize=8)\n"
     ]
    },
    {
     "data": {
      "image/png": "[encoded data removed]",
      "text/plain": [
       "<Figure size 2000x600 with 2 Axes>"
      ]
     },
     "metadata": {},
     "output_type": "display_data"
    }
   ],
   "source": [
    "fig, axes = plt.subplots(1, 2, figsize=(20, 6), tight_layout=True)\n",
    "for i, ds in enumerate(['train', 'test']):\n",
    "    ax = axes[i]\n",
    "    \n",
    "    sns.barplot(data=feasible_counts[ds], x='infeasibility_flag', y='count', hue='method', ax=ax,\n",
    "                width=0.9,)\n",
    "    ax.set_title(f'{ds.capitalize()} set')\n",
    "    ax.set_xlabel('Reason for infeasibility')\n",
    "    ax.set_xticklabels(ax.get_xticklabels(), fontsize=8)\n",
    "    ax.set_ylabel('')\n",
    "    for j in range(len(feas_df_dict)):\n",
    "        ax.bar_label(ax.containers[j], fontsize=8)"
   ]
  },
  {
   "cell_type": "code",
   "execution_count": null,
   "id": "84182a6a-989b-4c69-9c9b-32c8acdfbefb",
   "metadata": {
    "editable": true,
    "slideshow": {
     "slide_type": ""
    },
    "tags": []
   },
   "outputs": [],
   "source": []
  },
  {
   "cell_type": "code",
   "execution_count": null,
   "id": "e298617e-187c-4fd0-8f73-87c6ed9815ca",
   "metadata": {},
   "outputs": [],
   "source": []
  }
 ],
 "metadata": {
  "kernelspec": {
   "display_name": "ml_bijection",
   "language": "python",
   "name": "python3"
  },
  "language_info": {
   "codemirror_mode": {
    "name": "ipython",
    "version": 3
   },
   "file_extension": ".py",
   "mimetype": "text/x-python",
   "name": "python",
   "nbconvert_exporter": "python",
   "pygments_lexer": "ipython3",
   "version": "3.10.14"
  },
  "widgets": {
   "application/vnd.jupyter.widget-state+json": {
    "state": {},
    "version_major": 2,
    "version_minor": 0
   }
  }
 },
 "nbformat": 4,
 "nbformat_minor": 5
}
