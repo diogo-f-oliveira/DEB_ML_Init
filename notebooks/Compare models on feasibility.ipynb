{
 "cells": [
  {
   "cell_type": "code",
   "execution_count": 1,
   "id": "3ca2b3e5-c73f-4c42-b48d-cb6aff8d1eef",
   "metadata": {
    "editable": true,
    "slideshow": {
     "slide_type": ""
    },
    "tags": []
   },
   "outputs": [],
   "source": [
    "import sys\n",
    "import os\n",
    "# Add the 'project' directory to the path\n",
    "sys.path.append(os.path.abspath('..'))"
   ]
  },
  {
   "cell_type": "code",
   "execution_count": 2,
   "id": "919c4cc6-b0b2-479e-92a1-178ca0a408ab",
   "metadata": {
    "editable": true,
    "slideshow": {
     "slide_type": ""
    },
    "tags": []
   },
   "outputs": [],
   "source": [
    "import pandas as pd\n",
    "import numpy as np\n",
    "import matplotlib.pyplot as plt\n",
    "from matplotlib.ticker import PercentFormatter\n",
    "import seaborn as sns\n",
    "import ipywidgets as widgets\n",
    "from IPython.display import display\n",
    "import pickle\n",
    "import sklearn.metrics as metrics\n",
    "from sklearn.neighbors import KNeighborsRegressor"
   ]
  },
  {
   "cell_type": "code",
   "execution_count": 3,
   "id": "58a2fd74-921a-4d4f-bc83-17d18d1f4cf4",
   "metadata": {
    "editable": true,
    "slideshow": {
     "slide_type": ""
    },
    "tags": []
   },
   "outputs": [],
   "source": [
    "from project_code.data.load_data import load_dataframes\n",
    "from project_code.data.prepare_data_sklearn import get_features_targets\n",
    "from project_code.plotters.infeasibility import infeasibility_flag_to_text, method_labels"
   ]
  },
  {
   "cell_type": "markdown",
   "id": "806aa4a4-c499-4df8-9606-b477c6a72ce0",
   "metadata": {},
   "source": [
    "# Loading data and results"
   ]
  },
  {
   "cell_type": "markdown",
   "id": "0fac81ed-8af2-4c3a-b005-a88815e6cef8",
   "metadata": {},
   "source": [
    "## Load data"
   ]
  },
  {
   "cell_type": "code",
   "execution_count": 4,
   "id": "3fc89c9c-4380-423f-a2a6-0848be4551ca",
   "metadata": {
    "editable": true,
    "slideshow": {
     "slide_type": ""
    },
    "tags": []
   },
   "outputs": [],
   "source": [
    "dataset_name = 'final'\n",
    "dataset_name += '_taxonomy'\n",
    "dataset_name += '_ecocodes'\n",
    "\n",
    "bio_dataset_name = 'biologist_no_pub_age'\n",
    "\n",
    "# Load the data\n",
    "dataset_folder = f'../data/processed/'\n",
    "dfs, col_types = load_dataframes(dataset_name=dataset_name, data_split='train_test', datasets_folder=dataset_folder)\n",
    "data = get_features_targets(dfs, col_types)"
   ]
  },
  {
   "cell_type": "markdown",
   "id": "c3792d85-35b0-4e24-ade7-2e7def07a899",
   "metadata": {},
   "source": [
    "## Load results"
   ]
  },
  {
   "cell_type": "code",
   "execution_count": 5,
   "id": "fb782e86-b36b-4e7e-b69d-f318edcf8f01",
   "metadata": {
    "editable": true,
    "slideshow": {
     "slide_type": ""
    },
    "tags": []
   },
   "outputs": [
    {
     "name": "stdout",
     "output_type": "stream",
     "text": [
      "AmP\n",
      "AmP_minimum\n",
      "BijectionMethod\n",
      "MLPSC\n",
      "MLP\n",
      "SRTaxo1NN\n",
      "Taxo1NN\n"
     ]
    }
   ],
   "source": [
    "results_folder = f'../results/'\n",
    "feasibility_results_folder = os.path.join(results_folder, 'feasibility')\n",
    "feas_df_dict = {}\n",
    "for file in os.listdir(feasibility_results_folder):\n",
    "    model_name = file.split('_feasibility.csv')[0]\n",
    "    feas_df_dict[model_name] = pd.read_csv(os.path.join(feasibility_results_folder, file), index_col=0)\n",
    "    feas_df_dict[model_name]['infeasibility_flag'] = feas_df_dict[model_name]['infeasibility_flag'].astype(str)\n",
    "    feas_df_dict[model_name]['feasible'] = feas_df_dict[model_name]['feasible'].astype(bool)\n",
    "\n",
    "\n",
    "print(*feas_df_dict.keys(), sep='\\n')"
   ]
  },
  {
   "cell_type": "markdown",
   "id": "0711a307",
   "metadata": {},
   "source": [
    "### Assign errors in Bijection method to infeasibility causes"
   ]
  },
  {
   "cell_type": "code",
   "execution_count": 6,
   "id": "4fdeebab",
   "metadata": {},
   "outputs": [],
   "source": [
    "bijection_stats_df = pd.read_csv(f\"{results_folder}/bijection_method/bijection_stats.csv\", index_col=0)\n",
    "bijection_stats_df['get_tj_error'] = bijection_stats_df['get_tj_error'].astype(bool)\n",
    "for species in feas_df_dict['BijectionMethod'].index.values:\n",
    "    if feas_df_dict['BijectionMethod'].at[species, 'infeasibility_flag'] == 'error':\n",
    "        if bijection_stats_df.at[species, 'get_tj_error']:\n",
    "            feas_df_dict['BijectionMethod'].at[species, 'infeasibility_flag'] = '7'\n",
    "        else:\n",
    "            feas_df_dict['BijectionMethod'].at[species, 'infeasibility_flag'] = '6'"
   ]
  },
  {
   "cell_type": "markdown",
   "id": "ed9e0df9",
   "metadata": {},
   "source": [
    "### Add species where bijection method failed"
   ]
  },
  {
   "cell_type": "code",
   "execution_count": 7,
   "id": "52ad3a98",
   "metadata": {},
   "outputs": [
    {
     "data": {
      "text/html": [
       "<div>\n",
       "<style scoped>\n",
       "    .dataframe tbody tr th:only-of-type {\n",
       "        vertical-align: middle;\n",
       "    }\n",
       "\n",
       "    .dataframe tbody tr th {\n",
       "        vertical-align: top;\n",
       "    }\n",
       "\n",
       "    .dataframe thead th {\n",
       "        text-align: right;\n",
       "    }\n",
       "</style>\n",
       "<table border=\"1\" class=\"dataframe\">\n",
       "  <thead>\n",
       "    <tr style=\"text-align: right;\">\n",
       "      <th></th>\n",
       "      <th>data_split</th>\n",
       "      <th>feasible</th>\n",
       "      <th>infeasibility_flag</th>\n",
       "      <th>error_message</th>\n",
       "    </tr>\n",
       "  </thead>\n",
       "  <tbody>\n",
       "    <tr>\n",
       "      <th>Abbottina_rivularis</th>\n",
       "      <td>train</td>\n",
       "      <td>True</td>\n",
       "      <td>0</td>\n",
       "      <td>NaN</td>\n",
       "    </tr>\n",
       "    <tr>\n",
       "      <th>Ablennes_hians</th>\n",
       "      <td>test</td>\n",
       "      <td>True</td>\n",
       "      <td>0</td>\n",
       "      <td>NaN</td>\n",
       "    </tr>\n",
       "    <tr>\n",
       "      <th>Acanthochromis_polyacanthus</th>\n",
       "      <td>train</td>\n",
       "      <td>True</td>\n",
       "      <td>0</td>\n",
       "      <td>NaN</td>\n",
       "    </tr>\n",
       "    <tr>\n",
       "      <th>Acanthoclinus_littoreus</th>\n",
       "      <td>train</td>\n",
       "      <td>True</td>\n",
       "      <td>0</td>\n",
       "      <td>NaN</td>\n",
       "    </tr>\n",
       "    <tr>\n",
       "      <th>Acanthocybium_solandri</th>\n",
       "      <td>train</td>\n",
       "      <td>True</td>\n",
       "      <td>0</td>\n",
       "      <td>NaN</td>\n",
       "    </tr>\n",
       "    <tr>\n",
       "      <th>...</th>\n",
       "      <td>...</td>\n",
       "      <td>...</td>\n",
       "      <td>...</td>\n",
       "      <td>...</td>\n",
       "    </tr>\n",
       "    <tr>\n",
       "      <th>Zonotrichia_capensis</th>\n",
       "      <td>train</td>\n",
       "      <td>False</td>\n",
       "      <td>failed</td>\n",
       "      <td>failed</td>\n",
       "    </tr>\n",
       "    <tr>\n",
       "      <th>Zonotrichia_leucophrys</th>\n",
       "      <td>train</td>\n",
       "      <td>False</td>\n",
       "      <td>failed</td>\n",
       "      <td>failed</td>\n",
       "    </tr>\n",
       "    <tr>\n",
       "      <th>Zonotrichia_querula</th>\n",
       "      <td>train</td>\n",
       "      <td>False</td>\n",
       "      <td>failed</td>\n",
       "      <td>failed</td>\n",
       "    </tr>\n",
       "    <tr>\n",
       "      <th>Zosterops_lateralis</th>\n",
       "      <td>train</td>\n",
       "      <td>False</td>\n",
       "      <td>failed</td>\n",
       "      <td>failed</td>\n",
       "    </tr>\n",
       "    <tr>\n",
       "      <th>Zosterops_virens</th>\n",
       "      <td>val</td>\n",
       "      <td>False</td>\n",
       "      <td>failed</td>\n",
       "      <td>failed</td>\n",
       "    </tr>\n",
       "  </tbody>\n",
       "</table>\n",
       "<p>2353 rows × 4 columns</p>\n",
       "</div>"
      ],
      "text/plain": [
       "                            data_split  feasible infeasibility_flag  \\\n",
       "Abbottina_rivularis              train      True                  0   \n",
       "Ablennes_hians                    test      True                  0   \n",
       "Acanthochromis_polyacanthus      train      True                  0   \n",
       "Acanthoclinus_littoreus          train      True                  0   \n",
       "Acanthocybium_solandri           train      True                  0   \n",
       "...                                ...       ...                ...   \n",
       "Zonotrichia_capensis             train     False             failed   \n",
       "Zonotrichia_leucophrys           train     False             failed   \n",
       "Zonotrichia_querula              train     False             failed   \n",
       "Zosterops_lateralis              train     False             failed   \n",
       "Zosterops_virens                   val     False             failed   \n",
       "\n",
       "                            error_message  \n",
       "Abbottina_rivularis                   NaN  \n",
       "Ablennes_hians                        NaN  \n",
       "Acanthochromis_polyacanthus           NaN  \n",
       "Acanthoclinus_littoreus               NaN  \n",
       "Acanthocybium_solandri                NaN  \n",
       "...                                   ...  \n",
       "Zonotrichia_capensis               failed  \n",
       "Zonotrichia_leucophrys             failed  \n",
       "Zonotrichia_querula                failed  \n",
       "Zosterops_lateralis                failed  \n",
       "Zosterops_virens                   failed  \n",
       "\n",
       "[2353 rows x 4 columns]"
      ]
     },
     "execution_count": 7,
     "metadata": {},
     "output_type": "execute_result"
    }
   ],
   "source": [
    "species_bijection_failed = feas_df_dict['AmP_minimum'].index.difference(feas_df_dict['BijectionMethod'].index).values\n",
    "bijection_failed_df = pd.DataFrame(index=species_bijection_failed, columns=feas_df_dict['BijectionMethod'].columns)\n",
    "bijection_failed_df['infeasibility_flag'] = 'failed'\n",
    "bijection_failed_df['feasible'] = False\n",
    "bijection_failed_df['data_split'] = feas_df_dict['AmP']['data_split']\n",
    "bijection_failed_df['error_message'] = 'failed'\n",
    "feas_df_dict['BijectionMethod'] = pd.concat([feas_df_dict['BijectionMethod'], bijection_failed_df])\n",
    "feas_df_dict['BijectionMethod']"
   ]
  },
  {
   "cell_type": "code",
   "execution_count": 8,
   "id": "d9bf2a06",
   "metadata": {},
   "outputs": [
    {
     "data": {
      "text/plain": [
       "Row\n",
       "Branta_leucopsis           5\n",
       "Eucinostomus_gula          1\n",
       "Sarda_sarda                1\n",
       "Systellura_longirostris    5\n",
       "Name: infeasibility_flag, dtype: object"
      ]
     },
     "execution_count": 8,
     "metadata": {},
     "output_type": "execute_result"
    }
   ],
   "source": [
    "feas_df_dict['AmP'].loc[feas_df_dict['AmP']['infeasibility_flag'] != '0', 'infeasibility_flag']"
   ]
  },
  {
   "cell_type": "code",
   "execution_count": 9,
   "id": "00f15930-d0c1-4ec2-ac08-9ed8ff39d981",
   "metadata": {
    "editable": true,
    "slideshow": {
     "slide_type": ""
    },
    "tags": []
   },
   "outputs": [
    {
     "data": {
      "text/html": [
       "<div>\n",
       "<style scoped>\n",
       "    .dataframe tbody tr th:only-of-type {\n",
       "        vertical-align: middle;\n",
       "    }\n",
       "\n",
       "    .dataframe tbody tr th {\n",
       "        vertical-align: top;\n",
       "    }\n",
       "\n",
       "    .dataframe thead th {\n",
       "        text-align: right;\n",
       "    }\n",
       "</style>\n",
       "<table border=\"1\" class=\"dataframe\">\n",
       "  <thead>\n",
       "    <tr style=\"text-align: right;\">\n",
       "      <th></th>\n",
       "      <th>method</th>\n",
       "      <th>data_split</th>\n",
       "      <th>feasible</th>\n",
       "      <th>infeasibility_flag</th>\n",
       "      <th>error_message</th>\n",
       "    </tr>\n",
       "  </thead>\n",
       "  <tbody>\n",
       "    <tr>\n",
       "      <th>Abbottina_rivularis</th>\n",
       "      <td>AmP</td>\n",
       "      <td>train</td>\n",
       "      <td>True</td>\n",
       "      <td>0</td>\n",
       "      <td>NaN</td>\n",
       "    </tr>\n",
       "    <tr>\n",
       "      <th>Ablennes_hians</th>\n",
       "      <td>AmP</td>\n",
       "      <td>test</td>\n",
       "      <td>True</td>\n",
       "      <td>0</td>\n",
       "      <td>NaN</td>\n",
       "    </tr>\n",
       "    <tr>\n",
       "      <th>Abramis_brama</th>\n",
       "      <td>AmP</td>\n",
       "      <td>train</td>\n",
       "      <td>True</td>\n",
       "      <td>0</td>\n",
       "      <td>NaN</td>\n",
       "    </tr>\n",
       "    <tr>\n",
       "      <th>Abroscopus_superciliaris</th>\n",
       "      <td>AmP</td>\n",
       "      <td>train</td>\n",
       "      <td>True</td>\n",
       "      <td>0</td>\n",
       "      <td>NaN</td>\n",
       "    </tr>\n",
       "    <tr>\n",
       "      <th>Acanthis_flammea</th>\n",
       "      <td>AmP</td>\n",
       "      <td>train</td>\n",
       "      <td>True</td>\n",
       "      <td>0</td>\n",
       "      <td>NaN</td>\n",
       "    </tr>\n",
       "    <tr>\n",
       "      <th>...</th>\n",
       "      <td>...</td>\n",
       "      <td>...</td>\n",
       "      <td>...</td>\n",
       "      <td>...</td>\n",
       "      <td>...</td>\n",
       "    </tr>\n",
       "    <tr>\n",
       "      <th>Anolis_gundlachi</th>\n",
       "      <td>Taxo1NN</td>\n",
       "      <td>test</td>\n",
       "      <td>True</td>\n",
       "      <td>0</td>\n",
       "      <td>NaN</td>\n",
       "    </tr>\n",
       "    <tr>\n",
       "      <th>Neotrygon_kuhlii</th>\n",
       "      <td>Taxo1NN</td>\n",
       "      <td>test</td>\n",
       "      <td>True</td>\n",
       "      <td>0</td>\n",
       "      <td>NaN</td>\n",
       "    </tr>\n",
       "    <tr>\n",
       "      <th>Cinnyris_osea</th>\n",
       "      <td>Taxo1NN</td>\n",
       "      <td>test</td>\n",
       "      <td>True</td>\n",
       "      <td>0</td>\n",
       "      <td>NaN</td>\n",
       "    </tr>\n",
       "    <tr>\n",
       "      <th>Bathyraja_parmifera</th>\n",
       "      <td>Taxo1NN</td>\n",
       "      <td>test</td>\n",
       "      <td>True</td>\n",
       "      <td>0</td>\n",
       "      <td>NaN</td>\n",
       "    </tr>\n",
       "    <tr>\n",
       "      <th>Melospiza_melodia</th>\n",
       "      <td>Taxo1NN</td>\n",
       "      <td>test</td>\n",
       "      <td>True</td>\n",
       "      <td>0</td>\n",
       "      <td>NaN</td>\n",
       "    </tr>\n",
       "  </tbody>\n",
       "</table>\n",
       "<p>16471 rows × 5 columns</p>\n",
       "</div>"
      ],
      "text/plain": [
       "                           method data_split  feasible infeasibility_flag  \\\n",
       "Abbottina_rivularis           AmP      train      True                  0   \n",
       "Ablennes_hians                AmP       test      True                  0   \n",
       "Abramis_brama                 AmP      train      True                  0   \n",
       "Abroscopus_superciliaris      AmP      train      True                  0   \n",
       "Acanthis_flammea              AmP      train      True                  0   \n",
       "...                           ...        ...       ...                ...   \n",
       "Anolis_gundlachi          Taxo1NN       test      True                  0   \n",
       "Neotrygon_kuhlii          Taxo1NN       test      True                  0   \n",
       "Cinnyris_osea             Taxo1NN       test      True                  0   \n",
       "Bathyraja_parmifera       Taxo1NN       test      True                  0   \n",
       "Melospiza_melodia         Taxo1NN       test      True                  0   \n",
       "\n",
       "                         error_message  \n",
       "Abbottina_rivularis                NaN  \n",
       "Ablennes_hians                     NaN  \n",
       "Abramis_brama                      NaN  \n",
       "Abroscopus_superciliaris           NaN  \n",
       "Acanthis_flammea                   NaN  \n",
       "...                                ...  \n",
       "Anolis_gundlachi                   NaN  \n",
       "Neotrygon_kuhlii                   NaN  \n",
       "Cinnyris_osea                      NaN  \n",
       "Bathyraja_parmifera                NaN  \n",
       "Melospiza_melodia                  NaN  \n",
       "\n",
       "[16471 rows x 5 columns]"
      ]
     },
     "execution_count": 9,
     "metadata": {},
     "output_type": "execute_result"
    }
   ],
   "source": [
    "feas_df = pd.concat(feas_df_dict).reset_index(level=0, names='method')\n",
    "feas_df.replace(to_replace='val', value='train', inplace=True)\n",
    "feas_df"
   ]
  },
  {
   "cell_type": "code",
   "execution_count": 10,
   "id": "5457ec35",
   "metadata": {},
   "outputs": [
    {
     "data": {
      "text/plain": [
       "{'0': 'Feasible',\n",
       " 'failed': 'Method failed',\n",
       " '1': 'Non-positive parameters',\n",
       " '2': '$\\\\kappa > 1$',\n",
       " '3': 'Efficiencies greater than 1',\n",
       " '4': 'Non-increasing maturity levels',\n",
       " '6': 'Unable to reach birth',\n",
       " '7': 'Unable to reach metamorphosis',\n",
       " '5': 'Unable to reach puberty',\n",
       " 'timeout': 'Time limit reached',\n",
       " 'error': 'Error'}"
      ]
     },
     "execution_count": 10,
     "metadata": {},
     "output_type": "execute_result"
    }
   ],
   "source": [
    "infeasibility_flag_to_text"
   ]
  },
  {
   "cell_type": "markdown",
   "id": "b97bc494-832f-496e-be71-f896ab77b097",
   "metadata": {},
   "source": [
    "# Results"
   ]
  },
  {
   "cell_type": "code",
   "execution_count": 16,
   "id": "240beaf3",
   "metadata": {},
   "outputs": [],
   "source": [
    "method_list = ['BijectionMethod', 'MLP', 'MLPSC', 'Taxo1NN', 'SRTaxo1NN']"
   ]
  },
  {
   "cell_type": "markdown",
   "id": "a736c4db",
   "metadata": {},
   "source": [
    "## Number of infeasible solutions"
   ]
  },
  {
   "cell_type": "code",
   "execution_count": 11,
   "id": "8f33553f-8c29-41d5-bdb7-de2bf682dd81",
   "metadata": {
    "editable": true,
    "slideshow": {
     "slide_type": ""
    },
    "tags": []
   },
   "outputs": [],
   "source": [
    "feasible_counts = {}\n",
    "for i, ds in enumerate(['train', 'test']):\n",
    "    feasible_counts[ds] = feas_df.loc[feas_df['data_split'] == ds, ['method', 'infeasibility_flag']].value_counts().sort_index().reset_index()\n",
    "    feasible_counts[ds]['infeasibility_reason'] = feasible_counts[ds]['infeasibility_flag'].map(infeasibility_flag_to_text)"
   ]
  },
  {
   "cell_type": "code",
   "execution_count": 12,
   "id": "3f372e08",
   "metadata": {},
   "outputs": [
    {
     "data": {
      "text/plain": [
       "infeasibility_flag\n",
       "failed     1342\n",
       "1            44\n",
       "5            15\n",
       "6            11\n",
       "timeout       3\n",
       "4             2\n",
       "Name: count, dtype: int64"
      ]
     },
     "execution_count": 12,
     "metadata": {},
     "output_type": "execute_result"
    }
   ],
   "source": [
    "feas_df[feas_df['infeasibility_flag'] != '0']['infeasibility_flag'].value_counts()"
   ]
  },
  {
   "cell_type": "code",
   "execution_count": 13,
   "id": "91789f75-1ebb-4be4-9fe4-4f2dcb4b7682",
   "metadata": {},
   "outputs": [
    {
     "data": {
      "text/html": [
       "<div>\n",
       "<style scoped>\n",
       "    .dataframe tbody tr th:only-of-type {\n",
       "        vertical-align: middle;\n",
       "    }\n",
       "\n",
       "    .dataframe tbody tr th {\n",
       "        vertical-align: top;\n",
       "    }\n",
       "\n",
       "    .dataframe thead th {\n",
       "        text-align: right;\n",
       "    }\n",
       "</style>\n",
       "<table border=\"1\" class=\"dataframe\">\n",
       "  <thead>\n",
       "    <tr style=\"text-align: right;\">\n",
       "      <th></th>\n",
       "      <th></th>\n",
       "      <th>infeasibility_flag</th>\n",
       "      <th>count</th>\n",
       "    </tr>\n",
       "    <tr>\n",
       "      <th>method</th>\n",
       "      <th>infeasibility_reason</th>\n",
       "      <th></th>\n",
       "      <th></th>\n",
       "    </tr>\n",
       "  </thead>\n",
       "  <tbody>\n",
       "    <tr>\n",
       "      <th rowspan=\"3\" valign=\"top\">AmP</th>\n",
       "      <th>Feasible</th>\n",
       "      <td>0</td>\n",
       "      <td>1997</td>\n",
       "    </tr>\n",
       "    <tr>\n",
       "      <th>Non-positive parameters</th>\n",
       "      <td>1</td>\n",
       "      <td>1</td>\n",
       "    </tr>\n",
       "    <tr>\n",
       "      <th>Unable to reach puberty</th>\n",
       "      <td>5</td>\n",
       "      <td>2</td>\n",
       "    </tr>\n",
       "    <tr>\n",
       "      <th>AmP_minimum</th>\n",
       "      <th>Feasible</th>\n",
       "      <td>0</td>\n",
       "      <td>2000</td>\n",
       "    </tr>\n",
       "    <tr>\n",
       "      <th rowspan=\"6\" valign=\"top\">BijectionMethod</th>\n",
       "      <th>Feasible</th>\n",
       "      <td>0</td>\n",
       "      <td>810</td>\n",
       "    </tr>\n",
       "    <tr>\n",
       "      <th>Method failed</th>\n",
       "      <td>failed</td>\n",
       "      <td>1142</td>\n",
       "    </tr>\n",
       "    <tr>\n",
       "      <th>Non-positive parameters</th>\n",
       "      <td>1</td>\n",
       "      <td>36</td>\n",
       "    </tr>\n",
       "    <tr>\n",
       "      <th>Time limit reached</th>\n",
       "      <td>timeout</td>\n",
       "      <td>3</td>\n",
       "    </tr>\n",
       "    <tr>\n",
       "      <th>Unable to reach birth</th>\n",
       "      <td>6</td>\n",
       "      <td>6</td>\n",
       "    </tr>\n",
       "    <tr>\n",
       "      <th>Unable to reach puberty</th>\n",
       "      <td>5</td>\n",
       "      <td>3</td>\n",
       "    </tr>\n",
       "    <tr>\n",
       "      <th rowspan=\"3\" valign=\"top\">MLP</th>\n",
       "      <th>Feasible</th>\n",
       "      <td>0</td>\n",
       "      <td>1997</td>\n",
       "    </tr>\n",
       "    <tr>\n",
       "      <th>Unable to reach birth</th>\n",
       "      <td>6</td>\n",
       "      <td>1</td>\n",
       "    </tr>\n",
       "    <tr>\n",
       "      <th>Unable to reach puberty</th>\n",
       "      <td>5</td>\n",
       "      <td>2</td>\n",
       "    </tr>\n",
       "    <tr>\n",
       "      <th rowspan=\"3\" valign=\"top\">MLPSC</th>\n",
       "      <th>Feasible</th>\n",
       "      <td>0</td>\n",
       "      <td>1992</td>\n",
       "    </tr>\n",
       "    <tr>\n",
       "      <th>Unable to reach birth</th>\n",
       "      <td>6</td>\n",
       "      <td>1</td>\n",
       "    </tr>\n",
       "    <tr>\n",
       "      <th>Unable to reach puberty</th>\n",
       "      <td>5</td>\n",
       "      <td>7</td>\n",
       "    </tr>\n",
       "    <tr>\n",
       "      <th>SRTaxo1NN</th>\n",
       "      <th>Feasible</th>\n",
       "      <td>0</td>\n",
       "      <td>2000</td>\n",
       "    </tr>\n",
       "    <tr>\n",
       "      <th>Taxo1NN</th>\n",
       "      <th>Feasible</th>\n",
       "      <td>0</td>\n",
       "      <td>2000</td>\n",
       "    </tr>\n",
       "  </tbody>\n",
       "</table>\n",
       "</div>"
      ],
      "text/plain": [
       "                                        infeasibility_flag  count\n",
       "method          infeasibility_reason                             \n",
       "AmP             Feasible                                 0   1997\n",
       "                Non-positive parameters                  1      1\n",
       "                Unable to reach puberty                  5      2\n",
       "AmP_minimum     Feasible                                 0   2000\n",
       "BijectionMethod Feasible                                 0    810\n",
       "                Method failed                       failed   1142\n",
       "                Non-positive parameters                  1     36\n",
       "                Time limit reached                 timeout      3\n",
       "                Unable to reach birth                    6      6\n",
       "                Unable to reach puberty                  5      3\n",
       "MLP             Feasible                                 0   1997\n",
       "                Unable to reach birth                    6      1\n",
       "                Unable to reach puberty                  5      2\n",
       "MLPSC           Feasible                                 0   1992\n",
       "                Unable to reach birth                    6      1\n",
       "                Unable to reach puberty                  5      7\n",
       "SRTaxo1NN       Feasible                                 0   2000\n",
       "Taxo1NN         Feasible                                 0   2000"
      ]
     },
     "execution_count": 13,
     "metadata": {},
     "output_type": "execute_result"
    }
   ],
   "source": [
    "feasible_counts['train'].groupby(['method', 'infeasibility_reason']).sum()"
   ]
  },
  {
   "cell_type": "markdown",
   "id": "c6015f1d",
   "metadata": {},
   "source": [
    "## Infeasible solutions species list "
   ]
  },
  {
   "cell_type": "code",
   "execution_count": 14,
   "id": "f53a2f0f",
   "metadata": {},
   "outputs": [
    {
     "data": {
      "text/html": [
       "<div>\n",
       "<style scoped>\n",
       "    .dataframe tbody tr th:only-of-type {\n",
       "        vertical-align: middle;\n",
       "    }\n",
       "\n",
       "    .dataframe tbody tr th {\n",
       "        vertical-align: top;\n",
       "    }\n",
       "\n",
       "    .dataframe thead th {\n",
       "        text-align: right;\n",
       "    }\n",
       "</style>\n",
       "<table border=\"1\" class=\"dataframe\">\n",
       "  <thead>\n",
       "    <tr style=\"text-align: right;\">\n",
       "      <th></th>\n",
       "      <th>infeasibility_flag</th>\n",
       "      <th>data_split</th>\n",
       "    </tr>\n",
       "    <tr>\n",
       "      <th>Row</th>\n",
       "      <th></th>\n",
       "      <th></th>\n",
       "    </tr>\n",
       "  </thead>\n",
       "  <tbody>\n",
       "    <tr>\n",
       "      <th>Branta_leucopsis</th>\n",
       "      <td>5</td>\n",
       "      <td>train</td>\n",
       "    </tr>\n",
       "    <tr>\n",
       "      <th>Systellura_longirostris</th>\n",
       "      <td>5</td>\n",
       "      <td>train</td>\n",
       "    </tr>\n",
       "    <tr>\n",
       "      <th>Chiroxiphia_lanceolata</th>\n",
       "      <td>6</td>\n",
       "      <td>train</td>\n",
       "    </tr>\n",
       "  </tbody>\n",
       "</table>\n",
       "</div>"
      ],
      "text/plain": [
       "                        infeasibility_flag data_split\n",
       "Row                                                  \n",
       "Branta_leucopsis                         5      train\n",
       "Systellura_longirostris                  5      train\n",
       "Chiroxiphia_lanceolata                   6      train"
      ]
     },
     "execution_count": 14,
     "metadata": {},
     "output_type": "execute_result"
    }
   ],
   "source": [
    "df = feas_df_dict['MLP']\n",
    "df.loc[df['infeasibility_flag'] != '0', ['infeasibility_flag', 'data_split']].sort_values(by=['infeasibility_flag', 'data_split'])"
   ]
  },
  {
   "cell_type": "code",
   "execution_count": 37,
   "id": "334eff6d",
   "metadata": {},
   "outputs": [
    {
     "data": {
      "text/html": [
       "<div>\n",
       "<style scoped>\n",
       "    .dataframe tbody tr th:only-of-type {\n",
       "        vertical-align: middle;\n",
       "    }\n",
       "\n",
       "    .dataframe tbody tr th {\n",
       "        vertical-align: top;\n",
       "    }\n",
       "\n",
       "    .dataframe thead th {\n",
       "        text-align: right;\n",
       "    }\n",
       "</style>\n",
       "<table border=\"1\" class=\"dataframe\">\n",
       "  <thead>\n",
       "    <tr style=\"text-align: right;\">\n",
       "      <th></th>\n",
       "      <th>infeasibility_flag</th>\n",
       "      <th>data_split</th>\n",
       "    </tr>\n",
       "    <tr>\n",
       "      <th>Row</th>\n",
       "      <th></th>\n",
       "      <th></th>\n",
       "    </tr>\n",
       "  </thead>\n",
       "  <tbody>\n",
       "    <tr>\n",
       "      <th>Trichomycterus_itacarambiensis</th>\n",
       "      <td>4</td>\n",
       "      <td>test</td>\n",
       "    </tr>\n",
       "    <tr>\n",
       "      <th>Cygnus_olor</th>\n",
       "      <td>5</td>\n",
       "      <td>train</td>\n",
       "    </tr>\n",
       "    <tr>\n",
       "      <th>Psophia_leucoptera</th>\n",
       "      <td>5</td>\n",
       "      <td>train</td>\n",
       "    </tr>\n",
       "    <tr>\n",
       "      <th>Dryocopus_pileatus</th>\n",
       "      <td>5</td>\n",
       "      <td>train</td>\n",
       "    </tr>\n",
       "    <tr>\n",
       "      <th>Branta_leucopsis</th>\n",
       "      <td>5</td>\n",
       "      <td>train</td>\n",
       "    </tr>\n",
       "    <tr>\n",
       "      <th>Sterna_paradisaea</th>\n",
       "      <td>5</td>\n",
       "      <td>train</td>\n",
       "    </tr>\n",
       "    <tr>\n",
       "      <th>Antigone_rubicunda</th>\n",
       "      <td>5</td>\n",
       "      <td>train</td>\n",
       "    </tr>\n",
       "    <tr>\n",
       "      <th>Systellura_longirostris</th>\n",
       "      <td>5</td>\n",
       "      <td>train</td>\n",
       "    </tr>\n",
       "    <tr>\n",
       "      <th>Chiroxiphia_lanceolata</th>\n",
       "      <td>6</td>\n",
       "      <td>train</td>\n",
       "    </tr>\n",
       "  </tbody>\n",
       "</table>\n",
       "</div>"
      ],
      "text/plain": [
       "                               infeasibility_flag data_split\n",
       "Row                                                         \n",
       "Trichomycterus_itacarambiensis                  4       test\n",
       "Cygnus_olor                                     5      train\n",
       "Psophia_leucoptera                              5      train\n",
       "Dryocopus_pileatus                              5      train\n",
       "Branta_leucopsis                                5      train\n",
       "Sterna_paradisaea                               5      train\n",
       "Antigone_rubicunda                              5      train\n",
       "Systellura_longirostris                         5      train\n",
       "Chiroxiphia_lanceolata                          6      train"
      ]
     },
     "execution_count": 37,
     "metadata": {},
     "output_type": "execute_result"
    }
   ],
   "source": [
    "df = feas_df_dict['MLPSC']\n",
    "df.loc[df['infeasibility_flag'] != '0', ['infeasibility_flag', 'data_split']].sort_values(by=['infeasibility_flag', 'data_split'])"
   ]
  },
  {
   "cell_type": "markdown",
   "id": "146f6a7a",
   "metadata": {},
   "source": [
    "## Plots"
   ]
  },
  {
   "cell_type": "markdown",
   "id": "ee9031b5",
   "metadata": {},
   "source": [
    "### Bar plots"
   ]
  },
  {
   "cell_type": "code",
   "execution_count": 17,
   "id": "279375b6-a428-4c2e-9f31-7c8dc605cacc",
   "metadata": {
    "editable": true,
    "slideshow": {
     "slide_type": ""
    },
    "tags": []
   },
   "outputs": [
    {
     "name": "stderr",
     "output_type": "stream",
     "text": [
      "C:\\Users\\diogo\\AppData\\Local\\Temp\\ipykernel_40280\\1273015793.py:9: UserWarning: set_ticklabels() should only be used with a fixed number of ticks, i.e. after set_ticks() or using a FixedLocator.\n",
      "  ax.set_xticklabels(ax.get_xticklabels(), fontsize=8)\n",
      "C:\\Users\\diogo\\AppData\\Local\\Temp\\ipykernel_40280\\1273015793.py:9: UserWarning: set_ticklabels() should only be used with a fixed number of ticks, i.e. after set_ticks() or using a FixedLocator.\n",
      "  ax.set_xticklabels(ax.get_xticklabels(), fontsize=8)\n"
     ]
    },
    {
     "data": {
      "image/png": "[encoded data removed]",
      "text/plain": [
       "<Figure size 2000x600 with 2 Axes>"
      ]
     },
     "metadata": {},
     "output_type": "display_data"
    }
   ],
   "source": [
    "fig, axes = plt.subplots(1, 2, figsize=(20, 6), tight_layout=True)\n",
    "for i, ds in enumerate(['train', 'test']):\n",
    "    ax = axes[i]\n",
    "    \n",
    "    sns.barplot(data=feasible_counts[ds], x='infeasibility_flag', y='count', hue='method', ax=ax,\n",
    "                width=0.9,)\n",
    "    ax.set_title(f'{ds.capitalize()} set')\n",
    "    ax.set_xlabel('Reason for infeasibility')\n",
    "    ax.set_xticklabels(ax.get_xticklabels(), fontsize=8)\n",
    "    ax.set_ylabel('')\n",
    "    for j in range(len(feas_df_dict)):\n",
    "        ax.bar_label(ax.containers[j], fontsize=8)"
   ]
  },
  {
   "cell_type": "code",
   "execution_count": null,
   "id": "208efa4f",
   "metadata": {},
   "outputs": [],
   "source": []
  },
  {
   "cell_type": "markdown",
   "id": "e19fa927",
   "metadata": {},
   "source": [
    "## LaTeX Tables"
   ]
  },
  {
   "cell_type": "code",
   "execution_count": 18,
   "id": "bb79a380",
   "metadata": {},
   "outputs": [
    {
     "data": {
      "text/plain": [
       "10"
      ]
     },
     "execution_count": 18,
     "metadata": {},
     "output_type": "execute_result"
    }
   ],
   "source": [
    "list(infeasibility_flag_to_text.values()).index('Error')"
   ]
  },
  {
   "cell_type": "markdown",
   "id": "94ae221d",
   "metadata": {},
   "source": [
    "### Only occurrences table"
   ]
  },
  {
   "cell_type": "code",
   "execution_count": 35,
   "id": "1dfc91ff",
   "metadata": {},
   "outputs": [
    {
     "name": "stdout",
     "output_type": "stream",
     "text": [
      "Feasible %: 40.5 %\n",
      "Fail %: 57.0 %\n"
     ]
    },
    {
     "data": {
      "text/html": [
       "<div>\n",
       "<style scoped>\n",
       "    .dataframe tbody tr th:only-of-type {\n",
       "        vertical-align: middle;\n",
       "    }\n",
       "\n",
       "    .dataframe tbody tr th {\n",
       "        vertical-align: top;\n",
       "    }\n",
       "\n",
       "    .dataframe thead th {\n",
       "        text-align: right;\n",
       "    }\n",
       "</style>\n",
       "<table border=\"1\" class=\"dataframe\">\n",
       "  <thead>\n",
       "    <tr style=\"text-align: right;\">\n",
       "      <th></th>\n",
       "      <th>train</th>\n",
       "      <th>test</th>\n",
       "    </tr>\n",
       "    <tr>\n",
       "      <th>infeasibility_reason</th>\n",
       "      <th></th>\n",
       "      <th></th>\n",
       "    </tr>\n",
       "  </thead>\n",
       "  <tbody>\n",
       "    <tr>\n",
       "      <th>Feasible</th>\n",
       "      <td>810.0</td>\n",
       "      <td>142.0</td>\n",
       "    </tr>\n",
       "    <tr>\n",
       "      <th>Method failed</th>\n",
       "      <td>1142.0</td>\n",
       "      <td>200.0</td>\n",
       "    </tr>\n",
       "    <tr>\n",
       "      <th>Non-positive parameters</th>\n",
       "      <td>36.0</td>\n",
       "      <td>6.0</td>\n",
       "    </tr>\n",
       "    <tr>\n",
       "      <th>Non-increasing maturity levels</th>\n",
       "      <td>NaN</td>\n",
       "      <td>1.0</td>\n",
       "    </tr>\n",
       "    <tr>\n",
       "      <th>Unable to reach birth</th>\n",
       "      <td>6.0</td>\n",
       "      <td>3.0</td>\n",
       "    </tr>\n",
       "    <tr>\n",
       "      <th>Unable to reach puberty</th>\n",
       "      <td>3.0</td>\n",
       "      <td>1.0</td>\n",
       "    </tr>\n",
       "    <tr>\n",
       "      <th>Time limit reached</th>\n",
       "      <td>3.0</td>\n",
       "      <td>NaN</td>\n",
       "    </tr>\n",
       "  </tbody>\n",
       "</table>\n",
       "</div>"
      ],
      "text/plain": [
       "                                 train   test\n",
       "infeasibility_reason                         \n",
       "Feasible                         810.0  142.0\n",
       "Method failed                   1142.0  200.0\n",
       "Non-positive parameters           36.0    6.0\n",
       "Non-increasing maturity levels     NaN    1.0\n",
       "Unable to reach birth              6.0    3.0\n",
       "Unable to reach puberty            3.0    1.0\n",
       "Time limit reached                 3.0    NaN"
      ]
     },
     "execution_count": 35,
     "metadata": {},
     "output_type": "execute_result"
    }
   ],
   "source": [
    "method = 'BijectionMethod'\n",
    "m_inf_df = pd.concat({ds: feasible_counts[ds].set_index(['method', 'infeasibility_reason']).loc[method, 'count'] for ds in ['train', 'test']}, axis=1)\n",
    "m_inf_df = m_inf_df.reindex([i for i in infeasibility_flag_to_text.values() if i in m_inf_df.index])\n",
    "print(f\"Feasible %: {m_inf_df.loc['Feasible'].sum()/len(feas_df_dict['AmP_minimum']) * 100:.1f} %\")\n",
    "print(f\"Fail %: {m_inf_df.loc['Method failed'].sum()/len(feas_df_dict['AmP_minimum']) * 100:.1f} %\")\n",
    "m_inf_df"
   ]
  },
  {
   "cell_type": "code",
   "execution_count": null,
   "id": "910ba804",
   "metadata": {},
   "outputs": [
    {
     "name": "stdout",
     "output_type": "stream",
     "text": [
      "\\multirow{7}{7em}{Bijection} & Feasible & 810 & 142 & \\multirow{7}{3em}{40.5\\%} \\\\\n",
      " & Method failed & 1142 & 200 &  \\\\\n",
      " & Non-positive parameters & 36 & 6 &  \\\\\n",
      " & Non-increasing maturity levels & - & 1 &  \\\\\n",
      " & Unable to reach birth & 6 & 3 &  \\\\\n",
      " & Unable to reach puberty & 3 & 1 &  \\\\\n",
      " & Time limit reached & 3 & - &  \\\\\n",
      "\\specialrule{0.2pt}{0pt}{0pt}\n",
      "\\multirow{3}{7em}{HC-NN} & Feasible & 1997 & 353 & \\multirow{3}{3em}{99.9\\%} \\\\\n",
      " & Unable to reach birth & 1 & - &  \\\\\n",
      " & Unable to reach puberty & 2 & - &  \\\\\n",
      "\\specialrule{0.2pt}{0pt}{0pt}\n",
      "\\multirow{4}{7em}{SC-NN} & Feasible & 1992 & 352 & \\multirow{4}{3em}{99.6\\%} \\\\\n",
      " & Non-increasing maturity levels & - & 1 &  \\\\\n",
      " & Unable to reach birth & 1 & - &  \\\\\n",
      " & Unable to reach puberty & 7 & - &  \\\\\n",
      "\\specialrule{0.2pt}{0pt}{0pt}\n",
      "\\multirow{1}{7em}{Taxo1NN} & Feasible & 2000 & 353 & \\multirow{1}{3em}{100.0\\%} \\\\\n",
      "\\specialrule{0.2pt}{0pt}{0pt}\n",
      "\\multirow{1}{7em}{SR-Taxo1NN} & Feasible & 2000 & 353 & \\multirow{1}{3em}{100.0\\%} \\\\\n",
      "\\specialrule{0.2pt}{0pt}{0pt}\n"
     ]
    }
   ],
   "source": [
    "# Set the index to 'method' and 'infeasibility_reason'\n",
    "# Sort the index\n",
    "for method in method_list:\n",
    "    m_inf_df = pd.concat({ds: feasible_counts[ds].set_index(['method', 'infeasibility_reason']).loc[method, 'count'] for ds in ['train', 'test']}, axis=1)\n",
    "    m_inf_df = m_inf_df.reindex([i for i in infeasibility_flag_to_text.values() if i in m_inf_df.index])\n",
    "    # Get number of infeasibility reasons\n",
    "    n_inf_reasons = len(m_inf_df)\n",
    "    # Print \n",
    "    for i, (reason, values) in enumerate(m_inf_df.iterrows()):\n",
    "        line = ''\n",
    "        if i == 0:\n",
    "            # Print multirow with method name\n",
    "            line += f\"\\\\multirow{{{n_inf_reasons}}}{{7em}}{{{method_labels[method]}}}\"\n",
    "        line += f\" & {reason}\"\n",
    "        for ds in ['train', 'test']:\n",
    "            if np.isnan(values[ds]):\n",
    "                count = '-'\n",
    "            else:\n",
    "                count = int(values[ds])\n",
    "            line += f' & {count}'\n",
    "        # Sucess rate\n",
    "        line += \" & \"\n",
    "        if i == 0:\n",
    "            sucess_rate = m_inf_df.loc['Feasible'].sum()/len(feas_df_dict['AmP_minimum']) * 100\n",
    "            line += f\"\\\\multirow{{{n_inf_reasons}}}{{4em}}{{{sucess_rate:.1f}\\%}}\"            \n",
    "\n",
    "        line += ' \\\\\\\\'\n",
    "        print(line)\n",
    "    print('\\\\specialrule{0.2pt}{0pt}{0pt}')\n",
    "#df"
   ]
  },
  {
   "cell_type": "markdown",
   "id": "001524c4",
   "metadata": {},
   "source": [
    "### Complete table"
   ]
  },
  {
   "cell_type": "code",
   "execution_count": 23,
   "id": "1ef2ad13",
   "metadata": {},
   "outputs": [
    {
     "data": {
      "text/html": [
       "<div>\n",
       "<style scoped>\n",
       "    .dataframe tbody tr th:only-of-type {\n",
       "        vertical-align: middle;\n",
       "    }\n",
       "\n",
       "    .dataframe tbody tr th {\n",
       "        vertical-align: top;\n",
       "    }\n",
       "\n",
       "    .dataframe thead th {\n",
       "        text-align: right;\n",
       "    }\n",
       "</style>\n",
       "<table border=\"1\" class=\"dataframe\">\n",
       "  <thead>\n",
       "    <tr style=\"text-align: right;\">\n",
       "      <th></th>\n",
       "      <th>BijectionMethod</th>\n",
       "      <th>MLP</th>\n",
       "      <th>MLPSC</th>\n",
       "      <th>Taxo1NN</th>\n",
       "      <th>SRTaxo1NN</th>\n",
       "    </tr>\n",
       "  </thead>\n",
       "  <tbody>\n",
       "    <tr>\n",
       "      <th>Feasible</th>\n",
       "      <td>142</td>\n",
       "      <td>353</td>\n",
       "      <td>352</td>\n",
       "      <td>353</td>\n",
       "      <td>353</td>\n",
       "    </tr>\n",
       "    <tr>\n",
       "      <th>Method failed</th>\n",
       "      <td>200</td>\n",
       "      <td>0</td>\n",
       "      <td>0</td>\n",
       "      <td>0</td>\n",
       "      <td>0</td>\n",
       "    </tr>\n",
       "    <tr>\n",
       "      <th>Non-positive parameters</th>\n",
       "      <td>6</td>\n",
       "      <td>0</td>\n",
       "      <td>0</td>\n",
       "      <td>0</td>\n",
       "      <td>0</td>\n",
       "    </tr>\n",
       "    <tr>\n",
       "      <th>$\\kappa &gt; 1$</th>\n",
       "      <td>0</td>\n",
       "      <td>0</td>\n",
       "      <td>0</td>\n",
       "      <td>0</td>\n",
       "      <td>0</td>\n",
       "    </tr>\n",
       "    <tr>\n",
       "      <th>Efficiencies greater than 1</th>\n",
       "      <td>0</td>\n",
       "      <td>0</td>\n",
       "      <td>0</td>\n",
       "      <td>0</td>\n",
       "      <td>0</td>\n",
       "    </tr>\n",
       "    <tr>\n",
       "      <th>Non-increasing maturity levels</th>\n",
       "      <td>1</td>\n",
       "      <td>0</td>\n",
       "      <td>1</td>\n",
       "      <td>0</td>\n",
       "      <td>0</td>\n",
       "    </tr>\n",
       "    <tr>\n",
       "      <th>Unable to reach birth</th>\n",
       "      <td>3</td>\n",
       "      <td>0</td>\n",
       "      <td>0</td>\n",
       "      <td>0</td>\n",
       "      <td>0</td>\n",
       "    </tr>\n",
       "    <tr>\n",
       "      <th>Unable to reach metamorphosis</th>\n",
       "      <td>0</td>\n",
       "      <td>0</td>\n",
       "      <td>0</td>\n",
       "      <td>0</td>\n",
       "      <td>0</td>\n",
       "    </tr>\n",
       "    <tr>\n",
       "      <th>Unable to reach puberty</th>\n",
       "      <td>1</td>\n",
       "      <td>0</td>\n",
       "      <td>0</td>\n",
       "      <td>0</td>\n",
       "      <td>0</td>\n",
       "    </tr>\n",
       "    <tr>\n",
       "      <th>Time limit reached</th>\n",
       "      <td>0</td>\n",
       "      <td>0</td>\n",
       "      <td>0</td>\n",
       "      <td>0</td>\n",
       "      <td>0</td>\n",
       "    </tr>\n",
       "    <tr>\n",
       "      <th>Error</th>\n",
       "      <td>0</td>\n",
       "      <td>0</td>\n",
       "      <td>0</td>\n",
       "      <td>0</td>\n",
       "      <td>0</td>\n",
       "    </tr>\n",
       "  </tbody>\n",
       "</table>\n",
       "</div>"
      ],
      "text/plain": [
       "                               BijectionMethod  MLP MLPSC Taxo1NN SRTaxo1NN\n",
       "Feasible                                   142  353   352     353       353\n",
       "Method failed                              200    0     0       0         0\n",
       "Non-positive parameters                      6    0     0       0         0\n",
       "$\\kappa > 1$                                 0    0     0       0         0\n",
       "Efficiencies greater than 1                  0    0     0       0         0\n",
       "Non-increasing maturity levels               1    0     1       0         0\n",
       "Unable to reach birth                        3    0     0       0         0\n",
       "Unable to reach metamorphosis                0    0     0       0         0\n",
       "Unable to reach puberty                      1    0     0       0         0\n",
       "Time limit reached                           0    0     0       0         0\n",
       "Error                                        0    0     0       0         0"
      ]
     },
     "execution_count": 23,
     "metadata": {},
     "output_type": "execute_result"
    }
   ],
   "source": [
    "infeas_table_df_dict = {'train': None, 'test': None}\n",
    "for ds in ['train', 'test']:\n",
    "    pivot_feas_counts = feasible_counts[ds].pivot(index='infeasibility_flag', columns='method', values='count').fillna(0).astype(int)\n",
    "    infeas_df = pd.DataFrame(\n",
    "        index=infeasibility_flag_to_text.values(),\n",
    "        columns=method_list,\n",
    "        )\n",
    "    for method in infeas_df.columns:\n",
    "        if method not in pivot_feas_counts.columns:\n",
    "            infeas_df[method] = 0\n",
    "            continue\n",
    "        for flag, reason in infeasibility_flag_to_text.items():\n",
    "            infeas_df.loc[reason, method] = pivot_feas_counts.loc[flag, method] if flag in pivot_feas_counts.index else 0\n",
    "    infeas_table_df_dict[ds] = infeas_df\n",
    "infeas_df"
   ]
  },
  {
   "cell_type": "code",
   "execution_count": 24,
   "id": "84182a6a-989b-4c69-9c9b-32c8acdfbefb",
   "metadata": {
    "editable": true,
    "slideshow": {
     "slide_type": ""
    },
    "tags": []
   },
   "outputs": [
    {
     "name": "stdout",
     "output_type": "stream",
     "text": [
      "% Train set\n",
      "\\toprule\n",
      "Infeasibility reason & Bijection & HC-NN & SC-NN & Taxo1NN & SR-Taxo1NN\n",
      "\\\\ \n",
      "\\midrule\n",
      "\n",
      "Feasible  & 810 & 1997 & 1992 & 2000 & 2000 \\\\\n",
      "Method failed  & 1142 & -- & -- & -- & -- \\\\\n",
      "Non-positive parameters  & 36 & -- & -- & -- & -- \\\\\n",
      "$\\kappa > 1$  & -- & -- & -- & -- & -- \\\\\n",
      "Efficiencies greater than 1  & -- & -- & -- & -- & -- \\\\\n",
      "Non-increasing maturity levels  & -- & -- & -- & -- & -- \\\\\n",
      "Unable to reach birth  & 6 & 1 & 1 & -- & -- \\\\\n",
      "Unable to reach metamorphosis  & -- & -- & -- & -- & -- \\\\\n",
      "Unable to reach puberty  & 3 & 2 & 7 & -- & -- \\\\\n",
      "Time limit reached  & 3 & -- & -- & -- & -- \\\\\n",
      "Error  & -- & -- & -- & -- & -- \\\\\n",
      "\n",
      "\\bottomrule \n",
      "\n",
      "\n",
      "% Test set\n",
      "\\toprule\n",
      "Infeasibility reason & Bijection & HC-NN & SC-NN & Taxo1NN & SR-Taxo1NN\n",
      "\\\\ \n",
      "\\midrule\n",
      "\n",
      "Feasible  & 142 & 353 & 352 & 353 & 353 \\\\\n",
      "Method failed  & 200 & -- & -- & -- & -- \\\\\n",
      "Non-positive parameters  & 6 & -- & -- & -- & -- \\\\\n",
      "$\\kappa > 1$  & -- & -- & -- & -- & -- \\\\\n",
      "Efficiencies greater than 1  & -- & -- & -- & -- & -- \\\\\n",
      "Non-increasing maturity levels  & 1 & -- & 1 & -- & -- \\\\\n",
      "Unable to reach birth  & 3 & -- & -- & -- & -- \\\\\n",
      "Unable to reach metamorphosis  & -- & -- & -- & -- & -- \\\\\n",
      "Unable to reach puberty  & 1 & -- & -- & -- & -- \\\\\n",
      "Time limit reached  & -- & -- & -- & -- & -- \\\\\n",
      "Error  & -- & -- & -- & -- & -- \\\\\n",
      "\n",
      "\\bottomrule \n",
      "\n",
      "\n"
     ]
    }
   ],
   "source": [
    "for i, ds in enumerate(['train', 'test']):\n",
    "    print(f\"% {ds.capitalize()} set\")\n",
    "    # Print the header\n",
    "    print('\\\\toprule')\n",
    "    line = 'Infeasibility reason'\n",
    "    for method in method_list:\n",
    "        if method in feasible_counts[ds]['method'].values:\n",
    "            line += f\" & {method_labels[method]}\"\n",
    "    print(line)\n",
    "    print('\\\\\\\\ \\n\\\\midrule\\n')\n",
    "\n",
    "    # Print the counts for each infeasibility reason\n",
    "    for reason in infeasibility_flag_to_text.values():\n",
    "        formatted_reason = reason.replace('\\n', '')\n",
    "        line = f\"{formatted_reason} \"\n",
    "        for method in method_list:\n",
    "            count = infeas_table_df_dict[ds].loc[reason, method]\n",
    "            if count == 0:\n",
    "                count = '--'\n",
    "            line += f\" & {count}\"\n",
    "        line += \" \\\\\\\\\"\n",
    "        print(line)\n",
    "    print(\"\\n\\\\bottomrule \\n\\n\")"
   ]
  },
  {
   "cell_type": "code",
   "execution_count": null,
   "id": "9287dba1",
   "metadata": {},
   "outputs": [],
   "source": []
  }
 ],
 "metadata": {
  "kernelspec": {
   "display_name": "ml_bijection",
   "language": "python",
   "name": "python3"
  },
  "language_info": {
   "codemirror_mode": {
    "name": "ipython",
    "version": 3
   },
   "file_extension": ".py",
   "mimetype": "text/x-python",
   "name": "python",
   "nbconvert_exporter": "python",
   "pygments_lexer": "ipython3",
   "version": "3.10.14"
  },
  "widgets": {
   "application/vnd.jupyter.widget-state+json": {
    "state": {},
    "version_major": 2,
    "version_minor": 0
   }
  }
 },
 "nbformat": 4,
 "nbformat_minor": 5
}
