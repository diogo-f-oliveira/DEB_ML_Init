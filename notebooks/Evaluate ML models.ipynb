{
 "cells": [
  {
   "cell_type": "code",
   "execution_count": 1,
   "id": "93f9e1c9-4fce-417b-a378-446dab13030b",
   "metadata": {},
   "outputs": [],
   "source": [
    "import pandas as pd\n",
    "import numpy as np\n",
    "import matplotlib.pyplot as plt\n",
    "from matplotlib.ticker import PercentFormatter\n",
    "import seaborn as sns\n",
    "import ipywidgets as widgets\n",
    "from IPython.display import display\n",
    "import pickle\n",
    "import sklearn.metrics as metrics\n",
    "from tabulate import tabulate\n",
    "import torch"
   ]
  },
  {
   "cell_type": "code",
   "execution_count": 2,
   "id": "c5874082-d253-47ca-9b6b-9c99a5fc76d9",
   "metadata": {
    "editable": true,
    "slideshow": {
     "slide_type": ""
    },
    "tags": []
   },
   "outputs": [],
   "source": [
    "import sys\n",
    "import os\n",
    "\n",
    "# Add the 'project' directory to the path\n",
    "sys.path.append(os.path.abspath('..'))\n",
    "\n",
    "from project_code.algorithms.taxonomic_1nn import TaxonomicLabelEncoder\n",
    "from project_code.data.load_data import load_col_types, load_data\n",
    "from project_code.data.prepare_data_sklearn import get_features_targets, get_single_output_col_types\n",
    "from project_code.utils.results import get_best_model_file, fetch_best_results_per_model\n",
    "from project_code.evaluate.score import mean_deb_loss\n",
    "from project_code.evaluate.prediction_error import compute_parameter_mape\n",
    "from project_code.inference.parameters import get_core_parameter_predictions, convert_output_to_parameter_predictions, \\\n",
    "    PARAMETER_COLS"
   ]
  },
  {
   "cell_type": "markdown",
   "id": "e6a27ad0-d45c-4cd7-8f76-6b7e5cb96405",
   "metadata": {},
   "source": [
    "# Loading data and models"
   ]
  },
  {
   "cell_type": "code",
   "execution_count": 3,
   "id": "46ca4429-8308-4209-820d-cc5af232df98",
   "metadata": {},
   "outputs": [],
   "source": [
    "datasets_folder = f'../data/processed/'\n",
    "\n",
    "dataset_of_model = {\n",
    "    'MultiTaskElasticNet': 'ratio_output_no_pub_age_taxonomy_ecocodes',\n",
    "    'RandomForestRegressor': 'ratio_output_no_pub_age_taxonomy_ecocodes',\n",
    "    'TaxonomicKNNRegressor': 'biologist_no_pub_age',  \n",
    "    'MLP': 'all_constraints_no_pub_age_taxonomy_ecocodes',\n",
    "    'DEBNetHC': 'all_constraints_no_pub_age_taxonomy_ecocodes',\n",
    "    #'DEBNetHCSoftplus': 'all_constraints_no_pub_age_taxonomy_ecocodes',\n",
    "    'DEBNetSC': 'all_constraints_no_pub_age_taxonomy_ecocodes',\n",
    "    #'DEBNet': 'all_constraints_no_pub_age_taxonomy_ecocodes',\n",
    "}\n"
   ]
  },
  {
   "cell_type": "markdown",
   "id": "7cdfe15a-f2a3-4d6a-8bff-68d69219d767",
   "metadata": {},
   "source": [
    "## Loading best models"
   ]
  },
  {
   "cell_type": "code",
   "execution_count": 4,
   "id": "453c4217-1395-4924-9c0c-efcac94e7a2d",
   "metadata": {},
   "outputs": [],
   "source": [
    "def load_model(model_file):\n",
    "    if model_file[-4:] == '.pkl':\n",
    "        with open(f\"{results_folder}/models/{model_file}\", 'rb') as f:\n",
    "            model = pickle.load(f)\n",
    "    elif model_file[-4:] == '.pth':\n",
    "        model = torch.load(f\"{results_folder}/models/{model_file}\")\n",
    "        model.eval()\n",
    "    return model"
   ]
  },
  {
   "cell_type": "code",
   "execution_count": 5,
   "id": "afab718e-51df-45a8-8571-1a905e6f1e61",
   "metadata": {},
   "outputs": [
    {
     "name": "stdout",
     "output_type": "stream",
     "text": [
      "dict_keys(['MultiTaskElasticNet', 'RandomForestRegressor', 'TaxonomicKNNRegressor', 'MLP', 'DEBNetHC', 'DEBNetSC'])\n"
     ]
    },
    {
     "name": "stderr",
     "output_type": "stream",
     "text": [
      "C:\\Users\\diogo\\AppData\\Local\\Temp\\ipykernel_24044\\2041934893.py:6: FutureWarning: You are using `torch.load` with `weights_only=False` (the current default value), which uses the default pickle module implicitly. It is possible to construct malicious pickle data which will execute arbitrary code during unpickling (See https://github.com/pytorch/pytorch/blob/main/SECURITY.md#untrusted-models for more details). In a future release, the default value for `weights_only` will be flipped to `True`. This limits the functions that could be executed during unpickling. Arbitrary objects will no longer be allowed to be loaded via this mode unless they are explicitly allowlisted by the user via `torch.serialization.add_safe_globals`. We recommend you start setting `weights_only=True` for any use case where you don't have full control of the loaded file. Please open an issue on GitHub for any issues related to this experimental feature.\n",
      "  model = torch.load(f\"{results_folder}/models/{model_file}\")\n"
     ]
    }
   ],
   "source": [
    "best_models = {}\n",
    "for mt in dataset_of_model.keys():  \n",
    "    results_folder = f'../results/{dataset_of_model[mt]}/all'\n",
    "    if mt in ['MLP']:\n",
    "        metric = 'GEF'\n",
    "    else:\n",
    "        metric = 'MAPE'\n",
    "    model_file = get_best_model_file(results_folder=results_folder, model_type=mt, metric=metric)\n",
    "    if model_file is not None:\n",
    "        best_models[mt] = load_model(model_file)\n",
    "print(best_models.keys())"
   ]
  },
  {
   "cell_type": "markdown",
   "id": "fa112b35-2644-4156-9228-745ed0920349",
   "metadata": {},
   "source": [
    "## Loading data"
   ]
  },
  {
   "cell_type": "code",
   "execution_count": 6,
   "id": "83ad6ad7-f6fb-442f-ae6a-f44ddb22bcfd",
   "metadata": {},
   "outputs": [],
   "source": [
    "all_dfs = {}\n",
    "all_col_types = {}\n",
    "all_data = {}\n",
    "for dataset_name in list(set(dataset_of_model.values())):\n",
    "    results_folder = f'../results/{dataset_name}'\n",
    "    all_dfs[dataset_name] = load_data(dataset_name=dataset_name, data_split='train_test', datasets_folder=datasets_folder)\n",
    "    all_col_types[dataset_name] = load_col_types(dataset_name=dataset_name, datasets_folder=datasets_folder)\n",
    "    if 'biologist' not in dataset_name:\n",
    "        all_data[dataset_name] = get_features_targets(all_dfs[dataset_name], all_col_types[dataset_name])\n",
    "    else:\n",
    "        model = best_models['TaxonomicKNNRegressor']\n",
    "        encoded_dfs = {}\n",
    "        # Encoded data with trained model encoders\n",
    "        for split in ('train', 'test'):\n",
    "            encoded_dfs[split] = model.regressor.encode_data(all_dfs[dataset_name][split])\n",
    "        all_data[dataset_name] = get_features_targets(data=encoded_dfs, col_types=all_col_types[dataset_name])"
   ]
  },
  {
   "cell_type": "markdown",
   "id": "e8dbe4d9-066c-46e4-8ba5-0569daec4f67",
   "metadata": {},
   "source": [
    "# Visualize predictions"
   ]
  },
  {
   "cell_type": "code",
   "execution_count": 8,
   "id": "4df1eae7-d917-48f2-af99-767ad14d8089",
   "metadata": {},
   "outputs": [],
   "source": [
    "taxonomy_cols = [col for col in all_col_types['all_constraints_no_pub_age_taxonomy_ecocodes']['input']['all'] if 'class' in col]\n",
    "\n",
    "hue_series = {\n",
    "    'model': pd.concat([all_dfs['biologist_no_pub_age'][data_split]['model'] for data_split in ['train', 'test']]),\n",
    "    'class': pd.concat([pd.from_dummies(all_dfs['all_constraints_no_pub_age_taxonomy_ecocodes'][data_split][taxonomy_cols], sep='_') for data_split in ['train', 'test']])['class'],\n",
    "    'climate': None,\n",
    "    'habitat': None,\n",
    "    'migrate': None,\n",
    "    'food': None\n",
    "}\n",
    "\n",
    "hue_orders = {\n",
    "    'model': ['std', 'abj', 'stx'],\n",
    "    'class': None,\n",
    "    'climate': None,\n",
    "    'habitat': None,\n",
    "    'migrate': None,\n",
    "    'food': None\n",
    "}\n"
   ]
  },
  {
   "cell_type": "code",
   "execution_count": 34,
   "id": "a2bfd0b5",
   "metadata": {},
   "outputs": [
    {
     "data": {
      "text/plain": [
       "np.True_"
      ]
     },
     "execution_count": 34,
     "metadata": {},
     "output_type": "execute_result"
    }
   ],
   "source": [
    "(all_dfs['biologist_no_pub_age'][data_split].index == all_dfs['all_constraints_no_pub_age_taxonomy_ecocodes'][data_split].index).all()"
   ]
  },
  {
   "cell_type": "code",
   "execution_count": null,
   "id": "e1928608",
   "metadata": {},
   "outputs": [
    {
     "ename": "AttributeError",
     "evalue": "'DataFrame' object has no attribute 'to_series'",
     "output_type": "error",
     "traceback": [
      "\u001b[1;31m---------------------------------------------------------------------------\u001b[0m",
      "\u001b[1;31mAttributeError\u001b[0m                            Traceback (most recent call last)",
      "\u001b[1;32m~\\AppData\\Local\\Temp\\ipykernel_17572\\744614786.py\u001b[0m in \u001b[0;36m?\u001b[1;34m()\u001b[0m\n\u001b[1;32m----> 1\u001b[1;33m \u001b[0mhue_series\u001b[0m\u001b[1;33m[\u001b[0m\u001b[1;34m'class'\u001b[0m\u001b[1;33m]\u001b[0m\u001b[1;33m.\u001b[0m\u001b[0mto_series\u001b[0m\u001b[1;33m(\u001b[0m\u001b[1;33m)\u001b[0m\u001b[1;33m\u001b[0m\u001b[1;33m\u001b[0m\u001b[0m\n\u001b[0m",
      "\u001b[1;32mc:\\Users\\diogo\\miniconda3\\envs\\ml_bijection\\lib\\site-packages\\pandas\\core\\generic.py\u001b[0m in \u001b[0;36m?\u001b[1;34m(self, name)\u001b[0m\n\u001b[0;32m   6295\u001b[0m             \u001b[1;32mand\u001b[0m \u001b[0mname\u001b[0m \u001b[1;32mnot\u001b[0m \u001b[1;32min\u001b[0m \u001b[0mself\u001b[0m\u001b[1;33m.\u001b[0m\u001b[0m_accessors\u001b[0m\u001b[1;33m\u001b[0m\u001b[1;33m\u001b[0m\u001b[0m\n\u001b[0;32m   6296\u001b[0m             \u001b[1;32mand\u001b[0m \u001b[0mself\u001b[0m\u001b[1;33m.\u001b[0m\u001b[0m_info_axis\u001b[0m\u001b[1;33m.\u001b[0m\u001b[0m_can_hold_identifiers_and_holds_name\u001b[0m\u001b[1;33m(\u001b[0m\u001b[0mname\u001b[0m\u001b[1;33m)\u001b[0m\u001b[1;33m\u001b[0m\u001b[1;33m\u001b[0m\u001b[0m\n\u001b[0;32m   6297\u001b[0m         ):\n\u001b[0;32m   6298\u001b[0m             \u001b[1;32mreturn\u001b[0m \u001b[0mself\u001b[0m\u001b[1;33m[\u001b[0m\u001b[0mname\u001b[0m\u001b[1;33m]\u001b[0m\u001b[1;33m\u001b[0m\u001b[1;33m\u001b[0m\u001b[0m\n\u001b[1;32m-> 6299\u001b[1;33m         \u001b[1;32mreturn\u001b[0m \u001b[0mobject\u001b[0m\u001b[1;33m.\u001b[0m\u001b[0m__getattribute__\u001b[0m\u001b[1;33m(\u001b[0m\u001b[0mself\u001b[0m\u001b[1;33m,\u001b[0m \u001b[0mname\u001b[0m\u001b[1;33m)\u001b[0m\u001b[1;33m\u001b[0m\u001b[1;33m\u001b[0m\u001b[0m\n\u001b[0m",
      "\u001b[1;31mAttributeError\u001b[0m: 'DataFrame' object has no attribute 'to_series'"
     ]
    }
   ],
   "source": [
    "hue_series['class']"
   ]
  },
  {
   "cell_type": "code",
   "execution_count": 9,
   "id": "d9b605ad-ce01-43bc-bed0-c5d3b9c15637",
   "metadata": {},
   "outputs": [
    {
     "data": {
      "application/vnd.jupyter.widget-view+json": {
       "model_id": "b17fdffc78a24aca8668e01e2d1c460e",
       "version_major": 2,
       "version_minor": 0
      },
      "text/plain": [
       "interactive(children=(Dropdown(description='Model:', index=5, options=('MultiTaskElasticNet', 'RandomForestReg…"
      ]
     },
     "execution_count": 9,
     "metadata": {},
     "output_type": "execute_result"
    }
   ],
   "source": [
    "def plot_residuals_df(model_type, plot_kind, data_split, groupby, scale):\n",
    "    # Get data for the model\n",
    "    dataset_name = dataset_of_model[model_type]\n",
    "    data = all_data[dataset_name]\n",
    "    col_types = all_col_types[dataset_name]\n",
    "    model = best_models[model_type]\n",
    "\n",
    "    # Get predictions:\n",
    "    y_true_ps = data[data_split]['output']\n",
    "    if 'DEBNet' in model_type:\n",
    "        y_pred_ps = model.predict(torch.tensor(data[data_split]['input'], dtype=torch.float32))\n",
    "    elif model_type == 'TaxonomicKNNRegressor' and data_split == 'train':\n",
    "        train_distance_matrix = model.regressor_._compute_distance_matrix(model.regressor_.train_data, model.regressor_.train_data, data_split='train')\n",
    "        y_pred_ps = model.regressor_.get_predictions_from_distance_matrix(train_distance_matrix)\n",
    "    else:\n",
    "        y_pred_ps = model.predict(data[data_split]['input'])\n",
    "\n",
    "    if scale == 'model':\n",
    "        cols_to_plot = col_types['output']['all']\n",
    "        target_df = pd.DataFrame(y_true_ps, columns=col_types['output']['all'])\n",
    "        pred_df = pd.DataFrame(y_pred_ps, columns=col_types['output']['all'])\n",
    "        \n",
    "    elif scale == 'parameter':\n",
    "        cols_to_plot = PARAMETER_COLS            \n",
    "        target_df, pred_df = convert_output_to_parameter_predictions(y=y_true_ps, y_pred=y_pred_ps, output_col_names=col_types['output']['all'])\n",
    "\n",
    "    target_df.set_index(all_dfs[dataset_name][data_split].index, inplace=True)\n",
    "    pred_df.set_index(all_dfs[dataset_name][data_split].index, inplace=True)\n",
    "    if plot_kind == 'residual_vs_predicted':\n",
    "        if scale == 'model':\n",
    "            residuals_df = target_df - pred_df\n",
    "        elif scale == 'parameter':\n",
    "            residuals_df = (target_df - pred_df) / target_df  \n",
    "\n",
    "    # Plot predictions vs targets  \n",
    "    n_cols = 3\n",
    "    n_rows = np.ceil(len(cols_to_plot) / n_cols).astype(int)\n",
    "    fig, axes = plt.subplots(nrows=n_rows, ncols=n_cols, figsize=(16, 5*n_rows), tight_layout=True)\n",
    "    fig.suptitle(model_type, fontsize=16)\n",
    "    margin_factor = 0.05\n",
    "    for i, col in enumerate(cols_to_plot):\n",
    "        ax = axes[i // n_cols, i % n_cols]\n",
    "\n",
    "        if scale == 'parameter' and col in ['p_Am', 'p_M', 'E_Hb', 'E_Hp']:\n",
    "            plot_log_scale_x = True\n",
    "            if plot_kind == 'residual_vs_predicted':\n",
    "                plot_log_scale_y = False\n",
    "            else:\n",
    "                plot_log_scale_y = True\n",
    "        elif scale == 'model' and col in col_types['output']['log']:\n",
    "            plot_log_scale_x = True\n",
    "            plot_log_scale_y = True\n",
    "        else:\n",
    "            plot_log_scale_x = False\n",
    "            plot_log_scale_y = False\n",
    "        \n",
    "        if plot_kind == 'residual_vs_predicted':\n",
    "            sns.scatterplot(x=pred_df[col], y=residuals_df[col], ax=ax, hue=hue_series[groupby], hue_order=hue_orders[groupby]) # Fix\n",
    "            min_v = (1-margin_factor)*min(target_df[col].min(), pred_df[col].min())\n",
    "            max_v = (1+margin_factor)*max(target_df[col].max(), pred_df[col].max())\n",
    "            ax.set_xlim([min_v, max_v])\n",
    "\n",
    "            ax.plot([min_v, max_v], [0, 0], 'k--')\n",
    "            ax.set_ylabel('Residuals (actual - predicted)')\n",
    "\n",
    "        elif plot_kind == 'actual_vs_predicted':\n",
    "            sns.scatterplot(x=pred_df[col], y=target_df[col], ax=ax, hue=hue_series[groupby], hue_order=hue_orders[groupby])\n",
    "            min_v = (1-margin_factor)*min(target_df[col].min(), pred_df[col].min())\n",
    "            max_v = (1+margin_factor)*max(target_df[col].max(), pred_df[col].max())\n",
    "            ax.set_xlim([min_v, max_v])\n",
    "            ax.set_ylim([min_v, max_v])\n",
    "            ax.plot([min_v, max_v], [min_v, max_v], 'k--')\n",
    "            ax.set_ylabel('Actual values')\n",
    "\n",
    "        if plot_log_scale_x:\n",
    "            ax.set_xscale('log')\n",
    "        else:\n",
    "            ax.set_xscale('linear')\n",
    "        \n",
    "        if plot_log_scale_y:\n",
    "            ax.set_yscale('log')\n",
    "        else:\n",
    "            ax.set_yscale('linear')\n",
    "\n",
    "        ax.set_xlabel('Predicted values') \n",
    "        #r2 = metrics.r2_score(target_df, pred_df)\n",
    "        ax.set_title(f\"{col}\")\n",
    "\n",
    "model_selector = widgets.Dropdown(options=list(best_models.keys()), value='DEBNetSC', description='Model:')\n",
    "plot_selector = widgets.Dropdown(options=['actual_vs_predicted', 'residual_vs_predicted'], value='actual_vs_predicted', description='Plot Type:')\n",
    "data_split_selector = widgets.Dropdown(options=['train', 'test'], value='test', description='Data Split: ')\n",
    "groupby_selector = widgets.Dropdown(options=['model', 'class', 'climate', 'habitat', 'migrate', 'food'])\n",
    "scale_selector = widgets.Dropdown(options=['model', 'parameter',], value='parameter')\n",
    "widgets.interactive(plot_residuals_df, model_type=model_selector, plot_kind=plot_selector, data_split=data_split_selector, groupby=groupby_selector, scale=scale_selector)"
   ]
  },
  {
   "cell_type": "code",
   "execution_count": 35,
   "id": "75eed5a3",
   "metadata": {},
   "outputs": [
    {
     "name": "stderr",
     "output_type": "stream",
     "text": [
      "C:\\Users\\diogo\\AppData\\Local\\Temp\\ipykernel_24044\\2846497148.py:2: UserWarning: Dataset has 0 variance; skipping density estimate. Pass `warn_singular=False` to disable this warning.\n",
      "  sns.kdeplot(data=all_dfs[dataset_name]['train'], x='k_J', log_scale=True, hue=hue_series['class'], ax=ax)\n"
     ]
    },
    {
     "data": {
      "text/plain": [
       "<Axes: xlabel='k_J', ylabel='Density'>"
      ]
     },
     "execution_count": 35,
     "metadata": {},
     "output_type": "execute_result"
    },
    {
     "data": {
      "image/png": "[encoded data removed]",
      "text/plain": [
       "<Figure size 1000x600 with 1 Axes>"
      ]
     },
     "metadata": {},
     "output_type": "display_data"
    }
   ],
   "source": [
    "fig, ax = plt.subplots(figsize=(10, 6))\n",
    "sns.kdeplot(data=all_dfs[dataset_name]['train'], x='k_J', log_scale=True, hue=hue_series['class'], ax=ax) "
   ]
  },
  {
   "cell_type": "code",
   "execution_count": 46,
   "id": "4c16ab09",
   "metadata": {},
   "outputs": [
    {
     "data": {
      "text/plain": [
       "class\n",
       "Aves              789\n",
       "Actinopterygii      6\n",
       "Mammalia            5\n",
       "Chondrichthyes      4\n",
       "Bivalvia            2\n",
       "Reptilia            1\n",
       "Name: count, dtype: int64"
      ]
     },
     "execution_count": 46,
     "metadata": {},
     "output_type": "execute_result"
    }
   ],
   "source": [
    "all_dfs[dataset_name]['train'].loc[all_dfs[dataset_name]['train']['k_J'] != 0.002]['class'].value_counts()"
   ]
  },
  {
   "cell_type": "code",
   "execution_count": 31,
   "id": "13816dac",
   "metadata": {},
   "outputs": [
    {
     "data": {
      "image/png": "[encoded data removed]",
      "text/plain": [
       "<Figure size 640x480 with 1 Axes>"
      ]
     },
     "metadata": {},
     "output_type": "display_data"
    }
   ],
   "source": [
    "dataset_name = 'biologist_no_pub_age'\n",
    "aves_train_df = all_dfs[dataset_name]['train'].loc[all_dfs[dataset_name]['train']['class'] == 'Aves']\n",
    "branchiopoda_train_df = all_dfs[dataset_name]['train'].loc[all_dfs[dataset_name]['train']['class'] == 'Branchiopoda']\n",
    "ax = sns.histplot(data=branchiopoda_train_df, x='k_J', kde=True, log_scale=True) "
   ]
  },
  {
   "cell_type": "code",
   "execution_count": null,
   "id": "ea1ed779",
   "metadata": {},
   "outputs": [
    {
     "ename": "KeyboardInterrupt",
     "evalue": "",
     "output_type": "error",
     "traceback": [
      "\u001b[1;31m---------------------------------------------------------------------------\u001b[0m",
      "\u001b[1;31mKeyboardInterrupt\u001b[0m                         Traceback (most recent call last)",
      "Cell \u001b[1;32mIn[59], line 1\u001b[0m\n\u001b[1;32m----> 1\u001b[0m \u001b[43msns\u001b[49m\u001b[38;5;241;43m.\u001b[39;49m\u001b[43mhistplot\u001b[49m\u001b[43m(\u001b[49m\u001b[43mdata\u001b[49m\u001b[38;5;241;43m=\u001b[39;49m\u001b[43mall_dfs\u001b[49m\u001b[43m[\u001b[49m\u001b[38;5;124;43m'\u001b[39;49m\u001b[38;5;124;43mall_constraints_no_pub_age_taxonomy_ecocodes\u001b[39;49m\u001b[38;5;124;43m'\u001b[39;49m\u001b[43m]\u001b[49m\u001b[43m[\u001b[49m\u001b[38;5;124;43m'\u001b[39;49m\u001b[38;5;124;43mtest\u001b[39;49m\u001b[38;5;124;43m'\u001b[39;49m\u001b[43m]\u001b[49m\u001b[43m,\u001b[49m\u001b[43m \u001b[49m\u001b[43mx\u001b[49m\u001b[38;5;241;43m=\u001b[39;49m\u001b[38;5;124;43m'\u001b[39;49m\u001b[38;5;124;43ms_p\u001b[39;49m\u001b[38;5;124;43m'\u001b[39;49m\u001b[43m,\u001b[49m\u001b[43m \u001b[49m\u001b[43mhue\u001b[49m\u001b[38;5;241;43m=\u001b[39;49m\u001b[43mhue_series\u001b[49m\u001b[43m[\u001b[49m\u001b[38;5;124;43m'\u001b[39;49m\u001b[38;5;124;43mclass\u001b[39;49m\u001b[38;5;124;43m'\u001b[39;49m\u001b[43m]\u001b[49m\u001b[43m)\u001b[49m\n",
      "File \u001b[1;32mc:\\Users\\diogo\\miniconda3\\envs\\ml_bijection\\lib\\site-packages\\seaborn\\distributions.py:1416\u001b[0m, in \u001b[0;36mhistplot\u001b[1;34m(data, x, y, hue, weights, stat, bins, binwidth, binrange, discrete, cumulative, common_bins, common_norm, multiple, element, fill, shrink, kde, kde_kws, line_kws, thresh, pthresh, pmax, cbar, cbar_ax, cbar_kws, palette, hue_order, hue_norm, color, log_scale, legend, ax, **kwargs)\u001b[0m\n\u001b[0;32m   1405\u001b[0m estimate_kws \u001b[38;5;241m=\u001b[39m \u001b[38;5;28mdict\u001b[39m(\n\u001b[0;32m   1406\u001b[0m     stat\u001b[38;5;241m=\u001b[39mstat,\n\u001b[0;32m   1407\u001b[0m     bins\u001b[38;5;241m=\u001b[39mbins,\n\u001b[1;32m   (...)\u001b[0m\n\u001b[0;32m   1411\u001b[0m     cumulative\u001b[38;5;241m=\u001b[39mcumulative,\n\u001b[0;32m   1412\u001b[0m )\n\u001b[0;32m   1414\u001b[0m \u001b[38;5;28;01mif\u001b[39;00m p\u001b[38;5;241m.\u001b[39munivariate:\n\u001b[1;32m-> 1416\u001b[0m     p\u001b[38;5;241m.\u001b[39mplot_univariate_histogram(\n\u001b[0;32m   1417\u001b[0m         multiple\u001b[38;5;241m=\u001b[39mmultiple,\n\u001b[0;32m   1418\u001b[0m         element\u001b[38;5;241m=\u001b[39melement,\n\u001b[0;32m   1419\u001b[0m         fill\u001b[38;5;241m=\u001b[39mfill,\n\u001b[0;32m   1420\u001b[0m         shrink\u001b[38;5;241m=\u001b[39mshrink,\n\u001b[0;32m   1421\u001b[0m         common_norm\u001b[38;5;241m=\u001b[39mcommon_norm,\n\u001b[0;32m   1422\u001b[0m         common_bins\u001b[38;5;241m=\u001b[39mcommon_bins,\n\u001b[0;32m   1423\u001b[0m         kde\u001b[38;5;241m=\u001b[39mkde,\n\u001b[0;32m   1424\u001b[0m         kde_kws\u001b[38;5;241m=\u001b[39mkde_kws,\n\u001b[0;32m   1425\u001b[0m         color\u001b[38;5;241m=\u001b[39mcolor,\n\u001b[0;32m   1426\u001b[0m         legend\u001b[38;5;241m=\u001b[39mlegend,\n\u001b[0;32m   1427\u001b[0m         estimate_kws\u001b[38;5;241m=\u001b[39mestimate_kws,\n\u001b[0;32m   1428\u001b[0m         line_kws\u001b[38;5;241m=\u001b[39mline_kws,\n\u001b[0;32m   1429\u001b[0m         \u001b[38;5;241m*\u001b[39m\u001b[38;5;241m*\u001b[39mkwargs,\n\u001b[0;32m   1430\u001b[0m     )\n\u001b[0;32m   1432\u001b[0m \u001b[38;5;28;01melse\u001b[39;00m:\n\u001b[0;32m   1434\u001b[0m     p\u001b[38;5;241m.\u001b[39mplot_bivariate_histogram(\n\u001b[0;32m   1435\u001b[0m         common_bins\u001b[38;5;241m=\u001b[39mcommon_bins,\n\u001b[0;32m   1436\u001b[0m         common_norm\u001b[38;5;241m=\u001b[39mcommon_norm,\n\u001b[1;32m   (...)\u001b[0m\n\u001b[0;32m   1446\u001b[0m         \u001b[38;5;241m*\u001b[39m\u001b[38;5;241m*\u001b[39mkwargs,\n\u001b[0;32m   1447\u001b[0m     )\n",
      "File \u001b[1;32mc:\\Users\\diogo\\miniconda3\\envs\\ml_bijection\\lib\\site-packages\\seaborn\\distributions.py:571\u001b[0m, in \u001b[0;36m_DistributionPlotter.plot_univariate_histogram\u001b[1;34m(self, multiple, element, fill, common_norm, common_bins, shrink, kde, kde_kws, color, legend, line_kws, estimate_kws, **plot_kws)\u001b[0m\n\u001b[0;32m    566\u001b[0m \u001b[38;5;28;01mif\u001b[39;00m element \u001b[38;5;241m==\u001b[39m \u001b[38;5;124m\"\u001b[39m\u001b[38;5;124mbars\u001b[39m\u001b[38;5;124m\"\u001b[39m:\n\u001b[0;32m    567\u001b[0m \n\u001b[0;32m    568\u001b[0m     \u001b[38;5;66;03m# Use matplotlib bar plotting\u001b[39;00m\n\u001b[0;32m    570\u001b[0m     plot_func \u001b[38;5;241m=\u001b[39m ax\u001b[38;5;241m.\u001b[39mbar \u001b[38;5;28;01mif\u001b[39;00m \u001b[38;5;28mself\u001b[39m\u001b[38;5;241m.\u001b[39mdata_variable \u001b[38;5;241m==\u001b[39m \u001b[38;5;124m\"\u001b[39m\u001b[38;5;124mx\u001b[39m\u001b[38;5;124m\"\u001b[39m \u001b[38;5;28;01melse\u001b[39;00m ax\u001b[38;5;241m.\u001b[39mbarh\n\u001b[1;32m--> 571\u001b[0m     artists \u001b[38;5;241m=\u001b[39m plot_func(\n\u001b[0;32m    572\u001b[0m         hist[\u001b[38;5;124m\"\u001b[39m\u001b[38;5;124medges\u001b[39m\u001b[38;5;124m\"\u001b[39m],\n\u001b[0;32m    573\u001b[0m         hist[\u001b[38;5;124m\"\u001b[39m\u001b[38;5;124mheights\u001b[39m\u001b[38;5;124m\"\u001b[39m] \u001b[38;5;241m-\u001b[39m bottom,\n\u001b[0;32m    574\u001b[0m         hist[\u001b[38;5;124m\"\u001b[39m\u001b[38;5;124mwidths\u001b[39m\u001b[38;5;124m\"\u001b[39m],\n\u001b[0;32m    575\u001b[0m         bottom,\n\u001b[0;32m    576\u001b[0m         align\u001b[38;5;241m=\u001b[39m\u001b[38;5;124m\"\u001b[39m\u001b[38;5;124medge\u001b[39m\u001b[38;5;124m\"\u001b[39m,\n\u001b[0;32m    577\u001b[0m         \u001b[38;5;241m*\u001b[39m\u001b[38;5;241m*\u001b[39martist_kws,\n\u001b[0;32m    578\u001b[0m     )\n\u001b[0;32m    580\u001b[0m     \u001b[38;5;28;01mfor\u001b[39;00m bar \u001b[38;5;129;01min\u001b[39;00m artists:\n\u001b[0;32m    581\u001b[0m         \u001b[38;5;28;01mif\u001b[39;00m \u001b[38;5;28mself\u001b[39m\u001b[38;5;241m.\u001b[39mdata_variable \u001b[38;5;241m==\u001b[39m \u001b[38;5;124m\"\u001b[39m\u001b[38;5;124mx\u001b[39m\u001b[38;5;124m\"\u001b[39m:\n",
      "File \u001b[1;32mc:\\Users\\diogo\\miniconda3\\envs\\ml_bijection\\lib\\site-packages\\matplotlib\\__init__.py:1521\u001b[0m, in \u001b[0;36m_preprocess_data.<locals>.inner\u001b[1;34m(ax, data, *args, **kwargs)\u001b[0m\n\u001b[0;32m   1518\u001b[0m \u001b[38;5;129m@functools\u001b[39m\u001b[38;5;241m.\u001b[39mwraps(func)\n\u001b[0;32m   1519\u001b[0m \u001b[38;5;28;01mdef\u001b[39;00m \u001b[38;5;21minner\u001b[39m(ax, \u001b[38;5;241m*\u001b[39margs, data\u001b[38;5;241m=\u001b[39m\u001b[38;5;28;01mNone\u001b[39;00m, \u001b[38;5;241m*\u001b[39m\u001b[38;5;241m*\u001b[39mkwargs):\n\u001b[0;32m   1520\u001b[0m     \u001b[38;5;28;01mif\u001b[39;00m data \u001b[38;5;129;01mis\u001b[39;00m \u001b[38;5;28;01mNone\u001b[39;00m:\n\u001b[1;32m-> 1521\u001b[0m         \u001b[38;5;28;01mreturn\u001b[39;00m func(\n\u001b[0;32m   1522\u001b[0m             ax,\n\u001b[0;32m   1523\u001b[0m             \u001b[38;5;241m*\u001b[39m\u001b[38;5;28mmap\u001b[39m(cbook\u001b[38;5;241m.\u001b[39msanitize_sequence, args),\n\u001b[0;32m   1524\u001b[0m             \u001b[38;5;241m*\u001b[39m\u001b[38;5;241m*\u001b[39m{k: cbook\u001b[38;5;241m.\u001b[39msanitize_sequence(v) \u001b[38;5;28;01mfor\u001b[39;00m k, v \u001b[38;5;129;01min\u001b[39;00m kwargs\u001b[38;5;241m.\u001b[39mitems()})\n\u001b[0;32m   1526\u001b[0m     bound \u001b[38;5;241m=\u001b[39m new_sig\u001b[38;5;241m.\u001b[39mbind(ax, \u001b[38;5;241m*\u001b[39margs, \u001b[38;5;241m*\u001b[39m\u001b[38;5;241m*\u001b[39mkwargs)\n\u001b[0;32m   1527\u001b[0m     auto_label \u001b[38;5;241m=\u001b[39m (bound\u001b[38;5;241m.\u001b[39marguments\u001b[38;5;241m.\u001b[39mget(label_namer)\n\u001b[0;32m   1528\u001b[0m                   \u001b[38;5;129;01mor\u001b[39;00m bound\u001b[38;5;241m.\u001b[39mkwargs\u001b[38;5;241m.\u001b[39mget(label_namer))\n",
      "File \u001b[1;32mc:\\Users\\diogo\\miniconda3\\envs\\ml_bijection\\lib\\site-packages\\matplotlib\\axes\\_axes.py:2649\u001b[0m, in \u001b[0;36mAxes.bar\u001b[1;34m(self, x, height, width, bottom, align, **kwargs)\u001b[0m\n\u001b[0;32m   2647\u001b[0m     \u001b[38;5;28;01melse\u001b[39;00m:  \u001b[38;5;66;03m# horizontal\u001b[39;00m\n\u001b[0;32m   2648\u001b[0m         r\u001b[38;5;241m.\u001b[39msticky_edges\u001b[38;5;241m.\u001b[39mx\u001b[38;5;241m.\u001b[39mappend(l)\n\u001b[1;32m-> 2649\u001b[0m     \u001b[38;5;28;43mself\u001b[39;49m\u001b[38;5;241;43m.\u001b[39;49m\u001b[43madd_patch\u001b[49m\u001b[43m(\u001b[49m\u001b[43mr\u001b[49m\u001b[43m)\u001b[49m\n\u001b[0;32m   2650\u001b[0m     patches\u001b[38;5;241m.\u001b[39mappend(r)\n\u001b[0;32m   2652\u001b[0m \u001b[38;5;28;01mif\u001b[39;00m xerr \u001b[38;5;129;01mis\u001b[39;00m \u001b[38;5;129;01mnot\u001b[39;00m \u001b[38;5;28;01mNone\u001b[39;00m \u001b[38;5;129;01mor\u001b[39;00m yerr \u001b[38;5;129;01mis\u001b[39;00m \u001b[38;5;129;01mnot\u001b[39;00m \u001b[38;5;28;01mNone\u001b[39;00m:\n",
      "File \u001b[1;32mc:\\Users\\diogo\\miniconda3\\envs\\ml_bijection\\lib\\site-packages\\matplotlib\\axes\\_base.py:2446\u001b[0m, in \u001b[0;36m_AxesBase.add_patch\u001b[1;34m(self, p)\u001b[0m\n\u001b[0;32m   2444\u001b[0m \u001b[38;5;28;01mif\u001b[39;00m p\u001b[38;5;241m.\u001b[39mget_clip_path() \u001b[38;5;129;01mis\u001b[39;00m \u001b[38;5;28;01mNone\u001b[39;00m:\n\u001b[0;32m   2445\u001b[0m     p\u001b[38;5;241m.\u001b[39mset_clip_path(\u001b[38;5;28mself\u001b[39m\u001b[38;5;241m.\u001b[39mpatch)\n\u001b[1;32m-> 2446\u001b[0m \u001b[38;5;28;43mself\u001b[39;49m\u001b[38;5;241;43m.\u001b[39;49m\u001b[43m_update_patch_limits\u001b[49m\u001b[43m(\u001b[49m\u001b[43mp\u001b[49m\u001b[43m)\u001b[49m\n\u001b[0;32m   2447\u001b[0m \u001b[38;5;28mself\u001b[39m\u001b[38;5;241m.\u001b[39m_children\u001b[38;5;241m.\u001b[39mappend(p)\n\u001b[0;32m   2448\u001b[0m p\u001b[38;5;241m.\u001b[39m_remove_method \u001b[38;5;241m=\u001b[39m \u001b[38;5;28mself\u001b[39m\u001b[38;5;241m.\u001b[39m_children\u001b[38;5;241m.\u001b[39mremove\n",
      "File \u001b[1;32mc:\\Users\\diogo\\miniconda3\\envs\\ml_bijection\\lib\\site-packages\\matplotlib\\axes\\_base.py:2488\u001b[0m, in \u001b[0;36m_AxesBase._update_patch_limits\u001b[1;34m(self, patch)\u001b[0m\n\u001b[0;32m   2486\u001b[0m         updatey \u001b[38;5;241m=\u001b[39m \u001b[38;5;28;01mFalse\u001b[39;00m\n\u001b[0;32m   2487\u001b[0m trf_to_data \u001b[38;5;241m=\u001b[39m patch_trf \u001b[38;5;241m-\u001b[39m \u001b[38;5;28mself\u001b[39m\u001b[38;5;241m.\u001b[39mtransData\n\u001b[1;32m-> 2488\u001b[0m xys \u001b[38;5;241m=\u001b[39m \u001b[43mtrf_to_data\u001b[49m\u001b[38;5;241;43m.\u001b[39;49m\u001b[43mtransform\u001b[49m\u001b[43m(\u001b[49m\u001b[43mvertices\u001b[49m\u001b[43m)\u001b[49m\n\u001b[0;32m   2489\u001b[0m \u001b[38;5;28mself\u001b[39m\u001b[38;5;241m.\u001b[39mupdate_datalim(xys, updatex\u001b[38;5;241m=\u001b[39mupdatex, updatey\u001b[38;5;241m=\u001b[39mupdatey)\n",
      "File \u001b[1;32mc:\\Users\\diogo\\miniconda3\\envs\\ml_bijection\\lib\\site-packages\\matplotlib\\transforms.py:1495\u001b[0m, in \u001b[0;36mTransform.transform\u001b[1;34m(self, values)\u001b[0m\n\u001b[0;32m   1492\u001b[0m values \u001b[38;5;241m=\u001b[39m values\u001b[38;5;241m.\u001b[39mreshape((\u001b[38;5;241m-\u001b[39m\u001b[38;5;241m1\u001b[39m, \u001b[38;5;28mself\u001b[39m\u001b[38;5;241m.\u001b[39minput_dims))\n\u001b[0;32m   1494\u001b[0m \u001b[38;5;66;03m# Transform the values\u001b[39;00m\n\u001b[1;32m-> 1495\u001b[0m res \u001b[38;5;241m=\u001b[39m \u001b[38;5;28;43mself\u001b[39;49m\u001b[38;5;241;43m.\u001b[39;49m\u001b[43mtransform_affine\u001b[49m\u001b[43m(\u001b[49m\u001b[38;5;28;43mself\u001b[39;49m\u001b[38;5;241;43m.\u001b[39;49m\u001b[43mtransform_non_affine\u001b[49m\u001b[43m(\u001b[49m\u001b[43mvalues\u001b[49m\u001b[43m)\u001b[49m\u001b[43m)\u001b[49m\n\u001b[0;32m   1497\u001b[0m \u001b[38;5;66;03m# Convert the result back to the shape of the input values.\u001b[39;00m\n\u001b[0;32m   1498\u001b[0m \u001b[38;5;28;01mif\u001b[39;00m ndim \u001b[38;5;241m==\u001b[39m \u001b[38;5;241m0\u001b[39m:\n",
      "File \u001b[1;32mc:\\Users\\diogo\\miniconda3\\envs\\ml_bijection\\lib\\site-packages\\matplotlib\\transforms.py:2410\u001b[0m, in \u001b[0;36mCompositeGenericTransform.transform_affine\u001b[1;34m(self, values)\u001b[0m\n\u001b[0;32m   2408\u001b[0m \u001b[38;5;28;01mdef\u001b[39;00m \u001b[38;5;21mtransform_affine\u001b[39m(\u001b[38;5;28mself\u001b[39m, values):\n\u001b[0;32m   2409\u001b[0m     \u001b[38;5;66;03m# docstring inherited\u001b[39;00m\n\u001b[1;32m-> 2410\u001b[0m     \u001b[38;5;28;01mreturn\u001b[39;00m \u001b[38;5;28;43mself\u001b[39;49m\u001b[38;5;241;43m.\u001b[39;49m\u001b[43mget_affine\u001b[49m\u001b[43m(\u001b[49m\u001b[43m)\u001b[49m\u001b[38;5;241m.\u001b[39mtransform(values)\n",
      "File \u001b[1;32mc:\\Users\\diogo\\miniconda3\\envs\\ml_bijection\\lib\\site-packages\\matplotlib\\transforms.py:2436\u001b[0m, in \u001b[0;36mCompositeGenericTransform.get_affine\u001b[1;34m(self)\u001b[0m\n\u001b[0;32m   2434\u001b[0m     \u001b[38;5;28;01mreturn\u001b[39;00m \u001b[38;5;28mself\u001b[39m\u001b[38;5;241m.\u001b[39m_b\u001b[38;5;241m.\u001b[39mget_affine()\n\u001b[0;32m   2435\u001b[0m \u001b[38;5;28;01melse\u001b[39;00m:\n\u001b[1;32m-> 2436\u001b[0m     \u001b[38;5;28;01mreturn\u001b[39;00m Affine2D(\u001b[43mnp\u001b[49m\u001b[38;5;241;43m.\u001b[39;49m\u001b[43mdot\u001b[49m\u001b[43m(\u001b[49m\u001b[38;5;28;43mself\u001b[39;49m\u001b[38;5;241;43m.\u001b[39;49m\u001b[43m_b\u001b[49m\u001b[38;5;241;43m.\u001b[39;49m\u001b[43mget_affine\u001b[49m\u001b[43m(\u001b[49m\u001b[43m)\u001b[49m\u001b[38;5;241;43m.\u001b[39;49m\u001b[43mget_matrix\u001b[49m\u001b[43m(\u001b[49m\u001b[43m)\u001b[49m\u001b[43m,\u001b[49m\n\u001b[0;32m   2437\u001b[0m \u001b[43m                           \u001b[49m\u001b[38;5;28;43mself\u001b[39;49m\u001b[38;5;241;43m.\u001b[39;49m\u001b[43m_a\u001b[49m\u001b[38;5;241;43m.\u001b[39;49m\u001b[43mget_affine\u001b[49m\u001b[43m(\u001b[49m\u001b[43m)\u001b[49m\u001b[38;5;241;43m.\u001b[39;49m\u001b[43mget_matrix\u001b[49m\u001b[43m(\u001b[49m\u001b[43m)\u001b[49m\u001b[43m)\u001b[49m)\n",
      "\u001b[1;31mKeyboardInterrupt\u001b[0m: "
     ]
    }
   ],
   "source": []
  },
  {
   "cell_type": "markdown",
   "id": "6f3c2232-8d84-4003-94ff-f745c32ed215",
   "metadata": {},
   "source": [
    "# Save parameter predictions"
   ]
  },
  {
   "cell_type": "markdown",
   "id": "2438c695-58b9-4d4e-8f78-b1bba3e1d030",
   "metadata": {},
   "source": [
    "### AmP values"
   ]
  },
  {
   "cell_type": "code",
   "execution_count": 7,
   "id": "b58f2cd6-a699-4dbb-97ab-8db1cf0bf426",
   "metadata": {},
   "outputs": [
    {
     "data": {
      "text/html": [
       "<div>\n",
       "<style scoped>\n",
       "    .dataframe tbody tr th:only-of-type {\n",
       "        vertical-align: middle;\n",
       "    }\n",
       "\n",
       "    .dataframe tbody tr th {\n",
       "        vertical-align: top;\n",
       "    }\n",
       "\n",
       "    .dataframe thead th {\n",
       "        text-align: right;\n",
       "    }\n",
       "</style>\n",
       "<table border=\"1\" class=\"dataframe\">\n",
       "  <thead>\n",
       "    <tr style=\"text-align: right;\">\n",
       "      <th></th>\n",
       "      <th>data_split</th>\n",
       "      <th>z</th>\n",
       "      <th>p_M</th>\n",
       "      <th>kap</th>\n",
       "      <th>v</th>\n",
       "      <th>E_G</th>\n",
       "      <th>h_a</th>\n",
       "      <th>E_Hb</th>\n",
       "      <th>E_Hx</th>\n",
       "      <th>E_Hj</th>\n",
       "      <th>E_Hp</th>\n",
       "      <th>k_J</th>\n",
       "    </tr>\n",
       "    <tr>\n",
       "      <th>species</th>\n",
       "      <th></th>\n",
       "      <th></th>\n",
       "      <th></th>\n",
       "      <th></th>\n",
       "      <th></th>\n",
       "      <th></th>\n",
       "      <th></th>\n",
       "      <th></th>\n",
       "      <th></th>\n",
       "      <th></th>\n",
       "      <th></th>\n",
       "      <th></th>\n",
       "    </tr>\n",
       "  </thead>\n",
       "  <tbody>\n",
       "    <tr>\n",
       "      <th>Cyanocorax_beecheii</th>\n",
       "      <td>train</td>\n",
       "      <td>3.012001</td>\n",
       "      <td>532.6248</td>\n",
       "      <td>0.96241</td>\n",
       "      <td>0.041358</td>\n",
       "      <td>7322.803</td>\n",
       "      <td>2.845000e-12</td>\n",
       "      <td>733.700000</td>\n",
       "      <td>6967.000000</td>\n",
       "      <td>733.70000</td>\n",
       "      <td>19490.000</td>\n",
       "      <td>0.021752</td>\n",
       "    </tr>\n",
       "    <tr>\n",
       "      <th>Daphnia_longispina</th>\n",
       "      <td>train</td>\n",
       "      <td>0.054706</td>\n",
       "      <td>5686.8260</td>\n",
       "      <td>0.55680</td>\n",
       "      <td>0.020455</td>\n",
       "      <td>4440.588</td>\n",
       "      <td>8.603000e-05</td>\n",
       "      <td>0.017460</td>\n",
       "      <td>0.017460</td>\n",
       "      <td>0.01746</td>\n",
       "      <td>1.401</td>\n",
       "      <td>0.002000</td>\n",
       "    </tr>\n",
       "    <tr>\n",
       "      <th>Leptopogon_amaurocephalus</th>\n",
       "      <td>train</td>\n",
       "      <td>1.197300</td>\n",
       "      <td>943.2321</td>\n",
       "      <td>0.91457</td>\n",
       "      <td>0.026841</td>\n",
       "      <td>7320.054</td>\n",
       "      <td>4.218000e-12</td>\n",
       "      <td>291.100000</td>\n",
       "      <td>2017.000000</td>\n",
       "      <td>291.10000</td>\n",
       "      <td>3528.000</td>\n",
       "      <td>0.039250</td>\n",
       "    </tr>\n",
       "    <tr>\n",
       "      <th>Myiobius_atricaudus</th>\n",
       "      <td>train</td>\n",
       "      <td>1.259400</td>\n",
       "      <td>421.7193</td>\n",
       "      <td>0.91789</td>\n",
       "      <td>0.022195</td>\n",
       "      <td>7323.597</td>\n",
       "      <td>5.540000e-13</td>\n",
       "      <td>402.600000</td>\n",
       "      <td>1866.000000</td>\n",
       "      <td>402.60000</td>\n",
       "      <td>3719.000</td>\n",
       "      <td>0.017324</td>\n",
       "    </tr>\n",
       "    <tr>\n",
       "      <th>Setophaga_citrina</th>\n",
       "      <td>train</td>\n",
       "      <td>1.100100</td>\n",
       "      <td>1290.0970</td>\n",
       "      <td>0.89262</td>\n",
       "      <td>0.035362</td>\n",
       "      <td>7308.211</td>\n",
       "      <td>6.164000e-12</td>\n",
       "      <td>469.500000</td>\n",
       "      <td>1547.000000</td>\n",
       "      <td>469.50000</td>\n",
       "      <td>3069.000</td>\n",
       "      <td>0.052342</td>\n",
       "    </tr>\n",
       "    <tr>\n",
       "      <th>...</th>\n",
       "      <td>...</td>\n",
       "      <td>...</td>\n",
       "      <td>...</td>\n",
       "      <td>...</td>\n",
       "      <td>...</td>\n",
       "      <td>...</td>\n",
       "      <td>...</td>\n",
       "      <td>...</td>\n",
       "      <td>...</td>\n",
       "      <td>...</td>\n",
       "      <td>...</td>\n",
       "      <td>...</td>\n",
       "    </tr>\n",
       "    <tr>\n",
       "      <th>Platax_orbicularis</th>\n",
       "      <td>test</td>\n",
       "      <td>4.331600</td>\n",
       "      <td>18.6340</td>\n",
       "      <td>0.99911</td>\n",
       "      <td>0.351770</td>\n",
       "      <td>5229.204</td>\n",
       "      <td>6.070000e-11</td>\n",
       "      <td>0.005546</td>\n",
       "      <td>0.005546</td>\n",
       "      <td>0.51260</td>\n",
       "      <td>1557.000</td>\n",
       "      <td>0.002000</td>\n",
       "    </tr>\n",
       "    <tr>\n",
       "      <th>Vermivora_cyanoptera</th>\n",
       "      <td>test</td>\n",
       "      <td>1.268100</td>\n",
       "      <td>609.5563</td>\n",
       "      <td>0.93685</td>\n",
       "      <td>0.038686</td>\n",
       "      <td>7326.159</td>\n",
       "      <td>5.322000e-12</td>\n",
       "      <td>314.200000</td>\n",
       "      <td>1059.000000</td>\n",
       "      <td>314.20000</td>\n",
       "      <td>2330.000</td>\n",
       "      <td>0.025146</td>\n",
       "    </tr>\n",
       "    <tr>\n",
       "      <th>Aythya_valisineria</th>\n",
       "      <td>test</td>\n",
       "      <td>3.766700</td>\n",
       "      <td>506.8109</td>\n",
       "      <td>0.47999</td>\n",
       "      <td>0.029193</td>\n",
       "      <td>7347.584</td>\n",
       "      <td>4.841000e-14</td>\n",
       "      <td>31990.000000</td>\n",
       "      <td>771800.000000</td>\n",
       "      <td>31990.00000</td>\n",
       "      <td>1396000.000</td>\n",
       "      <td>0.020209</td>\n",
       "    </tr>\n",
       "    <tr>\n",
       "      <th>Salamandrina_perspicillata</th>\n",
       "      <td>test</td>\n",
       "      <td>1.228400</td>\n",
       "      <td>11.5200</td>\n",
       "      <td>0.73453</td>\n",
       "      <td>0.081606</td>\n",
       "      <td>7347.021</td>\n",
       "      <td>4.415000e-10</td>\n",
       "      <td>10.940000</td>\n",
       "      <td>10.940000</td>\n",
       "      <td>61.87000</td>\n",
       "      <td>3119.000</td>\n",
       "      <td>0.000470</td>\n",
       "    </tr>\n",
       "    <tr>\n",
       "      <th>Chirocentrus_dorab</th>\n",
       "      <td>test</td>\n",
       "      <td>5.361300</td>\n",
       "      <td>31.9100</td>\n",
       "      <td>0.97423</td>\n",
       "      <td>0.027534</td>\n",
       "      <td>5217.208</td>\n",
       "      <td>1.372000e-09</td>\n",
       "      <td>0.006637</td>\n",
       "      <td>0.006637</td>\n",
       "      <td>0.02037</td>\n",
       "      <td>5949.000</td>\n",
       "      <td>0.001697</td>\n",
       "    </tr>\n",
       "  </tbody>\n",
       "</table>\n",
       "<p>2266 rows × 12 columns</p>\n",
       "</div>"
      ],
      "text/plain": [
       "                           data_split         z        p_M      kap         v  \\\n",
       "species                                                                         \n",
       "Cyanocorax_beecheii             train  3.012001   532.6248  0.96241  0.041358   \n",
       "Daphnia_longispina              train  0.054706  5686.8260  0.55680  0.020455   \n",
       "Leptopogon_amaurocephalus       train  1.197300   943.2321  0.91457  0.026841   \n",
       "Myiobius_atricaudus             train  1.259400   421.7193  0.91789  0.022195   \n",
       "Setophaga_citrina               train  1.100100  1290.0970  0.89262  0.035362   \n",
       "...                               ...       ...        ...      ...       ...   \n",
       "Platax_orbicularis               test  4.331600    18.6340  0.99911  0.351770   \n",
       "Vermivora_cyanoptera             test  1.268100   609.5563  0.93685  0.038686   \n",
       "Aythya_valisineria               test  3.766700   506.8109  0.47999  0.029193   \n",
       "Salamandrina_perspicillata       test  1.228400    11.5200  0.73453  0.081606   \n",
       "Chirocentrus_dorab               test  5.361300    31.9100  0.97423  0.027534   \n",
       "\n",
       "                                 E_G           h_a          E_Hb  \\\n",
       "species                                                            \n",
       "Cyanocorax_beecheii         7322.803  2.845000e-12    733.700000   \n",
       "Daphnia_longispina          4440.588  8.603000e-05      0.017460   \n",
       "Leptopogon_amaurocephalus   7320.054  4.218000e-12    291.100000   \n",
       "Myiobius_atricaudus         7323.597  5.540000e-13    402.600000   \n",
       "Setophaga_citrina           7308.211  6.164000e-12    469.500000   \n",
       "...                              ...           ...           ...   \n",
       "Platax_orbicularis          5229.204  6.070000e-11      0.005546   \n",
       "Vermivora_cyanoptera        7326.159  5.322000e-12    314.200000   \n",
       "Aythya_valisineria          7347.584  4.841000e-14  31990.000000   \n",
       "Salamandrina_perspicillata  7347.021  4.415000e-10     10.940000   \n",
       "Chirocentrus_dorab          5217.208  1.372000e-09      0.006637   \n",
       "\n",
       "                                     E_Hx         E_Hj         E_Hp       k_J  \n",
       "species                                                                        \n",
       "Cyanocorax_beecheii           6967.000000    733.70000    19490.000  0.021752  \n",
       "Daphnia_longispina               0.017460      0.01746        1.401  0.002000  \n",
       "Leptopogon_amaurocephalus     2017.000000    291.10000     3528.000  0.039250  \n",
       "Myiobius_atricaudus           1866.000000    402.60000     3719.000  0.017324  \n",
       "Setophaga_citrina             1547.000000    469.50000     3069.000  0.052342  \n",
       "...                                   ...          ...          ...       ...  \n",
       "Platax_orbicularis               0.005546      0.51260     1557.000  0.002000  \n",
       "Vermivora_cyanoptera          1059.000000    314.20000     2330.000  0.025146  \n",
       "Aythya_valisineria          771800.000000  31990.00000  1396000.000  0.020209  \n",
       "Salamandrina_perspicillata      10.940000     61.87000     3119.000  0.000470  \n",
       "Chirocentrus_dorab               0.006637      0.02037     5949.000  0.001697  \n",
       "\n",
       "[2266 rows x 12 columns]"
      ]
     },
     "execution_count": 7,
     "metadata": {},
     "output_type": "execute_result"
    }
   ],
   "source": [
    "dataset_name = 'biologist_no_pub_age'\n",
    "results_folder = f'../results/{dataset_name}'\n",
    "dfs = all_dfs[dataset_name]\n",
    "col_types = all_col_types[dataset_name]\n",
    "gt_df = pd.concat({ds: dfs[ds][col_types['output']['all']] for ds in ('train', 'test')}).reset_index(level=0, names='data_split')\n",
    "gt_pars_df = get_core_parameter_predictions(dfs, gt_df)\n",
    "gt_pars_df.to_csv(f'{results_folder}/parameter_predictions/AmP_predictions.csv', float_format='%.6e')\n",
    "gt_pars_df"
   ]
  },
  {
   "cell_type": "markdown",
   "id": "f76dbea2-2e72-4b77-bc7c-ecde46bac9bb",
   "metadata": {},
   "source": [
    "### ML models"
   ]
  },
  {
   "cell_type": "code",
   "execution_count": null,
   "id": "923c70f9-6591-47de-915e-8dd13a5e820b",
   "metadata": {},
   "outputs": [],
   "source": []
  },
  {
   "cell_type": "code",
   "execution_count": 10,
   "id": "aeab3462-b367-4c6d-ac39-7be88b5b1278",
   "metadata": {},
   "outputs": [],
   "source": [
    "def save_parameter_predictions(model_type):\n",
    "    model = best_models[model_type]\n",
    "    dataset_name = dataset_of_model[model_type]\n",
    "    dfs = all_dfs[dataset_name]\n",
    "    data = all_data[dataset_name]\n",
    "    col_types = all_col_types[dataset_name]\n",
    "    pred_df = pd.DataFrame()\n",
    "    for split in ('train', 'test'):\n",
    "        if model_type == 'TaxonomicKNNRegressor' and split == 'train':\n",
    "            train_distance_matrix = model.regressor_._compute_distance_matrix(model.regressor_.train_data, model.regressor_.train_data, data_split='train')\n",
    "            y_pred = model.regressor_.get_predictions_from_distance_matrix(train_distance_matrix)\n",
    "        else:\n",
    "            y_pred = model.predict(data[split]['input'])\n",
    "        split_pred_df = pd.DataFrame(data=y_pred, index=dfs[split].index, columns=col_types['output']['all'])\n",
    "        split_pred_df['data_split'] = split\n",
    "        pred_df = pd.concat([pred_df, split_pred_df])\n",
    "    pars_df = get_core_parameter_predictions(dfs, pred_df)\n",
    "    results_folder = f'../results/{dataset_name}'\n",
    "    predictions_file_name = f'{results_folder}/parameter_predictions/{model_type}_predictions.csv'\n",
    "    pars_df.to_csv(predictions_file_name, float_format='%.10e')\n",
    "    print(f'Saved predictions for model {model_type} in {predictions_file_name}')\n",
    "\n",
    "    return pars_df"
   ]
  },
  {
   "cell_type": "code",
   "execution_count": 12,
   "id": "e3a7de64-10a3-4f6c-8bd2-e809b69c9588",
   "metadata": {
    "scrolled": true
   },
   "outputs": [
    {
     "name": "stdout",
     "output_type": "stream",
     "text": [
      "Saved predictions for model MultiTaskElasticNet in ../results/ratio_output_no_pub_age_taxonomy_ecocodes/parameter_predictions/MultiTaskElasticNet_predictions.csv\n",
      "Saved predictions for model RandomForestRegressor in ../results/ratio_output_no_pub_age_taxonomy_ecocodes/parameter_predictions/RandomForestRegressor_predictions.csv\n",
      "Saved predictions for model TaxonomicKNNRegressor in ../results/biologist_no_pub_age/parameter_predictions/TaxonomicKNNRegressor_predictions.csv\n",
      "Saved predictions for model DEBNetHC in ../results/all_constraints_no_pub_age_taxonomy_ecocodes/parameter_predictions/DEBNetHC_predictions.csv\n",
      "Saved predictions for model DEBNetSC in ../results/all_constraints_no_pub_age_taxonomy_ecocodes/parameter_predictions/DEBNetSC_predictions.csv\n"
     ]
    }
   ],
   "source": [
    "for model_type in best_models:\n",
    "    save_parameter_predictions(model_type)"
   ]
  },
  {
   "cell_type": "markdown",
   "id": "c6f2dba3-f55f-4739-a747-8a505e2a8913",
   "metadata": {
    "jp-MarkdownHeadingCollapsed": true
   },
   "source": [
    "## Finding the bug in feasibility for TaxonomicKNNRegressor"
   ]
  },
  {
   "cell_type": "code",
   "execution_count": 12,
   "id": "b2fe3349",
   "metadata": {},
   "outputs": [
    {
     "data": {
      "text/plain": [
       "array([[8.572907e+01, 9.666700e-01, 2.108200e-02, 3.108350e+01,\n",
       "        5.214539e+03, 5.557000e-09, 5.992000e-03, 5.992000e-03,\n",
       "        2.903000e-01, 3.222000e+04, 2.000000e-03],\n",
       "       [1.332003e+02, 8.467800e-01, 1.138800e-01, 1.900060e+01,\n",
       "        7.843624e+03, 4.067000e-11, 6.149000e+03, 6.149000e+03,\n",
       "        6.149000e+03, 5.066000e+05, 7.646500e-04],\n",
       "       [1.144941e+03, 9.645500e-01, 1.607600e-02, 8.833411e+02,\n",
       "        7.318905e+03, 8.280000e-12, 6.545000e+01, 3.706000e+02,\n",
       "        6.545000e+01, 1.079000e+03, 3.648500e-02],\n",
       "       [1.255729e+03, 9.723600e-01, 4.854400e-02, 6.009549e+02,\n",
       "        7.286974e+03, 1.066000e-13, 2.056000e+02, 1.712000e+03,\n",
       "        2.056000e+02, 4.478000e+03, 2.596800e-02],\n",
       "       [4.431604e+03, 8.465000e-01, 2.034200e-02, 5.056958e+02,\n",
       "        7.283023e+03, 1.262000e-13, 5.032000e+04, 8.076000e+05,\n",
       "        5.032000e+04, 1.563000e+06, 2.331900e-02]])"
      ]
     },
     "execution_count": 12,
     "metadata": {},
     "output_type": "execute_result"
    }
   ],
   "source": [
    "model_type = 'TaxonomicKNNRegressor'\n",
    "model = best_models[model_type]\n",
    "dataset_name = dataset_of_model[model_type]\n",
    "dfs = all_dfs[dataset_name]\n",
    "data = all_data[dataset_name]\n",
    "col_types = all_col_types[dataset_name]\n",
    "model.predict(data['test']['input'][:5])"
   ]
  },
  {
   "cell_type": "code",
   "execution_count": null,
   "id": "dd99dcfc-1c6f-4f70-a273-e5458e28d079",
   "metadata": {},
   "outputs": [],
   "source": [
    "model_type = 'TaxonomicKNNRegressor'\n",
    "model = best_models[model_type]\n",
    "dataset_name = dataset_of_model[model_type]\n",
    "dfs = all_dfs[dataset_name]\n",
    "data = all_data[dataset_name]\n",
    "col_types = all_col_types[dataset_name]\n",
    "results_folder = f'../results/{dataset_name}'\n",
    "pars_df = pd.read_csv(f'{results_folder}/parameter_predictions/{model_type}_predictions.csv', index_col=0)\n",
    "pars_df"
   ]
  },
  {
   "cell_type": "code",
   "execution_count": null,
   "id": "f0faced4-e7bf-45cc-a3e5-7615449f77d2",
   "metadata": {},
   "outputs": [],
   "source": [
    "species = 'Callorhinus_ursinus'\n",
    "pars_df.loc[species]"
   ]
  },
  {
   "cell_type": "code",
   "execution_count": null,
   "id": "03957021-bae8-4adc-8c4a-c3d2187fc48f",
   "metadata": {},
   "outputs": [],
   "source": [
    "dfs['test'][col_types['output']['all']].loc[species]"
   ]
  },
  {
   "cell_type": "markdown",
   "id": "c03692f0-6f3f-4891-8e7c-b947db4e8252",
   "metadata": {
    "jp-MarkdownHeadingCollapsed": true
   },
   "source": [
    "## Finding the bug in feasibility for DEBNets"
   ]
  },
  {
   "cell_type": "code",
   "execution_count": null,
   "id": "dd8aa2f2-a80a-42e7-a185-91bb266fb678",
   "metadata": {},
   "outputs": [],
   "source": [
    "model_type = 'DEBNetHC'\n",
    "model = best_models[model_type]\n",
    "dataset_name = dataset_of_model[model_type]\n",
    "dfs = all_dfs[dataset_name]\n",
    "data = all_data[dataset_name]\n",
    "col_types = all_col_types[dataset_name]\n",
    "model_pred_df = pd.DataFrame()\n",
    "pars_pred_df = pd.DataFrame()\n",
    "pars_target_df = pd.DataFrame()\n",
    "for split in ('train', 'test'):\n",
    "    # Get output of model\n",
    "    y_pred = model.predict(data[split]['input'])\n",
    "    split_model_pred_df = pd.DataFrame(data=y_pred, index=dfs[split].index, columns=col_types['output']['all'])\n",
    "    split_model_pred_df['data_split'] = split\n",
    "    model_pred_df = pd.concat([model_pred_df, split_model_pred_df])\n",
    "    # Convert model output to core parameters\n",
    "    split_pars_pred_df = get_core_parameter_predictions(dfs, split_model_pred_df)\n",
    "    pars_pred_df = pd.concat([pars_pred_df, split_pars_pred_df])\n",
    "    \n",
    "    # Get targets in model scale\n",
    "    split_model_target_df = dfs[split][col_types['output']['all']].copy()\n",
    "    split_model_target_df['data_split'] = split\n",
    "    split_pars_target_df = get_core_parameter_predictions(dfs, split_model_target_df) \n",
    "    pars_target_df = pd.concat([pars_target_df, split_pars_target_df])\n",
    "\n"
   ]
  },
  {
   "cell_type": "code",
   "execution_count": null,
   "id": "fc76e5de-6f16-4612-8dd7-ea3c94d62bcf",
   "metadata": {},
   "outputs": [],
   "source": [
    "model_pred_df.hist()"
   ]
  },
  {
   "cell_type": "code",
   "execution_count": null,
   "id": "72a1b0af-41e6-483b-9863-6e24a5161674",
   "metadata": {},
   "outputs": [],
   "source": [
    "all_dfs['all_constraints_no_pub_age_taxonomy_ecocodes']['train'][col_types['output']['all']]"
   ]
  },
  {
   "cell_type": "code",
   "execution_count": null,
   "id": "d0e0dd20-9253-49f8-84e7-f537c87091d3",
   "metadata": {},
   "outputs": [],
   "source": [
    "pars_target_df.loc[species]"
   ]
  },
  {
   "cell_type": "code",
   "execution_count": null,
   "id": "7967445b-4f0b-46b6-ac82-2fee95e38355",
   "metadata": {},
   "outputs": [],
   "source": [
    "0.8 ** 3"
   ]
  },
  {
   "cell_type": "code",
   "execution_count": null,
   "id": "abb727ad-1b41-4fb9-8e7c-54cc6da0e352",
   "metadata": {},
   "outputs": [],
   "source": [
    "species = 'Scophthalmus_maximus'\n",
    "k_J = 0.002\n",
    "z = pars_pred_df.loc[species, 'z']\n",
    "p_M = pars_pred_df.loc[species, 'p_M']\n",
    "E_Hp = pars_pred_df.loc[species, 'E_Hp']\n",
    "kap = pars_pred_df.loc[species, 'kap']\n",
    "s_p = model_pred_df.loc[species, 's_p']\n",
    "p_Am = z * p_M / kap\n",
    "k_J * E_Hp * (p_M ** 2) / (kap ** 2) / (1-kap) / (p_Am ** 3)"
   ]
  },
  {
   "cell_type": "code",
   "execution_count": null,
   "id": "1f962d56-ce5f-4e42-a8db-7aff9af4519a",
   "metadata": {},
   "outputs": [],
   "source": [
    "pars_pred_df.loc[species]"
   ]
  },
  {
   "cell_type": "code",
   "execution_count": null,
   "id": "51e4be1f-3b4e-4253-85f2-5e652eaf3d4d",
   "metadata": {},
   "outputs": [],
   "source": [
    "(0-10)/10"
   ]
  },
  {
   "cell_type": "markdown",
   "id": "4677c590-1bb4-49c3-9366-f57800dfb1bb",
   "metadata": {},
   "source": [
    "# Compare parameter predictions\n",
    "\n",
    "Table with the MAPE for each parameter in each line"
   ]
  },
  {
   "cell_type": "code",
   "execution_count": null,
   "id": "ce52b2d4-5e77-4215-8e8d-7f5961de51d8",
   "metadata": {},
   "outputs": [],
   "source": [
    "def get_mape(model_type, data_split):\n",
    "    model = best_models[model_type]\n",
    "    dataset_name = dataset_of_model[model_type]\n",
    "    dfs = all_dfs[dataset_name]\n",
    "    data = all_data[dataset_name]\n",
    "    col_types = all_col_types[dataset_name]\n",
    "    pred_df = pd.DataFrame()\n",
    "    \n",
    "    y_true_ps = data[data_split]['output']\n",
    "    if 'DEBNet' in model_type:\n",
    "        y_pred_ps = model.predict(torch.tensor(data[data_split]['input'], dtype=torch.float32))\n",
    "    elif model_type == 'TaxonomicKNNRegressor' and data_split == 'train':\n",
    "        train_distance_matrix = model.regressor_._compute_distance_matrix(model.regressor_.train_data, model.regressor_.train_data, model.regressor_.train_weights,\n",
    "                                                          model.regressor_.train_weights, data_split='train')\n",
    "        y_pred_ps = model.regressor_.get_predictions_from_distance_matrix(train_distance_matrix)\n",
    "    else:\n",
    "        y_pred_ps = model.predict(data[data_split]['input'])\n",
    "            \n",
    "    return compute_parameter_mape(y_true=y_true_ps, y_pred=y_pred_ps, output_col_names=col_types['output']['all'])  \n"
   ]
  },
  {
   "cell_type": "code",
   "execution_count": null,
   "id": "1c3eccbd-44ff-41d2-9c89-6a89311dbadd",
   "metadata": {},
   "outputs": [],
   "source": [
    "model_list = ['DEBNetHCSoftplus', 'DEBNet', 'DEBNetSC', 'TaxonomicKNNRegressor']\n",
    "mape_df = pd.DataFrame(index=model_list, columns=PARAMETER_COLS)\n",
    "for model_type in model_list:\n",
    "    model_mape = get_mape(model_type=model_type, data_split='test')\n",
    "    mape_df.loc[model_type] = model_mape['mean_absolute_percentage_error']\n",
    "mape_df"
   ]
  },
  {
   "cell_type": "code",
   "execution_count": null,
   "id": "089f5b04-0a2e-41bf-805c-5b3e53f159b2",
   "metadata": {},
   "outputs": [],
   "source": [
    "model_labels = {\n",
    "    'DEBNet': 'DEBNet',\n",
    "    'DEBNetHCSoftplus': 'DEBNet + HC',\n",
    "    'DEBNetSC': 'DEBNet + SC',\n",
    "    'TaxonomicKNNRegressor': 'Taxonomic 1-NN',\n",
    "    \n",
    "}"
   ]
  },
  {
   "cell_type": "code",
   "execution_count": null,
   "id": "0923af4f-704a-4e76-b6c2-28f8941c8844",
   "metadata": {},
   "outputs": [],
   "source": [
    "#for mt, row in mape_df.iterrows():\n",
    "for mt, label in model_labels.items():\n",
    "    row = mape_df.loc[mt]\n",
    "    line = f\"{label} \"\n",
    "    for par in PARAMETER_COLS:\n",
    "        mape = row[par]\n",
    "        if mape == min(mape_df[par]):\n",
    "            line += f' & \\\\textbf{{ {mape:.4f} }}'\n",
    "        else:\n",
    "            line += f' & {mape:.4f}'\n",
    "    line += ' \\\\\\\\'\n",
    "    print(line)"
   ]
  },
  {
   "cell_type": "code",
   "execution_count": null,
   "id": "76872ab3-2e28-4571-a53f-dfc613449f8a",
   "metadata": {},
   "outputs": [],
   "source": []
  }
 ],
 "metadata": {
  "kernelspec": {
   "display_name": "ml_bijection",
   "language": "python",
   "name": "python3"
  },
  "language_info": {
   "codemirror_mode": {
    "name": "ipython",
    "version": 3
   },
   "file_extension": ".py",
   "mimetype": "text/x-python",
   "name": "python",
   "nbconvert_exporter": "python",
   "pygments_lexer": "ipython3",
   "version": "3.10.14"
  },
  "widgets": {
   "application/vnd.jupyter.widget-state+json": {
    "state": {},
    "version_major": 2,
    "version_minor": 0
   }
  }
 },
 "nbformat": 4,
 "nbformat_minor": 5
}
